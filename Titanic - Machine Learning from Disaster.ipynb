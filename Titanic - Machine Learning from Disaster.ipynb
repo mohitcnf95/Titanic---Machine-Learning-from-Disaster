{
 "cells": [
  {
   "cell_type": "markdown",
   "metadata": {
    "id": "PwnpnoJFK4NJ"
   },
   "source": [
    "# Titanic - Machine Learning from Disaster\n",
    "\n",
    "Use the \"Run\" button to execute the code."
   ]
  },
  {
   "cell_type": "code",
   "execution_count": 2,
   "metadata": {
    "executionInfo": {
     "elapsed": 3544,
     "status": "ok",
     "timestamp": 1666237595288,
     "user": {
      "displayName": "Mohit Kumar",
      "userId": "03888987891614882912"
     },
     "user_tz": -330
    },
    "id": "2Gy8uQp8K4NN"
   },
   "outputs": [],
   "source": [
    "!pip install jovian --upgrade --quiet"
   ]
  },
  {
   "cell_type": "code",
   "execution_count": 3,
   "metadata": {
    "executionInfo": {
     "elapsed": 62,
     "status": "ok",
     "timestamp": 1666237595290,
     "user": {
      "displayName": "Mohit Kumar",
      "userId": "03888987891614882912"
     },
     "user_tz": -330
    },
    "id": "JbF5dAmiK4NP"
   },
   "outputs": [],
   "source": [
    "import jovian"
   ]
  },
  {
   "cell_type": "code",
   "execution_count": 4,
   "metadata": {
    "colab": {
     "base_uri": "https://localhost:8080/",
     "height": 122
    },
    "executionInfo": {
     "elapsed": 8831,
     "status": "ok",
     "timestamp": 1666237604063,
     "user": {
      "displayName": "Mohit Kumar",
      "userId": "03888987891614882912"
     },
     "user_tz": -330
    },
    "id": "6_ZfmfoEK4NR",
    "outputId": "2f17ae71-a1b9-48e6-ea91-6a09c5bb9af6"
   },
   "outputs": [
    {
     "name": "stdout",
     "output_type": "stream",
     "text": [
      "[jovian] Detected Colab notebook...\u001b[0m\n",
      "[jovian] Please enter your API key ( from https://jovian.ai/ ):\u001b[0m\n",
      "API KEY: ··········\n",
      "[jovian] Uploading colab notebook to Jovian...\u001b[0m\n",
      "Committed successfully! https://jovian.ai/mohitcnf95/titanic-machine-learning-from-disaster\n"
     ]
    },
    {
     "data": {
      "application/vnd.google.colaboratory.intrinsic+json": {
       "type": "string"
      },
      "text/plain": [
       "'https://jovian.ai/mohitcnf95/titanic-machine-learning-from-disaster'"
      ]
     },
     "execution_count": 4,
     "metadata": {},
     "output_type": "execute_result"
    }
   ],
   "source": [
    "# Execute this to save new versions of the notebook\n",
    "jovian.commit(project=\"titanic-machine-learning-from-disaster\")"
   ]
  },
  {
   "cell_type": "code",
   "execution_count": 5,
   "metadata": {
    "colab": {
     "base_uri": "https://localhost:8080/",
     "height": 88
    },
    "executionInfo": {
     "elapsed": 2032,
     "status": "ok",
     "timestamp": 1666237606493,
     "user": {
      "displayName": "Mohit Kumar",
      "userId": "03888987891614882912"
     },
     "user_tz": -330
    },
    "id": "YPvAc6zoK4NT",
    "outputId": "7649f666-1874-492b-f4ff-b4132532381e"
   },
   "outputs": [
    {
     "name": "stdout",
     "output_type": "stream",
     "text": [
      "[jovian] Detected Colab notebook...\u001b[0m\n",
      "[jovian] Uploading colab notebook to Jovian...\u001b[0m\n",
      "Committed successfully! https://jovian.ai/mohitcnf95/titanic-machine-learning-from-disaster\n"
     ]
    },
    {
     "data": {
      "application/vnd.google.colaboratory.intrinsic+json": {
       "type": "string"
      },
      "text/plain": [
       "'https://jovian.ai/mohitcnf95/titanic-machine-learning-from-disaster'"
      ]
     },
     "execution_count": 5,
     "metadata": {},
     "output_type": "execute_result"
    }
   ],
   "source": [
    "jovian.commit()"
   ]
  },
  {
   "cell_type": "markdown",
   "metadata": {
    "id": "X_8fA_6wLbKr"
   },
   "source": [
    "## 1. Download the datasets\n"
   ]
  },
  {
   "cell_type": "markdown",
   "metadata": {
    "id": "W7aLGz8YLa-W"
   },
   "source": [
    "- Install required libraries\n",
    "- Download data from Kaggle\n",
    "- Load training set with Pandas\n",
    "- Load test set with Pandas"
   ]
  },
  {
   "cell_type": "markdown",
   "metadata": {
    "id": "hs2VAHa9Ntmk"
   },
   "source": [
    "### Install required libraries"
   ]
  },
  {
   "cell_type": "code",
   "execution_count": 6,
   "metadata": {
    "executionInfo": {
     "elapsed": 3906,
     "status": "ok",
     "timestamp": 1666237610386,
     "user": {
      "displayName": "Mohit Kumar",
      "userId": "03888987891614882912"
     },
     "user_tz": -330
    },
    "id": "LgCzT8XRLUkN"
   },
   "outputs": [],
   "source": [
    "!pip install numpy pandas opendatasets scikit-learn --quiet"
   ]
  },
  {
   "cell_type": "code",
   "execution_count": 7,
   "metadata": {
    "executionInfo": {
     "elapsed": 56,
     "status": "ok",
     "timestamp": 1666237610388,
     "user": {
      "displayName": "Mohit Kumar",
      "userId": "03888987891614882912"
     },
     "user_tz": -330
    },
    "id": "-j24VcwQLtTW"
   },
   "outputs": [],
   "source": [
    "import opendatasets as od"
   ]
  },
  {
   "cell_type": "markdown",
   "metadata": {
    "id": "JjstjBR3Ny_z"
   },
   "source": [
    "### Download data from Kaggle"
   ]
  },
  {
   "cell_type": "code",
   "execution_count": 8,
   "metadata": {
    "executionInfo": {
     "elapsed": 55,
     "status": "ok",
     "timestamp": 1666237610390,
     "user": {
      "displayName": "Mohit Kumar",
      "userId": "03888987891614882912"
     },
     "user_tz": -330
    },
    "id": "WZH41-0xL0bf"
   },
   "outputs": [],
   "source": [
    "data_url = 'https://www.kaggle.com/competitions/titanic/data'"
   ]
  },
  {
   "cell_type": "code",
   "execution_count": 9,
   "metadata": {
    "colab": {
     "base_uri": "https://localhost:8080/"
    },
    "executionInfo": {
     "elapsed": 10733,
     "status": "ok",
     "timestamp": 1666237621069,
     "user": {
      "displayName": "Mohit Kumar",
      "userId": "03888987891614882912"
     },
     "user_tz": -330
    },
    "id": "St9W7Q09LWnj",
    "outputId": "6860902d-448f-42c1-c529-6397e9980a76"
   },
   "outputs": [
    {
     "name": "stdout",
     "output_type": "stream",
     "text": [
      "Please provide your Kaggle credentials to download this dataset. Learn more: http://bit.ly/kaggle-creds\n",
      "Your Kaggle username: mohitkmr95\n",
      "Your Kaggle Key: ··········\n",
      "Downloading titanic.zip to ./titanic\n"
     ]
    },
    {
     "name": "stderr",
     "output_type": "stream",
     "text": [
      "100%|██████████| 34.1k/34.1k [00:00<00:00, 16.3MB/s]"
     ]
    },
    {
     "name": "stdout",
     "output_type": "stream",
     "text": [
      "\n",
      "Extracting archive ./titanic/titanic.zip to ./titanic\n"
     ]
    },
    {
     "name": "stderr",
     "output_type": "stream",
     "text": [
      "\n"
     ]
    }
   ],
   "source": [
    "od.download(data_url)"
   ]
  },
  {
   "cell_type": "code",
   "execution_count": 10,
   "metadata": {
    "executionInfo": {
     "elapsed": 14,
     "status": "ok",
     "timestamp": 1666237621070,
     "user": {
      "displayName": "Mohit Kumar",
      "userId": "03888987891614882912"
     },
     "user_tz": -330
    },
    "id": "8Y6O4xN8L-uM"
   },
   "outputs": [],
   "source": [
    "data = 'titanic'"
   ]
  },
  {
   "cell_type": "markdown",
   "metadata": {
    "id": "dtN-oZYZN2Gw"
   },
   "source": [
    "### Load training set with Pandas"
   ]
  },
  {
   "cell_type": "code",
   "execution_count": 11,
   "metadata": {
    "executionInfo": {
     "elapsed": 721,
     "status": "ok",
     "timestamp": 1666237621779,
     "user": {
      "displayName": "Mohit Kumar",
      "userId": "03888987891614882912"
     },
     "user_tz": -330
    },
    "id": "Qta_XVPWNo4z"
   },
   "outputs": [],
   "source": [
    "import pandas as pd"
   ]
  },
  {
   "cell_type": "code",
   "execution_count": 12,
   "metadata": {
    "executionInfo": {
     "elapsed": 70,
     "status": "ok",
     "timestamp": 1666237621780,
     "user": {
      "displayName": "Mohit Kumar",
      "userId": "03888987891614882912"
     },
     "user_tz": -330
    },
    "id": "ywWZQKqeOIL9"
   },
   "outputs": [],
   "source": [
    "df = pd.read_csv(data+\"/train.csv\")"
   ]
  },
  {
   "cell_type": "markdown",
   "metadata": {
    "id": "zt6X-B9KSVov"
   },
   "source": [
    "### Load test set with Pandas"
   ]
  },
  {
   "cell_type": "code",
   "execution_count": 13,
   "metadata": {
    "executionInfo": {
     "elapsed": 71,
     "status": "ok",
     "timestamp": 1666237621782,
     "user": {
      "displayName": "Mohit Kumar",
      "userId": "03888987891614882912"
     },
     "user_tz": -330
    },
    "id": "JiYsZtABQ9Np"
   },
   "outputs": [],
   "source": [
    "test_df = pd.read_csv(data+\"/test.csv\")"
   ]
  },
  {
   "cell_type": "markdown",
   "metadata": {
    "id": "uq_2iDMIT-yH"
   },
   "source": [
    "## 2. Explore Datasets"
   ]
  },
  {
   "cell_type": "markdown",
   "metadata": {
    "id": "R-DFl_BZUD5W"
   },
   "source": [
    "- Basic info about training set\n",
    "- Basic info about test set\n",
    "- Exploratory data analysis & visualization\n",
    "- Ask & answer questions"
   ]
  },
  {
   "cell_type": "markdown",
   "metadata": {
    "id": "p-QV_CNpVnv-"
   },
   "source": [
    "### Training Set"
   ]
  },
  {
   "cell_type": "code",
   "execution_count": 14,
   "metadata": {
    "colab": {
     "base_uri": "https://localhost:8080/",
     "height": 206
    },
    "executionInfo": {
     "elapsed": 73,
     "status": "ok",
     "timestamp": 1666237621783,
     "user": {
      "displayName": "Mohit Kumar",
      "userId": "03888987891614882912"
     },
     "user_tz": -330
    },
    "id": "Fe9FlDuDORZO",
    "outputId": "7b319a81-ad25-4ade-a424-8a52dca60b75"
   },
   "outputs": [
    {
     "data": {
      "text/html": [
       "\n",
       "  <div id=\"df-4a0766e5-48e0-4523-a550-31491d9d697d\">\n",
       "    <div class=\"colab-df-container\">\n",
       "      <div>\n",
       "<style scoped>\n",
       "    .dataframe tbody tr th:only-of-type {\n",
       "        vertical-align: middle;\n",
       "    }\n",
       "\n",
       "    .dataframe tbody tr th {\n",
       "        vertical-align: top;\n",
       "    }\n",
       "\n",
       "    .dataframe thead th {\n",
       "        text-align: right;\n",
       "    }\n",
       "</style>\n",
       "<table border=\"1\" class=\"dataframe\">\n",
       "  <thead>\n",
       "    <tr style=\"text-align: right;\">\n",
       "      <th></th>\n",
       "      <th>PassengerId</th>\n",
       "      <th>Survived</th>\n",
       "      <th>Pclass</th>\n",
       "      <th>Name</th>\n",
       "      <th>Sex</th>\n",
       "      <th>Age</th>\n",
       "      <th>SibSp</th>\n",
       "      <th>Parch</th>\n",
       "      <th>Ticket</th>\n",
       "      <th>Fare</th>\n",
       "      <th>Cabin</th>\n",
       "      <th>Embarked</th>\n",
       "    </tr>\n",
       "  </thead>\n",
       "  <tbody>\n",
       "    <tr>\n",
       "      <th>0</th>\n",
       "      <td>1</td>\n",
       "      <td>0</td>\n",
       "      <td>3</td>\n",
       "      <td>Braund, Mr. Owen Harris</td>\n",
       "      <td>male</td>\n",
       "      <td>22.0</td>\n",
       "      <td>1</td>\n",
       "      <td>0</td>\n",
       "      <td>A/5 21171</td>\n",
       "      <td>7.2500</td>\n",
       "      <td>NaN</td>\n",
       "      <td>S</td>\n",
       "    </tr>\n",
       "    <tr>\n",
       "      <th>1</th>\n",
       "      <td>2</td>\n",
       "      <td>1</td>\n",
       "      <td>1</td>\n",
       "      <td>Cumings, Mrs. John Bradley (Florence Briggs Th...</td>\n",
       "      <td>female</td>\n",
       "      <td>38.0</td>\n",
       "      <td>1</td>\n",
       "      <td>0</td>\n",
       "      <td>PC 17599</td>\n",
       "      <td>71.2833</td>\n",
       "      <td>C85</td>\n",
       "      <td>C</td>\n",
       "    </tr>\n",
       "    <tr>\n",
       "      <th>2</th>\n",
       "      <td>3</td>\n",
       "      <td>1</td>\n",
       "      <td>3</td>\n",
       "      <td>Heikkinen, Miss. Laina</td>\n",
       "      <td>female</td>\n",
       "      <td>26.0</td>\n",
       "      <td>0</td>\n",
       "      <td>0</td>\n",
       "      <td>STON/O2. 3101282</td>\n",
       "      <td>7.9250</td>\n",
       "      <td>NaN</td>\n",
       "      <td>S</td>\n",
       "    </tr>\n",
       "    <tr>\n",
       "      <th>3</th>\n",
       "      <td>4</td>\n",
       "      <td>1</td>\n",
       "      <td>1</td>\n",
       "      <td>Futrelle, Mrs. Jacques Heath (Lily May Peel)</td>\n",
       "      <td>female</td>\n",
       "      <td>35.0</td>\n",
       "      <td>1</td>\n",
       "      <td>0</td>\n",
       "      <td>113803</td>\n",
       "      <td>53.1000</td>\n",
       "      <td>C123</td>\n",
       "      <td>S</td>\n",
       "    </tr>\n",
       "    <tr>\n",
       "      <th>4</th>\n",
       "      <td>5</td>\n",
       "      <td>0</td>\n",
       "      <td>3</td>\n",
       "      <td>Allen, Mr. William Henry</td>\n",
       "      <td>male</td>\n",
       "      <td>35.0</td>\n",
       "      <td>0</td>\n",
       "      <td>0</td>\n",
       "      <td>373450</td>\n",
       "      <td>8.0500</td>\n",
       "      <td>NaN</td>\n",
       "      <td>S</td>\n",
       "    </tr>\n",
       "  </tbody>\n",
       "</table>\n",
       "</div>\n",
       "      <button class=\"colab-df-convert\" onclick=\"convertToInteractive('df-4a0766e5-48e0-4523-a550-31491d9d697d')\"\n",
       "              title=\"Convert this dataframe to an interactive table.\"\n",
       "              style=\"display:none;\">\n",
       "        \n",
       "  <svg xmlns=\"http://www.w3.org/2000/svg\" height=\"24px\"viewBox=\"0 0 24 24\"\n",
       "       width=\"24px\">\n",
       "    <path d=\"M0 0h24v24H0V0z\" fill=\"none\"/>\n",
       "    <path d=\"M18.56 5.44l.94 2.06.94-2.06 2.06-.94-2.06-.94-.94-2.06-.94 2.06-2.06.94zm-11 1L8.5 8.5l.94-2.06 2.06-.94-2.06-.94L8.5 2.5l-.94 2.06-2.06.94zm10 10l.94 2.06.94-2.06 2.06-.94-2.06-.94-.94-2.06-.94 2.06-2.06.94z\"/><path d=\"M17.41 7.96l-1.37-1.37c-.4-.4-.92-.59-1.43-.59-.52 0-1.04.2-1.43.59L10.3 9.45l-7.72 7.72c-.78.78-.78 2.05 0 2.83L4 21.41c.39.39.9.59 1.41.59.51 0 1.02-.2 1.41-.59l7.78-7.78 2.81-2.81c.8-.78.8-2.07 0-2.86zM5.41 20L4 18.59l7.72-7.72 1.47 1.35L5.41 20z\"/>\n",
       "  </svg>\n",
       "      </button>\n",
       "      \n",
       "  <style>\n",
       "    .colab-df-container {\n",
       "      display:flex;\n",
       "      flex-wrap:wrap;\n",
       "      gap: 12px;\n",
       "    }\n",
       "\n",
       "    .colab-df-convert {\n",
       "      background-color: #E8F0FE;\n",
       "      border: none;\n",
       "      border-radius: 50%;\n",
       "      cursor: pointer;\n",
       "      display: none;\n",
       "      fill: #1967D2;\n",
       "      height: 32px;\n",
       "      padding: 0 0 0 0;\n",
       "      width: 32px;\n",
       "    }\n",
       "\n",
       "    .colab-df-convert:hover {\n",
       "      background-color: #E2EBFA;\n",
       "      box-shadow: 0px 1px 2px rgba(60, 64, 67, 0.3), 0px 1px 3px 1px rgba(60, 64, 67, 0.15);\n",
       "      fill: #174EA6;\n",
       "    }\n",
       "\n",
       "    [theme=dark] .colab-df-convert {\n",
       "      background-color: #3B4455;\n",
       "      fill: #D2E3FC;\n",
       "    }\n",
       "\n",
       "    [theme=dark] .colab-df-convert:hover {\n",
       "      background-color: #434B5C;\n",
       "      box-shadow: 0px 1px 3px 1px rgba(0, 0, 0, 0.15);\n",
       "      filter: drop-shadow(0px 1px 2px rgba(0, 0, 0, 0.3));\n",
       "      fill: #FFFFFF;\n",
       "    }\n",
       "  </style>\n",
       "\n",
       "      <script>\n",
       "        const buttonEl =\n",
       "          document.querySelector('#df-4a0766e5-48e0-4523-a550-31491d9d697d button.colab-df-convert');\n",
       "        buttonEl.style.display =\n",
       "          google.colab.kernel.accessAllowed ? 'block' : 'none';\n",
       "\n",
       "        async function convertToInteractive(key) {\n",
       "          const element = document.querySelector('#df-4a0766e5-48e0-4523-a550-31491d9d697d');\n",
       "          const dataTable =\n",
       "            await google.colab.kernel.invokeFunction('convertToInteractive',\n",
       "                                                     [key], {});\n",
       "          if (!dataTable) return;\n",
       "\n",
       "          const docLinkHtml = 'Like what you see? Visit the ' +\n",
       "            '<a target=\"_blank\" href=https://colab.research.google.com/notebooks/data_table.ipynb>data table notebook</a>'\n",
       "            + ' to learn more about interactive tables.';\n",
       "          element.innerHTML = '';\n",
       "          dataTable['output_type'] = 'display_data';\n",
       "          await google.colab.output.renderOutput(dataTable, element);\n",
       "          const docLink = document.createElement('div');\n",
       "          docLink.innerHTML = docLinkHtml;\n",
       "          element.appendChild(docLink);\n",
       "        }\n",
       "      </script>\n",
       "    </div>\n",
       "  </div>\n",
       "  "
      ],
      "text/plain": [
       "   PassengerId  Survived  Pclass  \\\n",
       "0            1         0       3   \n",
       "1            2         1       1   \n",
       "2            3         1       3   \n",
       "3            4         1       1   \n",
       "4            5         0       3   \n",
       "\n",
       "                                                Name     Sex   Age  SibSp  \\\n",
       "0                            Braund, Mr. Owen Harris    male  22.0      1   \n",
       "1  Cumings, Mrs. John Bradley (Florence Briggs Th...  female  38.0      1   \n",
       "2                             Heikkinen, Miss. Laina  female  26.0      0   \n",
       "3       Futrelle, Mrs. Jacques Heath (Lily May Peel)  female  35.0      1   \n",
       "4                           Allen, Mr. William Henry    male  35.0      0   \n",
       "\n",
       "   Parch            Ticket     Fare Cabin Embarked  \n",
       "0      0         A/5 21171   7.2500   NaN        S  \n",
       "1      0          PC 17599  71.2833   C85        C  \n",
       "2      0  STON/O2. 3101282   7.9250   NaN        S  \n",
       "3      0            113803  53.1000  C123        S  \n",
       "4      0            373450   8.0500   NaN        S  "
      ]
     },
     "execution_count": 14,
     "metadata": {},
     "output_type": "execute_result"
    }
   ],
   "source": [
    "df.head()"
   ]
  },
  {
   "cell_type": "code",
   "execution_count": 15,
   "metadata": {
    "colab": {
     "base_uri": "https://localhost:8080/"
    },
    "executionInfo": {
     "elapsed": 71,
     "status": "ok",
     "timestamp": 1666237621785,
     "user": {
      "displayName": "Mohit Kumar",
      "userId": "03888987891614882912"
     },
     "user_tz": -330
    },
    "id": "ggo_LlFrOjBi",
    "outputId": "99109bc8-d98a-412d-d99c-a46780044ed4"
   },
   "outputs": [
    {
     "name": "stdout",
     "output_type": "stream",
     "text": [
      "<class 'pandas.core.frame.DataFrame'>\n",
      "RangeIndex: 891 entries, 0 to 890\n",
      "Data columns (total 12 columns):\n",
      " #   Column       Non-Null Count  Dtype  \n",
      "---  ------       --------------  -----  \n",
      " 0   PassengerId  891 non-null    int64  \n",
      " 1   Survived     891 non-null    int64  \n",
      " 2   Pclass       891 non-null    int64  \n",
      " 3   Name         891 non-null    object \n",
      " 4   Sex          891 non-null    object \n",
      " 5   Age          714 non-null    float64\n",
      " 6   SibSp        891 non-null    int64  \n",
      " 7   Parch        891 non-null    int64  \n",
      " 8   Ticket       891 non-null    object \n",
      " 9   Fare         891 non-null    float64\n",
      " 10  Cabin        204 non-null    object \n",
      " 11  Embarked     889 non-null    object \n",
      "dtypes: float64(2), int64(5), object(5)\n",
      "memory usage: 83.7+ KB\n"
     ]
    }
   ],
   "source": [
    "df.info()"
   ]
  },
  {
   "cell_type": "code",
   "execution_count": 16,
   "metadata": {
    "colab": {
     "base_uri": "https://localhost:8080/",
     "height": 300
    },
    "executionInfo": {
     "elapsed": 59,
     "status": "ok",
     "timestamp": 1666237621786,
     "user": {
      "displayName": "Mohit Kumar",
      "userId": "03888987891614882912"
     },
     "user_tz": -330
    },
    "id": "rBASm0faOn8R",
    "outputId": "22c23a3e-d606-450f-8330-3bb8c9cf25da"
   },
   "outputs": [
    {
     "data": {
      "text/html": [
       "\n",
       "  <div id=\"df-cc4de99b-2195-4633-a1ee-b82d162f838d\">\n",
       "    <div class=\"colab-df-container\">\n",
       "      <div>\n",
       "<style scoped>\n",
       "    .dataframe tbody tr th:only-of-type {\n",
       "        vertical-align: middle;\n",
       "    }\n",
       "\n",
       "    .dataframe tbody tr th {\n",
       "        vertical-align: top;\n",
       "    }\n",
       "\n",
       "    .dataframe thead th {\n",
       "        text-align: right;\n",
       "    }\n",
       "</style>\n",
       "<table border=\"1\" class=\"dataframe\">\n",
       "  <thead>\n",
       "    <tr style=\"text-align: right;\">\n",
       "      <th></th>\n",
       "      <th>PassengerId</th>\n",
       "      <th>Survived</th>\n",
       "      <th>Pclass</th>\n",
       "      <th>Age</th>\n",
       "      <th>SibSp</th>\n",
       "      <th>Parch</th>\n",
       "      <th>Fare</th>\n",
       "    </tr>\n",
       "  </thead>\n",
       "  <tbody>\n",
       "    <tr>\n",
       "      <th>count</th>\n",
       "      <td>891.000000</td>\n",
       "      <td>891.000000</td>\n",
       "      <td>891.000000</td>\n",
       "      <td>714.000000</td>\n",
       "      <td>891.000000</td>\n",
       "      <td>891.000000</td>\n",
       "      <td>891.000000</td>\n",
       "    </tr>\n",
       "    <tr>\n",
       "      <th>mean</th>\n",
       "      <td>446.000000</td>\n",
       "      <td>0.383838</td>\n",
       "      <td>2.308642</td>\n",
       "      <td>29.699118</td>\n",
       "      <td>0.523008</td>\n",
       "      <td>0.381594</td>\n",
       "      <td>32.204208</td>\n",
       "    </tr>\n",
       "    <tr>\n",
       "      <th>std</th>\n",
       "      <td>257.353842</td>\n",
       "      <td>0.486592</td>\n",
       "      <td>0.836071</td>\n",
       "      <td>14.526497</td>\n",
       "      <td>1.102743</td>\n",
       "      <td>0.806057</td>\n",
       "      <td>49.693429</td>\n",
       "    </tr>\n",
       "    <tr>\n",
       "      <th>min</th>\n",
       "      <td>1.000000</td>\n",
       "      <td>0.000000</td>\n",
       "      <td>1.000000</td>\n",
       "      <td>0.420000</td>\n",
       "      <td>0.000000</td>\n",
       "      <td>0.000000</td>\n",
       "      <td>0.000000</td>\n",
       "    </tr>\n",
       "    <tr>\n",
       "      <th>25%</th>\n",
       "      <td>223.500000</td>\n",
       "      <td>0.000000</td>\n",
       "      <td>2.000000</td>\n",
       "      <td>20.125000</td>\n",
       "      <td>0.000000</td>\n",
       "      <td>0.000000</td>\n",
       "      <td>7.910400</td>\n",
       "    </tr>\n",
       "    <tr>\n",
       "      <th>50%</th>\n",
       "      <td>446.000000</td>\n",
       "      <td>0.000000</td>\n",
       "      <td>3.000000</td>\n",
       "      <td>28.000000</td>\n",
       "      <td>0.000000</td>\n",
       "      <td>0.000000</td>\n",
       "      <td>14.454200</td>\n",
       "    </tr>\n",
       "    <tr>\n",
       "      <th>75%</th>\n",
       "      <td>668.500000</td>\n",
       "      <td>1.000000</td>\n",
       "      <td>3.000000</td>\n",
       "      <td>38.000000</td>\n",
       "      <td>1.000000</td>\n",
       "      <td>0.000000</td>\n",
       "      <td>31.000000</td>\n",
       "    </tr>\n",
       "    <tr>\n",
       "      <th>max</th>\n",
       "      <td>891.000000</td>\n",
       "      <td>1.000000</td>\n",
       "      <td>3.000000</td>\n",
       "      <td>80.000000</td>\n",
       "      <td>8.000000</td>\n",
       "      <td>6.000000</td>\n",
       "      <td>512.329200</td>\n",
       "    </tr>\n",
       "  </tbody>\n",
       "</table>\n",
       "</div>\n",
       "      <button class=\"colab-df-convert\" onclick=\"convertToInteractive('df-cc4de99b-2195-4633-a1ee-b82d162f838d')\"\n",
       "              title=\"Convert this dataframe to an interactive table.\"\n",
       "              style=\"display:none;\">\n",
       "        \n",
       "  <svg xmlns=\"http://www.w3.org/2000/svg\" height=\"24px\"viewBox=\"0 0 24 24\"\n",
       "       width=\"24px\">\n",
       "    <path d=\"M0 0h24v24H0V0z\" fill=\"none\"/>\n",
       "    <path d=\"M18.56 5.44l.94 2.06.94-2.06 2.06-.94-2.06-.94-.94-2.06-.94 2.06-2.06.94zm-11 1L8.5 8.5l.94-2.06 2.06-.94-2.06-.94L8.5 2.5l-.94 2.06-2.06.94zm10 10l.94 2.06.94-2.06 2.06-.94-2.06-.94-.94-2.06-.94 2.06-2.06.94z\"/><path d=\"M17.41 7.96l-1.37-1.37c-.4-.4-.92-.59-1.43-.59-.52 0-1.04.2-1.43.59L10.3 9.45l-7.72 7.72c-.78.78-.78 2.05 0 2.83L4 21.41c.39.39.9.59 1.41.59.51 0 1.02-.2 1.41-.59l7.78-7.78 2.81-2.81c.8-.78.8-2.07 0-2.86zM5.41 20L4 18.59l7.72-7.72 1.47 1.35L5.41 20z\"/>\n",
       "  </svg>\n",
       "      </button>\n",
       "      \n",
       "  <style>\n",
       "    .colab-df-container {\n",
       "      display:flex;\n",
       "      flex-wrap:wrap;\n",
       "      gap: 12px;\n",
       "    }\n",
       "\n",
       "    .colab-df-convert {\n",
       "      background-color: #E8F0FE;\n",
       "      border: none;\n",
       "      border-radius: 50%;\n",
       "      cursor: pointer;\n",
       "      display: none;\n",
       "      fill: #1967D2;\n",
       "      height: 32px;\n",
       "      padding: 0 0 0 0;\n",
       "      width: 32px;\n",
       "    }\n",
       "\n",
       "    .colab-df-convert:hover {\n",
       "      background-color: #E2EBFA;\n",
       "      box-shadow: 0px 1px 2px rgba(60, 64, 67, 0.3), 0px 1px 3px 1px rgba(60, 64, 67, 0.15);\n",
       "      fill: #174EA6;\n",
       "    }\n",
       "\n",
       "    [theme=dark] .colab-df-convert {\n",
       "      background-color: #3B4455;\n",
       "      fill: #D2E3FC;\n",
       "    }\n",
       "\n",
       "    [theme=dark] .colab-df-convert:hover {\n",
       "      background-color: #434B5C;\n",
       "      box-shadow: 0px 1px 3px 1px rgba(0, 0, 0, 0.15);\n",
       "      filter: drop-shadow(0px 1px 2px rgba(0, 0, 0, 0.3));\n",
       "      fill: #FFFFFF;\n",
       "    }\n",
       "  </style>\n",
       "\n",
       "      <script>\n",
       "        const buttonEl =\n",
       "          document.querySelector('#df-cc4de99b-2195-4633-a1ee-b82d162f838d button.colab-df-convert');\n",
       "        buttonEl.style.display =\n",
       "          google.colab.kernel.accessAllowed ? 'block' : 'none';\n",
       "\n",
       "        async function convertToInteractive(key) {\n",
       "          const element = document.querySelector('#df-cc4de99b-2195-4633-a1ee-b82d162f838d');\n",
       "          const dataTable =\n",
       "            await google.colab.kernel.invokeFunction('convertToInteractive',\n",
       "                                                     [key], {});\n",
       "          if (!dataTable) return;\n",
       "\n",
       "          const docLinkHtml = 'Like what you see? Visit the ' +\n",
       "            '<a target=\"_blank\" href=https://colab.research.google.com/notebooks/data_table.ipynb>data table notebook</a>'\n",
       "            + ' to learn more about interactive tables.';\n",
       "          element.innerHTML = '';\n",
       "          dataTable['output_type'] = 'display_data';\n",
       "          await google.colab.output.renderOutput(dataTable, element);\n",
       "          const docLink = document.createElement('div');\n",
       "          docLink.innerHTML = docLinkHtml;\n",
       "          element.appendChild(docLink);\n",
       "        }\n",
       "      </script>\n",
       "    </div>\n",
       "  </div>\n",
       "  "
      ],
      "text/plain": [
       "       PassengerId    Survived      Pclass         Age       SibSp  \\\n",
       "count   891.000000  891.000000  891.000000  714.000000  891.000000   \n",
       "mean    446.000000    0.383838    2.308642   29.699118    0.523008   \n",
       "std     257.353842    0.486592    0.836071   14.526497    1.102743   \n",
       "min       1.000000    0.000000    1.000000    0.420000    0.000000   \n",
       "25%     223.500000    0.000000    2.000000   20.125000    0.000000   \n",
       "50%     446.000000    0.000000    3.000000   28.000000    0.000000   \n",
       "75%     668.500000    1.000000    3.000000   38.000000    1.000000   \n",
       "max     891.000000    1.000000    3.000000   80.000000    8.000000   \n",
       "\n",
       "            Parch        Fare  \n",
       "count  891.000000  891.000000  \n",
       "mean     0.381594   32.204208  \n",
       "std      0.806057   49.693429  \n",
       "min      0.000000    0.000000  \n",
       "25%      0.000000    7.910400  \n",
       "50%      0.000000   14.454200  \n",
       "75%      0.000000   31.000000  \n",
       "max      6.000000  512.329200  "
      ]
     },
     "execution_count": 16,
     "metadata": {},
     "output_type": "execute_result"
    }
   ],
   "source": [
    "df.describe()"
   ]
  },
  {
   "cell_type": "markdown",
   "metadata": {
    "id": "JB8HUf2jVrOt"
   },
   "source": [
    "### Testing Set"
   ]
  },
  {
   "cell_type": "code",
   "execution_count": 17,
   "metadata": {
    "colab": {
     "base_uri": "https://localhost:8080/",
     "height": 0
    },
    "executionInfo": {
     "elapsed": 58,
     "status": "ok",
     "timestamp": 1666237621788,
     "user": {
      "displayName": "Mohit Kumar",
      "userId": "03888987891614882912"
     },
     "user_tz": -330
    },
    "id": "XAEjrsAbScrt",
    "outputId": "e45f96ca-d4cc-4b61-8c80-e612a14af18f"
   },
   "outputs": [
    {
     "data": {
      "text/html": [
       "\n",
       "  <div id=\"df-cf50f9bb-c9cd-4055-88bb-8972a9a32dca\">\n",
       "    <div class=\"colab-df-container\">\n",
       "      <div>\n",
       "<style scoped>\n",
       "    .dataframe tbody tr th:only-of-type {\n",
       "        vertical-align: middle;\n",
       "    }\n",
       "\n",
       "    .dataframe tbody tr th {\n",
       "        vertical-align: top;\n",
       "    }\n",
       "\n",
       "    .dataframe thead th {\n",
       "        text-align: right;\n",
       "    }\n",
       "</style>\n",
       "<table border=\"1\" class=\"dataframe\">\n",
       "  <thead>\n",
       "    <tr style=\"text-align: right;\">\n",
       "      <th></th>\n",
       "      <th>PassengerId</th>\n",
       "      <th>Pclass</th>\n",
       "      <th>Name</th>\n",
       "      <th>Sex</th>\n",
       "      <th>Age</th>\n",
       "      <th>SibSp</th>\n",
       "      <th>Parch</th>\n",
       "      <th>Ticket</th>\n",
       "      <th>Fare</th>\n",
       "      <th>Cabin</th>\n",
       "      <th>Embarked</th>\n",
       "    </tr>\n",
       "  </thead>\n",
       "  <tbody>\n",
       "    <tr>\n",
       "      <th>0</th>\n",
       "      <td>892</td>\n",
       "      <td>3</td>\n",
       "      <td>Kelly, Mr. James</td>\n",
       "      <td>male</td>\n",
       "      <td>34.5</td>\n",
       "      <td>0</td>\n",
       "      <td>0</td>\n",
       "      <td>330911</td>\n",
       "      <td>7.8292</td>\n",
       "      <td>NaN</td>\n",
       "      <td>Q</td>\n",
       "    </tr>\n",
       "    <tr>\n",
       "      <th>1</th>\n",
       "      <td>893</td>\n",
       "      <td>3</td>\n",
       "      <td>Wilkes, Mrs. James (Ellen Needs)</td>\n",
       "      <td>female</td>\n",
       "      <td>47.0</td>\n",
       "      <td>1</td>\n",
       "      <td>0</td>\n",
       "      <td>363272</td>\n",
       "      <td>7.0000</td>\n",
       "      <td>NaN</td>\n",
       "      <td>S</td>\n",
       "    </tr>\n",
       "    <tr>\n",
       "      <th>2</th>\n",
       "      <td>894</td>\n",
       "      <td>2</td>\n",
       "      <td>Myles, Mr. Thomas Francis</td>\n",
       "      <td>male</td>\n",
       "      <td>62.0</td>\n",
       "      <td>0</td>\n",
       "      <td>0</td>\n",
       "      <td>240276</td>\n",
       "      <td>9.6875</td>\n",
       "      <td>NaN</td>\n",
       "      <td>Q</td>\n",
       "    </tr>\n",
       "    <tr>\n",
       "      <th>3</th>\n",
       "      <td>895</td>\n",
       "      <td>3</td>\n",
       "      <td>Wirz, Mr. Albert</td>\n",
       "      <td>male</td>\n",
       "      <td>27.0</td>\n",
       "      <td>0</td>\n",
       "      <td>0</td>\n",
       "      <td>315154</td>\n",
       "      <td>8.6625</td>\n",
       "      <td>NaN</td>\n",
       "      <td>S</td>\n",
       "    </tr>\n",
       "    <tr>\n",
       "      <th>4</th>\n",
       "      <td>896</td>\n",
       "      <td>3</td>\n",
       "      <td>Hirvonen, Mrs. Alexander (Helga E Lindqvist)</td>\n",
       "      <td>female</td>\n",
       "      <td>22.0</td>\n",
       "      <td>1</td>\n",
       "      <td>1</td>\n",
       "      <td>3101298</td>\n",
       "      <td>12.2875</td>\n",
       "      <td>NaN</td>\n",
       "      <td>S</td>\n",
       "    </tr>\n",
       "  </tbody>\n",
       "</table>\n",
       "</div>\n",
       "      <button class=\"colab-df-convert\" onclick=\"convertToInteractive('df-cf50f9bb-c9cd-4055-88bb-8972a9a32dca')\"\n",
       "              title=\"Convert this dataframe to an interactive table.\"\n",
       "              style=\"display:none;\">\n",
       "        \n",
       "  <svg xmlns=\"http://www.w3.org/2000/svg\" height=\"24px\"viewBox=\"0 0 24 24\"\n",
       "       width=\"24px\">\n",
       "    <path d=\"M0 0h24v24H0V0z\" fill=\"none\"/>\n",
       "    <path d=\"M18.56 5.44l.94 2.06.94-2.06 2.06-.94-2.06-.94-.94-2.06-.94 2.06-2.06.94zm-11 1L8.5 8.5l.94-2.06 2.06-.94-2.06-.94L8.5 2.5l-.94 2.06-2.06.94zm10 10l.94 2.06.94-2.06 2.06-.94-2.06-.94-.94-2.06-.94 2.06-2.06.94z\"/><path d=\"M17.41 7.96l-1.37-1.37c-.4-.4-.92-.59-1.43-.59-.52 0-1.04.2-1.43.59L10.3 9.45l-7.72 7.72c-.78.78-.78 2.05 0 2.83L4 21.41c.39.39.9.59 1.41.59.51 0 1.02-.2 1.41-.59l7.78-7.78 2.81-2.81c.8-.78.8-2.07 0-2.86zM5.41 20L4 18.59l7.72-7.72 1.47 1.35L5.41 20z\"/>\n",
       "  </svg>\n",
       "      </button>\n",
       "      \n",
       "  <style>\n",
       "    .colab-df-container {\n",
       "      display:flex;\n",
       "      flex-wrap:wrap;\n",
       "      gap: 12px;\n",
       "    }\n",
       "\n",
       "    .colab-df-convert {\n",
       "      background-color: #E8F0FE;\n",
       "      border: none;\n",
       "      border-radius: 50%;\n",
       "      cursor: pointer;\n",
       "      display: none;\n",
       "      fill: #1967D2;\n",
       "      height: 32px;\n",
       "      padding: 0 0 0 0;\n",
       "      width: 32px;\n",
       "    }\n",
       "\n",
       "    .colab-df-convert:hover {\n",
       "      background-color: #E2EBFA;\n",
       "      box-shadow: 0px 1px 2px rgba(60, 64, 67, 0.3), 0px 1px 3px 1px rgba(60, 64, 67, 0.15);\n",
       "      fill: #174EA6;\n",
       "    }\n",
       "\n",
       "    [theme=dark] .colab-df-convert {\n",
       "      background-color: #3B4455;\n",
       "      fill: #D2E3FC;\n",
       "    }\n",
       "\n",
       "    [theme=dark] .colab-df-convert:hover {\n",
       "      background-color: #434B5C;\n",
       "      box-shadow: 0px 1px 3px 1px rgba(0, 0, 0, 0.15);\n",
       "      filter: drop-shadow(0px 1px 2px rgba(0, 0, 0, 0.3));\n",
       "      fill: #FFFFFF;\n",
       "    }\n",
       "  </style>\n",
       "\n",
       "      <script>\n",
       "        const buttonEl =\n",
       "          document.querySelector('#df-cf50f9bb-c9cd-4055-88bb-8972a9a32dca button.colab-df-convert');\n",
       "        buttonEl.style.display =\n",
       "          google.colab.kernel.accessAllowed ? 'block' : 'none';\n",
       "\n",
       "        async function convertToInteractive(key) {\n",
       "          const element = document.querySelector('#df-cf50f9bb-c9cd-4055-88bb-8972a9a32dca');\n",
       "          const dataTable =\n",
       "            await google.colab.kernel.invokeFunction('convertToInteractive',\n",
       "                                                     [key], {});\n",
       "          if (!dataTable) return;\n",
       "\n",
       "          const docLinkHtml = 'Like what you see? Visit the ' +\n",
       "            '<a target=\"_blank\" href=https://colab.research.google.com/notebooks/data_table.ipynb>data table notebook</a>'\n",
       "            + ' to learn more about interactive tables.';\n",
       "          element.innerHTML = '';\n",
       "          dataTable['output_type'] = 'display_data';\n",
       "          await google.colab.output.renderOutput(dataTable, element);\n",
       "          const docLink = document.createElement('div');\n",
       "          docLink.innerHTML = docLinkHtml;\n",
       "          element.appendChild(docLink);\n",
       "        }\n",
       "      </script>\n",
       "    </div>\n",
       "  </div>\n",
       "  "
      ],
      "text/plain": [
       "   PassengerId  Pclass                                          Name     Sex  \\\n",
       "0          892       3                              Kelly, Mr. James    male   \n",
       "1          893       3              Wilkes, Mrs. James (Ellen Needs)  female   \n",
       "2          894       2                     Myles, Mr. Thomas Francis    male   \n",
       "3          895       3                              Wirz, Mr. Albert    male   \n",
       "4          896       3  Hirvonen, Mrs. Alexander (Helga E Lindqvist)  female   \n",
       "\n",
       "    Age  SibSp  Parch   Ticket     Fare Cabin Embarked  \n",
       "0  34.5      0      0   330911   7.8292   NaN        Q  \n",
       "1  47.0      1      0   363272   7.0000   NaN        S  \n",
       "2  62.0      0      0   240276   9.6875   NaN        Q  \n",
       "3  27.0      0      0   315154   8.6625   NaN        S  \n",
       "4  22.0      1      1  3101298  12.2875   NaN        S  "
      ]
     },
     "execution_count": 17,
     "metadata": {},
     "output_type": "execute_result"
    }
   ],
   "source": [
    "test_df.head()"
   ]
  },
  {
   "cell_type": "code",
   "execution_count": 18,
   "metadata": {
    "colab": {
     "base_uri": "https://localhost:8080/"
    },
    "executionInfo": {
     "elapsed": 58,
     "status": "ok",
     "timestamp": 1666237621790,
     "user": {
      "displayName": "Mohit Kumar",
      "userId": "03888987891614882912"
     },
     "user_tz": -330
    },
    "id": "mH9nlMiKSeur",
    "outputId": "1619662f-c61c-424c-d5cc-a5f3b9a12dd4"
   },
   "outputs": [
    {
     "name": "stdout",
     "output_type": "stream",
     "text": [
      "<class 'pandas.core.frame.DataFrame'>\n",
      "RangeIndex: 418 entries, 0 to 417\n",
      "Data columns (total 11 columns):\n",
      " #   Column       Non-Null Count  Dtype  \n",
      "---  ------       --------------  -----  \n",
      " 0   PassengerId  418 non-null    int64  \n",
      " 1   Pclass       418 non-null    int64  \n",
      " 2   Name         418 non-null    object \n",
      " 3   Sex          418 non-null    object \n",
      " 4   Age          332 non-null    float64\n",
      " 5   SibSp        418 non-null    int64  \n",
      " 6   Parch        418 non-null    int64  \n",
      " 7   Ticket       418 non-null    object \n",
      " 8   Fare         417 non-null    float64\n",
      " 9   Cabin        91 non-null     object \n",
      " 10  Embarked     418 non-null    object \n",
      "dtypes: float64(2), int64(4), object(5)\n",
      "memory usage: 36.0+ KB\n"
     ]
    }
   ],
   "source": [
    "test_df.info()"
   ]
  },
  {
   "cell_type": "code",
   "execution_count": 19,
   "metadata": {
    "colab": {
     "base_uri": "https://localhost:8080/",
     "height": 0
    },
    "executionInfo": {
     "elapsed": 49,
     "status": "ok",
     "timestamp": 1666237621792,
     "user": {
      "displayName": "Mohit Kumar",
      "userId": "03888987891614882912"
     },
     "user_tz": -330
    },
    "id": "NEvDr3pJSn3w",
    "outputId": "92c31d60-386d-4be9-c8da-b34b81c2cb38"
   },
   "outputs": [
    {
     "data": {
      "text/html": [
       "\n",
       "  <div id=\"df-6a5e7f90-fb80-43ee-812c-abaab0c654d5\">\n",
       "    <div class=\"colab-df-container\">\n",
       "      <div>\n",
       "<style scoped>\n",
       "    .dataframe tbody tr th:only-of-type {\n",
       "        vertical-align: middle;\n",
       "    }\n",
       "\n",
       "    .dataframe tbody tr th {\n",
       "        vertical-align: top;\n",
       "    }\n",
       "\n",
       "    .dataframe thead th {\n",
       "        text-align: right;\n",
       "    }\n",
       "</style>\n",
       "<table border=\"1\" class=\"dataframe\">\n",
       "  <thead>\n",
       "    <tr style=\"text-align: right;\">\n",
       "      <th></th>\n",
       "      <th>PassengerId</th>\n",
       "      <th>Pclass</th>\n",
       "      <th>Age</th>\n",
       "      <th>SibSp</th>\n",
       "      <th>Parch</th>\n",
       "      <th>Fare</th>\n",
       "    </tr>\n",
       "  </thead>\n",
       "  <tbody>\n",
       "    <tr>\n",
       "      <th>count</th>\n",
       "      <td>418.000000</td>\n",
       "      <td>418.000000</td>\n",
       "      <td>332.000000</td>\n",
       "      <td>418.000000</td>\n",
       "      <td>418.000000</td>\n",
       "      <td>417.000000</td>\n",
       "    </tr>\n",
       "    <tr>\n",
       "      <th>mean</th>\n",
       "      <td>1100.500000</td>\n",
       "      <td>2.265550</td>\n",
       "      <td>30.272590</td>\n",
       "      <td>0.447368</td>\n",
       "      <td>0.392344</td>\n",
       "      <td>35.627188</td>\n",
       "    </tr>\n",
       "    <tr>\n",
       "      <th>std</th>\n",
       "      <td>120.810458</td>\n",
       "      <td>0.841838</td>\n",
       "      <td>14.181209</td>\n",
       "      <td>0.896760</td>\n",
       "      <td>0.981429</td>\n",
       "      <td>55.907576</td>\n",
       "    </tr>\n",
       "    <tr>\n",
       "      <th>min</th>\n",
       "      <td>892.000000</td>\n",
       "      <td>1.000000</td>\n",
       "      <td>0.170000</td>\n",
       "      <td>0.000000</td>\n",
       "      <td>0.000000</td>\n",
       "      <td>0.000000</td>\n",
       "    </tr>\n",
       "    <tr>\n",
       "      <th>25%</th>\n",
       "      <td>996.250000</td>\n",
       "      <td>1.000000</td>\n",
       "      <td>21.000000</td>\n",
       "      <td>0.000000</td>\n",
       "      <td>0.000000</td>\n",
       "      <td>7.895800</td>\n",
       "    </tr>\n",
       "    <tr>\n",
       "      <th>50%</th>\n",
       "      <td>1100.500000</td>\n",
       "      <td>3.000000</td>\n",
       "      <td>27.000000</td>\n",
       "      <td>0.000000</td>\n",
       "      <td>0.000000</td>\n",
       "      <td>14.454200</td>\n",
       "    </tr>\n",
       "    <tr>\n",
       "      <th>75%</th>\n",
       "      <td>1204.750000</td>\n",
       "      <td>3.000000</td>\n",
       "      <td>39.000000</td>\n",
       "      <td>1.000000</td>\n",
       "      <td>0.000000</td>\n",
       "      <td>31.500000</td>\n",
       "    </tr>\n",
       "    <tr>\n",
       "      <th>max</th>\n",
       "      <td>1309.000000</td>\n",
       "      <td>3.000000</td>\n",
       "      <td>76.000000</td>\n",
       "      <td>8.000000</td>\n",
       "      <td>9.000000</td>\n",
       "      <td>512.329200</td>\n",
       "    </tr>\n",
       "  </tbody>\n",
       "</table>\n",
       "</div>\n",
       "      <button class=\"colab-df-convert\" onclick=\"convertToInteractive('df-6a5e7f90-fb80-43ee-812c-abaab0c654d5')\"\n",
       "              title=\"Convert this dataframe to an interactive table.\"\n",
       "              style=\"display:none;\">\n",
       "        \n",
       "  <svg xmlns=\"http://www.w3.org/2000/svg\" height=\"24px\"viewBox=\"0 0 24 24\"\n",
       "       width=\"24px\">\n",
       "    <path d=\"M0 0h24v24H0V0z\" fill=\"none\"/>\n",
       "    <path d=\"M18.56 5.44l.94 2.06.94-2.06 2.06-.94-2.06-.94-.94-2.06-.94 2.06-2.06.94zm-11 1L8.5 8.5l.94-2.06 2.06-.94-2.06-.94L8.5 2.5l-.94 2.06-2.06.94zm10 10l.94 2.06.94-2.06 2.06-.94-2.06-.94-.94-2.06-.94 2.06-2.06.94z\"/><path d=\"M17.41 7.96l-1.37-1.37c-.4-.4-.92-.59-1.43-.59-.52 0-1.04.2-1.43.59L10.3 9.45l-7.72 7.72c-.78.78-.78 2.05 0 2.83L4 21.41c.39.39.9.59 1.41.59.51 0 1.02-.2 1.41-.59l7.78-7.78 2.81-2.81c.8-.78.8-2.07 0-2.86zM5.41 20L4 18.59l7.72-7.72 1.47 1.35L5.41 20z\"/>\n",
       "  </svg>\n",
       "      </button>\n",
       "      \n",
       "  <style>\n",
       "    .colab-df-container {\n",
       "      display:flex;\n",
       "      flex-wrap:wrap;\n",
       "      gap: 12px;\n",
       "    }\n",
       "\n",
       "    .colab-df-convert {\n",
       "      background-color: #E8F0FE;\n",
       "      border: none;\n",
       "      border-radius: 50%;\n",
       "      cursor: pointer;\n",
       "      display: none;\n",
       "      fill: #1967D2;\n",
       "      height: 32px;\n",
       "      padding: 0 0 0 0;\n",
       "      width: 32px;\n",
       "    }\n",
       "\n",
       "    .colab-df-convert:hover {\n",
       "      background-color: #E2EBFA;\n",
       "      box-shadow: 0px 1px 2px rgba(60, 64, 67, 0.3), 0px 1px 3px 1px rgba(60, 64, 67, 0.15);\n",
       "      fill: #174EA6;\n",
       "    }\n",
       "\n",
       "    [theme=dark] .colab-df-convert {\n",
       "      background-color: #3B4455;\n",
       "      fill: #D2E3FC;\n",
       "    }\n",
       "\n",
       "    [theme=dark] .colab-df-convert:hover {\n",
       "      background-color: #434B5C;\n",
       "      box-shadow: 0px 1px 3px 1px rgba(0, 0, 0, 0.15);\n",
       "      filter: drop-shadow(0px 1px 2px rgba(0, 0, 0, 0.3));\n",
       "      fill: #FFFFFF;\n",
       "    }\n",
       "  </style>\n",
       "\n",
       "      <script>\n",
       "        const buttonEl =\n",
       "          document.querySelector('#df-6a5e7f90-fb80-43ee-812c-abaab0c654d5 button.colab-df-convert');\n",
       "        buttonEl.style.display =\n",
       "          google.colab.kernel.accessAllowed ? 'block' : 'none';\n",
       "\n",
       "        async function convertToInteractive(key) {\n",
       "          const element = document.querySelector('#df-6a5e7f90-fb80-43ee-812c-abaab0c654d5');\n",
       "          const dataTable =\n",
       "            await google.colab.kernel.invokeFunction('convertToInteractive',\n",
       "                                                     [key], {});\n",
       "          if (!dataTable) return;\n",
       "\n",
       "          const docLinkHtml = 'Like what you see? Visit the ' +\n",
       "            '<a target=\"_blank\" href=https://colab.research.google.com/notebooks/data_table.ipynb>data table notebook</a>'\n",
       "            + ' to learn more about interactive tables.';\n",
       "          element.innerHTML = '';\n",
       "          dataTable['output_type'] = 'display_data';\n",
       "          await google.colab.output.renderOutput(dataTable, element);\n",
       "          const docLink = document.createElement('div');\n",
       "          docLink.innerHTML = docLinkHtml;\n",
       "          element.appendChild(docLink);\n",
       "        }\n",
       "      </script>\n",
       "    </div>\n",
       "  </div>\n",
       "  "
      ],
      "text/plain": [
       "       PassengerId      Pclass         Age       SibSp       Parch        Fare\n",
       "count   418.000000  418.000000  332.000000  418.000000  418.000000  417.000000\n",
       "mean   1100.500000    2.265550   30.272590    0.447368    0.392344   35.627188\n",
       "std     120.810458    0.841838   14.181209    0.896760    0.981429   55.907576\n",
       "min     892.000000    1.000000    0.170000    0.000000    0.000000    0.000000\n",
       "25%     996.250000    1.000000   21.000000    0.000000    0.000000    7.895800\n",
       "50%    1100.500000    3.000000   27.000000    0.000000    0.000000   14.454200\n",
       "75%    1204.750000    3.000000   39.000000    1.000000    0.000000   31.500000\n",
       "max    1309.000000    3.000000   76.000000    8.000000    9.000000  512.329200"
      ]
     },
     "execution_count": 19,
     "metadata": {},
     "output_type": "execute_result"
    }
   ],
   "source": [
    "test_df.describe()"
   ]
  },
  {
   "cell_type": "code",
   "execution_count": 20,
   "metadata": {
    "colab": {
     "base_uri": "https://localhost:8080/",
     "height": 0
    },
    "executionInfo": {
     "elapsed": 2443,
     "status": "ok",
     "timestamp": 1666237624188,
     "user": {
      "displayName": "Mohit Kumar",
      "userId": "03888987891614882912"
     },
     "user_tz": -330
    },
    "id": "Eexv7oCWTDam",
    "outputId": "ed45609b-cd8f-439a-cbae-f6eca7fbf1ef"
   },
   "outputs": [
    {
     "name": "stdout",
     "output_type": "stream",
     "text": [
      "[jovian] Detected Colab notebook...\u001b[0m\n",
      "[jovian] Uploading colab notebook to Jovian...\u001b[0m\n",
      "Committed successfully! https://jovian.ai/mohitcnf95/titanic-machine-learning-from-disaster\n"
     ]
    },
    {
     "data": {
      "application/vnd.google.colaboratory.intrinsic+json": {
       "type": "string"
      },
      "text/plain": [
       "'https://jovian.ai/mohitcnf95/titanic-machine-learning-from-disaster'"
      ]
     },
     "execution_count": 20,
     "metadata": {},
     "output_type": "execute_result"
    }
   ],
   "source": [
    "jovian.commit()"
   ]
  },
  {
   "cell_type": "markdown",
   "metadata": {
    "id": "Jovn_NKgWFFq"
   },
   "source": [
    "## 3. Preprocessing of data"
   ]
  },
  {
   "cell_type": "markdown",
   "metadata": {
    "id": "yaTqhZenWtPd"
   },
   "source": [
    "- Checking all columns"
   ]
  },
  {
   "cell_type": "markdown",
   "metadata": {
    "id": "sUZzxnmeWwkX"
   },
   "source": [
    "### Survived Column (Target Column)"
   ]
  },
  {
   "cell_type": "code",
   "execution_count": 21,
   "metadata": {
    "colab": {
     "base_uri": "https://localhost:8080/"
    },
    "executionInfo": {
     "elapsed": 77,
     "status": "ok",
     "timestamp": 1666237624192,
     "user": {
      "displayName": "Mohit Kumar",
      "userId": "03888987891614882912"
     },
     "user_tz": -330
    },
    "id": "y53yYbH2V4S-",
    "outputId": "05f82abf-9406-4f6c-de61-c9add2610985"
   },
   "outputs": [
    {
     "data": {
      "text/plain": [
       "0    0\n",
       "1    1\n",
       "2    1\n",
       "3    1\n",
       "4    0\n",
       "Name: Survived, dtype: int64"
      ]
     },
     "execution_count": 21,
     "metadata": {},
     "output_type": "execute_result"
    }
   ],
   "source": [
    "df['Survived'].head()"
   ]
  },
  {
   "cell_type": "code",
   "execution_count": 22,
   "metadata": {
    "colab": {
     "base_uri": "https://localhost:8080/"
    },
    "executionInfo": {
     "elapsed": 64,
     "status": "ok",
     "timestamp": 1666237624195,
     "user": {
      "displayName": "Mohit Kumar",
      "userId": "03888987891614882912"
     },
     "user_tz": -330
    },
    "id": "Kv6a-uM5W6mN",
    "outputId": "08ccb03f-d604-4975-d54b-0662c5e08704"
   },
   "outputs": [
    {
     "data": {
      "text/plain": [
       "array([0, 1])"
      ]
     },
     "execution_count": 22,
     "metadata": {},
     "output_type": "execute_result"
    }
   ],
   "source": [
    "df['Survived'].unique()"
   ]
  },
  {
   "cell_type": "markdown",
   "metadata": {
    "id": "sEt_MHuYXKj9"
   },
   "source": [
    "### Passenger's socio-economic status (Pclass) Column"
   ]
  },
  {
   "cell_type": "code",
   "execution_count": 23,
   "metadata": {
    "colab": {
     "base_uri": "https://localhost:8080/"
    },
    "executionInfo": {
     "elapsed": 63,
     "status": "ok",
     "timestamp": 1666237624197,
     "user": {
      "displayName": "Mohit Kumar",
      "userId": "03888987891614882912"
     },
     "user_tz": -330
    },
    "id": "Z-ETSbv2W-P9",
    "outputId": "d1282b93-be57-4551-cc2c-aac3a7ad5336"
   },
   "outputs": [
    {
     "data": {
      "text/plain": [
       "0      3\n",
       "1      1\n",
       "2      3\n",
       "3      1\n",
       "4      3\n",
       "      ..\n",
       "886    2\n",
       "887    1\n",
       "888    3\n",
       "889    1\n",
       "890    3\n",
       "Name: Pclass, Length: 891, dtype: int64"
      ]
     },
     "execution_count": 23,
     "metadata": {},
     "output_type": "execute_result"
    }
   ],
   "source": [
    "df['Pclass']"
   ]
  },
  {
   "cell_type": "code",
   "execution_count": 24,
   "metadata": {
    "colab": {
     "base_uri": "https://localhost:8080/"
    },
    "executionInfo": {
     "elapsed": 63,
     "status": "ok",
     "timestamp": 1666237624199,
     "user": {
      "displayName": "Mohit Kumar",
      "userId": "03888987891614882912"
     },
     "user_tz": -330
    },
    "id": "GCONcfzkXX6N",
    "outputId": "2a76bcaf-10f3-4d5e-b58a-b46b7a70d841"
   },
   "outputs": [
    {
     "data": {
      "text/plain": [
       "array([3, 1, 2])"
      ]
     },
     "execution_count": 24,
     "metadata": {},
     "output_type": "execute_result"
    }
   ],
   "source": [
    "df['Pclass'].unique()"
   ]
  },
  {
   "cell_type": "markdown",
   "metadata": {
    "id": "6zNQRmTlXcjU"
   },
   "source": [
    "pclass: A proxy for socio-economic status (SES)\n",
    "- 1st = Upper Class\n",
    "- 2nd = Middle Class\n",
    "- 3rd = Lower Class"
   ]
  },
  {
   "cell_type": "markdown",
   "metadata": {
    "id": "CcfaI7UrXvvs"
   },
   "source": [
    "### sex column"
   ]
  },
  {
   "cell_type": "code",
   "execution_count": 25,
   "metadata": {
    "colab": {
     "base_uri": "https://localhost:8080/"
    },
    "executionInfo": {
     "elapsed": 64,
     "status": "ok",
     "timestamp": 1666237624202,
     "user": {
      "displayName": "Mohit Kumar",
      "userId": "03888987891614882912"
     },
     "user_tz": -330
    },
    "id": "QWEk4kvvXbSk",
    "outputId": "469111c0-c621-41e2-aec5-d5789a01c8b9"
   },
   "outputs": [
    {
     "data": {
      "text/plain": [
       "0        male\n",
       "1      female\n",
       "2      female\n",
       "3      female\n",
       "4        male\n",
       "        ...  \n",
       "886      male\n",
       "887    female\n",
       "888    female\n",
       "889      male\n",
       "890      male\n",
       "Name: Sex, Length: 891, dtype: object"
      ]
     },
     "execution_count": 25,
     "metadata": {},
     "output_type": "execute_result"
    }
   ],
   "source": [
    "df['Sex']"
   ]
  },
  {
   "cell_type": "code",
   "execution_count": 26,
   "metadata": {
    "colab": {
     "base_uri": "https://localhost:8080/"
    },
    "executionInfo": {
     "elapsed": 65,
     "status": "ok",
     "timestamp": 1666237624204,
     "user": {
      "displayName": "Mohit Kumar",
      "userId": "03888987891614882912"
     },
     "user_tz": -330
    },
    "id": "vUr832blX1dl",
    "outputId": "9b87d3d2-4616-4e1b-849a-edf0043c83c8"
   },
   "outputs": [
    {
     "data": {
      "text/plain": [
       "array(['male', 'female'], dtype=object)"
      ]
     },
     "execution_count": 26,
     "metadata": {},
     "output_type": "execute_result"
    }
   ],
   "source": [
    "df['Sex'].unique()"
   ]
  },
  {
   "cell_type": "code",
   "execution_count": 27,
   "metadata": {
    "colab": {
     "base_uri": "https://localhost:8080/",
     "height": 0
    },
    "executionInfo": {
     "elapsed": 65,
     "status": "ok",
     "timestamp": 1666237624205,
     "user": {
      "displayName": "Mohit Kumar",
      "userId": "03888987891614882912"
     },
     "user_tz": -330
    },
    "id": "HhcZAb24YFZz",
    "outputId": "c37e9d56-63b5-4a3d-899b-d63f1d3cb9d4"
   },
   "outputs": [
    {
     "data": {
      "text/html": [
       "\n",
       "  <div id=\"df-c301592b-af1d-425a-b9df-f81522955c12\">\n",
       "    <div class=\"colab-df-container\">\n",
       "      <div>\n",
       "<style scoped>\n",
       "    .dataframe tbody tr th:only-of-type {\n",
       "        vertical-align: middle;\n",
       "    }\n",
       "\n",
       "    .dataframe tbody tr th {\n",
       "        vertical-align: top;\n",
       "    }\n",
       "\n",
       "    .dataframe thead th {\n",
       "        text-align: right;\n",
       "    }\n",
       "</style>\n",
       "<table border=\"1\" class=\"dataframe\">\n",
       "  <thead>\n",
       "    <tr style=\"text-align: right;\">\n",
       "      <th></th>\n",
       "      <th>female</th>\n",
       "      <th>male</th>\n",
       "    </tr>\n",
       "  </thead>\n",
       "  <tbody>\n",
       "    <tr>\n",
       "      <th>0</th>\n",
       "      <td>0</td>\n",
       "      <td>1</td>\n",
       "    </tr>\n",
       "    <tr>\n",
       "      <th>1</th>\n",
       "      <td>1</td>\n",
       "      <td>0</td>\n",
       "    </tr>\n",
       "    <tr>\n",
       "      <th>2</th>\n",
       "      <td>1</td>\n",
       "      <td>0</td>\n",
       "    </tr>\n",
       "    <tr>\n",
       "      <th>3</th>\n",
       "      <td>1</td>\n",
       "      <td>0</td>\n",
       "    </tr>\n",
       "    <tr>\n",
       "      <th>4</th>\n",
       "      <td>0</td>\n",
       "      <td>1</td>\n",
       "    </tr>\n",
       "    <tr>\n",
       "      <th>...</th>\n",
       "      <td>...</td>\n",
       "      <td>...</td>\n",
       "    </tr>\n",
       "    <tr>\n",
       "      <th>886</th>\n",
       "      <td>0</td>\n",
       "      <td>1</td>\n",
       "    </tr>\n",
       "    <tr>\n",
       "      <th>887</th>\n",
       "      <td>1</td>\n",
       "      <td>0</td>\n",
       "    </tr>\n",
       "    <tr>\n",
       "      <th>888</th>\n",
       "      <td>1</td>\n",
       "      <td>0</td>\n",
       "    </tr>\n",
       "    <tr>\n",
       "      <th>889</th>\n",
       "      <td>0</td>\n",
       "      <td>1</td>\n",
       "    </tr>\n",
       "    <tr>\n",
       "      <th>890</th>\n",
       "      <td>0</td>\n",
       "      <td>1</td>\n",
       "    </tr>\n",
       "  </tbody>\n",
       "</table>\n",
       "<p>891 rows × 2 columns</p>\n",
       "</div>\n",
       "      <button class=\"colab-df-convert\" onclick=\"convertToInteractive('df-c301592b-af1d-425a-b9df-f81522955c12')\"\n",
       "              title=\"Convert this dataframe to an interactive table.\"\n",
       "              style=\"display:none;\">\n",
       "        \n",
       "  <svg xmlns=\"http://www.w3.org/2000/svg\" height=\"24px\"viewBox=\"0 0 24 24\"\n",
       "       width=\"24px\">\n",
       "    <path d=\"M0 0h24v24H0V0z\" fill=\"none\"/>\n",
       "    <path d=\"M18.56 5.44l.94 2.06.94-2.06 2.06-.94-2.06-.94-.94-2.06-.94 2.06-2.06.94zm-11 1L8.5 8.5l.94-2.06 2.06-.94-2.06-.94L8.5 2.5l-.94 2.06-2.06.94zm10 10l.94 2.06.94-2.06 2.06-.94-2.06-.94-.94-2.06-.94 2.06-2.06.94z\"/><path d=\"M17.41 7.96l-1.37-1.37c-.4-.4-.92-.59-1.43-.59-.52 0-1.04.2-1.43.59L10.3 9.45l-7.72 7.72c-.78.78-.78 2.05 0 2.83L4 21.41c.39.39.9.59 1.41.59.51 0 1.02-.2 1.41-.59l7.78-7.78 2.81-2.81c.8-.78.8-2.07 0-2.86zM5.41 20L4 18.59l7.72-7.72 1.47 1.35L5.41 20z\"/>\n",
       "  </svg>\n",
       "      </button>\n",
       "      \n",
       "  <style>\n",
       "    .colab-df-container {\n",
       "      display:flex;\n",
       "      flex-wrap:wrap;\n",
       "      gap: 12px;\n",
       "    }\n",
       "\n",
       "    .colab-df-convert {\n",
       "      background-color: #E8F0FE;\n",
       "      border: none;\n",
       "      border-radius: 50%;\n",
       "      cursor: pointer;\n",
       "      display: none;\n",
       "      fill: #1967D2;\n",
       "      height: 32px;\n",
       "      padding: 0 0 0 0;\n",
       "      width: 32px;\n",
       "    }\n",
       "\n",
       "    .colab-df-convert:hover {\n",
       "      background-color: #E2EBFA;\n",
       "      box-shadow: 0px 1px 2px rgba(60, 64, 67, 0.3), 0px 1px 3px 1px rgba(60, 64, 67, 0.15);\n",
       "      fill: #174EA6;\n",
       "    }\n",
       "\n",
       "    [theme=dark] .colab-df-convert {\n",
       "      background-color: #3B4455;\n",
       "      fill: #D2E3FC;\n",
       "    }\n",
       "\n",
       "    [theme=dark] .colab-df-convert:hover {\n",
       "      background-color: #434B5C;\n",
       "      box-shadow: 0px 1px 3px 1px rgba(0, 0, 0, 0.15);\n",
       "      filter: drop-shadow(0px 1px 2px rgba(0, 0, 0, 0.3));\n",
       "      fill: #FFFFFF;\n",
       "    }\n",
       "  </style>\n",
       "\n",
       "      <script>\n",
       "        const buttonEl =\n",
       "          document.querySelector('#df-c301592b-af1d-425a-b9df-f81522955c12 button.colab-df-convert');\n",
       "        buttonEl.style.display =\n",
       "          google.colab.kernel.accessAllowed ? 'block' : 'none';\n",
       "\n",
       "        async function convertToInteractive(key) {\n",
       "          const element = document.querySelector('#df-c301592b-af1d-425a-b9df-f81522955c12');\n",
       "          const dataTable =\n",
       "            await google.colab.kernel.invokeFunction('convertToInteractive',\n",
       "                                                     [key], {});\n",
       "          if (!dataTable) return;\n",
       "\n",
       "          const docLinkHtml = 'Like what you see? Visit the ' +\n",
       "            '<a target=\"_blank\" href=https://colab.research.google.com/notebooks/data_table.ipynb>data table notebook</a>'\n",
       "            + ' to learn more about interactive tables.';\n",
       "          element.innerHTML = '';\n",
       "          dataTable['output_type'] = 'display_data';\n",
       "          await google.colab.output.renderOutput(dataTable, element);\n",
       "          const docLink = document.createElement('div');\n",
       "          docLink.innerHTML = docLinkHtml;\n",
       "          element.appendChild(docLink);\n",
       "        }\n",
       "      </script>\n",
       "    </div>\n",
       "  </div>\n",
       "  "
      ],
      "text/plain": [
       "     female  male\n",
       "0         0     1\n",
       "1         1     0\n",
       "2         1     0\n",
       "3         1     0\n",
       "4         0     1\n",
       "..      ...   ...\n",
       "886       0     1\n",
       "887       1     0\n",
       "888       1     0\n",
       "889       0     1\n",
       "890       0     1\n",
       "\n",
       "[891 rows x 2 columns]"
      ]
     },
     "execution_count": 27,
     "metadata": {},
     "output_type": "execute_result"
    }
   ],
   "source": [
    "Sex_of_Passanger = pd.get_dummies(df['Sex'])\n",
    "Sex_of_Passanger"
   ]
  },
  {
   "cell_type": "code",
   "execution_count": 28,
   "metadata": {
    "executionInfo": {
     "elapsed": 63,
     "status": "ok",
     "timestamp": 1666237624207,
     "user": {
      "displayName": "Mohit Kumar",
      "userId": "03888987891614882912"
     },
     "user_tz": -330
    },
    "id": "_hLNnoZKte-m"
   },
   "outputs": [],
   "source": [
    "df = pd.concat([df,Sex_of_Passanger], axis=1)"
   ]
  },
  {
   "cell_type": "code",
   "execution_count": 29,
   "metadata": {
    "colab": {
     "base_uri": "https://localhost:8080/"
    },
    "executionInfo": {
     "elapsed": 64,
     "status": "ok",
     "timestamp": 1666237624209,
     "user": {
      "displayName": "Mohit Kumar",
      "userId": "03888987891614882912"
     },
     "user_tz": -330
    },
    "id": "OPergrmuuAaH",
    "outputId": "fe306baf-8b98-49fe-a7a8-83aecbe93ea1"
   },
   "outputs": [
    {
     "data": {
      "text/plain": [
       "array(['PassengerId', 'Survived', 'Pclass', 'Name', 'Sex', 'Age', 'SibSp',\n",
       "       'Parch', 'Ticket', 'Fare', 'Cabin', 'Embarked', 'female', 'male'],\n",
       "      dtype=object)"
      ]
     },
     "execution_count": 29,
     "metadata": {},
     "output_type": "execute_result"
    }
   ],
   "source": [
    "df.columns.values"
   ]
  },
  {
   "cell_type": "code",
   "execution_count": 30,
   "metadata": {
    "executionInfo": {
     "elapsed": 65,
     "status": "ok",
     "timestamp": 1666237624212,
     "user": {
      "displayName": "Mohit Kumar",
      "userId": "03888987891614882912"
     },
     "user_tz": -330
    },
    "id": "kwi4SX2HwKJ8"
   },
   "outputs": [],
   "source": [
    "df.columns = ['PassengerId', 'Survived', 'Pclass', 'Name', 'Sex', 'Age', 'SibSp',\n",
    "       'Parch', 'Ticket', 'Fare', 'Cabin', 'Embarked', 'Male', 'Female']"
   ]
  },
  {
   "cell_type": "code",
   "execution_count": 31,
   "metadata": {
    "colab": {
     "base_uri": "https://localhost:8080/",
     "height": 0
    },
    "executionInfo": {
     "elapsed": 66,
     "status": "ok",
     "timestamp": 1666237624213,
     "user": {
      "displayName": "Mohit Kumar",
      "userId": "03888987891614882912"
     },
     "user_tz": -330
    },
    "id": "SAovzMDTtwsK",
    "outputId": "8a84eb0e-83d6-443e-f4e1-914efde187c8"
   },
   "outputs": [
    {
     "data": {
      "text/html": [
       "\n",
       "  <div id=\"df-048c4524-c3f8-44d8-a498-e49e32da1a10\">\n",
       "    <div class=\"colab-df-container\">\n",
       "      <div>\n",
       "<style scoped>\n",
       "    .dataframe tbody tr th:only-of-type {\n",
       "        vertical-align: middle;\n",
       "    }\n",
       "\n",
       "    .dataframe tbody tr th {\n",
       "        vertical-align: top;\n",
       "    }\n",
       "\n",
       "    .dataframe thead th {\n",
       "        text-align: right;\n",
       "    }\n",
       "</style>\n",
       "<table border=\"1\" class=\"dataframe\">\n",
       "  <thead>\n",
       "    <tr style=\"text-align: right;\">\n",
       "      <th></th>\n",
       "      <th>PassengerId</th>\n",
       "      <th>Survived</th>\n",
       "      <th>Pclass</th>\n",
       "      <th>Name</th>\n",
       "      <th>Sex</th>\n",
       "      <th>Age</th>\n",
       "      <th>SibSp</th>\n",
       "      <th>Parch</th>\n",
       "      <th>Ticket</th>\n",
       "      <th>Fare</th>\n",
       "      <th>Cabin</th>\n",
       "      <th>Embarked</th>\n",
       "      <th>Male</th>\n",
       "      <th>Female</th>\n",
       "    </tr>\n",
       "  </thead>\n",
       "  <tbody>\n",
       "    <tr>\n",
       "      <th>0</th>\n",
       "      <td>1</td>\n",
       "      <td>0</td>\n",
       "      <td>3</td>\n",
       "      <td>Braund, Mr. Owen Harris</td>\n",
       "      <td>male</td>\n",
       "      <td>22.0</td>\n",
       "      <td>1</td>\n",
       "      <td>0</td>\n",
       "      <td>A/5 21171</td>\n",
       "      <td>7.2500</td>\n",
       "      <td>NaN</td>\n",
       "      <td>S</td>\n",
       "      <td>0</td>\n",
       "      <td>1</td>\n",
       "    </tr>\n",
       "    <tr>\n",
       "      <th>1</th>\n",
       "      <td>2</td>\n",
       "      <td>1</td>\n",
       "      <td>1</td>\n",
       "      <td>Cumings, Mrs. John Bradley (Florence Briggs Th...</td>\n",
       "      <td>female</td>\n",
       "      <td>38.0</td>\n",
       "      <td>1</td>\n",
       "      <td>0</td>\n",
       "      <td>PC 17599</td>\n",
       "      <td>71.2833</td>\n",
       "      <td>C85</td>\n",
       "      <td>C</td>\n",
       "      <td>1</td>\n",
       "      <td>0</td>\n",
       "    </tr>\n",
       "    <tr>\n",
       "      <th>2</th>\n",
       "      <td>3</td>\n",
       "      <td>1</td>\n",
       "      <td>3</td>\n",
       "      <td>Heikkinen, Miss. Laina</td>\n",
       "      <td>female</td>\n",
       "      <td>26.0</td>\n",
       "      <td>0</td>\n",
       "      <td>0</td>\n",
       "      <td>STON/O2. 3101282</td>\n",
       "      <td>7.9250</td>\n",
       "      <td>NaN</td>\n",
       "      <td>S</td>\n",
       "      <td>1</td>\n",
       "      <td>0</td>\n",
       "    </tr>\n",
       "    <tr>\n",
       "      <th>3</th>\n",
       "      <td>4</td>\n",
       "      <td>1</td>\n",
       "      <td>1</td>\n",
       "      <td>Futrelle, Mrs. Jacques Heath (Lily May Peel)</td>\n",
       "      <td>female</td>\n",
       "      <td>35.0</td>\n",
       "      <td>1</td>\n",
       "      <td>0</td>\n",
       "      <td>113803</td>\n",
       "      <td>53.1000</td>\n",
       "      <td>C123</td>\n",
       "      <td>S</td>\n",
       "      <td>1</td>\n",
       "      <td>0</td>\n",
       "    </tr>\n",
       "    <tr>\n",
       "      <th>4</th>\n",
       "      <td>5</td>\n",
       "      <td>0</td>\n",
       "      <td>3</td>\n",
       "      <td>Allen, Mr. William Henry</td>\n",
       "      <td>male</td>\n",
       "      <td>35.0</td>\n",
       "      <td>0</td>\n",
       "      <td>0</td>\n",
       "      <td>373450</td>\n",
       "      <td>8.0500</td>\n",
       "      <td>NaN</td>\n",
       "      <td>S</td>\n",
       "      <td>0</td>\n",
       "      <td>1</td>\n",
       "    </tr>\n",
       "  </tbody>\n",
       "</table>\n",
       "</div>\n",
       "      <button class=\"colab-df-convert\" onclick=\"convertToInteractive('df-048c4524-c3f8-44d8-a498-e49e32da1a10')\"\n",
       "              title=\"Convert this dataframe to an interactive table.\"\n",
       "              style=\"display:none;\">\n",
       "        \n",
       "  <svg xmlns=\"http://www.w3.org/2000/svg\" height=\"24px\"viewBox=\"0 0 24 24\"\n",
       "       width=\"24px\">\n",
       "    <path d=\"M0 0h24v24H0V0z\" fill=\"none\"/>\n",
       "    <path d=\"M18.56 5.44l.94 2.06.94-2.06 2.06-.94-2.06-.94-.94-2.06-.94 2.06-2.06.94zm-11 1L8.5 8.5l.94-2.06 2.06-.94-2.06-.94L8.5 2.5l-.94 2.06-2.06.94zm10 10l.94 2.06.94-2.06 2.06-.94-2.06-.94-.94-2.06-.94 2.06-2.06.94z\"/><path d=\"M17.41 7.96l-1.37-1.37c-.4-.4-.92-.59-1.43-.59-.52 0-1.04.2-1.43.59L10.3 9.45l-7.72 7.72c-.78.78-.78 2.05 0 2.83L4 21.41c.39.39.9.59 1.41.59.51 0 1.02-.2 1.41-.59l7.78-7.78 2.81-2.81c.8-.78.8-2.07 0-2.86zM5.41 20L4 18.59l7.72-7.72 1.47 1.35L5.41 20z\"/>\n",
       "  </svg>\n",
       "      </button>\n",
       "      \n",
       "  <style>\n",
       "    .colab-df-container {\n",
       "      display:flex;\n",
       "      flex-wrap:wrap;\n",
       "      gap: 12px;\n",
       "    }\n",
       "\n",
       "    .colab-df-convert {\n",
       "      background-color: #E8F0FE;\n",
       "      border: none;\n",
       "      border-radius: 50%;\n",
       "      cursor: pointer;\n",
       "      display: none;\n",
       "      fill: #1967D2;\n",
       "      height: 32px;\n",
       "      padding: 0 0 0 0;\n",
       "      width: 32px;\n",
       "    }\n",
       "\n",
       "    .colab-df-convert:hover {\n",
       "      background-color: #E2EBFA;\n",
       "      box-shadow: 0px 1px 2px rgba(60, 64, 67, 0.3), 0px 1px 3px 1px rgba(60, 64, 67, 0.15);\n",
       "      fill: #174EA6;\n",
       "    }\n",
       "\n",
       "    [theme=dark] .colab-df-convert {\n",
       "      background-color: #3B4455;\n",
       "      fill: #D2E3FC;\n",
       "    }\n",
       "\n",
       "    [theme=dark] .colab-df-convert:hover {\n",
       "      background-color: #434B5C;\n",
       "      box-shadow: 0px 1px 3px 1px rgba(0, 0, 0, 0.15);\n",
       "      filter: drop-shadow(0px 1px 2px rgba(0, 0, 0, 0.3));\n",
       "      fill: #FFFFFF;\n",
       "    }\n",
       "  </style>\n",
       "\n",
       "      <script>\n",
       "        const buttonEl =\n",
       "          document.querySelector('#df-048c4524-c3f8-44d8-a498-e49e32da1a10 button.colab-df-convert');\n",
       "        buttonEl.style.display =\n",
       "          google.colab.kernel.accessAllowed ? 'block' : 'none';\n",
       "\n",
       "        async function convertToInteractive(key) {\n",
       "          const element = document.querySelector('#df-048c4524-c3f8-44d8-a498-e49e32da1a10');\n",
       "          const dataTable =\n",
       "            await google.colab.kernel.invokeFunction('convertToInteractive',\n",
       "                                                     [key], {});\n",
       "          if (!dataTable) return;\n",
       "\n",
       "          const docLinkHtml = 'Like what you see? Visit the ' +\n",
       "            '<a target=\"_blank\" href=https://colab.research.google.com/notebooks/data_table.ipynb>data table notebook</a>'\n",
       "            + ' to learn more about interactive tables.';\n",
       "          element.innerHTML = '';\n",
       "          dataTable['output_type'] = 'display_data';\n",
       "          await google.colab.output.renderOutput(dataTable, element);\n",
       "          const docLink = document.createElement('div');\n",
       "          docLink.innerHTML = docLinkHtml;\n",
       "          element.appendChild(docLink);\n",
       "        }\n",
       "      </script>\n",
       "    </div>\n",
       "  </div>\n",
       "  "
      ],
      "text/plain": [
       "   PassengerId  Survived  Pclass  \\\n",
       "0            1         0       3   \n",
       "1            2         1       1   \n",
       "2            3         1       3   \n",
       "3            4         1       1   \n",
       "4            5         0       3   \n",
       "\n",
       "                                                Name     Sex   Age  SibSp  \\\n",
       "0                            Braund, Mr. Owen Harris    male  22.0      1   \n",
       "1  Cumings, Mrs. John Bradley (Florence Briggs Th...  female  38.0      1   \n",
       "2                             Heikkinen, Miss. Laina  female  26.0      0   \n",
       "3       Futrelle, Mrs. Jacques Heath (Lily May Peel)  female  35.0      1   \n",
       "4                           Allen, Mr. William Henry    male  35.0      0   \n",
       "\n",
       "   Parch            Ticket     Fare Cabin Embarked  Male  Female  \n",
       "0      0         A/5 21171   7.2500   NaN        S     0       1  \n",
       "1      0          PC 17599  71.2833   C85        C     1       0  \n",
       "2      0  STON/O2. 3101282   7.9250   NaN        S     1       0  \n",
       "3      0            113803  53.1000  C123        S     1       0  \n",
       "4      0            373450   8.0500   NaN        S     0       1  "
      ]
     },
     "execution_count": 31,
     "metadata": {},
     "output_type": "execute_result"
    }
   ],
   "source": [
    "df.head()"
   ]
  },
  {
   "cell_type": "code",
   "execution_count": 32,
   "metadata": {
    "executionInfo": {
     "elapsed": 66,
     "status": "ok",
     "timestamp": 1666237624215,
     "user": {
      "displayName": "Mohit Kumar",
      "userId": "03888987891614882912"
     },
     "user_tz": -330
    },
    "id": "IXsqKlG3wkJP"
   },
   "outputs": [],
   "source": [
    "df = df.drop(['Sex'], axis=1)"
   ]
  },
  {
   "cell_type": "markdown",
   "metadata": {
    "id": "fuEdD09K7X-R"
   },
   "source": [
    "### Age Column"
   ]
  },
  {
   "cell_type": "code",
   "execution_count": 33,
   "metadata": {
    "colab": {
     "base_uri": "https://localhost:8080/"
    },
    "executionInfo": {
     "elapsed": 68,
     "status": "ok",
     "timestamp": 1666237624218,
     "user": {
      "displayName": "Mohit Kumar",
      "userId": "03888987891614882912"
     },
     "user_tz": -330
    },
    "id": "mPQY0d2B53cq",
    "outputId": "9a8b5392-d966-4a6d-f2cd-2bf911842a46"
   },
   "outputs": [
    {
     "data": {
      "text/plain": [
       "0      22.0\n",
       "1      38.0\n",
       "2      26.0\n",
       "3      35.0\n",
       "4      35.0\n",
       "       ... \n",
       "886    27.0\n",
       "887    19.0\n",
       "888     NaN\n",
       "889    26.0\n",
       "890    32.0\n",
       "Name: Age, Length: 891, dtype: float64"
      ]
     },
     "execution_count": 33,
     "metadata": {},
     "output_type": "execute_result"
    }
   ],
   "source": [
    "df['Age']"
   ]
  },
  {
   "cell_type": "code",
   "execution_count": 34,
   "metadata": {
    "colab": {
     "base_uri": "https://localhost:8080/"
    },
    "executionInfo": {
     "elapsed": 69,
     "status": "ok",
     "timestamp": 1666237624221,
     "user": {
      "displayName": "Mohit Kumar",
      "userId": "03888987891614882912"
     },
     "user_tz": -330
    },
    "id": "J0D9a8Zu8PrQ",
    "outputId": "1593f4a4-6804-46ab-9a8d-ff0e42a648ac"
   },
   "outputs": [
    {
     "data": {
      "text/plain": [
       "0      False\n",
       "1      False\n",
       "2      False\n",
       "3      False\n",
       "4      False\n",
       "       ...  \n",
       "886    False\n",
       "887    False\n",
       "888     True\n",
       "889    False\n",
       "890    False\n",
       "Name: Age, Length: 891, dtype: bool"
      ]
     },
     "execution_count": 34,
     "metadata": {},
     "output_type": "execute_result"
    }
   ],
   "source": [
    "df['Age'].isnull()"
   ]
  },
  {
   "cell_type": "code",
   "execution_count": 35,
   "metadata": {
    "colab": {
     "base_uri": "https://localhost:8080/"
    },
    "executionInfo": {
     "elapsed": 69,
     "status": "ok",
     "timestamp": 1666237624222,
     "user": {
      "displayName": "Mohit Kumar",
      "userId": "03888987891614882912"
     },
     "user_tz": -330
    },
    "id": "kEAmu5QY8eXx",
    "outputId": "a46f68a2-ecde-4eaa-aa76-d1a57bce8e1e"
   },
   "outputs": [
    {
     "data": {
      "text/plain": [
       "False    714\n",
       "True     177\n",
       "Name: Age, dtype: int64"
      ]
     },
     "execution_count": 35,
     "metadata": {},
     "output_type": "execute_result"
    }
   ],
   "source": [
    "df['Age'].isnull().value_counts()"
   ]
  },
  {
   "cell_type": "code",
   "execution_count": 36,
   "metadata": {
    "executionInfo": {
     "elapsed": 70,
     "status": "ok",
     "timestamp": 1666237624224,
     "user": {
      "displayName": "Mohit Kumar",
      "userId": "03888987891614882912"
     },
     "user_tz": -330
    },
    "id": "gEoAu2c__UZu"
   },
   "outputs": [],
   "source": [
    "df_Age = df.copy()"
   ]
  },
  {
   "cell_type": "code",
   "execution_count": 37,
   "metadata": {
    "colab": {
     "base_uri": "https://localhost:8080/",
     "height": 0
    },
    "executionInfo": {
     "elapsed": 70,
     "status": "ok",
     "timestamp": 1666237624225,
     "user": {
      "displayName": "Mohit Kumar",
      "userId": "03888987891614882912"
     },
     "user_tz": -330
    },
    "id": "sZ-haWoK9hG_",
    "outputId": "3f5079ab-8a43-4c7b-bd99-792e44e60b4d"
   },
   "outputs": [
    {
     "data": {
      "text/html": [
       "\n",
       "  <div id=\"df-910f2c15-dc03-4eeb-92d9-67c449bb1ea8\">\n",
       "    <div class=\"colab-df-container\">\n",
       "      <div>\n",
       "<style scoped>\n",
       "    .dataframe tbody tr th:only-of-type {\n",
       "        vertical-align: middle;\n",
       "    }\n",
       "\n",
       "    .dataframe tbody tr th {\n",
       "        vertical-align: top;\n",
       "    }\n",
       "\n",
       "    .dataframe thead th {\n",
       "        text-align: right;\n",
       "    }\n",
       "</style>\n",
       "<table border=\"1\" class=\"dataframe\">\n",
       "  <thead>\n",
       "    <tr style=\"text-align: right;\">\n",
       "      <th></th>\n",
       "      <th>PassengerId</th>\n",
       "      <th>Survived</th>\n",
       "      <th>Pclass</th>\n",
       "      <th>Name</th>\n",
       "      <th>Age</th>\n",
       "      <th>SibSp</th>\n",
       "      <th>Parch</th>\n",
       "      <th>Ticket</th>\n",
       "      <th>Fare</th>\n",
       "      <th>Cabin</th>\n",
       "      <th>Embarked</th>\n",
       "      <th>Male</th>\n",
       "      <th>Female</th>\n",
       "    </tr>\n",
       "  </thead>\n",
       "  <tbody>\n",
       "    <tr>\n",
       "      <th>0</th>\n",
       "      <td>1</td>\n",
       "      <td>0</td>\n",
       "      <td>3</td>\n",
       "      <td>Braund, Mr. Owen Harris</td>\n",
       "      <td>22.000000</td>\n",
       "      <td>1</td>\n",
       "      <td>0</td>\n",
       "      <td>A/5 21171</td>\n",
       "      <td>7.2500</td>\n",
       "      <td>NaN</td>\n",
       "      <td>S</td>\n",
       "      <td>0</td>\n",
       "      <td>1</td>\n",
       "    </tr>\n",
       "    <tr>\n",
       "      <th>1</th>\n",
       "      <td>2</td>\n",
       "      <td>1</td>\n",
       "      <td>1</td>\n",
       "      <td>Cumings, Mrs. John Bradley (Florence Briggs Th...</td>\n",
       "      <td>38.000000</td>\n",
       "      <td>1</td>\n",
       "      <td>0</td>\n",
       "      <td>PC 17599</td>\n",
       "      <td>71.2833</td>\n",
       "      <td>C85</td>\n",
       "      <td>C</td>\n",
       "      <td>1</td>\n",
       "      <td>0</td>\n",
       "    </tr>\n",
       "    <tr>\n",
       "      <th>2</th>\n",
       "      <td>3</td>\n",
       "      <td>1</td>\n",
       "      <td>3</td>\n",
       "      <td>Heikkinen, Miss. Laina</td>\n",
       "      <td>26.000000</td>\n",
       "      <td>0</td>\n",
       "      <td>0</td>\n",
       "      <td>STON/O2. 3101282</td>\n",
       "      <td>7.9250</td>\n",
       "      <td>NaN</td>\n",
       "      <td>S</td>\n",
       "      <td>1</td>\n",
       "      <td>0</td>\n",
       "    </tr>\n",
       "    <tr>\n",
       "      <th>3</th>\n",
       "      <td>4</td>\n",
       "      <td>1</td>\n",
       "      <td>1</td>\n",
       "      <td>Futrelle, Mrs. Jacques Heath (Lily May Peel)</td>\n",
       "      <td>35.000000</td>\n",
       "      <td>1</td>\n",
       "      <td>0</td>\n",
       "      <td>113803</td>\n",
       "      <td>53.1000</td>\n",
       "      <td>C123</td>\n",
       "      <td>S</td>\n",
       "      <td>1</td>\n",
       "      <td>0</td>\n",
       "    </tr>\n",
       "    <tr>\n",
       "      <th>4</th>\n",
       "      <td>5</td>\n",
       "      <td>0</td>\n",
       "      <td>3</td>\n",
       "      <td>Allen, Mr. William Henry</td>\n",
       "      <td>35.000000</td>\n",
       "      <td>0</td>\n",
       "      <td>0</td>\n",
       "      <td>373450</td>\n",
       "      <td>8.0500</td>\n",
       "      <td>NaN</td>\n",
       "      <td>S</td>\n",
       "      <td>0</td>\n",
       "      <td>1</td>\n",
       "    </tr>\n",
       "    <tr>\n",
       "      <th>...</th>\n",
       "      <td>...</td>\n",
       "      <td>...</td>\n",
       "      <td>...</td>\n",
       "      <td>...</td>\n",
       "      <td>...</td>\n",
       "      <td>...</td>\n",
       "      <td>...</td>\n",
       "      <td>...</td>\n",
       "      <td>...</td>\n",
       "      <td>...</td>\n",
       "      <td>...</td>\n",
       "      <td>...</td>\n",
       "      <td>...</td>\n",
       "    </tr>\n",
       "    <tr>\n",
       "      <th>886</th>\n",
       "      <td>887</td>\n",
       "      <td>0</td>\n",
       "      <td>2</td>\n",
       "      <td>Montvila, Rev. Juozas</td>\n",
       "      <td>27.000000</td>\n",
       "      <td>0</td>\n",
       "      <td>0</td>\n",
       "      <td>211536</td>\n",
       "      <td>13.0000</td>\n",
       "      <td>NaN</td>\n",
       "      <td>S</td>\n",
       "      <td>0</td>\n",
       "      <td>1</td>\n",
       "    </tr>\n",
       "    <tr>\n",
       "      <th>887</th>\n",
       "      <td>888</td>\n",
       "      <td>1</td>\n",
       "      <td>1</td>\n",
       "      <td>Graham, Miss. Margaret Edith</td>\n",
       "      <td>19.000000</td>\n",
       "      <td>0</td>\n",
       "      <td>0</td>\n",
       "      <td>112053</td>\n",
       "      <td>30.0000</td>\n",
       "      <td>B42</td>\n",
       "      <td>S</td>\n",
       "      <td>1</td>\n",
       "      <td>0</td>\n",
       "    </tr>\n",
       "    <tr>\n",
       "      <th>888</th>\n",
       "      <td>889</td>\n",
       "      <td>0</td>\n",
       "      <td>3</td>\n",
       "      <td>Johnston, Miss. Catherine Helen \"Carrie\"</td>\n",
       "      <td>29.699118</td>\n",
       "      <td>1</td>\n",
       "      <td>2</td>\n",
       "      <td>W./C. 6607</td>\n",
       "      <td>23.4500</td>\n",
       "      <td>NaN</td>\n",
       "      <td>S</td>\n",
       "      <td>1</td>\n",
       "      <td>0</td>\n",
       "    </tr>\n",
       "    <tr>\n",
       "      <th>889</th>\n",
       "      <td>890</td>\n",
       "      <td>1</td>\n",
       "      <td>1</td>\n",
       "      <td>Behr, Mr. Karl Howell</td>\n",
       "      <td>26.000000</td>\n",
       "      <td>0</td>\n",
       "      <td>0</td>\n",
       "      <td>111369</td>\n",
       "      <td>30.0000</td>\n",
       "      <td>C148</td>\n",
       "      <td>C</td>\n",
       "      <td>0</td>\n",
       "      <td>1</td>\n",
       "    </tr>\n",
       "    <tr>\n",
       "      <th>890</th>\n",
       "      <td>891</td>\n",
       "      <td>0</td>\n",
       "      <td>3</td>\n",
       "      <td>Dooley, Mr. Patrick</td>\n",
       "      <td>32.000000</td>\n",
       "      <td>0</td>\n",
       "      <td>0</td>\n",
       "      <td>370376</td>\n",
       "      <td>7.7500</td>\n",
       "      <td>NaN</td>\n",
       "      <td>Q</td>\n",
       "      <td>0</td>\n",
       "      <td>1</td>\n",
       "    </tr>\n",
       "  </tbody>\n",
       "</table>\n",
       "<p>891 rows × 13 columns</p>\n",
       "</div>\n",
       "      <button class=\"colab-df-convert\" onclick=\"convertToInteractive('df-910f2c15-dc03-4eeb-92d9-67c449bb1ea8')\"\n",
       "              title=\"Convert this dataframe to an interactive table.\"\n",
       "              style=\"display:none;\">\n",
       "        \n",
       "  <svg xmlns=\"http://www.w3.org/2000/svg\" height=\"24px\"viewBox=\"0 0 24 24\"\n",
       "       width=\"24px\">\n",
       "    <path d=\"M0 0h24v24H0V0z\" fill=\"none\"/>\n",
       "    <path d=\"M18.56 5.44l.94 2.06.94-2.06 2.06-.94-2.06-.94-.94-2.06-.94 2.06-2.06.94zm-11 1L8.5 8.5l.94-2.06 2.06-.94-2.06-.94L8.5 2.5l-.94 2.06-2.06.94zm10 10l.94 2.06.94-2.06 2.06-.94-2.06-.94-.94-2.06-.94 2.06-2.06.94z\"/><path d=\"M17.41 7.96l-1.37-1.37c-.4-.4-.92-.59-1.43-.59-.52 0-1.04.2-1.43.59L10.3 9.45l-7.72 7.72c-.78.78-.78 2.05 0 2.83L4 21.41c.39.39.9.59 1.41.59.51 0 1.02-.2 1.41-.59l7.78-7.78 2.81-2.81c.8-.78.8-2.07 0-2.86zM5.41 20L4 18.59l7.72-7.72 1.47 1.35L5.41 20z\"/>\n",
       "  </svg>\n",
       "      </button>\n",
       "      \n",
       "  <style>\n",
       "    .colab-df-container {\n",
       "      display:flex;\n",
       "      flex-wrap:wrap;\n",
       "      gap: 12px;\n",
       "    }\n",
       "\n",
       "    .colab-df-convert {\n",
       "      background-color: #E8F0FE;\n",
       "      border: none;\n",
       "      border-radius: 50%;\n",
       "      cursor: pointer;\n",
       "      display: none;\n",
       "      fill: #1967D2;\n",
       "      height: 32px;\n",
       "      padding: 0 0 0 0;\n",
       "      width: 32px;\n",
       "    }\n",
       "\n",
       "    .colab-df-convert:hover {\n",
       "      background-color: #E2EBFA;\n",
       "      box-shadow: 0px 1px 2px rgba(60, 64, 67, 0.3), 0px 1px 3px 1px rgba(60, 64, 67, 0.15);\n",
       "      fill: #174EA6;\n",
       "    }\n",
       "\n",
       "    [theme=dark] .colab-df-convert {\n",
       "      background-color: #3B4455;\n",
       "      fill: #D2E3FC;\n",
       "    }\n",
       "\n",
       "    [theme=dark] .colab-df-convert:hover {\n",
       "      background-color: #434B5C;\n",
       "      box-shadow: 0px 1px 3px 1px rgba(0, 0, 0, 0.15);\n",
       "      filter: drop-shadow(0px 1px 2px rgba(0, 0, 0, 0.3));\n",
       "      fill: #FFFFFF;\n",
       "    }\n",
       "  </style>\n",
       "\n",
       "      <script>\n",
       "        const buttonEl =\n",
       "          document.querySelector('#df-910f2c15-dc03-4eeb-92d9-67c449bb1ea8 button.colab-df-convert');\n",
       "        buttonEl.style.display =\n",
       "          google.colab.kernel.accessAllowed ? 'block' : 'none';\n",
       "\n",
       "        async function convertToInteractive(key) {\n",
       "          const element = document.querySelector('#df-910f2c15-dc03-4eeb-92d9-67c449bb1ea8');\n",
       "          const dataTable =\n",
       "            await google.colab.kernel.invokeFunction('convertToInteractive',\n",
       "                                                     [key], {});\n",
       "          if (!dataTable) return;\n",
       "\n",
       "          const docLinkHtml = 'Like what you see? Visit the ' +\n",
       "            '<a target=\"_blank\" href=https://colab.research.google.com/notebooks/data_table.ipynb>data table notebook</a>'\n",
       "            + ' to learn more about interactive tables.';\n",
       "          element.innerHTML = '';\n",
       "          dataTable['output_type'] = 'display_data';\n",
       "          await google.colab.output.renderOutput(dataTable, element);\n",
       "          const docLink = document.createElement('div');\n",
       "          docLink.innerHTML = docLinkHtml;\n",
       "          element.appendChild(docLink);\n",
       "        }\n",
       "      </script>\n",
       "    </div>\n",
       "  </div>\n",
       "  "
      ],
      "text/plain": [
       "     PassengerId  Survived  Pclass  \\\n",
       "0              1         0       3   \n",
       "1              2         1       1   \n",
       "2              3         1       3   \n",
       "3              4         1       1   \n",
       "4              5         0       3   \n",
       "..           ...       ...     ...   \n",
       "886          887         0       2   \n",
       "887          888         1       1   \n",
       "888          889         0       3   \n",
       "889          890         1       1   \n",
       "890          891         0       3   \n",
       "\n",
       "                                                  Name        Age  SibSp  \\\n",
       "0                              Braund, Mr. Owen Harris  22.000000      1   \n",
       "1    Cumings, Mrs. John Bradley (Florence Briggs Th...  38.000000      1   \n",
       "2                               Heikkinen, Miss. Laina  26.000000      0   \n",
       "3         Futrelle, Mrs. Jacques Heath (Lily May Peel)  35.000000      1   \n",
       "4                             Allen, Mr. William Henry  35.000000      0   \n",
       "..                                                 ...        ...    ...   \n",
       "886                              Montvila, Rev. Juozas  27.000000      0   \n",
       "887                       Graham, Miss. Margaret Edith  19.000000      0   \n",
       "888           Johnston, Miss. Catherine Helen \"Carrie\"  29.699118      1   \n",
       "889                              Behr, Mr. Karl Howell  26.000000      0   \n",
       "890                                Dooley, Mr. Patrick  32.000000      0   \n",
       "\n",
       "     Parch            Ticket     Fare Cabin Embarked  Male  Female  \n",
       "0        0         A/5 21171   7.2500   NaN        S     0       1  \n",
       "1        0          PC 17599  71.2833   C85        C     1       0  \n",
       "2        0  STON/O2. 3101282   7.9250   NaN        S     1       0  \n",
       "3        0            113803  53.1000  C123        S     1       0  \n",
       "4        0            373450   8.0500   NaN        S     0       1  \n",
       "..     ...               ...      ...   ...      ...   ...     ...  \n",
       "886      0            211536  13.0000   NaN        S     0       1  \n",
       "887      0            112053  30.0000   B42        S     1       0  \n",
       "888      2        W./C. 6607  23.4500   NaN        S     1       0  \n",
       "889      0            111369  30.0000  C148        C     0       1  \n",
       "890      0            370376   7.7500   NaN        Q     0       1  \n",
       "\n",
       "[891 rows x 13 columns]"
      ]
     },
     "execution_count": 37,
     "metadata": {},
     "output_type": "execute_result"
    }
   ],
   "source": [
    "from numpy import mean\n",
    "df_Age['Age'].fillna((df_Age['Age'].mean()), inplace=True)\n",
    "df_Age"
   ]
  },
  {
   "cell_type": "code",
   "execution_count": 38,
   "metadata": {
    "colab": {
     "base_uri": "https://localhost:8080/"
    },
    "executionInfo": {
     "elapsed": 663,
     "status": "ok",
     "timestamp": 1666237624821,
     "user": {
      "displayName": "Mohit Kumar",
      "userId": "03888987891614882912"
     },
     "user_tz": -330
    },
    "id": "4Sm0Nm1e_beP",
    "outputId": "2dbba4e7-8338-4123-e2d8-bc4ffad8c29d"
   },
   "outputs": [
    {
     "data": {
      "text/plain": [
       "array([22.        , 38.        , 26.        , 35.        , 29.69911765,\n",
       "       54.        ,  2.        , 27.        , 14.        ,  4.        ,\n",
       "       58.        , 20.        , 39.        , 55.        , 31.        ,\n",
       "       34.        , 15.        , 28.        ,  8.        , 19.        ,\n",
       "       40.        , 66.        , 42.        , 21.        , 18.        ,\n",
       "        3.        ,  7.        , 49.        , 29.        , 65.        ,\n",
       "       28.5       ,  5.        , 11.        , 45.        , 17.        ,\n",
       "       32.        , 16.        , 25.        ,  0.83      , 30.        ,\n",
       "       33.        , 23.        , 24.        , 46.        , 59.        ,\n",
       "       71.        , 37.        , 47.        , 14.5       , 70.5       ,\n",
       "       32.5       , 12.        ,  9.        , 36.5       , 51.        ,\n",
       "       55.5       , 40.5       , 44.        ,  1.        , 61.        ,\n",
       "       56.        , 50.        , 36.        , 45.5       , 20.5       ,\n",
       "       62.        , 41.        , 52.        , 63.        , 23.5       ,\n",
       "        0.92      , 43.        , 60.        , 10.        , 64.        ,\n",
       "       13.        , 48.        ,  0.75      , 53.        , 57.        ,\n",
       "       80.        , 70.        , 24.5       ,  6.        ,  0.67      ,\n",
       "       30.5       ,  0.42      , 34.5       , 74.        ])"
      ]
     },
     "execution_count": 38,
     "metadata": {},
     "output_type": "execute_result"
    }
   ],
   "source": [
    "df_Age['Age'].unique()"
   ]
  },
  {
   "cell_type": "code",
   "execution_count": 39,
   "metadata": {
    "executionInfo": {
     "elapsed": 16,
     "status": "ok",
     "timestamp": 1666237624822,
     "user": {
      "displayName": "Mohit Kumar",
      "userId": "03888987891614882912"
     },
     "user_tz": -330
    },
    "id": "Cyk_-0VSAmuf"
   },
   "outputs": [],
   "source": [
    "df = df_Age"
   ]
  },
  {
   "cell_type": "code",
   "execution_count": 40,
   "metadata": {
    "colab": {
     "base_uri": "https://localhost:8080/",
     "height": 0
    },
    "executionInfo": {
     "elapsed": 2783,
     "status": "ok",
     "timestamp": 1666237627592,
     "user": {
      "displayName": "Mohit Kumar",
      "userId": "03888987891614882912"
     },
     "user_tz": -330
    },
    "id": "-hdBoN7eAxS2",
    "outputId": "4213dd4c-944c-401c-ab57-a038842e8dc1"
   },
   "outputs": [
    {
     "name": "stdout",
     "output_type": "stream",
     "text": [
      "[jovian] Detected Colab notebook...\u001b[0m\n",
      "[jovian] Uploading colab notebook to Jovian...\u001b[0m\n",
      "Committed successfully! https://jovian.ai/mohitcnf95/titanic-machine-learning-from-disaster\n"
     ]
    },
    {
     "data": {
      "application/vnd.google.colaboratory.intrinsic+json": {
       "type": "string"
      },
      "text/plain": [
       "'https://jovian.ai/mohitcnf95/titanic-machine-learning-from-disaster'"
      ]
     },
     "execution_count": 40,
     "metadata": {},
     "output_type": "execute_result"
    }
   ],
   "source": [
    "jovian.commit()"
   ]
  },
  {
   "cell_type": "markdown",
   "metadata": {
    "id": "FfPxrEtuBHWP"
   },
   "source": [
    "### No of siblings / spouses aboard the Titanic (sibsp) Column"
   ]
  },
  {
   "cell_type": "code",
   "execution_count": 41,
   "metadata": {
    "colab": {
     "base_uri": "https://localhost:8080/"
    },
    "executionInfo": {
     "elapsed": 35,
     "status": "ok",
     "timestamp": 1666237627594,
     "user": {
      "displayName": "Mohit Kumar",
      "userId": "03888987891614882912"
     },
     "user_tz": -330
    },
    "id": "AjE860h5Az3t",
    "outputId": "e8aa5bef-e9f4-4457-ed89-c2d6abaa946c"
   },
   "outputs": [
    {
     "data": {
      "text/plain": [
       "0      1\n",
       "1      1\n",
       "2      0\n",
       "3      1\n",
       "4      0\n",
       "      ..\n",
       "886    0\n",
       "887    0\n",
       "888    1\n",
       "889    0\n",
       "890    0\n",
       "Name: SibSp, Length: 891, dtype: int64"
      ]
     },
     "execution_count": 41,
     "metadata": {},
     "output_type": "execute_result"
    }
   ],
   "source": [
    "df['SibSp']"
   ]
  },
  {
   "cell_type": "code",
   "execution_count": 42,
   "metadata": {
    "colab": {
     "base_uri": "https://localhost:8080/"
    },
    "executionInfo": {
     "elapsed": 29,
     "status": "ok",
     "timestamp": 1666237627596,
     "user": {
      "displayName": "Mohit Kumar",
      "userId": "03888987891614882912"
     },
     "user_tz": -330
    },
    "id": "C-5TVNgbBYxG",
    "outputId": "79e5c343-cd48-44f8-bd43-61ee0df024dc"
   },
   "outputs": [
    {
     "data": {
      "text/plain": [
       "array([1, 0, 3, 4, 2, 5, 8])"
      ]
     },
     "execution_count": 42,
     "metadata": {},
     "output_type": "execute_result"
    }
   ],
   "source": [
    "df['SibSp'].unique()"
   ]
  },
  {
   "cell_type": "markdown",
   "metadata": {
    "id": "Y-hyf-SwB3Ek"
   },
   "source": [
    "### No of parents / children aboard the Titanic (Parch) Column"
   ]
  },
  {
   "cell_type": "code",
   "execution_count": 43,
   "metadata": {
    "colab": {
     "base_uri": "https://localhost:8080/"
    },
    "executionInfo": {
     "elapsed": 29,
     "status": "ok",
     "timestamp": 1666237627599,
     "user": {
      "displayName": "Mohit Kumar",
      "userId": "03888987891614882912"
     },
     "user_tz": -330
    },
    "id": "BWyUeDPkBlO6",
    "outputId": "08359d10-c325-4dea-f50e-6c247a307ff2"
   },
   "outputs": [
    {
     "data": {
      "text/plain": [
       "0      0\n",
       "1      0\n",
       "2      0\n",
       "3      0\n",
       "4      0\n",
       "      ..\n",
       "886    0\n",
       "887    0\n",
       "888    2\n",
       "889    0\n",
       "890    0\n",
       "Name: Parch, Length: 891, dtype: int64"
      ]
     },
     "execution_count": 43,
     "metadata": {},
     "output_type": "execute_result"
    }
   ],
   "source": [
    "df['Parch']"
   ]
  },
  {
   "cell_type": "code",
   "execution_count": 44,
   "metadata": {
    "colab": {
     "base_uri": "https://localhost:8080/"
    },
    "executionInfo": {
     "elapsed": 26,
     "status": "ok",
     "timestamp": 1666237627600,
     "user": {
      "displayName": "Mohit Kumar",
      "userId": "03888987891614882912"
     },
     "user_tz": -330
    },
    "id": "oyN-vxYBB-6U",
    "outputId": "af5bb084-3b03-473e-c6ca-21f262f8d1d7"
   },
   "outputs": [
    {
     "data": {
      "text/plain": [
       "array([0, 1, 2, 5, 3, 4, 6])"
      ]
     },
     "execution_count": 44,
     "metadata": {},
     "output_type": "execute_result"
    }
   ],
   "source": [
    "df['Parch'].unique()"
   ]
  },
  {
   "cell_type": "code",
   "execution_count": 45,
   "metadata": {
    "colab": {
     "base_uri": "https://localhost:8080/",
     "height": 0
    },
    "executionInfo": {
     "elapsed": 1980,
     "status": "ok",
     "timestamp": 1666237629557,
     "user": {
      "displayName": "Mohit Kumar",
      "userId": "03888987891614882912"
     },
     "user_tz": -330
    },
    "id": "NTnykTybDIGW",
    "outputId": "86d70df7-8018-4dfa-8b3b-506d389f416e"
   },
   "outputs": [
    {
     "name": "stdout",
     "output_type": "stream",
     "text": [
      "[jovian] Detected Colab notebook...\u001b[0m\n",
      "[jovian] Uploading colab notebook to Jovian...\u001b[0m\n",
      "Committed successfully! https://jovian.ai/mohitcnf95/titanic-machine-learning-from-disaster\n"
     ]
    },
    {
     "data": {
      "application/vnd.google.colaboratory.intrinsic+json": {
       "type": "string"
      },
      "text/plain": [
       "'https://jovian.ai/mohitcnf95/titanic-machine-learning-from-disaster'"
      ]
     },
     "execution_count": 45,
     "metadata": {},
     "output_type": "execute_result"
    }
   ],
   "source": [
    "jovian.commit()"
   ]
  },
  {
   "cell_type": "markdown",
   "metadata": {
    "id": "VCKOgpVvClU9"
   },
   "source": [
    "### Fare Column"
   ]
  },
  {
   "cell_type": "code",
   "execution_count": 46,
   "metadata": {
    "colab": {
     "base_uri": "https://localhost:8080/"
    },
    "executionInfo": {
     "elapsed": 67,
     "status": "ok",
     "timestamp": 1666237629560,
     "user": {
      "displayName": "Mohit Kumar",
      "userId": "03888987891614882912"
     },
     "user_tz": -330
    },
    "id": "ICbHclQfCMml",
    "outputId": "fbd2a9e2-412b-4ba2-e981-0b680064effc"
   },
   "outputs": [
    {
     "data": {
      "text/plain": [
       "0       7.2500\n",
       "1      71.2833\n",
       "2       7.9250\n",
       "3      53.1000\n",
       "4       8.0500\n",
       "        ...   \n",
       "886    13.0000\n",
       "887    30.0000\n",
       "888    23.4500\n",
       "889    30.0000\n",
       "890     7.7500\n",
       "Name: Fare, Length: 891, dtype: float64"
      ]
     },
     "execution_count": 46,
     "metadata": {},
     "output_type": "execute_result"
    }
   ],
   "source": [
    "df['Fare']"
   ]
  },
  {
   "cell_type": "code",
   "execution_count": 47,
   "metadata": {
    "colab": {
     "base_uri": "https://localhost:8080/"
    },
    "executionInfo": {
     "elapsed": 66,
     "status": "ok",
     "timestamp": 1666237629564,
     "user": {
      "displayName": "Mohit Kumar",
      "userId": "03888987891614882912"
     },
     "user_tz": -330
    },
    "id": "4NKbS2qtC57e",
    "outputId": "190eff67-a52b-4b3b-886d-90c75de65238"
   },
   "outputs": [
    {
     "data": {
      "text/plain": [
       "array([  7.25  ,  71.2833,   7.925 ,  53.1   ,   8.05  ,   8.4583,\n",
       "        51.8625,  21.075 ,  11.1333,  30.0708,  16.7   ,  26.55  ,\n",
       "        31.275 ,   7.8542,  16.    ,  29.125 ,  13.    ,  18.    ,\n",
       "         7.225 ,  26.    ,   8.0292,  35.5   ,  31.3875, 263.    ,\n",
       "         7.8792,   7.8958,  27.7208, 146.5208,   7.75  ,  10.5   ,\n",
       "        82.1708,  52.    ,   7.2292,  11.2417,   9.475 ,  21.    ,\n",
       "        41.5792,  15.5   ,  21.6792,  17.8   ,  39.6875,   7.8   ,\n",
       "        76.7292,  61.9792,  27.75  ,  46.9   ,  80.    ,  83.475 ,\n",
       "        27.9   ,  15.2458,   8.1583,   8.6625,  73.5   ,  14.4542,\n",
       "        56.4958,   7.65  ,  29.    ,  12.475 ,   9.    ,   9.5   ,\n",
       "         7.7875,  47.1   ,  15.85  ,  34.375 ,  61.175 ,  20.575 ,\n",
       "        34.6542,  63.3583,  23.    ,  77.2875,   8.6542,   7.775 ,\n",
       "        24.15  ,   9.825 ,  14.4583, 247.5208,   7.1417,  22.3583,\n",
       "         6.975 ,   7.05  ,  14.5   ,  15.0458,  26.2833,   9.2167,\n",
       "        79.2   ,   6.75  ,  11.5   ,  36.75  ,   7.7958,  12.525 ,\n",
       "        66.6   ,   7.3125,  61.3792,   7.7333,  69.55  ,  16.1   ,\n",
       "        15.75  ,  20.525 ,  55.    ,  25.925 ,  33.5   ,  30.6958,\n",
       "        25.4667,  28.7125,   0.    ,  15.05  ,  39.    ,  22.025 ,\n",
       "        50.    ,   8.4042,   6.4958,  10.4625,  18.7875,  31.    ,\n",
       "       113.275 ,  27.    ,  76.2917,  90.    ,   9.35  ,  13.5   ,\n",
       "         7.55  ,  26.25  ,  12.275 ,   7.125 ,  52.5542,  20.2125,\n",
       "        86.5   , 512.3292,  79.65  , 153.4625, 135.6333,  19.5   ,\n",
       "        29.7   ,  77.9583,  20.25  ,  78.85  ,  91.0792,  12.875 ,\n",
       "         8.85  , 151.55  ,  30.5   ,  23.25  ,  12.35  , 110.8833,\n",
       "       108.9   ,  24.    ,  56.9292,  83.1583, 262.375 ,  14.    ,\n",
       "       164.8667, 134.5   ,   6.2375,  57.9792,  28.5   , 133.65  ,\n",
       "        15.9   ,   9.225 ,  35.    ,  75.25  ,  69.3   ,  55.4417,\n",
       "       211.5   ,   4.0125, 227.525 ,  15.7417,   7.7292,  12.    ,\n",
       "       120.    ,  12.65  ,  18.75  ,   6.8583,  32.5   ,   7.875 ,\n",
       "        14.4   ,  55.9   ,   8.1125,  81.8583,  19.2583,  19.9667,\n",
       "        89.1042,  38.5   ,   7.725 ,  13.7917,   9.8375,   7.0458,\n",
       "         7.5208,  12.2875,   9.5875,  49.5042,  78.2667,  15.1   ,\n",
       "         7.6292,  22.525 ,  26.2875,  59.4   ,   7.4958,  34.0208,\n",
       "        93.5   , 221.7792, 106.425 ,  49.5   ,  71.    ,  13.8625,\n",
       "         7.8292,  39.6   ,  17.4   ,  51.4792,  26.3875,  30.    ,\n",
       "        40.125 ,   8.7125,  15.    ,  33.    ,  42.4   ,  15.55  ,\n",
       "        65.    ,  32.3208,   7.0542,   8.4333,  25.5875,   9.8417,\n",
       "         8.1375,  10.1708, 211.3375,  57.    ,  13.4167,   7.7417,\n",
       "         9.4833,   7.7375,   8.3625,  23.45  ,  25.9292,   8.6833,\n",
       "         8.5167,   7.8875,  37.0042,   6.45  ,   6.95  ,   8.3   ,\n",
       "         6.4375,  39.4   ,  14.1083,  13.8583,  50.4958,   5.    ,\n",
       "         9.8458,  10.5167])"
      ]
     },
     "execution_count": 47,
     "metadata": {},
     "output_type": "execute_result"
    }
   ],
   "source": [
    "df['Fare'].unique()"
   ]
  },
  {
   "cell_type": "code",
   "execution_count": 48,
   "metadata": {
    "colab": {
     "base_uri": "https://localhost:8080/",
     "height": 0
    },
    "executionInfo": {
     "elapsed": 65,
     "status": "ok",
     "timestamp": 1666237629566,
     "user": {
      "displayName": "Mohit Kumar",
      "userId": "03888987891614882912"
     },
     "user_tz": -330
    },
    "id": "fJdVF9geC94t",
    "outputId": "66cdeec7-a033-439c-c5b5-639cb17362e8"
   },
   "outputs": [
    {
     "data": {
      "text/html": [
       "\n",
       "  <div id=\"df-1d23c937-df17-472f-aec1-832d7bda93fb\">\n",
       "    <div class=\"colab-df-container\">\n",
       "      <div>\n",
       "<style scoped>\n",
       "    .dataframe tbody tr th:only-of-type {\n",
       "        vertical-align: middle;\n",
       "    }\n",
       "\n",
       "    .dataframe tbody tr th {\n",
       "        vertical-align: top;\n",
       "    }\n",
       "\n",
       "    .dataframe thead th {\n",
       "        text-align: right;\n",
       "    }\n",
       "</style>\n",
       "<table border=\"1\" class=\"dataframe\">\n",
       "  <thead>\n",
       "    <tr style=\"text-align: right;\">\n",
       "      <th></th>\n",
       "      <th>PassengerId</th>\n",
       "      <th>Survived</th>\n",
       "      <th>Pclass</th>\n",
       "      <th>Name</th>\n",
       "      <th>Age</th>\n",
       "      <th>SibSp</th>\n",
       "      <th>Parch</th>\n",
       "      <th>Ticket</th>\n",
       "      <th>Fare</th>\n",
       "      <th>Cabin</th>\n",
       "      <th>Embarked</th>\n",
       "      <th>Male</th>\n",
       "      <th>Female</th>\n",
       "    </tr>\n",
       "  </thead>\n",
       "  <tbody>\n",
       "    <tr>\n",
       "      <th>0</th>\n",
       "      <td>1</td>\n",
       "      <td>0</td>\n",
       "      <td>3</td>\n",
       "      <td>Braund, Mr. Owen Harris</td>\n",
       "      <td>22.0</td>\n",
       "      <td>1</td>\n",
       "      <td>0</td>\n",
       "      <td>A/5 21171</td>\n",
       "      <td>7.2500</td>\n",
       "      <td>NaN</td>\n",
       "      <td>S</td>\n",
       "      <td>0</td>\n",
       "      <td>1</td>\n",
       "    </tr>\n",
       "    <tr>\n",
       "      <th>1</th>\n",
       "      <td>2</td>\n",
       "      <td>1</td>\n",
       "      <td>1</td>\n",
       "      <td>Cumings, Mrs. John Bradley (Florence Briggs Th...</td>\n",
       "      <td>38.0</td>\n",
       "      <td>1</td>\n",
       "      <td>0</td>\n",
       "      <td>PC 17599</td>\n",
       "      <td>71.2833</td>\n",
       "      <td>C85</td>\n",
       "      <td>C</td>\n",
       "      <td>1</td>\n",
       "      <td>0</td>\n",
       "    </tr>\n",
       "    <tr>\n",
       "      <th>2</th>\n",
       "      <td>3</td>\n",
       "      <td>1</td>\n",
       "      <td>3</td>\n",
       "      <td>Heikkinen, Miss. Laina</td>\n",
       "      <td>26.0</td>\n",
       "      <td>0</td>\n",
       "      <td>0</td>\n",
       "      <td>STON/O2. 3101282</td>\n",
       "      <td>7.9250</td>\n",
       "      <td>NaN</td>\n",
       "      <td>S</td>\n",
       "      <td>1</td>\n",
       "      <td>0</td>\n",
       "    </tr>\n",
       "    <tr>\n",
       "      <th>3</th>\n",
       "      <td>4</td>\n",
       "      <td>1</td>\n",
       "      <td>1</td>\n",
       "      <td>Futrelle, Mrs. Jacques Heath (Lily May Peel)</td>\n",
       "      <td>35.0</td>\n",
       "      <td>1</td>\n",
       "      <td>0</td>\n",
       "      <td>113803</td>\n",
       "      <td>53.1000</td>\n",
       "      <td>C123</td>\n",
       "      <td>S</td>\n",
       "      <td>1</td>\n",
       "      <td>0</td>\n",
       "    </tr>\n",
       "    <tr>\n",
       "      <th>4</th>\n",
       "      <td>5</td>\n",
       "      <td>0</td>\n",
       "      <td>3</td>\n",
       "      <td>Allen, Mr. William Henry</td>\n",
       "      <td>35.0</td>\n",
       "      <td>0</td>\n",
       "      <td>0</td>\n",
       "      <td>373450</td>\n",
       "      <td>8.0500</td>\n",
       "      <td>NaN</td>\n",
       "      <td>S</td>\n",
       "      <td>0</td>\n",
       "      <td>1</td>\n",
       "    </tr>\n",
       "  </tbody>\n",
       "</table>\n",
       "</div>\n",
       "      <button class=\"colab-df-convert\" onclick=\"convertToInteractive('df-1d23c937-df17-472f-aec1-832d7bda93fb')\"\n",
       "              title=\"Convert this dataframe to an interactive table.\"\n",
       "              style=\"display:none;\">\n",
       "        \n",
       "  <svg xmlns=\"http://www.w3.org/2000/svg\" height=\"24px\"viewBox=\"0 0 24 24\"\n",
       "       width=\"24px\">\n",
       "    <path d=\"M0 0h24v24H0V0z\" fill=\"none\"/>\n",
       "    <path d=\"M18.56 5.44l.94 2.06.94-2.06 2.06-.94-2.06-.94-.94-2.06-.94 2.06-2.06.94zm-11 1L8.5 8.5l.94-2.06 2.06-.94-2.06-.94L8.5 2.5l-.94 2.06-2.06.94zm10 10l.94 2.06.94-2.06 2.06-.94-2.06-.94-.94-2.06-.94 2.06-2.06.94z\"/><path d=\"M17.41 7.96l-1.37-1.37c-.4-.4-.92-.59-1.43-.59-.52 0-1.04.2-1.43.59L10.3 9.45l-7.72 7.72c-.78.78-.78 2.05 0 2.83L4 21.41c.39.39.9.59 1.41.59.51 0 1.02-.2 1.41-.59l7.78-7.78 2.81-2.81c.8-.78.8-2.07 0-2.86zM5.41 20L4 18.59l7.72-7.72 1.47 1.35L5.41 20z\"/>\n",
       "  </svg>\n",
       "      </button>\n",
       "      \n",
       "  <style>\n",
       "    .colab-df-container {\n",
       "      display:flex;\n",
       "      flex-wrap:wrap;\n",
       "      gap: 12px;\n",
       "    }\n",
       "\n",
       "    .colab-df-convert {\n",
       "      background-color: #E8F0FE;\n",
       "      border: none;\n",
       "      border-radius: 50%;\n",
       "      cursor: pointer;\n",
       "      display: none;\n",
       "      fill: #1967D2;\n",
       "      height: 32px;\n",
       "      padding: 0 0 0 0;\n",
       "      width: 32px;\n",
       "    }\n",
       "\n",
       "    .colab-df-convert:hover {\n",
       "      background-color: #E2EBFA;\n",
       "      box-shadow: 0px 1px 2px rgba(60, 64, 67, 0.3), 0px 1px 3px 1px rgba(60, 64, 67, 0.15);\n",
       "      fill: #174EA6;\n",
       "    }\n",
       "\n",
       "    [theme=dark] .colab-df-convert {\n",
       "      background-color: #3B4455;\n",
       "      fill: #D2E3FC;\n",
       "    }\n",
       "\n",
       "    [theme=dark] .colab-df-convert:hover {\n",
       "      background-color: #434B5C;\n",
       "      box-shadow: 0px 1px 3px 1px rgba(0, 0, 0, 0.15);\n",
       "      filter: drop-shadow(0px 1px 2px rgba(0, 0, 0, 0.3));\n",
       "      fill: #FFFFFF;\n",
       "    }\n",
       "  </style>\n",
       "\n",
       "      <script>\n",
       "        const buttonEl =\n",
       "          document.querySelector('#df-1d23c937-df17-472f-aec1-832d7bda93fb button.colab-df-convert');\n",
       "        buttonEl.style.display =\n",
       "          google.colab.kernel.accessAllowed ? 'block' : 'none';\n",
       "\n",
       "        async function convertToInteractive(key) {\n",
       "          const element = document.querySelector('#df-1d23c937-df17-472f-aec1-832d7bda93fb');\n",
       "          const dataTable =\n",
       "            await google.colab.kernel.invokeFunction('convertToInteractive',\n",
       "                                                     [key], {});\n",
       "          if (!dataTable) return;\n",
       "\n",
       "          const docLinkHtml = 'Like what you see? Visit the ' +\n",
       "            '<a target=\"_blank\" href=https://colab.research.google.com/notebooks/data_table.ipynb>data table notebook</a>'\n",
       "            + ' to learn more about interactive tables.';\n",
       "          element.innerHTML = '';\n",
       "          dataTable['output_type'] = 'display_data';\n",
       "          await google.colab.output.renderOutput(dataTable, element);\n",
       "          const docLink = document.createElement('div');\n",
       "          docLink.innerHTML = docLinkHtml;\n",
       "          element.appendChild(docLink);\n",
       "        }\n",
       "      </script>\n",
       "    </div>\n",
       "  </div>\n",
       "  "
      ],
      "text/plain": [
       "   PassengerId  Survived  Pclass  \\\n",
       "0            1         0       3   \n",
       "1            2         1       1   \n",
       "2            3         1       3   \n",
       "3            4         1       1   \n",
       "4            5         0       3   \n",
       "\n",
       "                                                Name   Age  SibSp  Parch  \\\n",
       "0                            Braund, Mr. Owen Harris  22.0      1      0   \n",
       "1  Cumings, Mrs. John Bradley (Florence Briggs Th...  38.0      1      0   \n",
       "2                             Heikkinen, Miss. Laina  26.0      0      0   \n",
       "3       Futrelle, Mrs. Jacques Heath (Lily May Peel)  35.0      1      0   \n",
       "4                           Allen, Mr. William Henry  35.0      0      0   \n",
       "\n",
       "             Ticket     Fare Cabin Embarked  Male  Female  \n",
       "0         A/5 21171   7.2500   NaN        S     0       1  \n",
       "1          PC 17599  71.2833   C85        C     1       0  \n",
       "2  STON/O2. 3101282   7.9250   NaN        S     1       0  \n",
       "3            113803  53.1000  C123        S     1       0  \n",
       "4            373450   8.0500   NaN        S     0       1  "
      ]
     },
     "execution_count": 48,
     "metadata": {},
     "output_type": "execute_result"
    }
   ],
   "source": [
    "df.head()"
   ]
  },
  {
   "cell_type": "markdown",
   "metadata": {
    "id": "yRZN4bdfjdc4"
   },
   "source": [
    "### Cabin Column"
   ]
  },
  {
   "cell_type": "code",
   "execution_count": 49,
   "metadata": {
    "colab": {
     "base_uri": "https://localhost:8080/"
    },
    "executionInfo": {
     "elapsed": 66,
     "status": "ok",
     "timestamp": 1666237629569,
     "user": {
      "displayName": "Mohit Kumar",
      "userId": "03888987891614882912"
     },
     "user_tz": -330
    },
    "id": "ALtThajkjYWH",
    "outputId": "28c36110-d554-453e-f7b9-ceca8e8b03a9"
   },
   "outputs": [
    {
     "data": {
      "text/plain": [
       "0       NaN\n",
       "1       C85\n",
       "2       NaN\n",
       "3      C123\n",
       "4       NaN\n",
       "       ... \n",
       "886     NaN\n",
       "887     B42\n",
       "888     NaN\n",
       "889    C148\n",
       "890     NaN\n",
       "Name: Cabin, Length: 891, dtype: object"
      ]
     },
     "execution_count": 49,
     "metadata": {},
     "output_type": "execute_result"
    }
   ],
   "source": [
    "df['Cabin']"
   ]
  },
  {
   "cell_type": "code",
   "execution_count": 50,
   "metadata": {
    "colab": {
     "base_uri": "https://localhost:8080/"
    },
    "executionInfo": {
     "elapsed": 63,
     "status": "ok",
     "timestamp": 1666237629570,
     "user": {
      "displayName": "Mohit Kumar",
      "userId": "03888987891614882912"
     },
     "user_tz": -330
    },
    "id": "fFk5R-5tleF5",
    "outputId": "843532b2-e1ff-4019-b7f2-8c07234493b4"
   },
   "outputs": [
    {
     "data": {
      "text/plain": [
       "array([nan, 'C85', 'C123', 'E46', 'G6', 'C103', 'D56', 'A6',\n",
       "       'C23 C25 C27', 'B78', 'D33', 'B30', 'C52', 'B28', 'C83', 'F33',\n",
       "       'F G73', 'E31', 'A5', 'D10 D12', 'D26', 'C110', 'B58 B60', 'E101',\n",
       "       'F E69', 'D47', 'B86', 'F2', 'C2', 'E33', 'B19', 'A7', 'C49', 'F4',\n",
       "       'A32', 'B4', 'B80', 'A31', 'D36', 'D15', 'C93', 'C78', 'D35',\n",
       "       'C87', 'B77', 'E67', 'B94', 'C125', 'C99', 'C118', 'D7', 'A19',\n",
       "       'B49', 'D', 'C22 C26', 'C106', 'C65', 'E36', 'C54',\n",
       "       'B57 B59 B63 B66', 'C7', 'E34', 'C32', 'B18', 'C124', 'C91', 'E40',\n",
       "       'T', 'C128', 'D37', 'B35', 'E50', 'C82', 'B96 B98', 'E10', 'E44',\n",
       "       'A34', 'C104', 'C111', 'C92', 'E38', 'D21', 'E12', 'E63', 'A14',\n",
       "       'B37', 'C30', 'D20', 'B79', 'E25', 'D46', 'B73', 'C95', 'B38',\n",
       "       'B39', 'B22', 'C86', 'C70', 'A16', 'C101', 'C68', 'A10', 'E68',\n",
       "       'B41', 'A20', 'D19', 'D50', 'D9', 'A23', 'B50', 'A26', 'D48',\n",
       "       'E58', 'C126', 'B71', 'B51 B53 B55', 'D49', 'B5', 'B20', 'F G63',\n",
       "       'C62 C64', 'E24', 'C90', 'C45', 'E8', 'B101', 'D45', 'C46', 'D30',\n",
       "       'E121', 'D11', 'E77', 'F38', 'B3', 'D6', 'B82 B84', 'D17', 'A36',\n",
       "       'B102', 'B69', 'E49', 'C47', 'D28', 'E17', 'A24', 'C50', 'B42',\n",
       "       'C148'], dtype=object)"
      ]
     },
     "execution_count": 50,
     "metadata": {},
     "output_type": "execute_result"
    }
   ],
   "source": [
    "df['Cabin'].unique()"
   ]
  },
  {
   "cell_type": "code",
   "execution_count": 51,
   "metadata": {
    "executionInfo": {
     "elapsed": 59,
     "status": "ok",
     "timestamp": 1666237629571,
     "user": {
      "displayName": "Mohit Kumar",
      "userId": "03888987891614882912"
     },
     "user_tz": -330
    },
    "id": "Dng8o4Y5kFdx"
   },
   "outputs": [],
   "source": [
    "df_cabin = df['Cabin'].isnull()"
   ]
  },
  {
   "cell_type": "code",
   "execution_count": 52,
   "metadata": {
    "colab": {
     "base_uri": "https://localhost:8080/"
    },
    "executionInfo": {
     "elapsed": 57,
     "status": "ok",
     "timestamp": 1666237629572,
     "user": {
      "displayName": "Mohit Kumar",
      "userId": "03888987891614882912"
     },
     "user_tz": -330
    },
    "id": "gIcRQOl5k5DY",
    "outputId": "ca38befd-f59c-4c23-df85-620501bf3751"
   },
   "outputs": [
    {
     "data": {
      "text/plain": [
       "687"
      ]
     },
     "execution_count": 52,
     "metadata": {},
     "output_type": "execute_result"
    }
   ],
   "source": [
    "df_cabin.astype(int).sum()"
   ]
  },
  {
   "cell_type": "markdown",
   "metadata": {
    "id": "yVSnK4PWnCZG"
   },
   "source": [
    "### Embarked Column"
   ]
  },
  {
   "cell_type": "code",
   "execution_count": 53,
   "metadata": {
    "colab": {
     "base_uri": "https://localhost:8080/"
    },
    "executionInfo": {
     "elapsed": 56,
     "status": "ok",
     "timestamp": 1666237629574,
     "user": {
      "displayName": "Mohit Kumar",
      "userId": "03888987891614882912"
     },
     "user_tz": -330
    },
    "id": "Jy08B5fzjpJd",
    "outputId": "7012eea9-674f-4ba9-e6ca-904f391d7e9f"
   },
   "outputs": [
    {
     "data": {
      "text/plain": [
       "0      S\n",
       "1      C\n",
       "2      S\n",
       "3      S\n",
       "4      S\n",
       "      ..\n",
       "886    S\n",
       "887    S\n",
       "888    S\n",
       "889    C\n",
       "890    Q\n",
       "Name: Embarked, Length: 891, dtype: object"
      ]
     },
     "execution_count": 53,
     "metadata": {},
     "output_type": "execute_result"
    }
   ],
   "source": [
    "df['Embarked']"
   ]
  },
  {
   "cell_type": "code",
   "execution_count": 54,
   "metadata": {
    "colab": {
     "base_uri": "https://localhost:8080/"
    },
    "executionInfo": {
     "elapsed": 56,
     "status": "ok",
     "timestamp": 1666237629577,
     "user": {
      "displayName": "Mohit Kumar",
      "userId": "03888987891614882912"
     },
     "user_tz": -330
    },
    "id": "Ie1_SLByoLJi",
    "outputId": "1dfb8006-34a4-4013-f9f8-05105e3f2010"
   },
   "outputs": [
    {
     "data": {
      "text/plain": [
       "array(['S', 'C', 'Q', nan], dtype=object)"
      ]
     },
     "execution_count": 54,
     "metadata": {},
     "output_type": "execute_result"
    }
   ],
   "source": [
    "df['Embarked'].unique()"
   ]
  },
  {
   "cell_type": "code",
   "execution_count": 55,
   "metadata": {
    "colab": {
     "base_uri": "https://localhost:8080/"
    },
    "executionInfo": {
     "elapsed": 55,
     "status": "ok",
     "timestamp": 1666237629579,
     "user": {
      "displayName": "Mohit Kumar",
      "userId": "03888987891614882912"
     },
     "user_tz": -330
    },
    "id": "pHifAQsKnIbz",
    "outputId": "0deb93ed-7a4b-48f5-e4af-29d0364afab8"
   },
   "outputs": [
    {
     "data": {
      "text/plain": [
       "0      False\n",
       "1      False\n",
       "2      False\n",
       "3      False\n",
       "4      False\n",
       "       ...  \n",
       "886    False\n",
       "887    False\n",
       "888    False\n",
       "889    False\n",
       "890    False\n",
       "Name: Embarked, Length: 891, dtype: bool"
      ]
     },
     "execution_count": 55,
     "metadata": {},
     "output_type": "execute_result"
    }
   ],
   "source": [
    "df_emb = df['Embarked'].isnull()\n",
    "df_emb"
   ]
  },
  {
   "cell_type": "code",
   "execution_count": 56,
   "metadata": {
    "executionInfo": {
     "elapsed": 52,
     "status": "ok",
     "timestamp": 1666237629580,
     "user": {
      "displayName": "Mohit Kumar",
      "userId": "03888987891614882912"
     },
     "user_tz": -330
    },
    "id": "iYAlxPdgp5Cp"
   },
   "outputs": [],
   "source": [
    "import numpy as np"
   ]
  },
  {
   "cell_type": "code",
   "execution_count": 57,
   "metadata": {
    "executionInfo": {
     "elapsed": 52,
     "status": "ok",
     "timestamp": 1666237629582,
     "user": {
      "displayName": "Mohit Kumar",
      "userId": "03888987891614882912"
     },
     "user_tz": -330
    },
    "id": "6lLdf5ocoEDi"
   },
   "outputs": [],
   "source": [
    "unique, frequency = np.unique(df_emb, \n",
    "                              return_counts = True)"
   ]
  },
  {
   "cell_type": "code",
   "execution_count": 58,
   "metadata": {
    "colab": {
     "base_uri": "https://localhost:8080/"
    },
    "executionInfo": {
     "elapsed": 54,
     "status": "ok",
     "timestamp": 1666237629585,
     "user": {
      "displayName": "Mohit Kumar",
      "userId": "03888987891614882912"
     },
     "user_tz": -330
    },
    "id": "CQVPqE45os9h",
    "outputId": "387d8d94-2cd3-4b96-dfa0-2aceed45ada6"
   },
   "outputs": [
    {
     "name": "stdout",
     "output_type": "stream",
     "text": [
      "[[  0   1]\n",
      " [889   2]]\n"
     ]
    }
   ],
   "source": [
    "count = np.asarray((unique, frequency ))\n",
    "print(count)"
   ]
  },
  {
   "cell_type": "code",
   "execution_count": 59,
   "metadata": {
    "colab": {
     "base_uri": "https://localhost:8080/"
    },
    "executionInfo": {
     "elapsed": 54,
     "status": "ok",
     "timestamp": 1666237629587,
     "user": {
      "displayName": "Mohit Kumar",
      "userId": "03888987891614882912"
     },
     "user_tz": -330
    },
    "id": "lOVbVDg5p80_",
    "outputId": "11cac110-047b-48ad-dff8-50a6f375424b"
   },
   "outputs": [
    {
     "data": {
      "text/plain": [
       "str"
      ]
     },
     "execution_count": 59,
     "metadata": {},
     "output_type": "execute_result"
    }
   ],
   "source": [
    "type(df['Embarked'][0])"
   ]
  },
  {
   "cell_type": "code",
   "execution_count": 60,
   "metadata": {
    "executionInfo": {
     "elapsed": 608,
     "status": "ok",
     "timestamp": 1666237630142,
     "user": {
      "displayName": "Mohit Kumar",
      "userId": "03888987891614882912"
     },
     "user_tz": -330
    },
    "id": "c_qVeJD4qn_N"
   },
   "outputs": [],
   "source": [
    "df['Embarked'] = df['Embarked'].astype('category')"
   ]
  },
  {
   "cell_type": "code",
   "execution_count": 61,
   "metadata": {
    "colab": {
     "base_uri": "https://localhost:8080/"
    },
    "executionInfo": {
     "elapsed": 51,
     "status": "ok",
     "timestamp": 1666237630146,
     "user": {
      "displayName": "Mohit Kumar",
      "userId": "03888987891614882912"
     },
     "user_tz": -330
    },
    "id": "Ui7opxfSq6wC",
    "outputId": "764b116e-0606-4bdd-b110-095c7bcc0752"
   },
   "outputs": [
    {
     "data": {
      "text/plain": [
       "str"
      ]
     },
     "execution_count": 61,
     "metadata": {},
     "output_type": "execute_result"
    }
   ],
   "source": [
    "type(df['Embarked'][0])"
   ]
  },
  {
   "cell_type": "code",
   "execution_count": 62,
   "metadata": {
    "executionInfo": {
     "elapsed": 41,
     "status": "ok",
     "timestamp": 1666237630147,
     "user": {
      "displayName": "Mohit Kumar",
      "userId": "03888987891614882912"
     },
     "user_tz": -330
    },
    "id": "4x9C6TB2q8S5"
   },
   "outputs": [],
   "source": [
    "Embark = pd.get_dummies(df['Embarked'])"
   ]
  },
  {
   "cell_type": "code",
   "execution_count": 63,
   "metadata": {
    "colab": {
     "base_uri": "https://localhost:8080/",
     "height": 0
    },
    "executionInfo": {
     "elapsed": 41,
     "status": "ok",
     "timestamp": 1666237630148,
     "user": {
      "displayName": "Mohit Kumar",
      "userId": "03888987891614882912"
     },
     "user_tz": -330
    },
    "id": "CmvFdJPhsTfg",
    "outputId": "4742244b-d206-4323-eefe-ff41ee6db8e1"
   },
   "outputs": [
    {
     "data": {
      "text/html": [
       "\n",
       "  <div id=\"df-35584f5d-977f-4325-94ad-a34f950a27b7\">\n",
       "    <div class=\"colab-df-container\">\n",
       "      <div>\n",
       "<style scoped>\n",
       "    .dataframe tbody tr th:only-of-type {\n",
       "        vertical-align: middle;\n",
       "    }\n",
       "\n",
       "    .dataframe tbody tr th {\n",
       "        vertical-align: top;\n",
       "    }\n",
       "\n",
       "    .dataframe thead th {\n",
       "        text-align: right;\n",
       "    }\n",
       "</style>\n",
       "<table border=\"1\" class=\"dataframe\">\n",
       "  <thead>\n",
       "    <tr style=\"text-align: right;\">\n",
       "      <th></th>\n",
       "      <th>C</th>\n",
       "      <th>Q</th>\n",
       "      <th>S</th>\n",
       "    </tr>\n",
       "  </thead>\n",
       "  <tbody>\n",
       "    <tr>\n",
       "      <th>0</th>\n",
       "      <td>0</td>\n",
       "      <td>0</td>\n",
       "      <td>1</td>\n",
       "    </tr>\n",
       "    <tr>\n",
       "      <th>1</th>\n",
       "      <td>1</td>\n",
       "      <td>0</td>\n",
       "      <td>0</td>\n",
       "    </tr>\n",
       "    <tr>\n",
       "      <th>2</th>\n",
       "      <td>0</td>\n",
       "      <td>0</td>\n",
       "      <td>1</td>\n",
       "    </tr>\n",
       "    <tr>\n",
       "      <th>3</th>\n",
       "      <td>0</td>\n",
       "      <td>0</td>\n",
       "      <td>1</td>\n",
       "    </tr>\n",
       "    <tr>\n",
       "      <th>4</th>\n",
       "      <td>0</td>\n",
       "      <td>0</td>\n",
       "      <td>1</td>\n",
       "    </tr>\n",
       "    <tr>\n",
       "      <th>...</th>\n",
       "      <td>...</td>\n",
       "      <td>...</td>\n",
       "      <td>...</td>\n",
       "    </tr>\n",
       "    <tr>\n",
       "      <th>886</th>\n",
       "      <td>0</td>\n",
       "      <td>0</td>\n",
       "      <td>1</td>\n",
       "    </tr>\n",
       "    <tr>\n",
       "      <th>887</th>\n",
       "      <td>0</td>\n",
       "      <td>0</td>\n",
       "      <td>1</td>\n",
       "    </tr>\n",
       "    <tr>\n",
       "      <th>888</th>\n",
       "      <td>0</td>\n",
       "      <td>0</td>\n",
       "      <td>1</td>\n",
       "    </tr>\n",
       "    <tr>\n",
       "      <th>889</th>\n",
       "      <td>1</td>\n",
       "      <td>0</td>\n",
       "      <td>0</td>\n",
       "    </tr>\n",
       "    <tr>\n",
       "      <th>890</th>\n",
       "      <td>0</td>\n",
       "      <td>1</td>\n",
       "      <td>0</td>\n",
       "    </tr>\n",
       "  </tbody>\n",
       "</table>\n",
       "<p>891 rows × 3 columns</p>\n",
       "</div>\n",
       "      <button class=\"colab-df-convert\" onclick=\"convertToInteractive('df-35584f5d-977f-4325-94ad-a34f950a27b7')\"\n",
       "              title=\"Convert this dataframe to an interactive table.\"\n",
       "              style=\"display:none;\">\n",
       "        \n",
       "  <svg xmlns=\"http://www.w3.org/2000/svg\" height=\"24px\"viewBox=\"0 0 24 24\"\n",
       "       width=\"24px\">\n",
       "    <path d=\"M0 0h24v24H0V0z\" fill=\"none\"/>\n",
       "    <path d=\"M18.56 5.44l.94 2.06.94-2.06 2.06-.94-2.06-.94-.94-2.06-.94 2.06-2.06.94zm-11 1L8.5 8.5l.94-2.06 2.06-.94-2.06-.94L8.5 2.5l-.94 2.06-2.06.94zm10 10l.94 2.06.94-2.06 2.06-.94-2.06-.94-.94-2.06-.94 2.06-2.06.94z\"/><path d=\"M17.41 7.96l-1.37-1.37c-.4-.4-.92-.59-1.43-.59-.52 0-1.04.2-1.43.59L10.3 9.45l-7.72 7.72c-.78.78-.78 2.05 0 2.83L4 21.41c.39.39.9.59 1.41.59.51 0 1.02-.2 1.41-.59l7.78-7.78 2.81-2.81c.8-.78.8-2.07 0-2.86zM5.41 20L4 18.59l7.72-7.72 1.47 1.35L5.41 20z\"/>\n",
       "  </svg>\n",
       "      </button>\n",
       "      \n",
       "  <style>\n",
       "    .colab-df-container {\n",
       "      display:flex;\n",
       "      flex-wrap:wrap;\n",
       "      gap: 12px;\n",
       "    }\n",
       "\n",
       "    .colab-df-convert {\n",
       "      background-color: #E8F0FE;\n",
       "      border: none;\n",
       "      border-radius: 50%;\n",
       "      cursor: pointer;\n",
       "      display: none;\n",
       "      fill: #1967D2;\n",
       "      height: 32px;\n",
       "      padding: 0 0 0 0;\n",
       "      width: 32px;\n",
       "    }\n",
       "\n",
       "    .colab-df-convert:hover {\n",
       "      background-color: #E2EBFA;\n",
       "      box-shadow: 0px 1px 2px rgba(60, 64, 67, 0.3), 0px 1px 3px 1px rgba(60, 64, 67, 0.15);\n",
       "      fill: #174EA6;\n",
       "    }\n",
       "\n",
       "    [theme=dark] .colab-df-convert {\n",
       "      background-color: #3B4455;\n",
       "      fill: #D2E3FC;\n",
       "    }\n",
       "\n",
       "    [theme=dark] .colab-df-convert:hover {\n",
       "      background-color: #434B5C;\n",
       "      box-shadow: 0px 1px 3px 1px rgba(0, 0, 0, 0.15);\n",
       "      filter: drop-shadow(0px 1px 2px rgba(0, 0, 0, 0.3));\n",
       "      fill: #FFFFFF;\n",
       "    }\n",
       "  </style>\n",
       "\n",
       "      <script>\n",
       "        const buttonEl =\n",
       "          document.querySelector('#df-35584f5d-977f-4325-94ad-a34f950a27b7 button.colab-df-convert');\n",
       "        buttonEl.style.display =\n",
       "          google.colab.kernel.accessAllowed ? 'block' : 'none';\n",
       "\n",
       "        async function convertToInteractive(key) {\n",
       "          const element = document.querySelector('#df-35584f5d-977f-4325-94ad-a34f950a27b7');\n",
       "          const dataTable =\n",
       "            await google.colab.kernel.invokeFunction('convertToInteractive',\n",
       "                                                     [key], {});\n",
       "          if (!dataTable) return;\n",
       "\n",
       "          const docLinkHtml = 'Like what you see? Visit the ' +\n",
       "            '<a target=\"_blank\" href=https://colab.research.google.com/notebooks/data_table.ipynb>data table notebook</a>'\n",
       "            + ' to learn more about interactive tables.';\n",
       "          element.innerHTML = '';\n",
       "          dataTable['output_type'] = 'display_data';\n",
       "          await google.colab.output.renderOutput(dataTable, element);\n",
       "          const docLink = document.createElement('div');\n",
       "          docLink.innerHTML = docLinkHtml;\n",
       "          element.appendChild(docLink);\n",
       "        }\n",
       "      </script>\n",
       "    </div>\n",
       "  </div>\n",
       "  "
      ],
      "text/plain": [
       "     C  Q  S\n",
       "0    0  0  1\n",
       "1    1  0  0\n",
       "2    0  0  1\n",
       "3    0  0  1\n",
       "4    0  0  1\n",
       "..  .. .. ..\n",
       "886  0  0  1\n",
       "887  0  0  1\n",
       "888  0  0  1\n",
       "889  1  0  0\n",
       "890  0  1  0\n",
       "\n",
       "[891 rows x 3 columns]"
      ]
     },
     "execution_count": 63,
     "metadata": {},
     "output_type": "execute_result"
    }
   ],
   "source": [
    "Embark"
   ]
  },
  {
   "cell_type": "code",
   "execution_count": 64,
   "metadata": {
    "colab": {
     "base_uri": "https://localhost:8080/",
     "height": 0
    },
    "executionInfo": {
     "elapsed": 39,
     "status": "ok",
     "timestamp": 1666237630148,
     "user": {
      "displayName": "Mohit Kumar",
      "userId": "03888987891614882912"
     },
     "user_tz": -330
    },
    "id": "mjEt6vhPtPGT",
    "outputId": "7cb5a6ff-0935-4ba5-db01-f80388685bc8"
   },
   "outputs": [
    {
     "data": {
      "text/html": [
       "\n",
       "  <div id=\"df-221003ab-04b2-4df5-8b13-0de002daab98\">\n",
       "    <div class=\"colab-df-container\">\n",
       "      <div>\n",
       "<style scoped>\n",
       "    .dataframe tbody tr th:only-of-type {\n",
       "        vertical-align: middle;\n",
       "    }\n",
       "\n",
       "    .dataframe tbody tr th {\n",
       "        vertical-align: top;\n",
       "    }\n",
       "\n",
       "    .dataframe thead th {\n",
       "        text-align: right;\n",
       "    }\n",
       "</style>\n",
       "<table border=\"1\" class=\"dataframe\">\n",
       "  <thead>\n",
       "    <tr style=\"text-align: right;\">\n",
       "      <th></th>\n",
       "      <th>PassengerId</th>\n",
       "      <th>Survived</th>\n",
       "      <th>Pclass</th>\n",
       "      <th>Name</th>\n",
       "      <th>Age</th>\n",
       "      <th>SibSp</th>\n",
       "      <th>Parch</th>\n",
       "      <th>Ticket</th>\n",
       "      <th>Fare</th>\n",
       "      <th>Cabin</th>\n",
       "      <th>Embarked</th>\n",
       "      <th>Male</th>\n",
       "      <th>Female</th>\n",
       "      <th>C</th>\n",
       "      <th>Q</th>\n",
       "      <th>S</th>\n",
       "    </tr>\n",
       "  </thead>\n",
       "  <tbody>\n",
       "    <tr>\n",
       "      <th>0</th>\n",
       "      <td>1</td>\n",
       "      <td>0</td>\n",
       "      <td>3</td>\n",
       "      <td>Braund, Mr. Owen Harris</td>\n",
       "      <td>22.0</td>\n",
       "      <td>1</td>\n",
       "      <td>0</td>\n",
       "      <td>A/5 21171</td>\n",
       "      <td>7.2500</td>\n",
       "      <td>NaN</td>\n",
       "      <td>S</td>\n",
       "      <td>0</td>\n",
       "      <td>1</td>\n",
       "      <td>0</td>\n",
       "      <td>0</td>\n",
       "      <td>1</td>\n",
       "    </tr>\n",
       "    <tr>\n",
       "      <th>1</th>\n",
       "      <td>2</td>\n",
       "      <td>1</td>\n",
       "      <td>1</td>\n",
       "      <td>Cumings, Mrs. John Bradley (Florence Briggs Th...</td>\n",
       "      <td>38.0</td>\n",
       "      <td>1</td>\n",
       "      <td>0</td>\n",
       "      <td>PC 17599</td>\n",
       "      <td>71.2833</td>\n",
       "      <td>C85</td>\n",
       "      <td>C</td>\n",
       "      <td>1</td>\n",
       "      <td>0</td>\n",
       "      <td>1</td>\n",
       "      <td>0</td>\n",
       "      <td>0</td>\n",
       "    </tr>\n",
       "    <tr>\n",
       "      <th>2</th>\n",
       "      <td>3</td>\n",
       "      <td>1</td>\n",
       "      <td>3</td>\n",
       "      <td>Heikkinen, Miss. Laina</td>\n",
       "      <td>26.0</td>\n",
       "      <td>0</td>\n",
       "      <td>0</td>\n",
       "      <td>STON/O2. 3101282</td>\n",
       "      <td>7.9250</td>\n",
       "      <td>NaN</td>\n",
       "      <td>S</td>\n",
       "      <td>1</td>\n",
       "      <td>0</td>\n",
       "      <td>0</td>\n",
       "      <td>0</td>\n",
       "      <td>1</td>\n",
       "    </tr>\n",
       "    <tr>\n",
       "      <th>3</th>\n",
       "      <td>4</td>\n",
       "      <td>1</td>\n",
       "      <td>1</td>\n",
       "      <td>Futrelle, Mrs. Jacques Heath (Lily May Peel)</td>\n",
       "      <td>35.0</td>\n",
       "      <td>1</td>\n",
       "      <td>0</td>\n",
       "      <td>113803</td>\n",
       "      <td>53.1000</td>\n",
       "      <td>C123</td>\n",
       "      <td>S</td>\n",
       "      <td>1</td>\n",
       "      <td>0</td>\n",
       "      <td>0</td>\n",
       "      <td>0</td>\n",
       "      <td>1</td>\n",
       "    </tr>\n",
       "    <tr>\n",
       "      <th>4</th>\n",
       "      <td>5</td>\n",
       "      <td>0</td>\n",
       "      <td>3</td>\n",
       "      <td>Allen, Mr. William Henry</td>\n",
       "      <td>35.0</td>\n",
       "      <td>0</td>\n",
       "      <td>0</td>\n",
       "      <td>373450</td>\n",
       "      <td>8.0500</td>\n",
       "      <td>NaN</td>\n",
       "      <td>S</td>\n",
       "      <td>0</td>\n",
       "      <td>1</td>\n",
       "      <td>0</td>\n",
       "      <td>0</td>\n",
       "      <td>1</td>\n",
       "    </tr>\n",
       "  </tbody>\n",
       "</table>\n",
       "</div>\n",
       "      <button class=\"colab-df-convert\" onclick=\"convertToInteractive('df-221003ab-04b2-4df5-8b13-0de002daab98')\"\n",
       "              title=\"Convert this dataframe to an interactive table.\"\n",
       "              style=\"display:none;\">\n",
       "        \n",
       "  <svg xmlns=\"http://www.w3.org/2000/svg\" height=\"24px\"viewBox=\"0 0 24 24\"\n",
       "       width=\"24px\">\n",
       "    <path d=\"M0 0h24v24H0V0z\" fill=\"none\"/>\n",
       "    <path d=\"M18.56 5.44l.94 2.06.94-2.06 2.06-.94-2.06-.94-.94-2.06-.94 2.06-2.06.94zm-11 1L8.5 8.5l.94-2.06 2.06-.94-2.06-.94L8.5 2.5l-.94 2.06-2.06.94zm10 10l.94 2.06.94-2.06 2.06-.94-2.06-.94-.94-2.06-.94 2.06-2.06.94z\"/><path d=\"M17.41 7.96l-1.37-1.37c-.4-.4-.92-.59-1.43-.59-.52 0-1.04.2-1.43.59L10.3 9.45l-7.72 7.72c-.78.78-.78 2.05 0 2.83L4 21.41c.39.39.9.59 1.41.59.51 0 1.02-.2 1.41-.59l7.78-7.78 2.81-2.81c.8-.78.8-2.07 0-2.86zM5.41 20L4 18.59l7.72-7.72 1.47 1.35L5.41 20z\"/>\n",
       "  </svg>\n",
       "      </button>\n",
       "      \n",
       "  <style>\n",
       "    .colab-df-container {\n",
       "      display:flex;\n",
       "      flex-wrap:wrap;\n",
       "      gap: 12px;\n",
       "    }\n",
       "\n",
       "    .colab-df-convert {\n",
       "      background-color: #E8F0FE;\n",
       "      border: none;\n",
       "      border-radius: 50%;\n",
       "      cursor: pointer;\n",
       "      display: none;\n",
       "      fill: #1967D2;\n",
       "      height: 32px;\n",
       "      padding: 0 0 0 0;\n",
       "      width: 32px;\n",
       "    }\n",
       "\n",
       "    .colab-df-convert:hover {\n",
       "      background-color: #E2EBFA;\n",
       "      box-shadow: 0px 1px 2px rgba(60, 64, 67, 0.3), 0px 1px 3px 1px rgba(60, 64, 67, 0.15);\n",
       "      fill: #174EA6;\n",
       "    }\n",
       "\n",
       "    [theme=dark] .colab-df-convert {\n",
       "      background-color: #3B4455;\n",
       "      fill: #D2E3FC;\n",
       "    }\n",
       "\n",
       "    [theme=dark] .colab-df-convert:hover {\n",
       "      background-color: #434B5C;\n",
       "      box-shadow: 0px 1px 3px 1px rgba(0, 0, 0, 0.15);\n",
       "      filter: drop-shadow(0px 1px 2px rgba(0, 0, 0, 0.3));\n",
       "      fill: #FFFFFF;\n",
       "    }\n",
       "  </style>\n",
       "\n",
       "      <script>\n",
       "        const buttonEl =\n",
       "          document.querySelector('#df-221003ab-04b2-4df5-8b13-0de002daab98 button.colab-df-convert');\n",
       "        buttonEl.style.display =\n",
       "          google.colab.kernel.accessAllowed ? 'block' : 'none';\n",
       "\n",
       "        async function convertToInteractive(key) {\n",
       "          const element = document.querySelector('#df-221003ab-04b2-4df5-8b13-0de002daab98');\n",
       "          const dataTable =\n",
       "            await google.colab.kernel.invokeFunction('convertToInteractive',\n",
       "                                                     [key], {});\n",
       "          if (!dataTable) return;\n",
       "\n",
       "          const docLinkHtml = 'Like what you see? Visit the ' +\n",
       "            '<a target=\"_blank\" href=https://colab.research.google.com/notebooks/data_table.ipynb>data table notebook</a>'\n",
       "            + ' to learn more about interactive tables.';\n",
       "          element.innerHTML = '';\n",
       "          dataTable['output_type'] = 'display_data';\n",
       "          await google.colab.output.renderOutput(dataTable, element);\n",
       "          const docLink = document.createElement('div');\n",
       "          docLink.innerHTML = docLinkHtml;\n",
       "          element.appendChild(docLink);\n",
       "        }\n",
       "      </script>\n",
       "    </div>\n",
       "  </div>\n",
       "  "
      ],
      "text/plain": [
       "   PassengerId  Survived  Pclass  \\\n",
       "0            1         0       3   \n",
       "1            2         1       1   \n",
       "2            3         1       3   \n",
       "3            4         1       1   \n",
       "4            5         0       3   \n",
       "\n",
       "                                                Name   Age  SibSp  Parch  \\\n",
       "0                            Braund, Mr. Owen Harris  22.0      1      0   \n",
       "1  Cumings, Mrs. John Bradley (Florence Briggs Th...  38.0      1      0   \n",
       "2                             Heikkinen, Miss. Laina  26.0      0      0   \n",
       "3       Futrelle, Mrs. Jacques Heath (Lily May Peel)  35.0      1      0   \n",
       "4                           Allen, Mr. William Henry  35.0      0      0   \n",
       "\n",
       "             Ticket     Fare Cabin Embarked  Male  Female  C  Q  S  \n",
       "0         A/5 21171   7.2500   NaN        S     0       1  0  0  1  \n",
       "1          PC 17599  71.2833   C85        C     1       0  1  0  0  \n",
       "2  STON/O2. 3101282   7.9250   NaN        S     1       0  0  0  1  \n",
       "3            113803  53.1000  C123        S     1       0  0  0  1  \n",
       "4            373450   8.0500   NaN        S     0       1  0  0  1  "
      ]
     },
     "execution_count": 64,
     "metadata": {},
     "output_type": "execute_result"
    }
   ],
   "source": [
    "df = pd.concat([df,Embark], axis=1)\n",
    "df.head()"
   ]
  },
  {
   "cell_type": "code",
   "execution_count": 65,
   "metadata": {
    "executionInfo": {
     "elapsed": 35,
     "status": "ok",
     "timestamp": 1666237630149,
     "user": {
      "displayName": "Mohit Kumar",
      "userId": "03888987891614882912"
     },
     "user_tz": -330
    },
    "id": "5n0id-PRxPwH"
   },
   "outputs": [],
   "source": [
    "df = df.drop(['Embarked'], axis=1)"
   ]
  },
  {
   "cell_type": "code",
   "execution_count": 66,
   "metadata": {
    "colab": {
     "base_uri": "https://localhost:8080/",
     "height": 0
    },
    "executionInfo": {
     "elapsed": 2330,
     "status": "ok",
     "timestamp": 1666237632446,
     "user": {
      "displayName": "Mohit Kumar",
      "userId": "03888987891614882912"
     },
     "user_tz": -330
    },
    "id": "gRlQZ-YjxYn8",
    "outputId": "5eace1cc-a2d5-4fb1-8348-853eead46669"
   },
   "outputs": [
    {
     "name": "stdout",
     "output_type": "stream",
     "text": [
      "[jovian] Detected Colab notebook...\u001b[0m\n",
      "[jovian] Uploading colab notebook to Jovian...\u001b[0m\n",
      "Committed successfully! https://jovian.ai/mohitcnf95/titanic-machine-learning-from-disaster\n"
     ]
    },
    {
     "data": {
      "application/vnd.google.colaboratory.intrinsic+json": {
       "type": "string"
      },
      "text/plain": [
       "'https://jovian.ai/mohitcnf95/titanic-machine-learning-from-disaster'"
      ]
     },
     "execution_count": 66,
     "metadata": {},
     "output_type": "execute_result"
    }
   ],
   "source": [
    "jovian.commit()"
   ]
  },
  {
   "cell_type": "markdown",
   "metadata": {
    "id": "IFNizM80x4ZE"
   },
   "source": [
    "### Drop Ticket, Cabin and Name Column"
   ]
  },
  {
   "cell_type": "code",
   "execution_count": 67,
   "metadata": {
    "colab": {
     "base_uri": "https://localhost:8080/",
     "height": 0
    },
    "executionInfo": {
     "elapsed": 81,
     "status": "ok",
     "timestamp": 1666237632453,
     "user": {
      "displayName": "Mohit Kumar",
      "userId": "03888987891614882912"
     },
     "user_tz": -330
    },
    "id": "CmSE5FBFxxNa",
    "outputId": "8042843d-a3e9-47a0-ed67-835cc65ac1a8"
   },
   "outputs": [
    {
     "data": {
      "text/html": [
       "\n",
       "  <div id=\"df-f7c3a45f-5757-453a-a5ca-389c02fdcf46\">\n",
       "    <div class=\"colab-df-container\">\n",
       "      <div>\n",
       "<style scoped>\n",
       "    .dataframe tbody tr th:only-of-type {\n",
       "        vertical-align: middle;\n",
       "    }\n",
       "\n",
       "    .dataframe tbody tr th {\n",
       "        vertical-align: top;\n",
       "    }\n",
       "\n",
       "    .dataframe thead th {\n",
       "        text-align: right;\n",
       "    }\n",
       "</style>\n",
       "<table border=\"1\" class=\"dataframe\">\n",
       "  <thead>\n",
       "    <tr style=\"text-align: right;\">\n",
       "      <th></th>\n",
       "      <th>PassengerId</th>\n",
       "      <th>Survived</th>\n",
       "      <th>Pclass</th>\n",
       "      <th>Age</th>\n",
       "      <th>SibSp</th>\n",
       "      <th>Parch</th>\n",
       "      <th>Fare</th>\n",
       "      <th>Cabin</th>\n",
       "      <th>Male</th>\n",
       "      <th>Female</th>\n",
       "      <th>C</th>\n",
       "      <th>Q</th>\n",
       "      <th>S</th>\n",
       "    </tr>\n",
       "  </thead>\n",
       "  <tbody>\n",
       "    <tr>\n",
       "      <th>0</th>\n",
       "      <td>1</td>\n",
       "      <td>0</td>\n",
       "      <td>3</td>\n",
       "      <td>22.0</td>\n",
       "      <td>1</td>\n",
       "      <td>0</td>\n",
       "      <td>7.2500</td>\n",
       "      <td>NaN</td>\n",
       "      <td>0</td>\n",
       "      <td>1</td>\n",
       "      <td>0</td>\n",
       "      <td>0</td>\n",
       "      <td>1</td>\n",
       "    </tr>\n",
       "    <tr>\n",
       "      <th>1</th>\n",
       "      <td>2</td>\n",
       "      <td>1</td>\n",
       "      <td>1</td>\n",
       "      <td>38.0</td>\n",
       "      <td>1</td>\n",
       "      <td>0</td>\n",
       "      <td>71.2833</td>\n",
       "      <td>C85</td>\n",
       "      <td>1</td>\n",
       "      <td>0</td>\n",
       "      <td>1</td>\n",
       "      <td>0</td>\n",
       "      <td>0</td>\n",
       "    </tr>\n",
       "    <tr>\n",
       "      <th>2</th>\n",
       "      <td>3</td>\n",
       "      <td>1</td>\n",
       "      <td>3</td>\n",
       "      <td>26.0</td>\n",
       "      <td>0</td>\n",
       "      <td>0</td>\n",
       "      <td>7.9250</td>\n",
       "      <td>NaN</td>\n",
       "      <td>1</td>\n",
       "      <td>0</td>\n",
       "      <td>0</td>\n",
       "      <td>0</td>\n",
       "      <td>1</td>\n",
       "    </tr>\n",
       "    <tr>\n",
       "      <th>3</th>\n",
       "      <td>4</td>\n",
       "      <td>1</td>\n",
       "      <td>1</td>\n",
       "      <td>35.0</td>\n",
       "      <td>1</td>\n",
       "      <td>0</td>\n",
       "      <td>53.1000</td>\n",
       "      <td>C123</td>\n",
       "      <td>1</td>\n",
       "      <td>0</td>\n",
       "      <td>0</td>\n",
       "      <td>0</td>\n",
       "      <td>1</td>\n",
       "    </tr>\n",
       "    <tr>\n",
       "      <th>4</th>\n",
       "      <td>5</td>\n",
       "      <td>0</td>\n",
       "      <td>3</td>\n",
       "      <td>35.0</td>\n",
       "      <td>0</td>\n",
       "      <td>0</td>\n",
       "      <td>8.0500</td>\n",
       "      <td>NaN</td>\n",
       "      <td>0</td>\n",
       "      <td>1</td>\n",
       "      <td>0</td>\n",
       "      <td>0</td>\n",
       "      <td>1</td>\n",
       "    </tr>\n",
       "  </tbody>\n",
       "</table>\n",
       "</div>\n",
       "      <button class=\"colab-df-convert\" onclick=\"convertToInteractive('df-f7c3a45f-5757-453a-a5ca-389c02fdcf46')\"\n",
       "              title=\"Convert this dataframe to an interactive table.\"\n",
       "              style=\"display:none;\">\n",
       "        \n",
       "  <svg xmlns=\"http://www.w3.org/2000/svg\" height=\"24px\"viewBox=\"0 0 24 24\"\n",
       "       width=\"24px\">\n",
       "    <path d=\"M0 0h24v24H0V0z\" fill=\"none\"/>\n",
       "    <path d=\"M18.56 5.44l.94 2.06.94-2.06 2.06-.94-2.06-.94-.94-2.06-.94 2.06-2.06.94zm-11 1L8.5 8.5l.94-2.06 2.06-.94-2.06-.94L8.5 2.5l-.94 2.06-2.06.94zm10 10l.94 2.06.94-2.06 2.06-.94-2.06-.94-.94-2.06-.94 2.06-2.06.94z\"/><path d=\"M17.41 7.96l-1.37-1.37c-.4-.4-.92-.59-1.43-.59-.52 0-1.04.2-1.43.59L10.3 9.45l-7.72 7.72c-.78.78-.78 2.05 0 2.83L4 21.41c.39.39.9.59 1.41.59.51 0 1.02-.2 1.41-.59l7.78-7.78 2.81-2.81c.8-.78.8-2.07 0-2.86zM5.41 20L4 18.59l7.72-7.72 1.47 1.35L5.41 20z\"/>\n",
       "  </svg>\n",
       "      </button>\n",
       "      \n",
       "  <style>\n",
       "    .colab-df-container {\n",
       "      display:flex;\n",
       "      flex-wrap:wrap;\n",
       "      gap: 12px;\n",
       "    }\n",
       "\n",
       "    .colab-df-convert {\n",
       "      background-color: #E8F0FE;\n",
       "      border: none;\n",
       "      border-radius: 50%;\n",
       "      cursor: pointer;\n",
       "      display: none;\n",
       "      fill: #1967D2;\n",
       "      height: 32px;\n",
       "      padding: 0 0 0 0;\n",
       "      width: 32px;\n",
       "    }\n",
       "\n",
       "    .colab-df-convert:hover {\n",
       "      background-color: #E2EBFA;\n",
       "      box-shadow: 0px 1px 2px rgba(60, 64, 67, 0.3), 0px 1px 3px 1px rgba(60, 64, 67, 0.15);\n",
       "      fill: #174EA6;\n",
       "    }\n",
       "\n",
       "    [theme=dark] .colab-df-convert {\n",
       "      background-color: #3B4455;\n",
       "      fill: #D2E3FC;\n",
       "    }\n",
       "\n",
       "    [theme=dark] .colab-df-convert:hover {\n",
       "      background-color: #434B5C;\n",
       "      box-shadow: 0px 1px 3px 1px rgba(0, 0, 0, 0.15);\n",
       "      filter: drop-shadow(0px 1px 2px rgba(0, 0, 0, 0.3));\n",
       "      fill: #FFFFFF;\n",
       "    }\n",
       "  </style>\n",
       "\n",
       "      <script>\n",
       "        const buttonEl =\n",
       "          document.querySelector('#df-f7c3a45f-5757-453a-a5ca-389c02fdcf46 button.colab-df-convert');\n",
       "        buttonEl.style.display =\n",
       "          google.colab.kernel.accessAllowed ? 'block' : 'none';\n",
       "\n",
       "        async function convertToInteractive(key) {\n",
       "          const element = document.querySelector('#df-f7c3a45f-5757-453a-a5ca-389c02fdcf46');\n",
       "          const dataTable =\n",
       "            await google.colab.kernel.invokeFunction('convertToInteractive',\n",
       "                                                     [key], {});\n",
       "          if (!dataTable) return;\n",
       "\n",
       "          const docLinkHtml = 'Like what you see? Visit the ' +\n",
       "            '<a target=\"_blank\" href=https://colab.research.google.com/notebooks/data_table.ipynb>data table notebook</a>'\n",
       "            + ' to learn more about interactive tables.';\n",
       "          element.innerHTML = '';\n",
       "          dataTable['output_type'] = 'display_data';\n",
       "          await google.colab.output.renderOutput(dataTable, element);\n",
       "          const docLink = document.createElement('div');\n",
       "          docLink.innerHTML = docLinkHtml;\n",
       "          element.appendChild(docLink);\n",
       "        }\n",
       "      </script>\n",
       "    </div>\n",
       "  </div>\n",
       "  "
      ],
      "text/plain": [
       "   PassengerId  Survived  Pclass   Age  SibSp  Parch     Fare Cabin  Male  \\\n",
       "0            1         0       3  22.0      1      0   7.2500   NaN     0   \n",
       "1            2         1       1  38.0      1      0  71.2833   C85     1   \n",
       "2            3         1       3  26.0      0      0   7.9250   NaN     1   \n",
       "3            4         1       1  35.0      1      0  53.1000  C123     1   \n",
       "4            5         0       3  35.0      0      0   8.0500   NaN     0   \n",
       "\n",
       "   Female  C  Q  S  \n",
       "0       1  0  0  1  \n",
       "1       0  1  0  0  \n",
       "2       0  0  0  1  \n",
       "3       0  0  0  1  \n",
       "4       1  0  0  1  "
      ]
     },
     "execution_count": 67,
     "metadata": {},
     "output_type": "execute_result"
    }
   ],
   "source": [
    "df = df.drop(['Name' , 'Ticket'], axis=1)\n",
    "df.head()"
   ]
  },
  {
   "cell_type": "code",
   "execution_count": 68,
   "metadata": {
    "colab": {
     "base_uri": "https://localhost:8080/"
    },
    "executionInfo": {
     "elapsed": 76,
     "status": "ok",
     "timestamp": 1666237632454,
     "user": {
      "displayName": "Mohit Kumar",
      "userId": "03888987891614882912"
     },
     "user_tz": -330
    },
    "id": "93_m-0VQyIiw",
    "outputId": "db32f1e0-bbe1-4d61-a5c7-19ef108dd315"
   },
   "outputs": [
    {
     "name": "stdout",
     "output_type": "stream",
     "text": [
      "<class 'pandas.core.frame.DataFrame'>\n",
      "RangeIndex: 891 entries, 0 to 890\n",
      "Data columns (total 13 columns):\n",
      " #   Column       Non-Null Count  Dtype  \n",
      "---  ------       --------------  -----  \n",
      " 0   PassengerId  891 non-null    int64  \n",
      " 1   Survived     891 non-null    int64  \n",
      " 2   Pclass       891 non-null    int64  \n",
      " 3   Age          891 non-null    float64\n",
      " 4   SibSp        891 non-null    int64  \n",
      " 5   Parch        891 non-null    int64  \n",
      " 6   Fare         891 non-null    float64\n",
      " 7   Cabin        204 non-null    object \n",
      " 8   Male         891 non-null    uint8  \n",
      " 9   Female       891 non-null    uint8  \n",
      " 10  C            891 non-null    uint8  \n",
      " 11  Q            891 non-null    uint8  \n",
      " 12  S            891 non-null    uint8  \n",
      "dtypes: float64(2), int64(5), object(1), uint8(5)\n",
      "memory usage: 60.2+ KB\n"
     ]
    }
   ],
   "source": [
    "df.info()"
   ]
  },
  {
   "cell_type": "code",
   "execution_count": 69,
   "metadata": {
    "colab": {
     "base_uri": "https://localhost:8080/",
     "height": 0
    },
    "executionInfo": {
     "elapsed": 70,
     "status": "ok",
     "timestamp": 1666237632456,
     "user": {
      "displayName": "Mohit Kumar",
      "userId": "03888987891614882912"
     },
     "user_tz": -330
    },
    "id": "oLUpujhnyTQp",
    "outputId": "bcbdb407-e68d-4e14-c8ef-f39fdca85756"
   },
   "outputs": [
    {
     "data": {
      "text/html": [
       "\n",
       "  <div id=\"df-4c60aa1c-0b21-4451-a388-f5bb7ed93f45\">\n",
       "    <div class=\"colab-df-container\">\n",
       "      <div>\n",
       "<style scoped>\n",
       "    .dataframe tbody tr th:only-of-type {\n",
       "        vertical-align: middle;\n",
       "    }\n",
       "\n",
       "    .dataframe tbody tr th {\n",
       "        vertical-align: top;\n",
       "    }\n",
       "\n",
       "    .dataframe thead th {\n",
       "        text-align: right;\n",
       "    }\n",
       "</style>\n",
       "<table border=\"1\" class=\"dataframe\">\n",
       "  <thead>\n",
       "    <tr style=\"text-align: right;\">\n",
       "      <th></th>\n",
       "      <th>PassengerId</th>\n",
       "      <th>Survived</th>\n",
       "      <th>Pclass</th>\n",
       "      <th>Age</th>\n",
       "      <th>SibSp</th>\n",
       "      <th>Parch</th>\n",
       "      <th>Fare</th>\n",
       "      <th>Cabin</th>\n",
       "      <th>Male</th>\n",
       "      <th>Q</th>\n",
       "      <th>S</th>\n",
       "    </tr>\n",
       "  </thead>\n",
       "  <tbody>\n",
       "    <tr>\n",
       "      <th>0</th>\n",
       "      <td>1</td>\n",
       "      <td>0</td>\n",
       "      <td>3</td>\n",
       "      <td>22.000000</td>\n",
       "      <td>1</td>\n",
       "      <td>0</td>\n",
       "      <td>7.2500</td>\n",
       "      <td>NaN</td>\n",
       "      <td>0</td>\n",
       "      <td>0</td>\n",
       "      <td>1</td>\n",
       "    </tr>\n",
       "    <tr>\n",
       "      <th>1</th>\n",
       "      <td>2</td>\n",
       "      <td>1</td>\n",
       "      <td>1</td>\n",
       "      <td>38.000000</td>\n",
       "      <td>1</td>\n",
       "      <td>0</td>\n",
       "      <td>71.2833</td>\n",
       "      <td>C85</td>\n",
       "      <td>1</td>\n",
       "      <td>0</td>\n",
       "      <td>0</td>\n",
       "    </tr>\n",
       "    <tr>\n",
       "      <th>2</th>\n",
       "      <td>3</td>\n",
       "      <td>1</td>\n",
       "      <td>3</td>\n",
       "      <td>26.000000</td>\n",
       "      <td>0</td>\n",
       "      <td>0</td>\n",
       "      <td>7.9250</td>\n",
       "      <td>NaN</td>\n",
       "      <td>1</td>\n",
       "      <td>0</td>\n",
       "      <td>1</td>\n",
       "    </tr>\n",
       "    <tr>\n",
       "      <th>3</th>\n",
       "      <td>4</td>\n",
       "      <td>1</td>\n",
       "      <td>1</td>\n",
       "      <td>35.000000</td>\n",
       "      <td>1</td>\n",
       "      <td>0</td>\n",
       "      <td>53.1000</td>\n",
       "      <td>C123</td>\n",
       "      <td>1</td>\n",
       "      <td>0</td>\n",
       "      <td>1</td>\n",
       "    </tr>\n",
       "    <tr>\n",
       "      <th>4</th>\n",
       "      <td>5</td>\n",
       "      <td>0</td>\n",
       "      <td>3</td>\n",
       "      <td>35.000000</td>\n",
       "      <td>0</td>\n",
       "      <td>0</td>\n",
       "      <td>8.0500</td>\n",
       "      <td>NaN</td>\n",
       "      <td>0</td>\n",
       "      <td>0</td>\n",
       "      <td>1</td>\n",
       "    </tr>\n",
       "    <tr>\n",
       "      <th>5</th>\n",
       "      <td>6</td>\n",
       "      <td>0</td>\n",
       "      <td>3</td>\n",
       "      <td>29.699118</td>\n",
       "      <td>0</td>\n",
       "      <td>0</td>\n",
       "      <td>8.4583</td>\n",
       "      <td>NaN</td>\n",
       "      <td>0</td>\n",
       "      <td>1</td>\n",
       "      <td>0</td>\n",
       "    </tr>\n",
       "    <tr>\n",
       "      <th>6</th>\n",
       "      <td>7</td>\n",
       "      <td>0</td>\n",
       "      <td>1</td>\n",
       "      <td>54.000000</td>\n",
       "      <td>0</td>\n",
       "      <td>0</td>\n",
       "      <td>51.8625</td>\n",
       "      <td>E46</td>\n",
       "      <td>0</td>\n",
       "      <td>0</td>\n",
       "      <td>1</td>\n",
       "    </tr>\n",
       "    <tr>\n",
       "      <th>7</th>\n",
       "      <td>8</td>\n",
       "      <td>0</td>\n",
       "      <td>3</td>\n",
       "      <td>2.000000</td>\n",
       "      <td>3</td>\n",
       "      <td>1</td>\n",
       "      <td>21.0750</td>\n",
       "      <td>NaN</td>\n",
       "      <td>0</td>\n",
       "      <td>0</td>\n",
       "      <td>1</td>\n",
       "    </tr>\n",
       "    <tr>\n",
       "      <th>8</th>\n",
       "      <td>9</td>\n",
       "      <td>1</td>\n",
       "      <td>3</td>\n",
       "      <td>27.000000</td>\n",
       "      <td>0</td>\n",
       "      <td>2</td>\n",
       "      <td>11.1333</td>\n",
       "      <td>NaN</td>\n",
       "      <td>1</td>\n",
       "      <td>0</td>\n",
       "      <td>1</td>\n",
       "    </tr>\n",
       "    <tr>\n",
       "      <th>9</th>\n",
       "      <td>10</td>\n",
       "      <td>1</td>\n",
       "      <td>2</td>\n",
       "      <td>14.000000</td>\n",
       "      <td>1</td>\n",
       "      <td>0</td>\n",
       "      <td>30.0708</td>\n",
       "      <td>NaN</td>\n",
       "      <td>1</td>\n",
       "      <td>0</td>\n",
       "      <td>0</td>\n",
       "    </tr>\n",
       "  </tbody>\n",
       "</table>\n",
       "</div>\n",
       "      <button class=\"colab-df-convert\" onclick=\"convertToInteractive('df-4c60aa1c-0b21-4451-a388-f5bb7ed93f45')\"\n",
       "              title=\"Convert this dataframe to an interactive table.\"\n",
       "              style=\"display:none;\">\n",
       "        \n",
       "  <svg xmlns=\"http://www.w3.org/2000/svg\" height=\"24px\"viewBox=\"0 0 24 24\"\n",
       "       width=\"24px\">\n",
       "    <path d=\"M0 0h24v24H0V0z\" fill=\"none\"/>\n",
       "    <path d=\"M18.56 5.44l.94 2.06.94-2.06 2.06-.94-2.06-.94-.94-2.06-.94 2.06-2.06.94zm-11 1L8.5 8.5l.94-2.06 2.06-.94-2.06-.94L8.5 2.5l-.94 2.06-2.06.94zm10 10l.94 2.06.94-2.06 2.06-.94-2.06-.94-.94-2.06-.94 2.06-2.06.94z\"/><path d=\"M17.41 7.96l-1.37-1.37c-.4-.4-.92-.59-1.43-.59-.52 0-1.04.2-1.43.59L10.3 9.45l-7.72 7.72c-.78.78-.78 2.05 0 2.83L4 21.41c.39.39.9.59 1.41.59.51 0 1.02-.2 1.41-.59l7.78-7.78 2.81-2.81c.8-.78.8-2.07 0-2.86zM5.41 20L4 18.59l7.72-7.72 1.47 1.35L5.41 20z\"/>\n",
       "  </svg>\n",
       "      </button>\n",
       "      \n",
       "  <style>\n",
       "    .colab-df-container {\n",
       "      display:flex;\n",
       "      flex-wrap:wrap;\n",
       "      gap: 12px;\n",
       "    }\n",
       "\n",
       "    .colab-df-convert {\n",
       "      background-color: #E8F0FE;\n",
       "      border: none;\n",
       "      border-radius: 50%;\n",
       "      cursor: pointer;\n",
       "      display: none;\n",
       "      fill: #1967D2;\n",
       "      height: 32px;\n",
       "      padding: 0 0 0 0;\n",
       "      width: 32px;\n",
       "    }\n",
       "\n",
       "    .colab-df-convert:hover {\n",
       "      background-color: #E2EBFA;\n",
       "      box-shadow: 0px 1px 2px rgba(60, 64, 67, 0.3), 0px 1px 3px 1px rgba(60, 64, 67, 0.15);\n",
       "      fill: #174EA6;\n",
       "    }\n",
       "\n",
       "    [theme=dark] .colab-df-convert {\n",
       "      background-color: #3B4455;\n",
       "      fill: #D2E3FC;\n",
       "    }\n",
       "\n",
       "    [theme=dark] .colab-df-convert:hover {\n",
       "      background-color: #434B5C;\n",
       "      box-shadow: 0px 1px 3px 1px rgba(0, 0, 0, 0.15);\n",
       "      filter: drop-shadow(0px 1px 2px rgba(0, 0, 0, 0.3));\n",
       "      fill: #FFFFFF;\n",
       "    }\n",
       "  </style>\n",
       "\n",
       "      <script>\n",
       "        const buttonEl =\n",
       "          document.querySelector('#df-4c60aa1c-0b21-4451-a388-f5bb7ed93f45 button.colab-df-convert');\n",
       "        buttonEl.style.display =\n",
       "          google.colab.kernel.accessAllowed ? 'block' : 'none';\n",
       "\n",
       "        async function convertToInteractive(key) {\n",
       "          const element = document.querySelector('#df-4c60aa1c-0b21-4451-a388-f5bb7ed93f45');\n",
       "          const dataTable =\n",
       "            await google.colab.kernel.invokeFunction('convertToInteractive',\n",
       "                                                     [key], {});\n",
       "          if (!dataTable) return;\n",
       "\n",
       "          const docLinkHtml = 'Like what you see? Visit the ' +\n",
       "            '<a target=\"_blank\" href=https://colab.research.google.com/notebooks/data_table.ipynb>data table notebook</a>'\n",
       "            + ' to learn more about interactive tables.';\n",
       "          element.innerHTML = '';\n",
       "          dataTable['output_type'] = 'display_data';\n",
       "          await google.colab.output.renderOutput(dataTable, element);\n",
       "          const docLink = document.createElement('div');\n",
       "          docLink.innerHTML = docLinkHtml;\n",
       "          element.appendChild(docLink);\n",
       "        }\n",
       "      </script>\n",
       "    </div>\n",
       "  </div>\n",
       "  "
      ],
      "text/plain": [
       "   PassengerId  Survived  Pclass        Age  SibSp  Parch     Fare Cabin  \\\n",
       "0            1         0       3  22.000000      1      0   7.2500   NaN   \n",
       "1            2         1       1  38.000000      1      0  71.2833   C85   \n",
       "2            3         1       3  26.000000      0      0   7.9250   NaN   \n",
       "3            4         1       1  35.000000      1      0  53.1000  C123   \n",
       "4            5         0       3  35.000000      0      0   8.0500   NaN   \n",
       "5            6         0       3  29.699118      0      0   8.4583   NaN   \n",
       "6            7         0       1  54.000000      0      0  51.8625   E46   \n",
       "7            8         0       3   2.000000      3      1  21.0750   NaN   \n",
       "8            9         1       3  27.000000      0      2  11.1333   NaN   \n",
       "9           10         1       2  14.000000      1      0  30.0708   NaN   \n",
       "\n",
       "   Male  Q  S  \n",
       "0     0  0  1  \n",
       "1     1  0  0  \n",
       "2     1  0  1  \n",
       "3     1  0  1  \n",
       "4     0  0  1  \n",
       "5     0  1  0  \n",
       "6     0  0  1  \n",
       "7     0  0  1  \n",
       "8     1  0  1  \n",
       "9     1  0  0  "
      ]
     },
     "execution_count": 69,
     "metadata": {},
     "output_type": "execute_result"
    }
   ],
   "source": [
    "# To avoid Multicolinearity we need to drop the columns Female & C\n",
    "df = df.drop(['Female' , 'C'], axis=1)\n",
    "df.head(10)"
   ]
  },
  {
   "cell_type": "code",
   "execution_count": 70,
   "metadata": {
    "executionInfo": {
     "elapsed": 69,
     "status": "ok",
     "timestamp": 1666237632458,
     "user": {
      "displayName": "Mohit Kumar",
      "userId": "03888987891614882912"
     },
     "user_tz": -330
    },
    "id": "MmAWRHi26IQZ"
   },
   "outputs": [],
   "source": [
    "df = df.drop(['Cabin'], axis=1) # This data is not useful for our modeling"
   ]
  },
  {
   "cell_type": "code",
   "execution_count": 71,
   "metadata": {
    "colab": {
     "base_uri": "https://localhost:8080/",
     "height": 0
    },
    "executionInfo": {
     "elapsed": 73,
     "status": "ok",
     "timestamp": 1666237632463,
     "user": {
      "displayName": "Mohit Kumar",
      "userId": "03888987891614882912"
     },
     "user_tz": -330
    },
    "id": "GkRpZcuR6S5r",
    "outputId": "7ed051be-48ce-44ae-b0e3-25c5ba55bf8d"
   },
   "outputs": [
    {
     "data": {
      "text/html": [
       "\n",
       "  <div id=\"df-10d07759-de9b-46c6-a764-d7889879934b\">\n",
       "    <div class=\"colab-df-container\">\n",
       "      <div>\n",
       "<style scoped>\n",
       "    .dataframe tbody tr th:only-of-type {\n",
       "        vertical-align: middle;\n",
       "    }\n",
       "\n",
       "    .dataframe tbody tr th {\n",
       "        vertical-align: top;\n",
       "    }\n",
       "\n",
       "    .dataframe thead th {\n",
       "        text-align: right;\n",
       "    }\n",
       "</style>\n",
       "<table border=\"1\" class=\"dataframe\">\n",
       "  <thead>\n",
       "    <tr style=\"text-align: right;\">\n",
       "      <th></th>\n",
       "      <th>PassengerId</th>\n",
       "      <th>Survived</th>\n",
       "      <th>Pclass</th>\n",
       "      <th>Age</th>\n",
       "      <th>SibSp</th>\n",
       "      <th>Parch</th>\n",
       "      <th>Fare</th>\n",
       "      <th>Male</th>\n",
       "      <th>Q</th>\n",
       "      <th>S</th>\n",
       "    </tr>\n",
       "  </thead>\n",
       "  <tbody>\n",
       "    <tr>\n",
       "      <th>0</th>\n",
       "      <td>1</td>\n",
       "      <td>0</td>\n",
       "      <td>3</td>\n",
       "      <td>22.000000</td>\n",
       "      <td>1</td>\n",
       "      <td>0</td>\n",
       "      <td>7.2500</td>\n",
       "      <td>0</td>\n",
       "      <td>0</td>\n",
       "      <td>1</td>\n",
       "    </tr>\n",
       "    <tr>\n",
       "      <th>1</th>\n",
       "      <td>2</td>\n",
       "      <td>1</td>\n",
       "      <td>1</td>\n",
       "      <td>38.000000</td>\n",
       "      <td>1</td>\n",
       "      <td>0</td>\n",
       "      <td>71.2833</td>\n",
       "      <td>1</td>\n",
       "      <td>0</td>\n",
       "      <td>0</td>\n",
       "    </tr>\n",
       "    <tr>\n",
       "      <th>2</th>\n",
       "      <td>3</td>\n",
       "      <td>1</td>\n",
       "      <td>3</td>\n",
       "      <td>26.000000</td>\n",
       "      <td>0</td>\n",
       "      <td>0</td>\n",
       "      <td>7.9250</td>\n",
       "      <td>1</td>\n",
       "      <td>0</td>\n",
       "      <td>1</td>\n",
       "    </tr>\n",
       "    <tr>\n",
       "      <th>3</th>\n",
       "      <td>4</td>\n",
       "      <td>1</td>\n",
       "      <td>1</td>\n",
       "      <td>35.000000</td>\n",
       "      <td>1</td>\n",
       "      <td>0</td>\n",
       "      <td>53.1000</td>\n",
       "      <td>1</td>\n",
       "      <td>0</td>\n",
       "      <td>1</td>\n",
       "    </tr>\n",
       "    <tr>\n",
       "      <th>4</th>\n",
       "      <td>5</td>\n",
       "      <td>0</td>\n",
       "      <td>3</td>\n",
       "      <td>35.000000</td>\n",
       "      <td>0</td>\n",
       "      <td>0</td>\n",
       "      <td>8.0500</td>\n",
       "      <td>0</td>\n",
       "      <td>0</td>\n",
       "      <td>1</td>\n",
       "    </tr>\n",
       "    <tr>\n",
       "      <th>5</th>\n",
       "      <td>6</td>\n",
       "      <td>0</td>\n",
       "      <td>3</td>\n",
       "      <td>29.699118</td>\n",
       "      <td>0</td>\n",
       "      <td>0</td>\n",
       "      <td>8.4583</td>\n",
       "      <td>0</td>\n",
       "      <td>1</td>\n",
       "      <td>0</td>\n",
       "    </tr>\n",
       "    <tr>\n",
       "      <th>6</th>\n",
       "      <td>7</td>\n",
       "      <td>0</td>\n",
       "      <td>1</td>\n",
       "      <td>54.000000</td>\n",
       "      <td>0</td>\n",
       "      <td>0</td>\n",
       "      <td>51.8625</td>\n",
       "      <td>0</td>\n",
       "      <td>0</td>\n",
       "      <td>1</td>\n",
       "    </tr>\n",
       "    <tr>\n",
       "      <th>7</th>\n",
       "      <td>8</td>\n",
       "      <td>0</td>\n",
       "      <td>3</td>\n",
       "      <td>2.000000</td>\n",
       "      <td>3</td>\n",
       "      <td>1</td>\n",
       "      <td>21.0750</td>\n",
       "      <td>0</td>\n",
       "      <td>0</td>\n",
       "      <td>1</td>\n",
       "    </tr>\n",
       "    <tr>\n",
       "      <th>8</th>\n",
       "      <td>9</td>\n",
       "      <td>1</td>\n",
       "      <td>3</td>\n",
       "      <td>27.000000</td>\n",
       "      <td>0</td>\n",
       "      <td>2</td>\n",
       "      <td>11.1333</td>\n",
       "      <td>1</td>\n",
       "      <td>0</td>\n",
       "      <td>1</td>\n",
       "    </tr>\n",
       "    <tr>\n",
       "      <th>9</th>\n",
       "      <td>10</td>\n",
       "      <td>1</td>\n",
       "      <td>2</td>\n",
       "      <td>14.000000</td>\n",
       "      <td>1</td>\n",
       "      <td>0</td>\n",
       "      <td>30.0708</td>\n",
       "      <td>1</td>\n",
       "      <td>0</td>\n",
       "      <td>0</td>\n",
       "    </tr>\n",
       "  </tbody>\n",
       "</table>\n",
       "</div>\n",
       "      <button class=\"colab-df-convert\" onclick=\"convertToInteractive('df-10d07759-de9b-46c6-a764-d7889879934b')\"\n",
       "              title=\"Convert this dataframe to an interactive table.\"\n",
       "              style=\"display:none;\">\n",
       "        \n",
       "  <svg xmlns=\"http://www.w3.org/2000/svg\" height=\"24px\"viewBox=\"0 0 24 24\"\n",
       "       width=\"24px\">\n",
       "    <path d=\"M0 0h24v24H0V0z\" fill=\"none\"/>\n",
       "    <path d=\"M18.56 5.44l.94 2.06.94-2.06 2.06-.94-2.06-.94-.94-2.06-.94 2.06-2.06.94zm-11 1L8.5 8.5l.94-2.06 2.06-.94-2.06-.94L8.5 2.5l-.94 2.06-2.06.94zm10 10l.94 2.06.94-2.06 2.06-.94-2.06-.94-.94-2.06-.94 2.06-2.06.94z\"/><path d=\"M17.41 7.96l-1.37-1.37c-.4-.4-.92-.59-1.43-.59-.52 0-1.04.2-1.43.59L10.3 9.45l-7.72 7.72c-.78.78-.78 2.05 0 2.83L4 21.41c.39.39.9.59 1.41.59.51 0 1.02-.2 1.41-.59l7.78-7.78 2.81-2.81c.8-.78.8-2.07 0-2.86zM5.41 20L4 18.59l7.72-7.72 1.47 1.35L5.41 20z\"/>\n",
       "  </svg>\n",
       "      </button>\n",
       "      \n",
       "  <style>\n",
       "    .colab-df-container {\n",
       "      display:flex;\n",
       "      flex-wrap:wrap;\n",
       "      gap: 12px;\n",
       "    }\n",
       "\n",
       "    .colab-df-convert {\n",
       "      background-color: #E8F0FE;\n",
       "      border: none;\n",
       "      border-radius: 50%;\n",
       "      cursor: pointer;\n",
       "      display: none;\n",
       "      fill: #1967D2;\n",
       "      height: 32px;\n",
       "      padding: 0 0 0 0;\n",
       "      width: 32px;\n",
       "    }\n",
       "\n",
       "    .colab-df-convert:hover {\n",
       "      background-color: #E2EBFA;\n",
       "      box-shadow: 0px 1px 2px rgba(60, 64, 67, 0.3), 0px 1px 3px 1px rgba(60, 64, 67, 0.15);\n",
       "      fill: #174EA6;\n",
       "    }\n",
       "\n",
       "    [theme=dark] .colab-df-convert {\n",
       "      background-color: #3B4455;\n",
       "      fill: #D2E3FC;\n",
       "    }\n",
       "\n",
       "    [theme=dark] .colab-df-convert:hover {\n",
       "      background-color: #434B5C;\n",
       "      box-shadow: 0px 1px 3px 1px rgba(0, 0, 0, 0.15);\n",
       "      filter: drop-shadow(0px 1px 2px rgba(0, 0, 0, 0.3));\n",
       "      fill: #FFFFFF;\n",
       "    }\n",
       "  </style>\n",
       "\n",
       "      <script>\n",
       "        const buttonEl =\n",
       "          document.querySelector('#df-10d07759-de9b-46c6-a764-d7889879934b button.colab-df-convert');\n",
       "        buttonEl.style.display =\n",
       "          google.colab.kernel.accessAllowed ? 'block' : 'none';\n",
       "\n",
       "        async function convertToInteractive(key) {\n",
       "          const element = document.querySelector('#df-10d07759-de9b-46c6-a764-d7889879934b');\n",
       "          const dataTable =\n",
       "            await google.colab.kernel.invokeFunction('convertToInteractive',\n",
       "                                                     [key], {});\n",
       "          if (!dataTable) return;\n",
       "\n",
       "          const docLinkHtml = 'Like what you see? Visit the ' +\n",
       "            '<a target=\"_blank\" href=https://colab.research.google.com/notebooks/data_table.ipynb>data table notebook</a>'\n",
       "            + ' to learn more about interactive tables.';\n",
       "          element.innerHTML = '';\n",
       "          dataTable['output_type'] = 'display_data';\n",
       "          await google.colab.output.renderOutput(dataTable, element);\n",
       "          const docLink = document.createElement('div');\n",
       "          docLink.innerHTML = docLinkHtml;\n",
       "          element.appendChild(docLink);\n",
       "        }\n",
       "      </script>\n",
       "    </div>\n",
       "  </div>\n",
       "  "
      ],
      "text/plain": [
       "   PassengerId  Survived  Pclass        Age  SibSp  Parch     Fare  Male  Q  S\n",
       "0            1         0       3  22.000000      1      0   7.2500     0  0  1\n",
       "1            2         1       1  38.000000      1      0  71.2833     1  0  0\n",
       "2            3         1       3  26.000000      0      0   7.9250     1  0  1\n",
       "3            4         1       1  35.000000      1      0  53.1000     1  0  1\n",
       "4            5         0       3  35.000000      0      0   8.0500     0  0  1\n",
       "5            6         0       3  29.699118      0      0   8.4583     0  1  0\n",
       "6            7         0       1  54.000000      0      0  51.8625     0  0  1\n",
       "7            8         0       3   2.000000      3      1  21.0750     0  0  1\n",
       "8            9         1       3  27.000000      0      2  11.1333     1  0  1\n",
       "9           10         1       2  14.000000      1      0  30.0708     1  0  0"
      ]
     },
     "execution_count": 71,
     "metadata": {},
     "output_type": "execute_result"
    }
   ],
   "source": [
    "df.head(10)"
   ]
  },
  {
   "cell_type": "code",
   "execution_count": 72,
   "metadata": {
    "colab": {
     "base_uri": "https://localhost:8080/"
    },
    "executionInfo": {
     "elapsed": 71,
     "status": "ok",
     "timestamp": 1666237632465,
     "user": {
      "displayName": "Mohit Kumar",
      "userId": "03888987891614882912"
     },
     "user_tz": -330
    },
    "id": "rULiY90b6VD8",
    "outputId": "a85e3d8c-ddc9-41f2-978c-c701cdce1b02"
   },
   "outputs": [
    {
     "data": {
      "text/plain": [
       "array(['PassengerId', 'Survived', 'Pclass', 'Age', 'SibSp', 'Parch',\n",
       "       'Fare', 'Male', 'Q', 'S'], dtype=object)"
      ]
     },
     "execution_count": 72,
     "metadata": {},
     "output_type": "execute_result"
    }
   ],
   "source": [
    "df.columns.values"
   ]
  },
  {
   "cell_type": "code",
   "execution_count": 73,
   "metadata": {
    "executionInfo": {
     "elapsed": 67,
     "status": "ok",
     "timestamp": 1666237632466,
     "user": {
      "displayName": "Mohit Kumar",
      "userId": "03888987891614882912"
     },
     "user_tz": -330
    },
    "id": "VPXRfUG26eyU"
   },
   "outputs": [],
   "source": [
    "df.columns = ['PassengerId', 'Survived', 'Pclass', 'Age', 'SibSp', 'Parch',\n",
    "       'Fare', 'Male', 'Embarked at Q', 'Embarked at S']"
   ]
  },
  {
   "cell_type": "code",
   "execution_count": 74,
   "metadata": {
    "colab": {
     "base_uri": "https://localhost:8080/",
     "height": 0
    },
    "executionInfo": {
     "elapsed": 66,
     "status": "ok",
     "timestamp": 1666237632466,
     "user": {
      "displayName": "Mohit Kumar",
      "userId": "03888987891614882912"
     },
     "user_tz": -330
    },
    "id": "CcVxY5-36rDK",
    "outputId": "5f6ee1e8-21ae-448c-e477-414324525763"
   },
   "outputs": [
    {
     "data": {
      "text/html": [
       "\n",
       "  <div id=\"df-295df85e-75f1-416b-8b7e-922bbd60e0a3\">\n",
       "    <div class=\"colab-df-container\">\n",
       "      <div>\n",
       "<style scoped>\n",
       "    .dataframe tbody tr th:only-of-type {\n",
       "        vertical-align: middle;\n",
       "    }\n",
       "\n",
       "    .dataframe tbody tr th {\n",
       "        vertical-align: top;\n",
       "    }\n",
       "\n",
       "    .dataframe thead th {\n",
       "        text-align: right;\n",
       "    }\n",
       "</style>\n",
       "<table border=\"1\" class=\"dataframe\">\n",
       "  <thead>\n",
       "    <tr style=\"text-align: right;\">\n",
       "      <th></th>\n",
       "      <th>PassengerId</th>\n",
       "      <th>Survived</th>\n",
       "      <th>Pclass</th>\n",
       "      <th>Age</th>\n",
       "      <th>SibSp</th>\n",
       "      <th>Parch</th>\n",
       "      <th>Fare</th>\n",
       "      <th>Male</th>\n",
       "      <th>Embarked at Q</th>\n",
       "      <th>Embarked at S</th>\n",
       "    </tr>\n",
       "  </thead>\n",
       "  <tbody>\n",
       "    <tr>\n",
       "      <th>0</th>\n",
       "      <td>1</td>\n",
       "      <td>0</td>\n",
       "      <td>3</td>\n",
       "      <td>22.000000</td>\n",
       "      <td>1</td>\n",
       "      <td>0</td>\n",
       "      <td>7.2500</td>\n",
       "      <td>0</td>\n",
       "      <td>0</td>\n",
       "      <td>1</td>\n",
       "    </tr>\n",
       "    <tr>\n",
       "      <th>1</th>\n",
       "      <td>2</td>\n",
       "      <td>1</td>\n",
       "      <td>1</td>\n",
       "      <td>38.000000</td>\n",
       "      <td>1</td>\n",
       "      <td>0</td>\n",
       "      <td>71.2833</td>\n",
       "      <td>1</td>\n",
       "      <td>0</td>\n",
       "      <td>0</td>\n",
       "    </tr>\n",
       "    <tr>\n",
       "      <th>2</th>\n",
       "      <td>3</td>\n",
       "      <td>1</td>\n",
       "      <td>3</td>\n",
       "      <td>26.000000</td>\n",
       "      <td>0</td>\n",
       "      <td>0</td>\n",
       "      <td>7.9250</td>\n",
       "      <td>1</td>\n",
       "      <td>0</td>\n",
       "      <td>1</td>\n",
       "    </tr>\n",
       "    <tr>\n",
       "      <th>3</th>\n",
       "      <td>4</td>\n",
       "      <td>1</td>\n",
       "      <td>1</td>\n",
       "      <td>35.000000</td>\n",
       "      <td>1</td>\n",
       "      <td>0</td>\n",
       "      <td>53.1000</td>\n",
       "      <td>1</td>\n",
       "      <td>0</td>\n",
       "      <td>1</td>\n",
       "    </tr>\n",
       "    <tr>\n",
       "      <th>4</th>\n",
       "      <td>5</td>\n",
       "      <td>0</td>\n",
       "      <td>3</td>\n",
       "      <td>35.000000</td>\n",
       "      <td>0</td>\n",
       "      <td>0</td>\n",
       "      <td>8.0500</td>\n",
       "      <td>0</td>\n",
       "      <td>0</td>\n",
       "      <td>1</td>\n",
       "    </tr>\n",
       "    <tr>\n",
       "      <th>5</th>\n",
       "      <td>6</td>\n",
       "      <td>0</td>\n",
       "      <td>3</td>\n",
       "      <td>29.699118</td>\n",
       "      <td>0</td>\n",
       "      <td>0</td>\n",
       "      <td>8.4583</td>\n",
       "      <td>0</td>\n",
       "      <td>1</td>\n",
       "      <td>0</td>\n",
       "    </tr>\n",
       "    <tr>\n",
       "      <th>6</th>\n",
       "      <td>7</td>\n",
       "      <td>0</td>\n",
       "      <td>1</td>\n",
       "      <td>54.000000</td>\n",
       "      <td>0</td>\n",
       "      <td>0</td>\n",
       "      <td>51.8625</td>\n",
       "      <td>0</td>\n",
       "      <td>0</td>\n",
       "      <td>1</td>\n",
       "    </tr>\n",
       "    <tr>\n",
       "      <th>7</th>\n",
       "      <td>8</td>\n",
       "      <td>0</td>\n",
       "      <td>3</td>\n",
       "      <td>2.000000</td>\n",
       "      <td>3</td>\n",
       "      <td>1</td>\n",
       "      <td>21.0750</td>\n",
       "      <td>0</td>\n",
       "      <td>0</td>\n",
       "      <td>1</td>\n",
       "    </tr>\n",
       "    <tr>\n",
       "      <th>8</th>\n",
       "      <td>9</td>\n",
       "      <td>1</td>\n",
       "      <td>3</td>\n",
       "      <td>27.000000</td>\n",
       "      <td>0</td>\n",
       "      <td>2</td>\n",
       "      <td>11.1333</td>\n",
       "      <td>1</td>\n",
       "      <td>0</td>\n",
       "      <td>1</td>\n",
       "    </tr>\n",
       "    <tr>\n",
       "      <th>9</th>\n",
       "      <td>10</td>\n",
       "      <td>1</td>\n",
       "      <td>2</td>\n",
       "      <td>14.000000</td>\n",
       "      <td>1</td>\n",
       "      <td>0</td>\n",
       "      <td>30.0708</td>\n",
       "      <td>1</td>\n",
       "      <td>0</td>\n",
       "      <td>0</td>\n",
       "    </tr>\n",
       "  </tbody>\n",
       "</table>\n",
       "</div>\n",
       "      <button class=\"colab-df-convert\" onclick=\"convertToInteractive('df-295df85e-75f1-416b-8b7e-922bbd60e0a3')\"\n",
       "              title=\"Convert this dataframe to an interactive table.\"\n",
       "              style=\"display:none;\">\n",
       "        \n",
       "  <svg xmlns=\"http://www.w3.org/2000/svg\" height=\"24px\"viewBox=\"0 0 24 24\"\n",
       "       width=\"24px\">\n",
       "    <path d=\"M0 0h24v24H0V0z\" fill=\"none\"/>\n",
       "    <path d=\"M18.56 5.44l.94 2.06.94-2.06 2.06-.94-2.06-.94-.94-2.06-.94 2.06-2.06.94zm-11 1L8.5 8.5l.94-2.06 2.06-.94-2.06-.94L8.5 2.5l-.94 2.06-2.06.94zm10 10l.94 2.06.94-2.06 2.06-.94-2.06-.94-.94-2.06-.94 2.06-2.06.94z\"/><path d=\"M17.41 7.96l-1.37-1.37c-.4-.4-.92-.59-1.43-.59-.52 0-1.04.2-1.43.59L10.3 9.45l-7.72 7.72c-.78.78-.78 2.05 0 2.83L4 21.41c.39.39.9.59 1.41.59.51 0 1.02-.2 1.41-.59l7.78-7.78 2.81-2.81c.8-.78.8-2.07 0-2.86zM5.41 20L4 18.59l7.72-7.72 1.47 1.35L5.41 20z\"/>\n",
       "  </svg>\n",
       "      </button>\n",
       "      \n",
       "  <style>\n",
       "    .colab-df-container {\n",
       "      display:flex;\n",
       "      flex-wrap:wrap;\n",
       "      gap: 12px;\n",
       "    }\n",
       "\n",
       "    .colab-df-convert {\n",
       "      background-color: #E8F0FE;\n",
       "      border: none;\n",
       "      border-radius: 50%;\n",
       "      cursor: pointer;\n",
       "      display: none;\n",
       "      fill: #1967D2;\n",
       "      height: 32px;\n",
       "      padding: 0 0 0 0;\n",
       "      width: 32px;\n",
       "    }\n",
       "\n",
       "    .colab-df-convert:hover {\n",
       "      background-color: #E2EBFA;\n",
       "      box-shadow: 0px 1px 2px rgba(60, 64, 67, 0.3), 0px 1px 3px 1px rgba(60, 64, 67, 0.15);\n",
       "      fill: #174EA6;\n",
       "    }\n",
       "\n",
       "    [theme=dark] .colab-df-convert {\n",
       "      background-color: #3B4455;\n",
       "      fill: #D2E3FC;\n",
       "    }\n",
       "\n",
       "    [theme=dark] .colab-df-convert:hover {\n",
       "      background-color: #434B5C;\n",
       "      box-shadow: 0px 1px 3px 1px rgba(0, 0, 0, 0.15);\n",
       "      filter: drop-shadow(0px 1px 2px rgba(0, 0, 0, 0.3));\n",
       "      fill: #FFFFFF;\n",
       "    }\n",
       "  </style>\n",
       "\n",
       "      <script>\n",
       "        const buttonEl =\n",
       "          document.querySelector('#df-295df85e-75f1-416b-8b7e-922bbd60e0a3 button.colab-df-convert');\n",
       "        buttonEl.style.display =\n",
       "          google.colab.kernel.accessAllowed ? 'block' : 'none';\n",
       "\n",
       "        async function convertToInteractive(key) {\n",
       "          const element = document.querySelector('#df-295df85e-75f1-416b-8b7e-922bbd60e0a3');\n",
       "          const dataTable =\n",
       "            await google.colab.kernel.invokeFunction('convertToInteractive',\n",
       "                                                     [key], {});\n",
       "          if (!dataTable) return;\n",
       "\n",
       "          const docLinkHtml = 'Like what you see? Visit the ' +\n",
       "            '<a target=\"_blank\" href=https://colab.research.google.com/notebooks/data_table.ipynb>data table notebook</a>'\n",
       "            + ' to learn more about interactive tables.';\n",
       "          element.innerHTML = '';\n",
       "          dataTable['output_type'] = 'display_data';\n",
       "          await google.colab.output.renderOutput(dataTable, element);\n",
       "          const docLink = document.createElement('div');\n",
       "          docLink.innerHTML = docLinkHtml;\n",
       "          element.appendChild(docLink);\n",
       "        }\n",
       "      </script>\n",
       "    </div>\n",
       "  </div>\n",
       "  "
      ],
      "text/plain": [
       "   PassengerId  Survived  Pclass        Age  SibSp  Parch     Fare  Male  \\\n",
       "0            1         0       3  22.000000      1      0   7.2500     0   \n",
       "1            2         1       1  38.000000      1      0  71.2833     1   \n",
       "2            3         1       3  26.000000      0      0   7.9250     1   \n",
       "3            4         1       1  35.000000      1      0  53.1000     1   \n",
       "4            5         0       3  35.000000      0      0   8.0500     0   \n",
       "5            6         0       3  29.699118      0      0   8.4583     0   \n",
       "6            7         0       1  54.000000      0      0  51.8625     0   \n",
       "7            8         0       3   2.000000      3      1  21.0750     0   \n",
       "8            9         1       3  27.000000      0      2  11.1333     1   \n",
       "9           10         1       2  14.000000      1      0  30.0708     1   \n",
       "\n",
       "   Embarked at Q  Embarked at S  \n",
       "0              0              1  \n",
       "1              0              0  \n",
       "2              0              1  \n",
       "3              0              1  \n",
       "4              0              1  \n",
       "5              1              0  \n",
       "6              0              1  \n",
       "7              0              1  \n",
       "8              0              1  \n",
       "9              0              0  "
      ]
     },
     "execution_count": 74,
     "metadata": {},
     "output_type": "execute_result"
    }
   ],
   "source": [
    "df.head(10)"
   ]
  },
  {
   "cell_type": "code",
   "execution_count": 75,
   "metadata": {
    "colab": {
     "base_uri": "https://localhost:8080/",
     "height": 0
    },
    "executionInfo": {
     "elapsed": 3491,
     "status": "ok",
     "timestamp": 1666237635893,
     "user": {
      "displayName": "Mohit Kumar",
      "userId": "03888987891614882912"
     },
     "user_tz": -330
    },
    "id": "0UGvL1jw7RD8",
    "outputId": "2c2b52db-7534-4813-d2b0-8266daadd42c"
   },
   "outputs": [
    {
     "name": "stdout",
     "output_type": "stream",
     "text": [
      "[jovian] Detected Colab notebook...\u001b[0m\n",
      "[jovian] Uploading colab notebook to Jovian...\u001b[0m\n",
      "Committed successfully! https://jovian.ai/mohitcnf95/titanic-machine-learning-from-disaster\n"
     ]
    },
    {
     "data": {
      "application/vnd.google.colaboratory.intrinsic+json": {
       "type": "string"
      },
      "text/plain": [
       "'https://jovian.ai/mohitcnf95/titanic-machine-learning-from-disaster'"
      ]
     },
     "execution_count": 75,
     "metadata": {},
     "output_type": "execute_result"
    }
   ],
   "source": [
    "jovian.commit()"
   ]
  },
  {
   "cell_type": "markdown",
   "metadata": {
    "id": "mOESmZLRD2OC"
   },
   "source": [
    "### Test Data preprocessing"
   ]
  },
  {
   "cell_type": "code",
   "execution_count": 76,
   "metadata": {
    "colab": {
     "base_uri": "https://localhost:8080/"
    },
    "executionInfo": {
     "elapsed": 156,
     "status": "ok",
     "timestamp": 1666237635896,
     "user": {
      "displayName": "Mohit Kumar",
      "userId": "03888987891614882912"
     },
     "user_tz": -330
    },
    "id": "P9USzQsdyjma",
    "outputId": "154c126e-ed96-4ea3-9b4f-eea0a221ba85"
   },
   "outputs": [
    {
     "name": "stdout",
     "output_type": "stream",
     "text": [
      "<class 'pandas.core.frame.DataFrame'>\n",
      "RangeIndex: 418 entries, 0 to 417\n",
      "Data columns (total 11 columns):\n",
      " #   Column       Non-Null Count  Dtype  \n",
      "---  ------       --------------  -----  \n",
      " 0   PassengerId  418 non-null    int64  \n",
      " 1   Pclass       418 non-null    int64  \n",
      " 2   Name         418 non-null    object \n",
      " 3   Sex          418 non-null    object \n",
      " 4   Age          332 non-null    float64\n",
      " 5   SibSp        418 non-null    int64  \n",
      " 6   Parch        418 non-null    int64  \n",
      " 7   Ticket       418 non-null    object \n",
      " 8   Fare         417 non-null    float64\n",
      " 9   Cabin        91 non-null     object \n",
      " 10  Embarked     418 non-null    object \n",
      "dtypes: float64(2), int64(4), object(5)\n",
      "memory usage: 36.0+ KB\n"
     ]
    }
   ],
   "source": [
    "test_df.info()"
   ]
  },
  {
   "cell_type": "code",
   "execution_count": 77,
   "metadata": {
    "colab": {
     "base_uri": "https://localhost:8080/",
     "height": 424
    },
    "executionInfo": {
     "elapsed": 142,
     "status": "ok",
     "timestamp": 1666237635900,
     "user": {
      "displayName": "Mohit Kumar",
      "userId": "03888987891614882912"
     },
     "user_tz": -330
    },
    "id": "R86WLj7_yLhU",
    "outputId": "282502e9-287f-4ad0-fce0-b9d1571ddf5f"
   },
   "outputs": [
    {
     "data": {
      "text/html": [
       "\n",
       "  <div id=\"df-47e5b2cf-ae9c-40c4-9181-7fc30d00ae9c\">\n",
       "    <div class=\"colab-df-container\">\n",
       "      <div>\n",
       "<style scoped>\n",
       "    .dataframe tbody tr th:only-of-type {\n",
       "        vertical-align: middle;\n",
       "    }\n",
       "\n",
       "    .dataframe tbody tr th {\n",
       "        vertical-align: top;\n",
       "    }\n",
       "\n",
       "    .dataframe thead th {\n",
       "        text-align: right;\n",
       "    }\n",
       "</style>\n",
       "<table border=\"1\" class=\"dataframe\">\n",
       "  <thead>\n",
       "    <tr style=\"text-align: right;\">\n",
       "      <th></th>\n",
       "      <th>PassengerId</th>\n",
       "      <th>Pclass</th>\n",
       "      <th>Name</th>\n",
       "      <th>Sex</th>\n",
       "      <th>Age</th>\n",
       "      <th>SibSp</th>\n",
       "      <th>Parch</th>\n",
       "      <th>Ticket</th>\n",
       "      <th>Fare</th>\n",
       "      <th>Cabin</th>\n",
       "      <th>Embarked</th>\n",
       "    </tr>\n",
       "  </thead>\n",
       "  <tbody>\n",
       "    <tr>\n",
       "      <th>0</th>\n",
       "      <td>892</td>\n",
       "      <td>3</td>\n",
       "      <td>Kelly, Mr. James</td>\n",
       "      <td>male</td>\n",
       "      <td>34.50000</td>\n",
       "      <td>0</td>\n",
       "      <td>0</td>\n",
       "      <td>330911</td>\n",
       "      <td>7.8292</td>\n",
       "      <td>NaN</td>\n",
       "      <td>Q</td>\n",
       "    </tr>\n",
       "    <tr>\n",
       "      <th>1</th>\n",
       "      <td>893</td>\n",
       "      <td>3</td>\n",
       "      <td>Wilkes, Mrs. James (Ellen Needs)</td>\n",
       "      <td>female</td>\n",
       "      <td>47.00000</td>\n",
       "      <td>1</td>\n",
       "      <td>0</td>\n",
       "      <td>363272</td>\n",
       "      <td>7.0000</td>\n",
       "      <td>NaN</td>\n",
       "      <td>S</td>\n",
       "    </tr>\n",
       "    <tr>\n",
       "      <th>2</th>\n",
       "      <td>894</td>\n",
       "      <td>2</td>\n",
       "      <td>Myles, Mr. Thomas Francis</td>\n",
       "      <td>male</td>\n",
       "      <td>62.00000</td>\n",
       "      <td>0</td>\n",
       "      <td>0</td>\n",
       "      <td>240276</td>\n",
       "      <td>9.6875</td>\n",
       "      <td>NaN</td>\n",
       "      <td>Q</td>\n",
       "    </tr>\n",
       "    <tr>\n",
       "      <th>3</th>\n",
       "      <td>895</td>\n",
       "      <td>3</td>\n",
       "      <td>Wirz, Mr. Albert</td>\n",
       "      <td>male</td>\n",
       "      <td>27.00000</td>\n",
       "      <td>0</td>\n",
       "      <td>0</td>\n",
       "      <td>315154</td>\n",
       "      <td>8.6625</td>\n",
       "      <td>NaN</td>\n",
       "      <td>S</td>\n",
       "    </tr>\n",
       "    <tr>\n",
       "      <th>4</th>\n",
       "      <td>896</td>\n",
       "      <td>3</td>\n",
       "      <td>Hirvonen, Mrs. Alexander (Helga E Lindqvist)</td>\n",
       "      <td>female</td>\n",
       "      <td>22.00000</td>\n",
       "      <td>1</td>\n",
       "      <td>1</td>\n",
       "      <td>3101298</td>\n",
       "      <td>12.2875</td>\n",
       "      <td>NaN</td>\n",
       "      <td>S</td>\n",
       "    </tr>\n",
       "    <tr>\n",
       "      <th>...</th>\n",
       "      <td>...</td>\n",
       "      <td>...</td>\n",
       "      <td>...</td>\n",
       "      <td>...</td>\n",
       "      <td>...</td>\n",
       "      <td>...</td>\n",
       "      <td>...</td>\n",
       "      <td>...</td>\n",
       "      <td>...</td>\n",
       "      <td>...</td>\n",
       "      <td>...</td>\n",
       "    </tr>\n",
       "    <tr>\n",
       "      <th>413</th>\n",
       "      <td>1305</td>\n",
       "      <td>3</td>\n",
       "      <td>Spector, Mr. Woolf</td>\n",
       "      <td>male</td>\n",
       "      <td>30.27259</td>\n",
       "      <td>0</td>\n",
       "      <td>0</td>\n",
       "      <td>A.5. 3236</td>\n",
       "      <td>8.0500</td>\n",
       "      <td>NaN</td>\n",
       "      <td>S</td>\n",
       "    </tr>\n",
       "    <tr>\n",
       "      <th>414</th>\n",
       "      <td>1306</td>\n",
       "      <td>1</td>\n",
       "      <td>Oliva y Ocana, Dona. Fermina</td>\n",
       "      <td>female</td>\n",
       "      <td>39.00000</td>\n",
       "      <td>0</td>\n",
       "      <td>0</td>\n",
       "      <td>PC 17758</td>\n",
       "      <td>108.9000</td>\n",
       "      <td>C105</td>\n",
       "      <td>C</td>\n",
       "    </tr>\n",
       "    <tr>\n",
       "      <th>415</th>\n",
       "      <td>1307</td>\n",
       "      <td>3</td>\n",
       "      <td>Saether, Mr. Simon Sivertsen</td>\n",
       "      <td>male</td>\n",
       "      <td>38.50000</td>\n",
       "      <td>0</td>\n",
       "      <td>0</td>\n",
       "      <td>SOTON/O.Q. 3101262</td>\n",
       "      <td>7.2500</td>\n",
       "      <td>NaN</td>\n",
       "      <td>S</td>\n",
       "    </tr>\n",
       "    <tr>\n",
       "      <th>416</th>\n",
       "      <td>1308</td>\n",
       "      <td>3</td>\n",
       "      <td>Ware, Mr. Frederick</td>\n",
       "      <td>male</td>\n",
       "      <td>30.27259</td>\n",
       "      <td>0</td>\n",
       "      <td>0</td>\n",
       "      <td>359309</td>\n",
       "      <td>8.0500</td>\n",
       "      <td>NaN</td>\n",
       "      <td>S</td>\n",
       "    </tr>\n",
       "    <tr>\n",
       "      <th>417</th>\n",
       "      <td>1309</td>\n",
       "      <td>3</td>\n",
       "      <td>Peter, Master. Michael J</td>\n",
       "      <td>male</td>\n",
       "      <td>30.27259</td>\n",
       "      <td>1</td>\n",
       "      <td>1</td>\n",
       "      <td>2668</td>\n",
       "      <td>22.3583</td>\n",
       "      <td>NaN</td>\n",
       "      <td>C</td>\n",
       "    </tr>\n",
       "  </tbody>\n",
       "</table>\n",
       "<p>418 rows × 11 columns</p>\n",
       "</div>\n",
       "      <button class=\"colab-df-convert\" onclick=\"convertToInteractive('df-47e5b2cf-ae9c-40c4-9181-7fc30d00ae9c')\"\n",
       "              title=\"Convert this dataframe to an interactive table.\"\n",
       "              style=\"display:none;\">\n",
       "        \n",
       "  <svg xmlns=\"http://www.w3.org/2000/svg\" height=\"24px\"viewBox=\"0 0 24 24\"\n",
       "       width=\"24px\">\n",
       "    <path d=\"M0 0h24v24H0V0z\" fill=\"none\"/>\n",
       "    <path d=\"M18.56 5.44l.94 2.06.94-2.06 2.06-.94-2.06-.94-.94-2.06-.94 2.06-2.06.94zm-11 1L8.5 8.5l.94-2.06 2.06-.94-2.06-.94L8.5 2.5l-.94 2.06-2.06.94zm10 10l.94 2.06.94-2.06 2.06-.94-2.06-.94-.94-2.06-.94 2.06-2.06.94z\"/><path d=\"M17.41 7.96l-1.37-1.37c-.4-.4-.92-.59-1.43-.59-.52 0-1.04.2-1.43.59L10.3 9.45l-7.72 7.72c-.78.78-.78 2.05 0 2.83L4 21.41c.39.39.9.59 1.41.59.51 0 1.02-.2 1.41-.59l7.78-7.78 2.81-2.81c.8-.78.8-2.07 0-2.86zM5.41 20L4 18.59l7.72-7.72 1.47 1.35L5.41 20z\"/>\n",
       "  </svg>\n",
       "      </button>\n",
       "      \n",
       "  <style>\n",
       "    .colab-df-container {\n",
       "      display:flex;\n",
       "      flex-wrap:wrap;\n",
       "      gap: 12px;\n",
       "    }\n",
       "\n",
       "    .colab-df-convert {\n",
       "      background-color: #E8F0FE;\n",
       "      border: none;\n",
       "      border-radius: 50%;\n",
       "      cursor: pointer;\n",
       "      display: none;\n",
       "      fill: #1967D2;\n",
       "      height: 32px;\n",
       "      padding: 0 0 0 0;\n",
       "      width: 32px;\n",
       "    }\n",
       "\n",
       "    .colab-df-convert:hover {\n",
       "      background-color: #E2EBFA;\n",
       "      box-shadow: 0px 1px 2px rgba(60, 64, 67, 0.3), 0px 1px 3px 1px rgba(60, 64, 67, 0.15);\n",
       "      fill: #174EA6;\n",
       "    }\n",
       "\n",
       "    [theme=dark] .colab-df-convert {\n",
       "      background-color: #3B4455;\n",
       "      fill: #D2E3FC;\n",
       "    }\n",
       "\n",
       "    [theme=dark] .colab-df-convert:hover {\n",
       "      background-color: #434B5C;\n",
       "      box-shadow: 0px 1px 3px 1px rgba(0, 0, 0, 0.15);\n",
       "      filter: drop-shadow(0px 1px 2px rgba(0, 0, 0, 0.3));\n",
       "      fill: #FFFFFF;\n",
       "    }\n",
       "  </style>\n",
       "\n",
       "      <script>\n",
       "        const buttonEl =\n",
       "          document.querySelector('#df-47e5b2cf-ae9c-40c4-9181-7fc30d00ae9c button.colab-df-convert');\n",
       "        buttonEl.style.display =\n",
       "          google.colab.kernel.accessAllowed ? 'block' : 'none';\n",
       "\n",
       "        async function convertToInteractive(key) {\n",
       "          const element = document.querySelector('#df-47e5b2cf-ae9c-40c4-9181-7fc30d00ae9c');\n",
       "          const dataTable =\n",
       "            await google.colab.kernel.invokeFunction('convertToInteractive',\n",
       "                                                     [key], {});\n",
       "          if (!dataTable) return;\n",
       "\n",
       "          const docLinkHtml = 'Like what you see? Visit the ' +\n",
       "            '<a target=\"_blank\" href=https://colab.research.google.com/notebooks/data_table.ipynb>data table notebook</a>'\n",
       "            + ' to learn more about interactive tables.';\n",
       "          element.innerHTML = '';\n",
       "          dataTable['output_type'] = 'display_data';\n",
       "          await google.colab.output.renderOutput(dataTable, element);\n",
       "          const docLink = document.createElement('div');\n",
       "          docLink.innerHTML = docLinkHtml;\n",
       "          element.appendChild(docLink);\n",
       "        }\n",
       "      </script>\n",
       "    </div>\n",
       "  </div>\n",
       "  "
      ],
      "text/plain": [
       "     PassengerId  Pclass                                          Name  \\\n",
       "0            892       3                              Kelly, Mr. James   \n",
       "1            893       3              Wilkes, Mrs. James (Ellen Needs)   \n",
       "2            894       2                     Myles, Mr. Thomas Francis   \n",
       "3            895       3                              Wirz, Mr. Albert   \n",
       "4            896       3  Hirvonen, Mrs. Alexander (Helga E Lindqvist)   \n",
       "..           ...     ...                                           ...   \n",
       "413         1305       3                            Spector, Mr. Woolf   \n",
       "414         1306       1                  Oliva y Ocana, Dona. Fermina   \n",
       "415         1307       3                  Saether, Mr. Simon Sivertsen   \n",
       "416         1308       3                           Ware, Mr. Frederick   \n",
       "417         1309       3                      Peter, Master. Michael J   \n",
       "\n",
       "        Sex       Age  SibSp  Parch              Ticket      Fare Cabin  \\\n",
       "0      male  34.50000      0      0              330911    7.8292   NaN   \n",
       "1    female  47.00000      1      0              363272    7.0000   NaN   \n",
       "2      male  62.00000      0      0              240276    9.6875   NaN   \n",
       "3      male  27.00000      0      0              315154    8.6625   NaN   \n",
       "4    female  22.00000      1      1             3101298   12.2875   NaN   \n",
       "..      ...       ...    ...    ...                 ...       ...   ...   \n",
       "413    male  30.27259      0      0           A.5. 3236    8.0500   NaN   \n",
       "414  female  39.00000      0      0            PC 17758  108.9000  C105   \n",
       "415    male  38.50000      0      0  SOTON/O.Q. 3101262    7.2500   NaN   \n",
       "416    male  30.27259      0      0              359309    8.0500   NaN   \n",
       "417    male  30.27259      1      1                2668   22.3583   NaN   \n",
       "\n",
       "    Embarked  \n",
       "0          Q  \n",
       "1          S  \n",
       "2          Q  \n",
       "3          S  \n",
       "4          S  \n",
       "..       ...  \n",
       "413        S  \n",
       "414        C  \n",
       "415        S  \n",
       "416        S  \n",
       "417        C  \n",
       "\n",
       "[418 rows x 11 columns]"
      ]
     },
     "execution_count": 77,
     "metadata": {},
     "output_type": "execute_result"
    }
   ],
   "source": [
    "test_df['Age'].fillna((test_df['Age'].mean()), inplace=True)\n",
    "test_df"
   ]
  },
  {
   "cell_type": "code",
   "execution_count": 78,
   "metadata": {
    "colab": {
     "base_uri": "https://localhost:8080/"
    },
    "executionInfo": {
     "elapsed": 139,
     "status": "ok",
     "timestamp": 1666237635903,
     "user": {
      "displayName": "Mohit Kumar",
      "userId": "03888987891614882912"
     },
     "user_tz": -330
    },
    "id": "aduCMWYF0ANs",
    "outputId": "fef40a2d-729f-4af7-8c43-4a0d4599cd46"
   },
   "outputs": [
    {
     "data": {
      "text/plain": [
       "30.27259    86\n",
       "24.00000    17\n",
       "21.00000    17\n",
       "22.00000    16\n",
       "30.00000    15\n",
       "            ..\n",
       "76.00000     1\n",
       "28.50000     1\n",
       "22.50000     1\n",
       "62.00000     1\n",
       "38.50000     1\n",
       "Name: Age, Length: 80, dtype: int64"
      ]
     },
     "execution_count": 78,
     "metadata": {},
     "output_type": "execute_result"
    }
   ],
   "source": [
    "test_df['Age'].value_counts()"
   ]
  },
  {
   "cell_type": "code",
   "execution_count": 79,
   "metadata": {
    "colab": {
     "base_uri": "https://localhost:8080/"
    },
    "executionInfo": {
     "elapsed": 131,
     "status": "ok",
     "timestamp": 1666237635905,
     "user": {
      "displayName": "Mohit Kumar",
      "userId": "03888987891614882912"
     },
     "user_tz": -330
    },
    "id": "-MKb4YfM1i5d",
    "outputId": "e04ef4e8-1208-4dc5-d338-0f5227069b2d"
   },
   "outputs": [
    {
     "data": {
      "text/plain": [
       "nan"
      ]
     },
     "execution_count": 79,
     "metadata": {},
     "output_type": "execute_result"
    }
   ],
   "source": [
    "test_df['Fare'][152]"
   ]
  },
  {
   "cell_type": "code",
   "execution_count": 80,
   "metadata": {
    "colab": {
     "base_uri": "https://localhost:8080/"
    },
    "executionInfo": {
     "elapsed": 125,
     "status": "ok",
     "timestamp": 1666237635908,
     "user": {
      "displayName": "Mohit Kumar",
      "userId": "03888987891614882912"
     },
     "user_tz": -330
    },
    "id": "MrKzM0ym1LIk",
    "outputId": "df6ee876-6dcb-47b9-cfc0-eb8a1df841e0"
   },
   "outputs": [
    {
     "name": "stderr",
     "output_type": "stream",
     "text": [
      "/usr/local/lib/python3.7/dist-packages/ipykernel_launcher.py:1: SettingWithCopyWarning: \n",
      "A value is trying to be set on a copy of a slice from a DataFrame\n",
      "\n",
      "See the caveats in the documentation: https://pandas.pydata.org/pandas-docs/stable/user_guide/indexing.html#returning-a-view-versus-a-copy\n",
      "  \"\"\"Entry point for launching an IPython kernel.\n"
     ]
    }
   ],
   "source": [
    "test_df['Fare'][152] = test_df['Fare'].mean()"
   ]
  },
  {
   "cell_type": "code",
   "execution_count": 81,
   "metadata": {
    "colab": {
     "base_uri": "https://localhost:8080/"
    },
    "executionInfo": {
     "elapsed": 119,
     "status": "ok",
     "timestamp": 1666237635911,
     "user": {
      "displayName": "Mohit Kumar",
      "userId": "03888987891614882912"
     },
     "user_tz": -330
    },
    "id": "acgxB17m1lOu",
    "outputId": "95eca05b-4d78-42b6-d8fb-c5084e989890"
   },
   "outputs": [
    {
     "data": {
      "text/plain": [
       "35.627188489208635"
      ]
     },
     "execution_count": 81,
     "metadata": {},
     "output_type": "execute_result"
    }
   ],
   "source": [
    "test_df['Fare'][152]"
   ]
  },
  {
   "cell_type": "code",
   "execution_count": 82,
   "metadata": {
    "colab": {
     "base_uri": "https://localhost:8080/"
    },
    "executionInfo": {
     "elapsed": 112,
     "status": "ok",
     "timestamp": 1666237635913,
     "user": {
      "displayName": "Mohit Kumar",
      "userId": "03888987891614882912"
     },
     "user_tz": -330
    },
    "id": "6-jpFMh4yf95",
    "outputId": "1564acb3-6fd3-4c89-f10f-fa032cb2b2cb"
   },
   "outputs": [
    {
     "data": {
      "text/plain": [
       "0        7.8292\n",
       "1        7.0000\n",
       "2        9.6875\n",
       "3        8.6625\n",
       "4       12.2875\n",
       "         ...   \n",
       "413      8.0500\n",
       "414    108.9000\n",
       "415      7.2500\n",
       "416      8.0500\n",
       "417     22.3583\n",
       "Name: Fare, Length: 418, dtype: float64"
      ]
     },
     "execution_count": 82,
     "metadata": {},
     "output_type": "execute_result"
    }
   ],
   "source": [
    "test_df['Fare']"
   ]
  },
  {
   "cell_type": "code",
   "execution_count": 83,
   "metadata": {
    "colab": {
     "base_uri": "https://localhost:8080/",
     "height": 424
    },
    "executionInfo": {
     "elapsed": 105,
     "status": "ok",
     "timestamp": 1666237635915,
     "user": {
      "displayName": "Mohit Kumar",
      "userId": "03888987891614882912"
     },
     "user_tz": -330
    },
    "id": "0Igc5y4cD8Rs",
    "outputId": "fba64de1-c182-431c-f2a4-65caf2319127"
   },
   "outputs": [
    {
     "data": {
      "text/html": [
       "\n",
       "  <div id=\"df-d7dfdca1-4e29-45d4-a2a3-2dd0d5f0e52a\">\n",
       "    <div class=\"colab-df-container\">\n",
       "      <div>\n",
       "<style scoped>\n",
       "    .dataframe tbody tr th:only-of-type {\n",
       "        vertical-align: middle;\n",
       "    }\n",
       "\n",
       "    .dataframe tbody tr th {\n",
       "        vertical-align: top;\n",
       "    }\n",
       "\n",
       "    .dataframe thead th {\n",
       "        text-align: right;\n",
       "    }\n",
       "</style>\n",
       "<table border=\"1\" class=\"dataframe\">\n",
       "  <thead>\n",
       "    <tr style=\"text-align: right;\">\n",
       "      <th></th>\n",
       "      <th>female</th>\n",
       "      <th>male</th>\n",
       "    </tr>\n",
       "  </thead>\n",
       "  <tbody>\n",
       "    <tr>\n",
       "      <th>0</th>\n",
       "      <td>0</td>\n",
       "      <td>1</td>\n",
       "    </tr>\n",
       "    <tr>\n",
       "      <th>1</th>\n",
       "      <td>1</td>\n",
       "      <td>0</td>\n",
       "    </tr>\n",
       "    <tr>\n",
       "      <th>2</th>\n",
       "      <td>0</td>\n",
       "      <td>1</td>\n",
       "    </tr>\n",
       "    <tr>\n",
       "      <th>3</th>\n",
       "      <td>0</td>\n",
       "      <td>1</td>\n",
       "    </tr>\n",
       "    <tr>\n",
       "      <th>4</th>\n",
       "      <td>1</td>\n",
       "      <td>0</td>\n",
       "    </tr>\n",
       "    <tr>\n",
       "      <th>...</th>\n",
       "      <td>...</td>\n",
       "      <td>...</td>\n",
       "    </tr>\n",
       "    <tr>\n",
       "      <th>413</th>\n",
       "      <td>0</td>\n",
       "      <td>1</td>\n",
       "    </tr>\n",
       "    <tr>\n",
       "      <th>414</th>\n",
       "      <td>1</td>\n",
       "      <td>0</td>\n",
       "    </tr>\n",
       "    <tr>\n",
       "      <th>415</th>\n",
       "      <td>0</td>\n",
       "      <td>1</td>\n",
       "    </tr>\n",
       "    <tr>\n",
       "      <th>416</th>\n",
       "      <td>0</td>\n",
       "      <td>1</td>\n",
       "    </tr>\n",
       "    <tr>\n",
       "      <th>417</th>\n",
       "      <td>0</td>\n",
       "      <td>1</td>\n",
       "    </tr>\n",
       "  </tbody>\n",
       "</table>\n",
       "<p>418 rows × 2 columns</p>\n",
       "</div>\n",
       "      <button class=\"colab-df-convert\" onclick=\"convertToInteractive('df-d7dfdca1-4e29-45d4-a2a3-2dd0d5f0e52a')\"\n",
       "              title=\"Convert this dataframe to an interactive table.\"\n",
       "              style=\"display:none;\">\n",
       "        \n",
       "  <svg xmlns=\"http://www.w3.org/2000/svg\" height=\"24px\"viewBox=\"0 0 24 24\"\n",
       "       width=\"24px\">\n",
       "    <path d=\"M0 0h24v24H0V0z\" fill=\"none\"/>\n",
       "    <path d=\"M18.56 5.44l.94 2.06.94-2.06 2.06-.94-2.06-.94-.94-2.06-.94 2.06-2.06.94zm-11 1L8.5 8.5l.94-2.06 2.06-.94-2.06-.94L8.5 2.5l-.94 2.06-2.06.94zm10 10l.94 2.06.94-2.06 2.06-.94-2.06-.94-.94-2.06-.94 2.06-2.06.94z\"/><path d=\"M17.41 7.96l-1.37-1.37c-.4-.4-.92-.59-1.43-.59-.52 0-1.04.2-1.43.59L10.3 9.45l-7.72 7.72c-.78.78-.78 2.05 0 2.83L4 21.41c.39.39.9.59 1.41.59.51 0 1.02-.2 1.41-.59l7.78-7.78 2.81-2.81c.8-.78.8-2.07 0-2.86zM5.41 20L4 18.59l7.72-7.72 1.47 1.35L5.41 20z\"/>\n",
       "  </svg>\n",
       "      </button>\n",
       "      \n",
       "  <style>\n",
       "    .colab-df-container {\n",
       "      display:flex;\n",
       "      flex-wrap:wrap;\n",
       "      gap: 12px;\n",
       "    }\n",
       "\n",
       "    .colab-df-convert {\n",
       "      background-color: #E8F0FE;\n",
       "      border: none;\n",
       "      border-radius: 50%;\n",
       "      cursor: pointer;\n",
       "      display: none;\n",
       "      fill: #1967D2;\n",
       "      height: 32px;\n",
       "      padding: 0 0 0 0;\n",
       "      width: 32px;\n",
       "    }\n",
       "\n",
       "    .colab-df-convert:hover {\n",
       "      background-color: #E2EBFA;\n",
       "      box-shadow: 0px 1px 2px rgba(60, 64, 67, 0.3), 0px 1px 3px 1px rgba(60, 64, 67, 0.15);\n",
       "      fill: #174EA6;\n",
       "    }\n",
       "\n",
       "    [theme=dark] .colab-df-convert {\n",
       "      background-color: #3B4455;\n",
       "      fill: #D2E3FC;\n",
       "    }\n",
       "\n",
       "    [theme=dark] .colab-df-convert:hover {\n",
       "      background-color: #434B5C;\n",
       "      box-shadow: 0px 1px 3px 1px rgba(0, 0, 0, 0.15);\n",
       "      filter: drop-shadow(0px 1px 2px rgba(0, 0, 0, 0.3));\n",
       "      fill: #FFFFFF;\n",
       "    }\n",
       "  </style>\n",
       "\n",
       "      <script>\n",
       "        const buttonEl =\n",
       "          document.querySelector('#df-d7dfdca1-4e29-45d4-a2a3-2dd0d5f0e52a button.colab-df-convert');\n",
       "        buttonEl.style.display =\n",
       "          google.colab.kernel.accessAllowed ? 'block' : 'none';\n",
       "\n",
       "        async function convertToInteractive(key) {\n",
       "          const element = document.querySelector('#df-d7dfdca1-4e29-45d4-a2a3-2dd0d5f0e52a');\n",
       "          const dataTable =\n",
       "            await google.colab.kernel.invokeFunction('convertToInteractive',\n",
       "                                                     [key], {});\n",
       "          if (!dataTable) return;\n",
       "\n",
       "          const docLinkHtml = 'Like what you see? Visit the ' +\n",
       "            '<a target=\"_blank\" href=https://colab.research.google.com/notebooks/data_table.ipynb>data table notebook</a>'\n",
       "            + ' to learn more about interactive tables.';\n",
       "          element.innerHTML = '';\n",
       "          dataTable['output_type'] = 'display_data';\n",
       "          await google.colab.output.renderOutput(dataTable, element);\n",
       "          const docLink = document.createElement('div');\n",
       "          docLink.innerHTML = docLinkHtml;\n",
       "          element.appendChild(docLink);\n",
       "        }\n",
       "      </script>\n",
       "    </div>\n",
       "  </div>\n",
       "  "
      ],
      "text/plain": [
       "     female  male\n",
       "0         0     1\n",
       "1         1     0\n",
       "2         0     1\n",
       "3         0     1\n",
       "4         1     0\n",
       "..      ...   ...\n",
       "413       0     1\n",
       "414       1     0\n",
       "415       0     1\n",
       "416       0     1\n",
       "417       0     1\n",
       "\n",
       "[418 rows x 2 columns]"
      ]
     },
     "execution_count": 83,
     "metadata": {},
     "output_type": "execute_result"
    }
   ],
   "source": [
    "Sex_of_Passanger = pd.get_dummies(test_df['Sex'])\n",
    "Sex_of_Passanger"
   ]
  },
  {
   "cell_type": "code",
   "execution_count": 84,
   "metadata": {
    "colab": {
     "base_uri": "https://localhost:8080/"
    },
    "executionInfo": {
     "elapsed": 103,
     "status": "ok",
     "timestamp": 1666237635917,
     "user": {
      "displayName": "Mohit Kumar",
      "userId": "03888987891614882912"
     },
     "user_tz": -330
    },
    "id": "x09lgyvAEZBI",
    "outputId": "f7cf381c-bd43-42d6-a9a3-b157231f02d5"
   },
   "outputs": [
    {
     "data": {
      "text/plain": [
       "Index(['PassengerId', 'Pclass', 'Name', 'Sex', 'Age', 'SibSp', 'Parch',\n",
       "       'Ticket', 'Fare', 'Cabin', 'Embarked'],\n",
       "      dtype='object')"
      ]
     },
     "execution_count": 84,
     "metadata": {},
     "output_type": "execute_result"
    }
   ],
   "source": [
    "test_df.columns"
   ]
  },
  {
   "cell_type": "code",
   "execution_count": 85,
   "metadata": {
    "colab": {
     "base_uri": "https://localhost:8080/",
     "height": 424
    },
    "executionInfo": {
     "elapsed": 96,
     "status": "ok",
     "timestamp": 1666237635919,
     "user": {
      "displayName": "Mohit Kumar",
      "userId": "03888987891614882912"
     },
     "user_tz": -330
    },
    "id": "X55iZlA1ENW4",
    "outputId": "fd179200-f4ef-4454-c99c-e2f0e90d41cc"
   },
   "outputs": [
    {
     "data": {
      "text/html": [
       "\n",
       "  <div id=\"df-efea46c1-c7eb-4ad1-8cb1-722ef8fee794\">\n",
       "    <div class=\"colab-df-container\">\n",
       "      <div>\n",
       "<style scoped>\n",
       "    .dataframe tbody tr th:only-of-type {\n",
       "        vertical-align: middle;\n",
       "    }\n",
       "\n",
       "    .dataframe tbody tr th {\n",
       "        vertical-align: top;\n",
       "    }\n",
       "\n",
       "    .dataframe thead th {\n",
       "        text-align: right;\n",
       "    }\n",
       "</style>\n",
       "<table border=\"1\" class=\"dataframe\">\n",
       "  <thead>\n",
       "    <tr style=\"text-align: right;\">\n",
       "      <th></th>\n",
       "      <th>C</th>\n",
       "      <th>Q</th>\n",
       "      <th>S</th>\n",
       "    </tr>\n",
       "  </thead>\n",
       "  <tbody>\n",
       "    <tr>\n",
       "      <th>0</th>\n",
       "      <td>0</td>\n",
       "      <td>1</td>\n",
       "      <td>0</td>\n",
       "    </tr>\n",
       "    <tr>\n",
       "      <th>1</th>\n",
       "      <td>0</td>\n",
       "      <td>0</td>\n",
       "      <td>1</td>\n",
       "    </tr>\n",
       "    <tr>\n",
       "      <th>2</th>\n",
       "      <td>0</td>\n",
       "      <td>1</td>\n",
       "      <td>0</td>\n",
       "    </tr>\n",
       "    <tr>\n",
       "      <th>3</th>\n",
       "      <td>0</td>\n",
       "      <td>0</td>\n",
       "      <td>1</td>\n",
       "    </tr>\n",
       "    <tr>\n",
       "      <th>4</th>\n",
       "      <td>0</td>\n",
       "      <td>0</td>\n",
       "      <td>1</td>\n",
       "    </tr>\n",
       "    <tr>\n",
       "      <th>...</th>\n",
       "      <td>...</td>\n",
       "      <td>...</td>\n",
       "      <td>...</td>\n",
       "    </tr>\n",
       "    <tr>\n",
       "      <th>413</th>\n",
       "      <td>0</td>\n",
       "      <td>0</td>\n",
       "      <td>1</td>\n",
       "    </tr>\n",
       "    <tr>\n",
       "      <th>414</th>\n",
       "      <td>1</td>\n",
       "      <td>0</td>\n",
       "      <td>0</td>\n",
       "    </tr>\n",
       "    <tr>\n",
       "      <th>415</th>\n",
       "      <td>0</td>\n",
       "      <td>0</td>\n",
       "      <td>1</td>\n",
       "    </tr>\n",
       "    <tr>\n",
       "      <th>416</th>\n",
       "      <td>0</td>\n",
       "      <td>0</td>\n",
       "      <td>1</td>\n",
       "    </tr>\n",
       "    <tr>\n",
       "      <th>417</th>\n",
       "      <td>1</td>\n",
       "      <td>0</td>\n",
       "      <td>0</td>\n",
       "    </tr>\n",
       "  </tbody>\n",
       "</table>\n",
       "<p>418 rows × 3 columns</p>\n",
       "</div>\n",
       "      <button class=\"colab-df-convert\" onclick=\"convertToInteractive('df-efea46c1-c7eb-4ad1-8cb1-722ef8fee794')\"\n",
       "              title=\"Convert this dataframe to an interactive table.\"\n",
       "              style=\"display:none;\">\n",
       "        \n",
       "  <svg xmlns=\"http://www.w3.org/2000/svg\" height=\"24px\"viewBox=\"0 0 24 24\"\n",
       "       width=\"24px\">\n",
       "    <path d=\"M0 0h24v24H0V0z\" fill=\"none\"/>\n",
       "    <path d=\"M18.56 5.44l.94 2.06.94-2.06 2.06-.94-2.06-.94-.94-2.06-.94 2.06-2.06.94zm-11 1L8.5 8.5l.94-2.06 2.06-.94-2.06-.94L8.5 2.5l-.94 2.06-2.06.94zm10 10l.94 2.06.94-2.06 2.06-.94-2.06-.94-.94-2.06-.94 2.06-2.06.94z\"/><path d=\"M17.41 7.96l-1.37-1.37c-.4-.4-.92-.59-1.43-.59-.52 0-1.04.2-1.43.59L10.3 9.45l-7.72 7.72c-.78.78-.78 2.05 0 2.83L4 21.41c.39.39.9.59 1.41.59.51 0 1.02-.2 1.41-.59l7.78-7.78 2.81-2.81c.8-.78.8-2.07 0-2.86zM5.41 20L4 18.59l7.72-7.72 1.47 1.35L5.41 20z\"/>\n",
       "  </svg>\n",
       "      </button>\n",
       "      \n",
       "  <style>\n",
       "    .colab-df-container {\n",
       "      display:flex;\n",
       "      flex-wrap:wrap;\n",
       "      gap: 12px;\n",
       "    }\n",
       "\n",
       "    .colab-df-convert {\n",
       "      background-color: #E8F0FE;\n",
       "      border: none;\n",
       "      border-radius: 50%;\n",
       "      cursor: pointer;\n",
       "      display: none;\n",
       "      fill: #1967D2;\n",
       "      height: 32px;\n",
       "      padding: 0 0 0 0;\n",
       "      width: 32px;\n",
       "    }\n",
       "\n",
       "    .colab-df-convert:hover {\n",
       "      background-color: #E2EBFA;\n",
       "      box-shadow: 0px 1px 2px rgba(60, 64, 67, 0.3), 0px 1px 3px 1px rgba(60, 64, 67, 0.15);\n",
       "      fill: #174EA6;\n",
       "    }\n",
       "\n",
       "    [theme=dark] .colab-df-convert {\n",
       "      background-color: #3B4455;\n",
       "      fill: #D2E3FC;\n",
       "    }\n",
       "\n",
       "    [theme=dark] .colab-df-convert:hover {\n",
       "      background-color: #434B5C;\n",
       "      box-shadow: 0px 1px 3px 1px rgba(0, 0, 0, 0.15);\n",
       "      filter: drop-shadow(0px 1px 2px rgba(0, 0, 0, 0.3));\n",
       "      fill: #FFFFFF;\n",
       "    }\n",
       "  </style>\n",
       "\n",
       "      <script>\n",
       "        const buttonEl =\n",
       "          document.querySelector('#df-efea46c1-c7eb-4ad1-8cb1-722ef8fee794 button.colab-df-convert');\n",
       "        buttonEl.style.display =\n",
       "          google.colab.kernel.accessAllowed ? 'block' : 'none';\n",
       "\n",
       "        async function convertToInteractive(key) {\n",
       "          const element = document.querySelector('#df-efea46c1-c7eb-4ad1-8cb1-722ef8fee794');\n",
       "          const dataTable =\n",
       "            await google.colab.kernel.invokeFunction('convertToInteractive',\n",
       "                                                     [key], {});\n",
       "          if (!dataTable) return;\n",
       "\n",
       "          const docLinkHtml = 'Like what you see? Visit the ' +\n",
       "            '<a target=\"_blank\" href=https://colab.research.google.com/notebooks/data_table.ipynb>data table notebook</a>'\n",
       "            + ' to learn more about interactive tables.';\n",
       "          element.innerHTML = '';\n",
       "          dataTable['output_type'] = 'display_data';\n",
       "          await google.colab.output.renderOutput(dataTable, element);\n",
       "          const docLink = document.createElement('div');\n",
       "          docLink.innerHTML = docLinkHtml;\n",
       "          element.appendChild(docLink);\n",
       "        }\n",
       "      </script>\n",
       "    </div>\n",
       "  </div>\n",
       "  "
      ],
      "text/plain": [
       "     C  Q  S\n",
       "0    0  1  0\n",
       "1    0  0  1\n",
       "2    0  1  0\n",
       "3    0  0  1\n",
       "4    0  0  1\n",
       "..  .. .. ..\n",
       "413  0  0  1\n",
       "414  1  0  0\n",
       "415  0  0  1\n",
       "416  0  0  1\n",
       "417  1  0  0\n",
       "\n",
       "[418 rows x 3 columns]"
      ]
     },
     "execution_count": 85,
     "metadata": {},
     "output_type": "execute_result"
    }
   ],
   "source": [
    "Embark = pd.get_dummies(test_df['Embarked'])\n",
    "Embark"
   ]
  },
  {
   "cell_type": "code",
   "execution_count": 86,
   "metadata": {
    "executionInfo": {
     "elapsed": 92,
     "status": "ok",
     "timestamp": 1666237635921,
     "user": {
      "displayName": "Mohit Kumar",
      "userId": "03888987891614882912"
     },
     "user_tz": -330
    },
    "id": "Ki4j7AhXEs1c"
   },
   "outputs": [],
   "source": [
    "test_df = pd.concat([test_df,Sex_of_Passanger], axis=1)\n",
    "test_df = pd.concat([test_df,Embark], axis=1)"
   ]
  },
  {
   "cell_type": "code",
   "execution_count": 87,
   "metadata": {
    "colab": {
     "base_uri": "https://localhost:8080/"
    },
    "executionInfo": {
     "elapsed": 91,
     "status": "ok",
     "timestamp": 1666237635922,
     "user": {
      "displayName": "Mohit Kumar",
      "userId": "03888987891614882912"
     },
     "user_tz": -330
    },
    "id": "fLYBg_j4E2Pv",
    "outputId": "1bb9b2fc-5dd9-4cba-8894-df5992844e75"
   },
   "outputs": [
    {
     "data": {
      "text/plain": [
       "Index(['PassengerId', 'Pclass', 'Name', 'Sex', 'Age', 'SibSp', 'Parch',\n",
       "       'Ticket', 'Fare', 'Cabin', 'Embarked', 'female', 'male', 'C', 'Q', 'S'],\n",
       "      dtype='object')"
      ]
     },
     "execution_count": 87,
     "metadata": {},
     "output_type": "execute_result"
    }
   ],
   "source": [
    "test_df.columns"
   ]
  },
  {
   "cell_type": "code",
   "execution_count": 88,
   "metadata": {
    "colab": {
     "base_uri": "https://localhost:8080/",
     "height": 206
    },
    "executionInfo": {
     "elapsed": 84,
     "status": "ok",
     "timestamp": 1666237635924,
     "user": {
      "displayName": "Mohit Kumar",
      "userId": "03888987891614882912"
     },
     "user_tz": -330
    },
    "id": "8QW7J3euE1CE",
    "outputId": "3b5eab92-8e73-43a8-dbd4-eb82402079f7"
   },
   "outputs": [
    {
     "data": {
      "text/html": [
       "\n",
       "  <div id=\"df-4d1f35bd-059e-4c16-8c5e-61f58b527f1b\">\n",
       "    <div class=\"colab-df-container\">\n",
       "      <div>\n",
       "<style scoped>\n",
       "    .dataframe tbody tr th:only-of-type {\n",
       "        vertical-align: middle;\n",
       "    }\n",
       "\n",
       "    .dataframe tbody tr th {\n",
       "        vertical-align: top;\n",
       "    }\n",
       "\n",
       "    .dataframe thead th {\n",
       "        text-align: right;\n",
       "    }\n",
       "</style>\n",
       "<table border=\"1\" class=\"dataframe\">\n",
       "  <thead>\n",
       "    <tr style=\"text-align: right;\">\n",
       "      <th></th>\n",
       "      <th>PassengerId</th>\n",
       "      <th>Pclass</th>\n",
       "      <th>Age</th>\n",
       "      <th>SibSp</th>\n",
       "      <th>Parch</th>\n",
       "      <th>Fare</th>\n",
       "      <th>male</th>\n",
       "      <th>Q</th>\n",
       "      <th>S</th>\n",
       "    </tr>\n",
       "  </thead>\n",
       "  <tbody>\n",
       "    <tr>\n",
       "      <th>0</th>\n",
       "      <td>892</td>\n",
       "      <td>3</td>\n",
       "      <td>34.5</td>\n",
       "      <td>0</td>\n",
       "      <td>0</td>\n",
       "      <td>7.8292</td>\n",
       "      <td>1</td>\n",
       "      <td>1</td>\n",
       "      <td>0</td>\n",
       "    </tr>\n",
       "    <tr>\n",
       "      <th>1</th>\n",
       "      <td>893</td>\n",
       "      <td>3</td>\n",
       "      <td>47.0</td>\n",
       "      <td>1</td>\n",
       "      <td>0</td>\n",
       "      <td>7.0000</td>\n",
       "      <td>0</td>\n",
       "      <td>0</td>\n",
       "      <td>1</td>\n",
       "    </tr>\n",
       "    <tr>\n",
       "      <th>2</th>\n",
       "      <td>894</td>\n",
       "      <td>2</td>\n",
       "      <td>62.0</td>\n",
       "      <td>0</td>\n",
       "      <td>0</td>\n",
       "      <td>9.6875</td>\n",
       "      <td>1</td>\n",
       "      <td>1</td>\n",
       "      <td>0</td>\n",
       "    </tr>\n",
       "    <tr>\n",
       "      <th>3</th>\n",
       "      <td>895</td>\n",
       "      <td>3</td>\n",
       "      <td>27.0</td>\n",
       "      <td>0</td>\n",
       "      <td>0</td>\n",
       "      <td>8.6625</td>\n",
       "      <td>1</td>\n",
       "      <td>0</td>\n",
       "      <td>1</td>\n",
       "    </tr>\n",
       "    <tr>\n",
       "      <th>4</th>\n",
       "      <td>896</td>\n",
       "      <td>3</td>\n",
       "      <td>22.0</td>\n",
       "      <td>1</td>\n",
       "      <td>1</td>\n",
       "      <td>12.2875</td>\n",
       "      <td>0</td>\n",
       "      <td>0</td>\n",
       "      <td>1</td>\n",
       "    </tr>\n",
       "  </tbody>\n",
       "</table>\n",
       "</div>\n",
       "      <button class=\"colab-df-convert\" onclick=\"convertToInteractive('df-4d1f35bd-059e-4c16-8c5e-61f58b527f1b')\"\n",
       "              title=\"Convert this dataframe to an interactive table.\"\n",
       "              style=\"display:none;\">\n",
       "        \n",
       "  <svg xmlns=\"http://www.w3.org/2000/svg\" height=\"24px\"viewBox=\"0 0 24 24\"\n",
       "       width=\"24px\">\n",
       "    <path d=\"M0 0h24v24H0V0z\" fill=\"none\"/>\n",
       "    <path d=\"M18.56 5.44l.94 2.06.94-2.06 2.06-.94-2.06-.94-.94-2.06-.94 2.06-2.06.94zm-11 1L8.5 8.5l.94-2.06 2.06-.94-2.06-.94L8.5 2.5l-.94 2.06-2.06.94zm10 10l.94 2.06.94-2.06 2.06-.94-2.06-.94-.94-2.06-.94 2.06-2.06.94z\"/><path d=\"M17.41 7.96l-1.37-1.37c-.4-.4-.92-.59-1.43-.59-.52 0-1.04.2-1.43.59L10.3 9.45l-7.72 7.72c-.78.78-.78 2.05 0 2.83L4 21.41c.39.39.9.59 1.41.59.51 0 1.02-.2 1.41-.59l7.78-7.78 2.81-2.81c.8-.78.8-2.07 0-2.86zM5.41 20L4 18.59l7.72-7.72 1.47 1.35L5.41 20z\"/>\n",
       "  </svg>\n",
       "      </button>\n",
       "      \n",
       "  <style>\n",
       "    .colab-df-container {\n",
       "      display:flex;\n",
       "      flex-wrap:wrap;\n",
       "      gap: 12px;\n",
       "    }\n",
       "\n",
       "    .colab-df-convert {\n",
       "      background-color: #E8F0FE;\n",
       "      border: none;\n",
       "      border-radius: 50%;\n",
       "      cursor: pointer;\n",
       "      display: none;\n",
       "      fill: #1967D2;\n",
       "      height: 32px;\n",
       "      padding: 0 0 0 0;\n",
       "      width: 32px;\n",
       "    }\n",
       "\n",
       "    .colab-df-convert:hover {\n",
       "      background-color: #E2EBFA;\n",
       "      box-shadow: 0px 1px 2px rgba(60, 64, 67, 0.3), 0px 1px 3px 1px rgba(60, 64, 67, 0.15);\n",
       "      fill: #174EA6;\n",
       "    }\n",
       "\n",
       "    [theme=dark] .colab-df-convert {\n",
       "      background-color: #3B4455;\n",
       "      fill: #D2E3FC;\n",
       "    }\n",
       "\n",
       "    [theme=dark] .colab-df-convert:hover {\n",
       "      background-color: #434B5C;\n",
       "      box-shadow: 0px 1px 3px 1px rgba(0, 0, 0, 0.15);\n",
       "      filter: drop-shadow(0px 1px 2px rgba(0, 0, 0, 0.3));\n",
       "      fill: #FFFFFF;\n",
       "    }\n",
       "  </style>\n",
       "\n",
       "      <script>\n",
       "        const buttonEl =\n",
       "          document.querySelector('#df-4d1f35bd-059e-4c16-8c5e-61f58b527f1b button.colab-df-convert');\n",
       "        buttonEl.style.display =\n",
       "          google.colab.kernel.accessAllowed ? 'block' : 'none';\n",
       "\n",
       "        async function convertToInteractive(key) {\n",
       "          const element = document.querySelector('#df-4d1f35bd-059e-4c16-8c5e-61f58b527f1b');\n",
       "          const dataTable =\n",
       "            await google.colab.kernel.invokeFunction('convertToInteractive',\n",
       "                                                     [key], {});\n",
       "          if (!dataTable) return;\n",
       "\n",
       "          const docLinkHtml = 'Like what you see? Visit the ' +\n",
       "            '<a target=\"_blank\" href=https://colab.research.google.com/notebooks/data_table.ipynb>data table notebook</a>'\n",
       "            + ' to learn more about interactive tables.';\n",
       "          element.innerHTML = '';\n",
       "          dataTable['output_type'] = 'display_data';\n",
       "          await google.colab.output.renderOutput(dataTable, element);\n",
       "          const docLink = document.createElement('div');\n",
       "          docLink.innerHTML = docLinkHtml;\n",
       "          element.appendChild(docLink);\n",
       "        }\n",
       "      </script>\n",
       "    </div>\n",
       "  </div>\n",
       "  "
      ],
      "text/plain": [
       "   PassengerId  Pclass   Age  SibSp  Parch     Fare  male  Q  S\n",
       "0          892       3  34.5      0      0   7.8292     1  1  0\n",
       "1          893       3  47.0      1      0   7.0000     0  0  1\n",
       "2          894       2  62.0      0      0   9.6875     1  1  0\n",
       "3          895       3  27.0      0      0   8.6625     1  0  1\n",
       "4          896       3  22.0      1      1  12.2875     0  0  1"
      ]
     },
     "execution_count": 88,
     "metadata": {},
     "output_type": "execute_result"
    }
   ],
   "source": [
    "test_df = test_df.drop(['Sex','Embarked','Name','Ticket','female','C', 'Cabin'], axis=1)\n",
    "\n",
    "test_df.head()"
   ]
  },
  {
   "cell_type": "code",
   "execution_count": 89,
   "metadata": {
    "executionInfo": {
     "elapsed": 83,
     "status": "ok",
     "timestamp": 1666237635927,
     "user": {
      "displayName": "Mohit Kumar",
      "userId": "03888987891614882912"
     },
     "user_tz": -330
    },
    "id": "7fDyPx-1FBPr"
   },
   "outputs": [],
   "source": [
    "test_df.columns = ['PassengerId', 'Pclass', 'Age', 'SibSp', 'Parch', 'Fare', 'Male', 'Embarked at Q', 'Embarked at S']"
   ]
  },
  {
   "cell_type": "code",
   "execution_count": 90,
   "metadata": {
    "executionInfo": {
     "elapsed": 84,
     "status": "ok",
     "timestamp": 1666237635929,
     "user": {
      "displayName": "Mohit Kumar",
      "userId": "03888987891614882912"
     },
     "user_tz": -330
    },
    "id": "KHtpUnO7LJMR"
   },
   "outputs": [],
   "source": [
    "unscaled_inputs_train = df.copy()\n",
    "unscaled_inputs_test = test_df.copy()"
   ]
  },
  {
   "cell_type": "code",
   "execution_count": 91,
   "metadata": {
    "colab": {
     "base_uri": "https://localhost:8080/",
     "height": 88
    },
    "executionInfo": {
     "elapsed": 3670,
     "status": "ok",
     "timestamp": 1666237639516,
     "user": {
      "displayName": "Mohit Kumar",
      "userId": "03888987891614882912"
     },
     "user_tz": -330
    },
    "id": "ZgKem5FAGIg3",
    "outputId": "b794b676-f202-4249-9cae-ce880b893a40"
   },
   "outputs": [
    {
     "name": "stdout",
     "output_type": "stream",
     "text": [
      "[jovian] Detected Colab notebook...\u001b[0m\n",
      "[jovian] Uploading colab notebook to Jovian...\u001b[0m\n",
      "Committed successfully! https://jovian.ai/mohitcnf95/titanic-machine-learning-from-disaster\n"
     ]
    },
    {
     "data": {
      "application/vnd.google.colaboratory.intrinsic+json": {
       "type": "string"
      },
      "text/plain": [
       "'https://jovian.ai/mohitcnf95/titanic-machine-learning-from-disaster'"
      ]
     },
     "execution_count": 91,
     "metadata": {},
     "output_type": "execute_result"
    }
   ],
   "source": [
    "jovian.commit()"
   ]
  },
  {
   "cell_type": "markdown",
   "metadata": {
    "id": "jHhPlPahAZQ0"
   },
   "source": [
    "## 5. Prepare Dataset for Training"
   ]
  },
  {
   "cell_type": "markdown",
   "metadata": {
    "id": "yyxBBrTAGygA"
   },
   "source": [
    "- Splitting Data\n",
    "- Extract Inputs & Outputs"
   ]
  },
  {
   "cell_type": "markdown",
   "metadata": {
    "id": "cq5QJbybGpea"
   },
   "source": [
    "### Spliting Data"
   ]
  },
  {
   "cell_type": "markdown",
   "metadata": {
    "id": "cqZpYKViGtAP"
   },
   "source": [
    "Since data is very small we dont need validation data"
   ]
  },
  {
   "cell_type": "markdown",
   "metadata": {
    "id": "9pvQe0PAGTOE"
   },
   "source": [
    "### Extract Inputs & Outputs\n",
    "\n",
    "    - Training\n",
    "    - Testing"
   ]
  },
  {
   "cell_type": "code",
   "execution_count": 92,
   "metadata": {
    "colab": {
     "base_uri": "https://localhost:8080/"
    },
    "executionInfo": {
     "elapsed": 74,
     "status": "ok",
     "timestamp": 1666237639519,
     "user": {
      "displayName": "Mohit Kumar",
      "userId": "03888987891614882912"
     },
     "user_tz": -330
    },
    "id": "uwr8So-lAYx0",
    "outputId": "ca1462de-4ce3-4f83-c155-37e0ff68ad13"
   },
   "outputs": [
    {
     "data": {
      "text/plain": [
       "array(['PassengerId', 'Survived', 'Pclass', 'Age', 'SibSp', 'Parch',\n",
       "       'Fare', 'Male', 'Embarked at Q', 'Embarked at S'], dtype=object)"
      ]
     },
     "execution_count": 92,
     "metadata": {},
     "output_type": "execute_result"
    }
   ],
   "source": [
    "df.columns.values"
   ]
  },
  {
   "cell_type": "code",
   "execution_count": 93,
   "metadata": {
    "colab": {
     "base_uri": "https://localhost:8080/"
    },
    "executionInfo": {
     "elapsed": 65,
     "status": "ok",
     "timestamp": 1666237639521,
     "user": {
      "displayName": "Mohit Kumar",
      "userId": "03888987891614882912"
     },
     "user_tz": -330
    },
    "id": "QeWc2dj2B7nv",
    "outputId": "b2d0c1f5-faae-4821-d1d8-63069b645c3a"
   },
   "outputs": [
    {
     "data": {
      "text/plain": [
       "array(['PassengerId', 'Pclass', 'Age', 'SibSp', 'Parch', 'Fare', 'Male',\n",
       "       'Embarked at Q', 'Embarked at S'], dtype=object)"
      ]
     },
     "execution_count": 93,
     "metadata": {},
     "output_type": "execute_result"
    }
   ],
   "source": [
    "test_df.columns.values"
   ]
  },
  {
   "cell_type": "code",
   "execution_count": 94,
   "metadata": {
    "executionInfo": {
     "elapsed": 59,
     "status": "ok",
     "timestamp": 1666237639523,
     "user": {
      "displayName": "Mohit Kumar",
      "userId": "03888987891614882912"
     },
     "user_tz": -330
    },
    "id": "hfwGBjPsGZeL"
   },
   "outputs": [],
   "source": [
    "input_cols = ['PassengerId', 'Pclass', 'Age', 'SibSp', 'Parch', 'Fare', 'Male',\n",
    "       'Embarked at Q', 'Embarked at S']"
   ]
  },
  {
   "cell_type": "code",
   "execution_count": 95,
   "metadata": {
    "executionInfo": {
     "elapsed": 59,
     "status": "ok",
     "timestamp": 1666237639524,
     "user": {
      "displayName": "Mohit Kumar",
      "userId": "03888987891614882912"
     },
     "user_tz": -330
    },
    "id": "F6aM5xr-G-lX"
   },
   "outputs": [],
   "source": [
    "target_col = ['Survived']"
   ]
  },
  {
   "cell_type": "markdown",
   "metadata": {
    "id": "Wv6JNOaRHiiD"
   },
   "source": [
    "#### Training Sets"
   ]
  },
  {
   "cell_type": "code",
   "execution_count": 96,
   "metadata": {
    "executionInfo": {
     "elapsed": 59,
     "status": "ok",
     "timestamp": 1666237639525,
     "user": {
      "displayName": "Mohit Kumar",
      "userId": "03888987891614882912"
     },
     "user_tz": -330
    },
    "id": "MNtTlBPuHQj-"
   },
   "outputs": [],
   "source": [
    "train_inputs = df[input_cols]\n",
    "train_targets = df[target_col]"
   ]
  },
  {
   "cell_type": "code",
   "execution_count": 97,
   "metadata": {
    "colab": {
     "base_uri": "https://localhost:8080/",
     "height": 0
    },
    "executionInfo": {
     "elapsed": 60,
     "status": "ok",
     "timestamp": 1666237639526,
     "user": {
      "displayName": "Mohit Kumar",
      "userId": "03888987891614882912"
     },
     "user_tz": -330
    },
    "id": "U1GHMvBwHqLo",
    "outputId": "52730b0a-b1a5-43df-dad0-3d0c7c984e27"
   },
   "outputs": [
    {
     "data": {
      "text/html": [
       "\n",
       "  <div id=\"df-c0ba0426-a06c-408d-acea-9eb116a668e7\">\n",
       "    <div class=\"colab-df-container\">\n",
       "      <div>\n",
       "<style scoped>\n",
       "    .dataframe tbody tr th:only-of-type {\n",
       "        vertical-align: middle;\n",
       "    }\n",
       "\n",
       "    .dataframe tbody tr th {\n",
       "        vertical-align: top;\n",
       "    }\n",
       "\n",
       "    .dataframe thead th {\n",
       "        text-align: right;\n",
       "    }\n",
       "</style>\n",
       "<table border=\"1\" class=\"dataframe\">\n",
       "  <thead>\n",
       "    <tr style=\"text-align: right;\">\n",
       "      <th></th>\n",
       "      <th>PassengerId</th>\n",
       "      <th>Pclass</th>\n",
       "      <th>Age</th>\n",
       "      <th>SibSp</th>\n",
       "      <th>Parch</th>\n",
       "      <th>Fare</th>\n",
       "      <th>Male</th>\n",
       "      <th>Embarked at Q</th>\n",
       "      <th>Embarked at S</th>\n",
       "    </tr>\n",
       "  </thead>\n",
       "  <tbody>\n",
       "    <tr>\n",
       "      <th>0</th>\n",
       "      <td>1</td>\n",
       "      <td>3</td>\n",
       "      <td>22.0</td>\n",
       "      <td>1</td>\n",
       "      <td>0</td>\n",
       "      <td>7.2500</td>\n",
       "      <td>0</td>\n",
       "      <td>0</td>\n",
       "      <td>1</td>\n",
       "    </tr>\n",
       "    <tr>\n",
       "      <th>1</th>\n",
       "      <td>2</td>\n",
       "      <td>1</td>\n",
       "      <td>38.0</td>\n",
       "      <td>1</td>\n",
       "      <td>0</td>\n",
       "      <td>71.2833</td>\n",
       "      <td>1</td>\n",
       "      <td>0</td>\n",
       "      <td>0</td>\n",
       "    </tr>\n",
       "    <tr>\n",
       "      <th>2</th>\n",
       "      <td>3</td>\n",
       "      <td>3</td>\n",
       "      <td>26.0</td>\n",
       "      <td>0</td>\n",
       "      <td>0</td>\n",
       "      <td>7.9250</td>\n",
       "      <td>1</td>\n",
       "      <td>0</td>\n",
       "      <td>1</td>\n",
       "    </tr>\n",
       "    <tr>\n",
       "      <th>3</th>\n",
       "      <td>4</td>\n",
       "      <td>1</td>\n",
       "      <td>35.0</td>\n",
       "      <td>1</td>\n",
       "      <td>0</td>\n",
       "      <td>53.1000</td>\n",
       "      <td>1</td>\n",
       "      <td>0</td>\n",
       "      <td>1</td>\n",
       "    </tr>\n",
       "    <tr>\n",
       "      <th>4</th>\n",
       "      <td>5</td>\n",
       "      <td>3</td>\n",
       "      <td>35.0</td>\n",
       "      <td>0</td>\n",
       "      <td>0</td>\n",
       "      <td>8.0500</td>\n",
       "      <td>0</td>\n",
       "      <td>0</td>\n",
       "      <td>1</td>\n",
       "    </tr>\n",
       "  </tbody>\n",
       "</table>\n",
       "</div>\n",
       "      <button class=\"colab-df-convert\" onclick=\"convertToInteractive('df-c0ba0426-a06c-408d-acea-9eb116a668e7')\"\n",
       "              title=\"Convert this dataframe to an interactive table.\"\n",
       "              style=\"display:none;\">\n",
       "        \n",
       "  <svg xmlns=\"http://www.w3.org/2000/svg\" height=\"24px\"viewBox=\"0 0 24 24\"\n",
       "       width=\"24px\">\n",
       "    <path d=\"M0 0h24v24H0V0z\" fill=\"none\"/>\n",
       "    <path d=\"M18.56 5.44l.94 2.06.94-2.06 2.06-.94-2.06-.94-.94-2.06-.94 2.06-2.06.94zm-11 1L8.5 8.5l.94-2.06 2.06-.94-2.06-.94L8.5 2.5l-.94 2.06-2.06.94zm10 10l.94 2.06.94-2.06 2.06-.94-2.06-.94-.94-2.06-.94 2.06-2.06.94z\"/><path d=\"M17.41 7.96l-1.37-1.37c-.4-.4-.92-.59-1.43-.59-.52 0-1.04.2-1.43.59L10.3 9.45l-7.72 7.72c-.78.78-.78 2.05 0 2.83L4 21.41c.39.39.9.59 1.41.59.51 0 1.02-.2 1.41-.59l7.78-7.78 2.81-2.81c.8-.78.8-2.07 0-2.86zM5.41 20L4 18.59l7.72-7.72 1.47 1.35L5.41 20z\"/>\n",
       "  </svg>\n",
       "      </button>\n",
       "      \n",
       "  <style>\n",
       "    .colab-df-container {\n",
       "      display:flex;\n",
       "      flex-wrap:wrap;\n",
       "      gap: 12px;\n",
       "    }\n",
       "\n",
       "    .colab-df-convert {\n",
       "      background-color: #E8F0FE;\n",
       "      border: none;\n",
       "      border-radius: 50%;\n",
       "      cursor: pointer;\n",
       "      display: none;\n",
       "      fill: #1967D2;\n",
       "      height: 32px;\n",
       "      padding: 0 0 0 0;\n",
       "      width: 32px;\n",
       "    }\n",
       "\n",
       "    .colab-df-convert:hover {\n",
       "      background-color: #E2EBFA;\n",
       "      box-shadow: 0px 1px 2px rgba(60, 64, 67, 0.3), 0px 1px 3px 1px rgba(60, 64, 67, 0.15);\n",
       "      fill: #174EA6;\n",
       "    }\n",
       "\n",
       "    [theme=dark] .colab-df-convert {\n",
       "      background-color: #3B4455;\n",
       "      fill: #D2E3FC;\n",
       "    }\n",
       "\n",
       "    [theme=dark] .colab-df-convert:hover {\n",
       "      background-color: #434B5C;\n",
       "      box-shadow: 0px 1px 3px 1px rgba(0, 0, 0, 0.15);\n",
       "      filter: drop-shadow(0px 1px 2px rgba(0, 0, 0, 0.3));\n",
       "      fill: #FFFFFF;\n",
       "    }\n",
       "  </style>\n",
       "\n",
       "      <script>\n",
       "        const buttonEl =\n",
       "          document.querySelector('#df-c0ba0426-a06c-408d-acea-9eb116a668e7 button.colab-df-convert');\n",
       "        buttonEl.style.display =\n",
       "          google.colab.kernel.accessAllowed ? 'block' : 'none';\n",
       "\n",
       "        async function convertToInteractive(key) {\n",
       "          const element = document.querySelector('#df-c0ba0426-a06c-408d-acea-9eb116a668e7');\n",
       "          const dataTable =\n",
       "            await google.colab.kernel.invokeFunction('convertToInteractive',\n",
       "                                                     [key], {});\n",
       "          if (!dataTable) return;\n",
       "\n",
       "          const docLinkHtml = 'Like what you see? Visit the ' +\n",
       "            '<a target=\"_blank\" href=https://colab.research.google.com/notebooks/data_table.ipynb>data table notebook</a>'\n",
       "            + ' to learn more about interactive tables.';\n",
       "          element.innerHTML = '';\n",
       "          dataTable['output_type'] = 'display_data';\n",
       "          await google.colab.output.renderOutput(dataTable, element);\n",
       "          const docLink = document.createElement('div');\n",
       "          docLink.innerHTML = docLinkHtml;\n",
       "          element.appendChild(docLink);\n",
       "        }\n",
       "      </script>\n",
       "    </div>\n",
       "  </div>\n",
       "  "
      ],
      "text/plain": [
       "   PassengerId  Pclass   Age  SibSp  Parch     Fare  Male  Embarked at Q  \\\n",
       "0            1       3  22.0      1      0   7.2500     0              0   \n",
       "1            2       1  38.0      1      0  71.2833     1              0   \n",
       "2            3       3  26.0      0      0   7.9250     1              0   \n",
       "3            4       1  35.0      1      0  53.1000     1              0   \n",
       "4            5       3  35.0      0      0   8.0500     0              0   \n",
       "\n",
       "   Embarked at S  \n",
       "0              1  \n",
       "1              0  \n",
       "2              1  \n",
       "3              1  \n",
       "4              1  "
      ]
     },
     "execution_count": 97,
     "metadata": {},
     "output_type": "execute_result"
    }
   ],
   "source": [
    "train_inputs.head()"
   ]
  },
  {
   "cell_type": "code",
   "execution_count": 98,
   "metadata": {
    "colab": {
     "base_uri": "https://localhost:8080/",
     "height": 0
    },
    "executionInfo": {
     "elapsed": 60,
     "status": "ok",
     "timestamp": 1666237639529,
     "user": {
      "displayName": "Mohit Kumar",
      "userId": "03888987891614882912"
     },
     "user_tz": -330
    },
    "id": "c4L4ze6NHp77",
    "outputId": "15999843-8e91-4a1c-cea9-e81ee94aa330"
   },
   "outputs": [
    {
     "data": {
      "text/html": [
       "\n",
       "  <div id=\"df-dac8be3f-3e42-4073-aead-67b93879aa56\">\n",
       "    <div class=\"colab-df-container\">\n",
       "      <div>\n",
       "<style scoped>\n",
       "    .dataframe tbody tr th:only-of-type {\n",
       "        vertical-align: middle;\n",
       "    }\n",
       "\n",
       "    .dataframe tbody tr th {\n",
       "        vertical-align: top;\n",
       "    }\n",
       "\n",
       "    .dataframe thead th {\n",
       "        text-align: right;\n",
       "    }\n",
       "</style>\n",
       "<table border=\"1\" class=\"dataframe\">\n",
       "  <thead>\n",
       "    <tr style=\"text-align: right;\">\n",
       "      <th></th>\n",
       "      <th>Survived</th>\n",
       "    </tr>\n",
       "  </thead>\n",
       "  <tbody>\n",
       "    <tr>\n",
       "      <th>0</th>\n",
       "      <td>0</td>\n",
       "    </tr>\n",
       "    <tr>\n",
       "      <th>1</th>\n",
       "      <td>1</td>\n",
       "    </tr>\n",
       "    <tr>\n",
       "      <th>2</th>\n",
       "      <td>1</td>\n",
       "    </tr>\n",
       "    <tr>\n",
       "      <th>3</th>\n",
       "      <td>1</td>\n",
       "    </tr>\n",
       "    <tr>\n",
       "      <th>4</th>\n",
       "      <td>0</td>\n",
       "    </tr>\n",
       "  </tbody>\n",
       "</table>\n",
       "</div>\n",
       "      <button class=\"colab-df-convert\" onclick=\"convertToInteractive('df-dac8be3f-3e42-4073-aead-67b93879aa56')\"\n",
       "              title=\"Convert this dataframe to an interactive table.\"\n",
       "              style=\"display:none;\">\n",
       "        \n",
       "  <svg xmlns=\"http://www.w3.org/2000/svg\" height=\"24px\"viewBox=\"0 0 24 24\"\n",
       "       width=\"24px\">\n",
       "    <path d=\"M0 0h24v24H0V0z\" fill=\"none\"/>\n",
       "    <path d=\"M18.56 5.44l.94 2.06.94-2.06 2.06-.94-2.06-.94-.94-2.06-.94 2.06-2.06.94zm-11 1L8.5 8.5l.94-2.06 2.06-.94-2.06-.94L8.5 2.5l-.94 2.06-2.06.94zm10 10l.94 2.06.94-2.06 2.06-.94-2.06-.94-.94-2.06-.94 2.06-2.06.94z\"/><path d=\"M17.41 7.96l-1.37-1.37c-.4-.4-.92-.59-1.43-.59-.52 0-1.04.2-1.43.59L10.3 9.45l-7.72 7.72c-.78.78-.78 2.05 0 2.83L4 21.41c.39.39.9.59 1.41.59.51 0 1.02-.2 1.41-.59l7.78-7.78 2.81-2.81c.8-.78.8-2.07 0-2.86zM5.41 20L4 18.59l7.72-7.72 1.47 1.35L5.41 20z\"/>\n",
       "  </svg>\n",
       "      </button>\n",
       "      \n",
       "  <style>\n",
       "    .colab-df-container {\n",
       "      display:flex;\n",
       "      flex-wrap:wrap;\n",
       "      gap: 12px;\n",
       "    }\n",
       "\n",
       "    .colab-df-convert {\n",
       "      background-color: #E8F0FE;\n",
       "      border: none;\n",
       "      border-radius: 50%;\n",
       "      cursor: pointer;\n",
       "      display: none;\n",
       "      fill: #1967D2;\n",
       "      height: 32px;\n",
       "      padding: 0 0 0 0;\n",
       "      width: 32px;\n",
       "    }\n",
       "\n",
       "    .colab-df-convert:hover {\n",
       "      background-color: #E2EBFA;\n",
       "      box-shadow: 0px 1px 2px rgba(60, 64, 67, 0.3), 0px 1px 3px 1px rgba(60, 64, 67, 0.15);\n",
       "      fill: #174EA6;\n",
       "    }\n",
       "\n",
       "    [theme=dark] .colab-df-convert {\n",
       "      background-color: #3B4455;\n",
       "      fill: #D2E3FC;\n",
       "    }\n",
       "\n",
       "    [theme=dark] .colab-df-convert:hover {\n",
       "      background-color: #434B5C;\n",
       "      box-shadow: 0px 1px 3px 1px rgba(0, 0, 0, 0.15);\n",
       "      filter: drop-shadow(0px 1px 2px rgba(0, 0, 0, 0.3));\n",
       "      fill: #FFFFFF;\n",
       "    }\n",
       "  </style>\n",
       "\n",
       "      <script>\n",
       "        const buttonEl =\n",
       "          document.querySelector('#df-dac8be3f-3e42-4073-aead-67b93879aa56 button.colab-df-convert');\n",
       "        buttonEl.style.display =\n",
       "          google.colab.kernel.accessAllowed ? 'block' : 'none';\n",
       "\n",
       "        async function convertToInteractive(key) {\n",
       "          const element = document.querySelector('#df-dac8be3f-3e42-4073-aead-67b93879aa56');\n",
       "          const dataTable =\n",
       "            await google.colab.kernel.invokeFunction('convertToInteractive',\n",
       "                                                     [key], {});\n",
       "          if (!dataTable) return;\n",
       "\n",
       "          const docLinkHtml = 'Like what you see? Visit the ' +\n",
       "            '<a target=\"_blank\" href=https://colab.research.google.com/notebooks/data_table.ipynb>data table notebook</a>'\n",
       "            + ' to learn more about interactive tables.';\n",
       "          element.innerHTML = '';\n",
       "          dataTable['output_type'] = 'display_data';\n",
       "          await google.colab.output.renderOutput(dataTable, element);\n",
       "          const docLink = document.createElement('div');\n",
       "          docLink.innerHTML = docLinkHtml;\n",
       "          element.appendChild(docLink);\n",
       "        }\n",
       "      </script>\n",
       "    </div>\n",
       "  </div>\n",
       "  "
      ],
      "text/plain": [
       "   Survived\n",
       "0         0\n",
       "1         1\n",
       "2         1\n",
       "3         1\n",
       "4         0"
      ]
     },
     "execution_count": 98,
     "metadata": {},
     "output_type": "execute_result"
    }
   ],
   "source": [
    "train_targets.head()"
   ]
  },
  {
   "cell_type": "markdown",
   "metadata": {
    "id": "nyROCfvIHl9x"
   },
   "source": [
    "#### Testing Sets"
   ]
  },
  {
   "cell_type": "code",
   "execution_count": 99,
   "metadata": {
    "executionInfo": {
     "elapsed": 58,
     "status": "ok",
     "timestamp": 1666237639531,
     "user": {
      "displayName": "Mohit Kumar",
      "userId": "03888987891614882912"
     },
     "user_tz": -330
    },
    "id": "StvUXxyMHZwa"
   },
   "outputs": [],
   "source": [
    "test_inputs = test_df[input_cols]"
   ]
  },
  {
   "cell_type": "code",
   "execution_count": 100,
   "metadata": {
    "colab": {
     "base_uri": "https://localhost:8080/",
     "height": 0
    },
    "executionInfo": {
     "elapsed": 58,
     "status": "ok",
     "timestamp": 1666237639532,
     "user": {
      "displayName": "Mohit Kumar",
      "userId": "03888987891614882912"
     },
     "user_tz": -330
    },
    "id": "k-DvOn1IHxAj",
    "outputId": "a7e8c756-fdbf-456c-dc29-d3565fc335e9"
   },
   "outputs": [
    {
     "data": {
      "text/html": [
       "\n",
       "  <div id=\"df-b44eead0-9f84-4016-a522-a3ac6d428220\">\n",
       "    <div class=\"colab-df-container\">\n",
       "      <div>\n",
       "<style scoped>\n",
       "    .dataframe tbody tr th:only-of-type {\n",
       "        vertical-align: middle;\n",
       "    }\n",
       "\n",
       "    .dataframe tbody tr th {\n",
       "        vertical-align: top;\n",
       "    }\n",
       "\n",
       "    .dataframe thead th {\n",
       "        text-align: right;\n",
       "    }\n",
       "</style>\n",
       "<table border=\"1\" class=\"dataframe\">\n",
       "  <thead>\n",
       "    <tr style=\"text-align: right;\">\n",
       "      <th></th>\n",
       "      <th>PassengerId</th>\n",
       "      <th>Pclass</th>\n",
       "      <th>Age</th>\n",
       "      <th>SibSp</th>\n",
       "      <th>Parch</th>\n",
       "      <th>Fare</th>\n",
       "      <th>Male</th>\n",
       "      <th>Embarked at Q</th>\n",
       "      <th>Embarked at S</th>\n",
       "    </tr>\n",
       "  </thead>\n",
       "  <tbody>\n",
       "    <tr>\n",
       "      <th>0</th>\n",
       "      <td>892</td>\n",
       "      <td>3</td>\n",
       "      <td>34.5</td>\n",
       "      <td>0</td>\n",
       "      <td>0</td>\n",
       "      <td>7.8292</td>\n",
       "      <td>1</td>\n",
       "      <td>1</td>\n",
       "      <td>0</td>\n",
       "    </tr>\n",
       "    <tr>\n",
       "      <th>1</th>\n",
       "      <td>893</td>\n",
       "      <td>3</td>\n",
       "      <td>47.0</td>\n",
       "      <td>1</td>\n",
       "      <td>0</td>\n",
       "      <td>7.0000</td>\n",
       "      <td>0</td>\n",
       "      <td>0</td>\n",
       "      <td>1</td>\n",
       "    </tr>\n",
       "    <tr>\n",
       "      <th>2</th>\n",
       "      <td>894</td>\n",
       "      <td>2</td>\n",
       "      <td>62.0</td>\n",
       "      <td>0</td>\n",
       "      <td>0</td>\n",
       "      <td>9.6875</td>\n",
       "      <td>1</td>\n",
       "      <td>1</td>\n",
       "      <td>0</td>\n",
       "    </tr>\n",
       "    <tr>\n",
       "      <th>3</th>\n",
       "      <td>895</td>\n",
       "      <td>3</td>\n",
       "      <td>27.0</td>\n",
       "      <td>0</td>\n",
       "      <td>0</td>\n",
       "      <td>8.6625</td>\n",
       "      <td>1</td>\n",
       "      <td>0</td>\n",
       "      <td>1</td>\n",
       "    </tr>\n",
       "    <tr>\n",
       "      <th>4</th>\n",
       "      <td>896</td>\n",
       "      <td>3</td>\n",
       "      <td>22.0</td>\n",
       "      <td>1</td>\n",
       "      <td>1</td>\n",
       "      <td>12.2875</td>\n",
       "      <td>0</td>\n",
       "      <td>0</td>\n",
       "      <td>1</td>\n",
       "    </tr>\n",
       "  </tbody>\n",
       "</table>\n",
       "</div>\n",
       "      <button class=\"colab-df-convert\" onclick=\"convertToInteractive('df-b44eead0-9f84-4016-a522-a3ac6d428220')\"\n",
       "              title=\"Convert this dataframe to an interactive table.\"\n",
       "              style=\"display:none;\">\n",
       "        \n",
       "  <svg xmlns=\"http://www.w3.org/2000/svg\" height=\"24px\"viewBox=\"0 0 24 24\"\n",
       "       width=\"24px\">\n",
       "    <path d=\"M0 0h24v24H0V0z\" fill=\"none\"/>\n",
       "    <path d=\"M18.56 5.44l.94 2.06.94-2.06 2.06-.94-2.06-.94-.94-2.06-.94 2.06-2.06.94zm-11 1L8.5 8.5l.94-2.06 2.06-.94-2.06-.94L8.5 2.5l-.94 2.06-2.06.94zm10 10l.94 2.06.94-2.06 2.06-.94-2.06-.94-.94-2.06-.94 2.06-2.06.94z\"/><path d=\"M17.41 7.96l-1.37-1.37c-.4-.4-.92-.59-1.43-.59-.52 0-1.04.2-1.43.59L10.3 9.45l-7.72 7.72c-.78.78-.78 2.05 0 2.83L4 21.41c.39.39.9.59 1.41.59.51 0 1.02-.2 1.41-.59l7.78-7.78 2.81-2.81c.8-.78.8-2.07 0-2.86zM5.41 20L4 18.59l7.72-7.72 1.47 1.35L5.41 20z\"/>\n",
       "  </svg>\n",
       "      </button>\n",
       "      \n",
       "  <style>\n",
       "    .colab-df-container {\n",
       "      display:flex;\n",
       "      flex-wrap:wrap;\n",
       "      gap: 12px;\n",
       "    }\n",
       "\n",
       "    .colab-df-convert {\n",
       "      background-color: #E8F0FE;\n",
       "      border: none;\n",
       "      border-radius: 50%;\n",
       "      cursor: pointer;\n",
       "      display: none;\n",
       "      fill: #1967D2;\n",
       "      height: 32px;\n",
       "      padding: 0 0 0 0;\n",
       "      width: 32px;\n",
       "    }\n",
       "\n",
       "    .colab-df-convert:hover {\n",
       "      background-color: #E2EBFA;\n",
       "      box-shadow: 0px 1px 2px rgba(60, 64, 67, 0.3), 0px 1px 3px 1px rgba(60, 64, 67, 0.15);\n",
       "      fill: #174EA6;\n",
       "    }\n",
       "\n",
       "    [theme=dark] .colab-df-convert {\n",
       "      background-color: #3B4455;\n",
       "      fill: #D2E3FC;\n",
       "    }\n",
       "\n",
       "    [theme=dark] .colab-df-convert:hover {\n",
       "      background-color: #434B5C;\n",
       "      box-shadow: 0px 1px 3px 1px rgba(0, 0, 0, 0.15);\n",
       "      filter: drop-shadow(0px 1px 2px rgba(0, 0, 0, 0.3));\n",
       "      fill: #FFFFFF;\n",
       "    }\n",
       "  </style>\n",
       "\n",
       "      <script>\n",
       "        const buttonEl =\n",
       "          document.querySelector('#df-b44eead0-9f84-4016-a522-a3ac6d428220 button.colab-df-convert');\n",
       "        buttonEl.style.display =\n",
       "          google.colab.kernel.accessAllowed ? 'block' : 'none';\n",
       "\n",
       "        async function convertToInteractive(key) {\n",
       "          const element = document.querySelector('#df-b44eead0-9f84-4016-a522-a3ac6d428220');\n",
       "          const dataTable =\n",
       "            await google.colab.kernel.invokeFunction('convertToInteractive',\n",
       "                                                     [key], {});\n",
       "          if (!dataTable) return;\n",
       "\n",
       "          const docLinkHtml = 'Like what you see? Visit the ' +\n",
       "            '<a target=\"_blank\" href=https://colab.research.google.com/notebooks/data_table.ipynb>data table notebook</a>'\n",
       "            + ' to learn more about interactive tables.';\n",
       "          element.innerHTML = '';\n",
       "          dataTable['output_type'] = 'display_data';\n",
       "          await google.colab.output.renderOutput(dataTable, element);\n",
       "          const docLink = document.createElement('div');\n",
       "          docLink.innerHTML = docLinkHtml;\n",
       "          element.appendChild(docLink);\n",
       "        }\n",
       "      </script>\n",
       "    </div>\n",
       "  </div>\n",
       "  "
      ],
      "text/plain": [
       "   PassengerId  Pclass   Age  SibSp  Parch     Fare  Male  Embarked at Q  \\\n",
       "0          892       3  34.5      0      0   7.8292     1              1   \n",
       "1          893       3  47.0      1      0   7.0000     0              0   \n",
       "2          894       2  62.0      0      0   9.6875     1              1   \n",
       "3          895       3  27.0      0      0   8.6625     1              0   \n",
       "4          896       3  22.0      1      1  12.2875     0              0   \n",
       "\n",
       "   Embarked at S  \n",
       "0              0  \n",
       "1              1  \n",
       "2              0  \n",
       "3              1  \n",
       "4              1  "
      ]
     },
     "execution_count": 100,
     "metadata": {},
     "output_type": "execute_result"
    }
   ],
   "source": [
    "test_inputs.head()"
   ]
  },
  {
   "cell_type": "code",
   "execution_count": 101,
   "metadata": {
    "colab": {
     "base_uri": "https://localhost:8080/",
     "height": 0
    },
    "executionInfo": {
     "elapsed": 3476,
     "status": "ok",
     "timestamp": 1666237642953,
     "user": {
      "displayName": "Mohit Kumar",
      "userId": "03888987891614882912"
     },
     "user_tz": -330
    },
    "id": "IZmYqELkPaIU",
    "outputId": "9ffdce74-ecca-4a59-8928-f5a9a225c226"
   },
   "outputs": [
    {
     "name": "stdout",
     "output_type": "stream",
     "text": [
      "[jovian] Detected Colab notebook...\u001b[0m\n",
      "[jovian] Uploading colab notebook to Jovian...\u001b[0m\n",
      "Committed successfully! https://jovian.ai/mohitcnf95/titanic-machine-learning-from-disaster\n"
     ]
    },
    {
     "data": {
      "application/vnd.google.colaboratory.intrinsic+json": {
       "type": "string"
      },
      "text/plain": [
       "'https://jovian.ai/mohitcnf95/titanic-machine-learning-from-disaster'"
      ]
     },
     "execution_count": 101,
     "metadata": {},
     "output_type": "execute_result"
    }
   ],
   "source": [
    "jovian.commit()"
   ]
  },
  {
   "cell_type": "markdown",
   "metadata": {
    "id": "49M3vgFHORFl"
   },
   "source": [
    "## 6. Train & Evaluate Different Models"
   ]
  },
  {
   "cell_type": "markdown",
   "metadata": {
    "id": "Op2QTlrtOirC"
   },
   "source": [
    "We will be train each of the following\n",
    "  - Logistic Regression\n",
    "  - Support Vector Machines (SVC)\n",
    "  - Decision Tree Classifier\n",
    "  - Random Forest Classifier\n",
    "  - K Neighbors Classifier (KNC)\n",
    "  - Gaussian NB\n",
    "  - Perceptron\n",
    "  - XGBClassifier\n",
    "  - Linear SVC\n",
    "  - MLPClassifier\n",
    "  - SGD Classifier\n"
   ]
  },
  {
   "cell_type": "markdown",
   "metadata": {
    "id": "PEDifEbopcdQ"
   },
   "source": [
    "Let's define a helper function to evaluate models and generate test predictions"
   ]
  },
  {
   "cell_type": "code",
   "execution_count": 102,
   "metadata": {
    "executionInfo": {
     "elapsed": 33,
     "status": "ok",
     "timestamp": 1666237642954,
     "user": {
      "displayName": "Mohit Kumar",
      "userId": "03888987891614882912"
     },
     "user_tz": -330
    },
    "id": "PB7MJcnwgplL"
   },
   "outputs": [],
   "source": [
    "from sklearn.metrics import mean_squared_error"
   ]
  },
  {
   "cell_type": "code",
   "execution_count": 103,
   "metadata": {
    "executionInfo": {
     "elapsed": 32,
     "status": "ok",
     "timestamp": 1666237642955,
     "user": {
      "displayName": "Mohit Kumar",
      "userId": "03888987891614882912"
     },
     "user_tz": -330
    },
    "id": "aA6efgK3pgzQ"
   },
   "outputs": [],
   "source": [
    "#creating a helper function to predict our values and calculate Mean square error\n",
    "def evaluate(model):\n",
    "    train_preds = model.predict(train_inputs)\n",
    "    train_rmse = mean_squared_error(train_targets, train_preds, squared=False)\n",
    "    return train_rmse, train_preds"
   ]
  },
  {
   "cell_type": "code",
   "execution_count": 104,
   "metadata": {
    "executionInfo": {
     "elapsed": 31,
     "status": "ok",
     "timestamp": 1666237642956,
     "user": {
      "displayName": "Mohit Kumar",
      "userId": "03888987891614882912"
     },
     "user_tz": -330
    },
    "id": "qJYlSTBAqCEc"
   },
   "outputs": [],
   "source": [
    "def predict_and_submit(model, fname):\n",
    "    test_preds = model.predict(test_inputs)\n",
    "    sub_df = pd.read_csv(data+'/gender_submission.csv')\n",
    "    sub_df['Survived'] = test_preds\n",
    "    sub_df.to_csv(fname, index=None)\n",
    "    return sub_df"
   ]
  },
  {
   "cell_type": "markdown",
   "metadata": {
    "id": "fSfDnDBCPRNl"
   },
   "source": [
    "### Logistic Regression"
   ]
  },
  {
   "cell_type": "code",
   "execution_count": 105,
   "metadata": {
    "executionInfo": {
     "elapsed": 31,
     "status": "ok",
     "timestamp": 1666237642958,
     "user": {
      "displayName": "Mohit Kumar",
      "userId": "03888987891614882912"
     },
     "user_tz": -330
    },
    "id": "NUjQUk-aruU1"
   },
   "outputs": [],
   "source": [
    "from sklearn.linear_model import LogisticRegression"
   ]
  },
  {
   "cell_type": "code",
   "execution_count": 106,
   "metadata": {
    "executionInfo": {
     "elapsed": 30,
     "status": "ok",
     "timestamp": 1666237642960,
     "user": {
      "displayName": "Mohit Kumar",
      "userId": "03888987891614882912"
     },
     "user_tz": -330
    },
    "id": "B-2IjccOr8di"
   },
   "outputs": [],
   "source": [
    "model_logistic_reg = LogisticRegression()"
   ]
  },
  {
   "cell_type": "code",
   "execution_count": 107,
   "metadata": {
    "colab": {
     "base_uri": "https://localhost:8080/"
    },
    "executionInfo": {
     "elapsed": 3347,
     "status": "ok",
     "timestamp": 1666237646280,
     "user": {
      "displayName": "Mohit Kumar",
      "userId": "03888987891614882912"
     },
     "user_tz": -330
    },
    "id": "BSkh8JGOsHwV",
    "outputId": "239773fa-6653-4ddb-af74-900fac46d3c2"
   },
   "outputs": [
    {
     "name": "stderr",
     "output_type": "stream",
     "text": [
      "/usr/local/lib/python3.7/dist-packages/sklearn/utils/validation.py:993: DataConversionWarning: A column-vector y was passed when a 1d array was expected. Please change the shape of y to (n_samples, ), for example using ravel().\n",
      "  y = column_or_1d(y, warn=True)\n",
      "/usr/local/lib/python3.7/dist-packages/sklearn/linear_model/_logistic.py:818: ConvergenceWarning: lbfgs failed to converge (status=1):\n",
      "STOP: TOTAL NO. of ITERATIONS REACHED LIMIT.\n",
      "\n",
      "Increase the number of iterations (max_iter) or scale the data as shown in:\n",
      "    https://scikit-learn.org/stable/modules/preprocessing.html\n",
      "Please also refer to the documentation for alternative solver options:\n",
      "    https://scikit-learn.org/stable/modules/linear_model.html#logistic-regression\n",
      "  extra_warning_msg=_LOGISTIC_SOLVER_CONVERGENCE_MSG,\n"
     ]
    },
    {
     "data": {
      "text/plain": [
       "LogisticRegression()"
      ]
     },
     "execution_count": 107,
     "metadata": {},
     "output_type": "execute_result"
    }
   ],
   "source": [
    "model_logistic_reg.fit(train_inputs, train_targets)"
   ]
  },
  {
   "cell_type": "code",
   "execution_count": 108,
   "metadata": {
    "colab": {
     "base_uri": "https://localhost:8080/"
    },
    "executionInfo": {
     "elapsed": 282,
     "status": "ok",
     "timestamp": 1666237646478,
     "user": {
      "displayName": "Mohit Kumar",
      "userId": "03888987891614882912"
     },
     "user_tz": -330
    },
    "id": "UoEBZIYQsrAP",
    "outputId": "3ebb3fcb-109a-44f7-cc88-c7b7b8948e03"
   },
   "outputs": [
    {
     "data": {
      "text/plain": [
       "(0.4457052822810143,\n",
       " array([0, 1, 1, 1, 0, 0, 0, 0, 1, 1, 1, 1, 0, 0, 1, 1, 0, 0, 1, 1, 0, 0,\n",
       "        1, 0, 1, 0, 0, 0, 1, 0, 0, 1, 1, 0, 0, 0, 0, 0, 1, 1, 0, 1, 0, 1,\n",
       "        1, 0, 0, 1, 0, 1, 0, 0, 1, 1, 0, 0, 1, 0, 1, 0, 0, 1, 0, 0, 0, 0,\n",
       "        1, 0, 0, 0, 0, 0, 0, 0, 0, 0, 0, 0, 0, 1, 0, 0, 1, 0, 1, 0, 0, 0,\n",
       "        1, 0, 0, 0, 0, 0, 0, 0, 0, 0, 1, 0, 1, 0, 0, 0, 0, 0, 1, 0, 0, 1,\n",
       "        0, 1, 0, 1, 1, 0, 0, 0, 1, 0, 0, 0, 0, 1, 0, 0, 0, 0, 1, 0, 0, 0,\n",
       "        0, 1, 0, 0, 1, 0, 0, 0, 1, 1, 1, 0, 0, 0, 0, 1, 0, 0, 0, 1, 0, 0,\n",
       "        0, 0, 1, 0, 0, 0, 0, 1, 0, 0, 0, 0, 1, 0, 0, 0, 0, 0, 1, 0, 0, 0,\n",
       "        0, 1, 0, 0, 0, 0, 0, 0, 1, 0, 1, 0, 0, 0, 1, 0, 1, 0, 1, 1, 0, 0,\n",
       "        1, 1, 0, 0, 0, 0, 0, 1, 0, 0, 1, 0, 0, 1, 0, 0, 0, 1, 1, 0, 1, 0,\n",
       "        0, 0, 0, 0, 0, 0, 0, 0, 0, 0, 1, 0, 0, 0, 0, 1, 0, 1, 0, 0, 1, 1,\n",
       "        0, 0, 0, 0, 1, 1, 0, 0, 0, 1, 0, 0, 0, 1, 1, 1, 1, 1, 0, 0, 0, 0,\n",
       "        1, 0, 0, 0, 1, 1, 0, 0, 1, 0, 1, 1, 1, 0, 0, 1, 0, 0, 0, 0, 0, 0,\n",
       "        0, 0, 0, 1, 1, 1, 0, 1, 0, 0, 0, 1, 0, 1, 1, 0, 0, 1, 0, 1, 1, 1,\n",
       "        0, 1, 1, 1, 1, 0, 0, 1, 1, 0, 1, 1, 0, 0, 1, 1, 0, 1, 0, 1, 1, 1,\n",
       "        1, 0, 0, 0, 1, 0, 0, 1, 0, 0, 0, 1, 0, 0, 0, 1, 1, 1, 0, 0, 0, 0,\n",
       "        0, 0, 0, 0, 1, 1, 1, 1, 0, 0, 1, 0, 0, 0, 1, 1, 1, 1, 0, 0, 0, 1,\n",
       "        1, 1, 1, 1, 0, 0, 1, 1, 0, 1, 0, 0, 0, 1, 0, 1, 0, 0, 0, 1, 1, 0,\n",
       "        1, 0, 0, 1, 0, 0, 1, 0, 1, 0, 0, 0, 0, 0, 0, 0, 1, 0, 0, 1, 1, 1,\n",
       "        0, 1, 0, 0, 0, 1, 0, 0, 1, 1, 0, 0, 0, 1, 1, 0, 0, 1, 1, 1, 0, 0,\n",
       "        1, 0, 0, 1, 0, 1, 1, 0, 1, 0, 0, 0, 0, 0, 0, 0, 0, 1, 1, 0, 0, 0,\n",
       "        0, 0, 0, 0, 0, 0, 0, 1, 0, 0, 1, 1, 1, 0, 0, 0, 0, 1, 0, 0, 0, 0,\n",
       "        0, 0, 1, 0, 0, 0, 0, 0, 0, 0, 0, 0, 1, 0, 1, 0, 0, 1, 1, 1, 1, 1,\n",
       "        1, 0, 0, 0, 0, 0, 0, 1, 0, 0, 1, 0, 1, 0, 1, 0, 0, 1, 0, 0, 1, 1,\n",
       "        0, 0, 1, 0, 0, 1, 1, 1, 0, 1, 0, 1, 1, 1, 0, 0, 0, 0, 1, 0, 0, 0,\n",
       "        1, 0, 0, 0, 1, 0, 1, 1, 1, 1, 0, 0, 0, 0, 1, 0, 0, 1, 0, 0, 0, 1,\n",
       "        0, 1, 0, 0, 1, 1, 1, 0, 1, 1, 0, 0, 0, 1, 0, 0, 0, 0, 0, 1, 0, 1,\n",
       "        0, 0, 1, 0, 0, 0, 1, 0, 0, 0, 0, 0, 0, 0, 1, 1, 0, 0, 1, 0, 0, 1,\n",
       "        0, 1, 1, 0, 0, 0, 0, 0, 0, 0, 0, 1, 0, 0, 0, 0, 0, 0, 1, 1, 0, 0,\n",
       "        0, 0, 0, 1, 1, 0, 1, 0, 0, 0, 0, 1, 0, 1, 0, 1, 1, 0, 0, 1, 0, 0,\n",
       "        0, 0, 0, 0, 0, 0, 0, 0, 0, 1, 1, 0, 0, 0, 0, 0, 0, 1, 0, 1, 1, 1,\n",
       "        0, 0, 0, 0, 0, 0, 0, 1, 0, 1, 0, 0, 0, 0, 0, 1, 0, 0, 1, 0, 1, 0,\n",
       "        0, 0, 1, 0, 1, 0, 1, 0, 0, 0, 0, 0, 1, 1, 0, 0, 1, 0, 0, 0, 0, 0,\n",
       "        1, 1, 0, 1, 1, 0, 0, 0, 0, 0, 0, 1, 0, 0, 0, 0, 1, 0, 0, 0, 0, 1,\n",
       "        0, 0, 1, 0, 0, 0, 1, 0, 0, 0, 0, 1, 0, 0, 0, 1, 0, 1, 0, 1, 0, 0,\n",
       "        0, 0, 1, 0, 1, 0, 0, 1, 0, 1, 1, 1, 0, 0, 0, 0, 1, 0, 0, 0, 0, 0,\n",
       "        0, 0, 0, 0, 1, 1, 0, 1, 0, 1, 1, 0, 0, 0, 0, 1, 0, 1, 0, 0, 0, 1,\n",
       "        0, 0, 1, 0, 0, 0, 1, 0, 0, 1, 0, 0, 0, 0, 0, 1, 1, 0, 0, 0, 0, 1,\n",
       "        0, 0, 0, 0, 0, 0, 1, 0, 0, 0, 0, 0, 0, 1, 0, 0, 1, 1, 1, 1, 1, 0,\n",
       "        1, 0, 0, 0, 1, 0, 0, 1, 1, 0, 0, 0, 0, 1, 0, 0, 1, 1, 0, 0, 0, 1,\n",
       "        1, 0, 1, 0, 0, 1, 0, 1, 1, 0, 0]))"
      ]
     },
     "execution_count": 108,
     "metadata": {},
     "output_type": "execute_result"
    }
   ],
   "source": [
    "evaluate(model_logistic_reg)"
   ]
  },
  {
   "cell_type": "code",
   "execution_count": 109,
   "metadata": {
    "colab": {
     "base_uri": "https://localhost:8080/"
    },
    "executionInfo": {
     "elapsed": 277,
     "status": "ok",
     "timestamp": 1666237646483,
     "user": {
      "displayName": "Mohit Kumar",
      "userId": "03888987891614882912"
     },
     "user_tz": -330
    },
    "id": "iTrMs1qjxYgF",
    "outputId": "d7113a34-f187-4523-82ca-28c6b307d855"
   },
   "outputs": [
    {
     "name": "stdout",
     "output_type": "stream",
     "text": [
      "<class 'pandas.core.frame.DataFrame'>\n",
      "RangeIndex: 418 entries, 0 to 417\n",
      "Data columns (total 9 columns):\n",
      " #   Column         Non-Null Count  Dtype  \n",
      "---  ------         --------------  -----  \n",
      " 0   PassengerId    418 non-null    int64  \n",
      " 1   Pclass         418 non-null    int64  \n",
      " 2   Age            418 non-null    float64\n",
      " 3   SibSp          418 non-null    int64  \n",
      " 4   Parch          418 non-null    int64  \n",
      " 5   Fare           418 non-null    float64\n",
      " 6   Male           418 non-null    uint8  \n",
      " 7   Embarked at Q  418 non-null    uint8  \n",
      " 8   Embarked at S  418 non-null    uint8  \n",
      "dtypes: float64(2), int64(4), uint8(3)\n",
      "memory usage: 20.9 KB\n"
     ]
    }
   ],
   "source": [
    "test_df.info()"
   ]
  },
  {
   "cell_type": "code",
   "execution_count": 110,
   "metadata": {
    "colab": {
     "base_uri": "https://localhost:8080/",
     "height": 0
    },
    "executionInfo": {
     "elapsed": 274,
     "status": "ok",
     "timestamp": 1666237646486,
     "user": {
      "displayName": "Mohit Kumar",
      "userId": "03888987891614882912"
     },
     "user_tz": -330
    },
    "id": "dJXpEgVmupa4",
    "outputId": "7e66090a-7438-452e-ff15-c067fad62bf1"
   },
   "outputs": [
    {
     "data": {
      "text/html": [
       "\n",
       "  <div id=\"df-7c2cf4fe-93e9-44c0-86d5-205f4a6d3b17\">\n",
       "    <div class=\"colab-df-container\">\n",
       "      <div>\n",
       "<style scoped>\n",
       "    .dataframe tbody tr th:only-of-type {\n",
       "        vertical-align: middle;\n",
       "    }\n",
       "\n",
       "    .dataframe tbody tr th {\n",
       "        vertical-align: top;\n",
       "    }\n",
       "\n",
       "    .dataframe thead th {\n",
       "        text-align: right;\n",
       "    }\n",
       "</style>\n",
       "<table border=\"1\" class=\"dataframe\">\n",
       "  <thead>\n",
       "    <tr style=\"text-align: right;\">\n",
       "      <th></th>\n",
       "      <th>PassengerId</th>\n",
       "      <th>Survived</th>\n",
       "    </tr>\n",
       "  </thead>\n",
       "  <tbody>\n",
       "    <tr>\n",
       "      <th>0</th>\n",
       "      <td>892</td>\n",
       "      <td>1</td>\n",
       "    </tr>\n",
       "    <tr>\n",
       "      <th>1</th>\n",
       "      <td>893</td>\n",
       "      <td>0</td>\n",
       "    </tr>\n",
       "    <tr>\n",
       "      <th>2</th>\n",
       "      <td>894</td>\n",
       "      <td>1</td>\n",
       "    </tr>\n",
       "    <tr>\n",
       "      <th>3</th>\n",
       "      <td>895</td>\n",
       "      <td>1</td>\n",
       "    </tr>\n",
       "    <tr>\n",
       "      <th>4</th>\n",
       "      <td>896</td>\n",
       "      <td>0</td>\n",
       "    </tr>\n",
       "    <tr>\n",
       "      <th>...</th>\n",
       "      <td>...</td>\n",
       "      <td>...</td>\n",
       "    </tr>\n",
       "    <tr>\n",
       "      <th>413</th>\n",
       "      <td>1305</td>\n",
       "      <td>1</td>\n",
       "    </tr>\n",
       "    <tr>\n",
       "      <th>414</th>\n",
       "      <td>1306</td>\n",
       "      <td>1</td>\n",
       "    </tr>\n",
       "    <tr>\n",
       "      <th>415</th>\n",
       "      <td>1307</td>\n",
       "      <td>1</td>\n",
       "    </tr>\n",
       "    <tr>\n",
       "      <th>416</th>\n",
       "      <td>1308</td>\n",
       "      <td>1</td>\n",
       "    </tr>\n",
       "    <tr>\n",
       "      <th>417</th>\n",
       "      <td>1309</td>\n",
       "      <td>1</td>\n",
       "    </tr>\n",
       "  </tbody>\n",
       "</table>\n",
       "<p>418 rows × 2 columns</p>\n",
       "</div>\n",
       "      <button class=\"colab-df-convert\" onclick=\"convertToInteractive('df-7c2cf4fe-93e9-44c0-86d5-205f4a6d3b17')\"\n",
       "              title=\"Convert this dataframe to an interactive table.\"\n",
       "              style=\"display:none;\">\n",
       "        \n",
       "  <svg xmlns=\"http://www.w3.org/2000/svg\" height=\"24px\"viewBox=\"0 0 24 24\"\n",
       "       width=\"24px\">\n",
       "    <path d=\"M0 0h24v24H0V0z\" fill=\"none\"/>\n",
       "    <path d=\"M18.56 5.44l.94 2.06.94-2.06 2.06-.94-2.06-.94-.94-2.06-.94 2.06-2.06.94zm-11 1L8.5 8.5l.94-2.06 2.06-.94-2.06-.94L8.5 2.5l-.94 2.06-2.06.94zm10 10l.94 2.06.94-2.06 2.06-.94-2.06-.94-.94-2.06-.94 2.06-2.06.94z\"/><path d=\"M17.41 7.96l-1.37-1.37c-.4-.4-.92-.59-1.43-.59-.52 0-1.04.2-1.43.59L10.3 9.45l-7.72 7.72c-.78.78-.78 2.05 0 2.83L4 21.41c.39.39.9.59 1.41.59.51 0 1.02-.2 1.41-.59l7.78-7.78 2.81-2.81c.8-.78.8-2.07 0-2.86zM5.41 20L4 18.59l7.72-7.72 1.47 1.35L5.41 20z\"/>\n",
       "  </svg>\n",
       "      </button>\n",
       "      \n",
       "  <style>\n",
       "    .colab-df-container {\n",
       "      display:flex;\n",
       "      flex-wrap:wrap;\n",
       "      gap: 12px;\n",
       "    }\n",
       "\n",
       "    .colab-df-convert {\n",
       "      background-color: #E8F0FE;\n",
       "      border: none;\n",
       "      border-radius: 50%;\n",
       "      cursor: pointer;\n",
       "      display: none;\n",
       "      fill: #1967D2;\n",
       "      height: 32px;\n",
       "      padding: 0 0 0 0;\n",
       "      width: 32px;\n",
       "    }\n",
       "\n",
       "    .colab-df-convert:hover {\n",
       "      background-color: #E2EBFA;\n",
       "      box-shadow: 0px 1px 2px rgba(60, 64, 67, 0.3), 0px 1px 3px 1px rgba(60, 64, 67, 0.15);\n",
       "      fill: #174EA6;\n",
       "    }\n",
       "\n",
       "    [theme=dark] .colab-df-convert {\n",
       "      background-color: #3B4455;\n",
       "      fill: #D2E3FC;\n",
       "    }\n",
       "\n",
       "    [theme=dark] .colab-df-convert:hover {\n",
       "      background-color: #434B5C;\n",
       "      box-shadow: 0px 1px 3px 1px rgba(0, 0, 0, 0.15);\n",
       "      filter: drop-shadow(0px 1px 2px rgba(0, 0, 0, 0.3));\n",
       "      fill: #FFFFFF;\n",
       "    }\n",
       "  </style>\n",
       "\n",
       "      <script>\n",
       "        const buttonEl =\n",
       "          document.querySelector('#df-7c2cf4fe-93e9-44c0-86d5-205f4a6d3b17 button.colab-df-convert');\n",
       "        buttonEl.style.display =\n",
       "          google.colab.kernel.accessAllowed ? 'block' : 'none';\n",
       "\n",
       "        async function convertToInteractive(key) {\n",
       "          const element = document.querySelector('#df-7c2cf4fe-93e9-44c0-86d5-205f4a6d3b17');\n",
       "          const dataTable =\n",
       "            await google.colab.kernel.invokeFunction('convertToInteractive',\n",
       "                                                     [key], {});\n",
       "          if (!dataTable) return;\n",
       "\n",
       "          const docLinkHtml = 'Like what you see? Visit the ' +\n",
       "            '<a target=\"_blank\" href=https://colab.research.google.com/notebooks/data_table.ipynb>data table notebook</a>'\n",
       "            + ' to learn more about interactive tables.';\n",
       "          element.innerHTML = '';\n",
       "          dataTable['output_type'] = 'display_data';\n",
       "          await google.colab.output.renderOutput(dataTable, element);\n",
       "          const docLink = document.createElement('div');\n",
       "          docLink.innerHTML = docLinkHtml;\n",
       "          element.appendChild(docLink);\n",
       "        }\n",
       "      </script>\n",
       "    </div>\n",
       "  </div>\n",
       "  "
      ],
      "text/plain": [
       "     PassengerId  Survived\n",
       "0            892         1\n",
       "1            893         0\n",
       "2            894         1\n",
       "3            895         1\n",
       "4            896         0\n",
       "..           ...       ...\n",
       "413         1305         1\n",
       "414         1306         1\n",
       "415         1307         1\n",
       "416         1308         1\n",
       "417         1309         1\n",
       "\n",
       "[418 rows x 2 columns]"
      ]
     },
     "execution_count": 110,
     "metadata": {},
     "output_type": "execute_result"
    }
   ],
   "source": [
    "predict_and_submit(model_logistic_reg, 'model_logistic_reg_submission.csv')"
   ]
  },
  {
   "cell_type": "markdown",
   "metadata": {
    "id": "XeEtwhiM3nA9"
   },
   "source": [
    "![Screenshot_20221019_085944.png](data:image/png;base64,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)"
   ]
  },
  {
   "cell_type": "code",
   "execution_count": 111,
   "metadata": {
    "colab": {
     "base_uri": "https://localhost:8080/",
     "height": 0
    },
    "executionInfo": {
     "elapsed": 1002,
     "status": "ok",
     "timestamp": 1666237647224,
     "user": {
      "displayName": "Mohit Kumar",
      "userId": "03888987891614882912"
     },
     "user_tz": -330
    },
    "id": "0sWjPT6ju1tP",
    "outputId": "92432179-902b-4303-9a53-a5e0d9dfc023"
   },
   "outputs": [
    {
     "name": "stdout",
     "output_type": "stream",
     "text": [
      "[jovian] Detected Colab notebook...\u001b[0m\n",
      "[jovian] Uploading colab notebook to Jovian...\u001b[0m\n",
      "Committed successfully! https://jovian.ai/mohitcnf95/titanic-machine-learning-from-disaster\n"
     ]
    },
    {
     "data": {
      "application/vnd.google.colaboratory.intrinsic+json": {
       "type": "string"
      },
      "text/plain": [
       "'https://jovian.ai/mohitcnf95/titanic-machine-learning-from-disaster'"
      ]
     },
     "execution_count": 111,
     "metadata": {},
     "output_type": "execute_result"
    }
   ],
   "source": [
    "jovian.commit()"
   ]
  },
  {
   "cell_type": "markdown",
   "metadata": {
    "id": "IJ7Habnq4JUr"
   },
   "source": [
    "### Support Vector Machines (SVC)"
   ]
  },
  {
   "cell_type": "code",
   "execution_count": 112,
   "metadata": {
    "executionInfo": {
     "elapsed": 45,
     "status": "ok",
     "timestamp": 1666237647230,
     "user": {
      "displayName": "Mohit Kumar",
      "userId": "03888987891614882912"
     },
     "user_tz": -330
    },
    "id": "pn8mQk9T3tIy"
   },
   "outputs": [],
   "source": [
    "from sklearn.svm import SVC"
   ]
  },
  {
   "cell_type": "code",
   "execution_count": 113,
   "metadata": {
    "executionInfo": {
     "elapsed": 46,
     "status": "ok",
     "timestamp": 1666237647232,
     "user": {
      "displayName": "Mohit Kumar",
      "userId": "03888987891614882912"
     },
     "user_tz": -330
    },
    "id": "dzuMNSEk4qla"
   },
   "outputs": [],
   "source": [
    "model_SVC = SVC(random_state=42)"
   ]
  },
  {
   "cell_type": "code",
   "execution_count": 114,
   "metadata": {
    "colab": {
     "base_uri": "https://localhost:8080/"
    },
    "executionInfo": {
     "elapsed": 47,
     "status": "ok",
     "timestamp": 1666237647234,
     "user": {
      "displayName": "Mohit Kumar",
      "userId": "03888987891614882912"
     },
     "user_tz": -330
    },
    "id": "xAAjPO8t415g",
    "outputId": "19963d75-d190-471c-8cb4-3941d192477a"
   },
   "outputs": [
    {
     "name": "stdout",
     "output_type": "stream",
     "text": [
      "CPU times: user 48.1 ms, sys: 6.92 ms, total: 55 ms\n",
      "Wall time: 52 ms\n"
     ]
    },
    {
     "name": "stderr",
     "output_type": "stream",
     "text": [
      "/usr/local/lib/python3.7/dist-packages/sklearn/utils/validation.py:993: DataConversionWarning: A column-vector y was passed when a 1d array was expected. Please change the shape of y to (n_samples, ), for example using ravel().\n",
      "  y = column_or_1d(y, warn=True)\n"
     ]
    },
    {
     "data": {
      "text/plain": [
       "SVC(random_state=42)"
      ]
     },
     "execution_count": 114,
     "metadata": {},
     "output_type": "execute_result"
    }
   ],
   "source": [
    "%%time\n",
    "model_SVC.fit(train_inputs, train_targets)"
   ]
  },
  {
   "cell_type": "code",
   "execution_count": 115,
   "metadata": {
    "colab": {
     "base_uri": "https://localhost:8080/"
    },
    "executionInfo": {
     "elapsed": 46,
     "status": "ok",
     "timestamp": 1666237647236,
     "user": {
      "displayName": "Mohit Kumar",
      "userId": "03888987891614882912"
     },
     "user_tz": -330
    },
    "id": "HB59Xr7E5Ggp",
    "outputId": "7c8345b9-8835-4be7-c108-cde7acbc4b8f"
   },
   "outputs": [
    {
     "data": {
      "text/plain": [
       "(0.5792909478359461,\n",
       " array([0, 0, 0, 0, 0, 0, 0, 0, 0, 0, 0, 0, 0, 0, 0, 0, 0, 0, 0, 0, 0, 0,\n",
       "        0, 0, 0, 0, 0, 1, 0, 0, 0, 0, 0, 0, 0, 0, 0, 0, 0, 0, 0, 0, 0, 0,\n",
       "        0, 0, 0, 0, 0, 0, 0, 0, 0, 0, 0, 0, 0, 0, 0, 0, 0, 0, 0, 0, 0, 0,\n",
       "        0, 0, 0, 0, 0, 0, 0, 0, 0, 0, 0, 0, 0, 0, 0, 0, 0, 0, 0, 0, 0, 0,\n",
       "        1, 0, 0, 0, 0, 0, 0, 0, 0, 0, 0, 0, 0, 0, 0, 0, 0, 0, 0, 0, 0, 0,\n",
       "        0, 0, 0, 0, 0, 0, 0, 0, 1, 0, 0, 0, 0, 0, 0, 0, 0, 0, 0, 0, 0, 0,\n",
       "        0, 0, 0, 0, 0, 0, 0, 0, 0, 0, 0, 0, 0, 0, 0, 0, 0, 0, 0, 0, 0, 0,\n",
       "        0, 0, 0, 0, 0, 0, 0, 0, 0, 0, 0, 0, 0, 0, 0, 0, 0, 0, 0, 0, 0, 0,\n",
       "        0, 0, 0, 0, 0, 0, 0, 0, 0, 0, 0, 0, 0, 0, 0, 0, 0, 0, 0, 1, 0, 0,\n",
       "        0, 0, 0, 0, 0, 0, 0, 0, 0, 0, 0, 0, 0, 0, 0, 0, 0, 1, 0, 0, 0, 0,\n",
       "        0, 0, 0, 0, 0, 0, 0, 0, 0, 0, 0, 0, 0, 0, 0, 0, 0, 0, 0, 0, 0, 0,\n",
       "        0, 0, 0, 0, 0, 0, 0, 0, 0, 0, 0, 0, 0, 0, 0, 0, 1, 0, 0, 0, 0, 0,\n",
       "        0, 0, 0, 0, 1, 1, 0, 0, 0, 0, 0, 0, 0, 0, 0, 0, 0, 0, 0, 0, 0, 0,\n",
       "        0, 0, 0, 0, 0, 1, 0, 0, 0, 0, 0, 1, 0, 1, 0, 0, 0, 0, 0, 1, 1, 1,\n",
       "        0, 0, 0, 1, 0, 0, 0, 0, 0, 0, 1, 1, 0, 0, 0, 0, 0, 1, 0, 0, 0, 0,\n",
       "        0, 0, 1, 0, 1, 0, 0, 1, 0, 0, 0, 1, 0, 0, 0, 0, 0, 0, 0, 0, 0, 0,\n",
       "        0, 0, 0, 0, 0, 0, 0, 0, 0, 0, 0, 0, 0, 0, 0, 0, 0, 0, 0, 0, 0, 1,\n",
       "        0, 1, 0, 1, 0, 0, 1, 0, 0, 0, 0, 0, 0, 0, 0, 0, 1, 0, 0, 1, 0, 0,\n",
       "        0, 0, 0, 0, 0, 0, 0, 0, 0, 0, 0, 0, 0, 0, 0, 0, 1, 0, 0, 0, 0, 0,\n",
       "        0, 0, 0, 0, 0, 0, 0, 0, 0, 0, 0, 0, 0, 0, 0, 0, 0, 1, 0, 0, 1, 0,\n",
       "        0, 0, 0, 0, 0, 1, 0, 0, 0, 0, 0, 0, 0, 1, 0, 0, 0, 0, 0, 0, 0, 0,\n",
       "        0, 0, 0, 0, 0, 0, 0, 0, 0, 0, 0, 0, 0, 0, 0, 0, 0, 0, 0, 0, 0, 0,\n",
       "        1, 0, 1, 0, 0, 0, 0, 0, 0, 0, 0, 0, 1, 0, 1, 0, 0, 0, 0, 0, 1, 1,\n",
       "        0, 0, 0, 0, 0, 0, 0, 0, 0, 0, 0, 0, 0, 0, 1, 0, 0, 0, 0, 0, 0, 1,\n",
       "        0, 0, 0, 0, 0, 0, 0, 0, 0, 1, 0, 0, 0, 0, 0, 0, 1, 0, 0, 0, 0, 0,\n",
       "        1, 0, 0, 0, 0, 0, 0, 1, 1, 0, 0, 0, 0, 0, 0, 0, 0, 0, 0, 0, 0, 0,\n",
       "        0, 0, 0, 0, 0, 0, 0, 0, 0, 1, 0, 0, 0, 1, 0, 1, 0, 0, 0, 1, 0, 0,\n",
       "        0, 0, 0, 0, 0, 0, 0, 0, 0, 0, 0, 0, 0, 0, 0, 1, 0, 0, 0, 0, 0, 0,\n",
       "        0, 0, 0, 0, 0, 0, 0, 0, 0, 0, 0, 1, 0, 0, 0, 0, 0, 0, 0, 0, 0, 0,\n",
       "        0, 0, 0, 0, 0, 0, 0, 1, 0, 0, 0, 0, 0, 0, 0, 0, 0, 0, 0, 0, 0, 1,\n",
       "        1, 0, 0, 0, 0, 0, 0, 0, 0, 0, 0, 0, 0, 0, 0, 0, 0, 0, 0, 1, 0, 1,\n",
       "        0, 0, 0, 0, 0, 0, 0, 1, 0, 0, 0, 0, 0, 0, 0, 0, 1, 0, 1, 0, 0, 0,\n",
       "        0, 0, 0, 0, 1, 0, 0, 0, 0, 0, 0, 0, 1, 0, 0, 0, 0, 0, 0, 0, 0, 0,\n",
       "        0, 0, 0, 0, 1, 0, 0, 0, 0, 0, 0, 1, 0, 0, 0, 0, 1, 0, 0, 0, 0, 0,\n",
       "        0, 0, 0, 0, 0, 0, 0, 0, 0, 0, 0, 1, 0, 0, 0, 1, 0, 0, 0, 0, 0, 0,\n",
       "        0, 0, 0, 0, 0, 0, 0, 0, 0, 1, 0, 0, 0, 0, 0, 0, 0, 0, 0, 0, 0, 0,\n",
       "        0, 0, 0, 0, 0, 0, 0, 0, 0, 0, 1, 0, 0, 0, 0, 0, 0, 0, 0, 0, 0, 0,\n",
       "        0, 0, 0, 0, 0, 0, 1, 0, 0, 0, 0, 0, 0, 0, 0, 0, 0, 0, 0, 0, 0, 0,\n",
       "        0, 0, 0, 0, 0, 0, 0, 0, 0, 0, 0, 0, 0, 0, 0, 0, 0, 0, 0, 0, 1, 0,\n",
       "        0, 0, 0, 0, 0, 0, 0, 0, 0, 0, 0, 0, 0, 0, 0, 0, 0, 0, 0, 0, 0, 0,\n",
       "        0, 0, 0, 0, 0, 0, 0, 0, 0, 0, 0]))"
      ]
     },
     "execution_count": 115,
     "metadata": {},
     "output_type": "execute_result"
    }
   ],
   "source": [
    "evaluate(model_SVC)"
   ]
  },
  {
   "cell_type": "code",
   "execution_count": 116,
   "metadata": {
    "colab": {
     "base_uri": "https://localhost:8080/",
     "height": 0
    },
    "executionInfo": {
     "elapsed": 46,
     "status": "ok",
     "timestamp": 1666237647239,
     "user": {
      "displayName": "Mohit Kumar",
      "userId": "03888987891614882912"
     },
     "user_tz": -330
    },
    "id": "qM-Lnu6T5Mpx",
    "outputId": "fce559ca-17b3-4b4c-c15a-41e1dd65149a"
   },
   "outputs": [
    {
     "data": {
      "text/html": [
       "\n",
       "  <div id=\"df-11a03a5e-18ea-40c6-b0e5-a4e778ae6e5d\">\n",
       "    <div class=\"colab-df-container\">\n",
       "      <div>\n",
       "<style scoped>\n",
       "    .dataframe tbody tr th:only-of-type {\n",
       "        vertical-align: middle;\n",
       "    }\n",
       "\n",
       "    .dataframe tbody tr th {\n",
       "        vertical-align: top;\n",
       "    }\n",
       "\n",
       "    .dataframe thead th {\n",
       "        text-align: right;\n",
       "    }\n",
       "</style>\n",
       "<table border=\"1\" class=\"dataframe\">\n",
       "  <thead>\n",
       "    <tr style=\"text-align: right;\">\n",
       "      <th></th>\n",
       "      <th>PassengerId</th>\n",
       "      <th>Survived</th>\n",
       "    </tr>\n",
       "  </thead>\n",
       "  <tbody>\n",
       "    <tr>\n",
       "      <th>0</th>\n",
       "      <td>892</td>\n",
       "      <td>0</td>\n",
       "    </tr>\n",
       "    <tr>\n",
       "      <th>1</th>\n",
       "      <td>893</td>\n",
       "      <td>0</td>\n",
       "    </tr>\n",
       "    <tr>\n",
       "      <th>2</th>\n",
       "      <td>894</td>\n",
       "      <td>0</td>\n",
       "    </tr>\n",
       "    <tr>\n",
       "      <th>3</th>\n",
       "      <td>895</td>\n",
       "      <td>0</td>\n",
       "    </tr>\n",
       "    <tr>\n",
       "      <th>4</th>\n",
       "      <td>896</td>\n",
       "      <td>0</td>\n",
       "    </tr>\n",
       "    <tr>\n",
       "      <th>...</th>\n",
       "      <td>...</td>\n",
       "      <td>...</td>\n",
       "    </tr>\n",
       "    <tr>\n",
       "      <th>413</th>\n",
       "      <td>1305</td>\n",
       "      <td>0</td>\n",
       "    </tr>\n",
       "    <tr>\n",
       "      <th>414</th>\n",
       "      <td>1306</td>\n",
       "      <td>0</td>\n",
       "    </tr>\n",
       "    <tr>\n",
       "      <th>415</th>\n",
       "      <td>1307</td>\n",
       "      <td>0</td>\n",
       "    </tr>\n",
       "    <tr>\n",
       "      <th>416</th>\n",
       "      <td>1308</td>\n",
       "      <td>0</td>\n",
       "    </tr>\n",
       "    <tr>\n",
       "      <th>417</th>\n",
       "      <td>1309</td>\n",
       "      <td>0</td>\n",
       "    </tr>\n",
       "  </tbody>\n",
       "</table>\n",
       "<p>418 rows × 2 columns</p>\n",
       "</div>\n",
       "      <button class=\"colab-df-convert\" onclick=\"convertToInteractive('df-11a03a5e-18ea-40c6-b0e5-a4e778ae6e5d')\"\n",
       "              title=\"Convert this dataframe to an interactive table.\"\n",
       "              style=\"display:none;\">\n",
       "        \n",
       "  <svg xmlns=\"http://www.w3.org/2000/svg\" height=\"24px\"viewBox=\"0 0 24 24\"\n",
       "       width=\"24px\">\n",
       "    <path d=\"M0 0h24v24H0V0z\" fill=\"none\"/>\n",
       "    <path d=\"M18.56 5.44l.94 2.06.94-2.06 2.06-.94-2.06-.94-.94-2.06-.94 2.06-2.06.94zm-11 1L8.5 8.5l.94-2.06 2.06-.94-2.06-.94L8.5 2.5l-.94 2.06-2.06.94zm10 10l.94 2.06.94-2.06 2.06-.94-2.06-.94-.94-2.06-.94 2.06-2.06.94z\"/><path d=\"M17.41 7.96l-1.37-1.37c-.4-.4-.92-.59-1.43-.59-.52 0-1.04.2-1.43.59L10.3 9.45l-7.72 7.72c-.78.78-.78 2.05 0 2.83L4 21.41c.39.39.9.59 1.41.59.51 0 1.02-.2 1.41-.59l7.78-7.78 2.81-2.81c.8-.78.8-2.07 0-2.86zM5.41 20L4 18.59l7.72-7.72 1.47 1.35L5.41 20z\"/>\n",
       "  </svg>\n",
       "      </button>\n",
       "      \n",
       "  <style>\n",
       "    .colab-df-container {\n",
       "      display:flex;\n",
       "      flex-wrap:wrap;\n",
       "      gap: 12px;\n",
       "    }\n",
       "\n",
       "    .colab-df-convert {\n",
       "      background-color: #E8F0FE;\n",
       "      border: none;\n",
       "      border-radius: 50%;\n",
       "      cursor: pointer;\n",
       "      display: none;\n",
       "      fill: #1967D2;\n",
       "      height: 32px;\n",
       "      padding: 0 0 0 0;\n",
       "      width: 32px;\n",
       "    }\n",
       "\n",
       "    .colab-df-convert:hover {\n",
       "      background-color: #E2EBFA;\n",
       "      box-shadow: 0px 1px 2px rgba(60, 64, 67, 0.3), 0px 1px 3px 1px rgba(60, 64, 67, 0.15);\n",
       "      fill: #174EA6;\n",
       "    }\n",
       "\n",
       "    [theme=dark] .colab-df-convert {\n",
       "      background-color: #3B4455;\n",
       "      fill: #D2E3FC;\n",
       "    }\n",
       "\n",
       "    [theme=dark] .colab-df-convert:hover {\n",
       "      background-color: #434B5C;\n",
       "      box-shadow: 0px 1px 3px 1px rgba(0, 0, 0, 0.15);\n",
       "      filter: drop-shadow(0px 1px 2px rgba(0, 0, 0, 0.3));\n",
       "      fill: #FFFFFF;\n",
       "    }\n",
       "  </style>\n",
       "\n",
       "      <script>\n",
       "        const buttonEl =\n",
       "          document.querySelector('#df-11a03a5e-18ea-40c6-b0e5-a4e778ae6e5d button.colab-df-convert');\n",
       "        buttonEl.style.display =\n",
       "          google.colab.kernel.accessAllowed ? 'block' : 'none';\n",
       "\n",
       "        async function convertToInteractive(key) {\n",
       "          const element = document.querySelector('#df-11a03a5e-18ea-40c6-b0e5-a4e778ae6e5d');\n",
       "          const dataTable =\n",
       "            await google.colab.kernel.invokeFunction('convertToInteractive',\n",
       "                                                     [key], {});\n",
       "          if (!dataTable) return;\n",
       "\n",
       "          const docLinkHtml = 'Like what you see? Visit the ' +\n",
       "            '<a target=\"_blank\" href=https://colab.research.google.com/notebooks/data_table.ipynb>data table notebook</a>'\n",
       "            + ' to learn more about interactive tables.';\n",
       "          element.innerHTML = '';\n",
       "          dataTable['output_type'] = 'display_data';\n",
       "          await google.colab.output.renderOutput(dataTable, element);\n",
       "          const docLink = document.createElement('div');\n",
       "          docLink.innerHTML = docLinkHtml;\n",
       "          element.appendChild(docLink);\n",
       "        }\n",
       "      </script>\n",
       "    </div>\n",
       "  </div>\n",
       "  "
      ],
      "text/plain": [
       "     PassengerId  Survived\n",
       "0            892         0\n",
       "1            893         0\n",
       "2            894         0\n",
       "3            895         0\n",
       "4            896         0\n",
       "..           ...       ...\n",
       "413         1305         0\n",
       "414         1306         0\n",
       "415         1307         0\n",
       "416         1308         0\n",
       "417         1309         0\n",
       "\n",
       "[418 rows x 2 columns]"
      ]
     },
     "execution_count": 116,
     "metadata": {},
     "output_type": "execute_result"
    }
   ],
   "source": [
    "predict_and_submit(model_SVC, 'model_SVC_submission.csv')"
   ]
  },
  {
   "cell_type": "markdown",
   "metadata": {
    "id": "d2Unc6ZC6RR6"
   },
   "source": [
    "![Screenshot_20221019_091137.png](data:image/png;base64,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)"
   ]
  },
  {
   "cell_type": "code",
   "execution_count": 117,
   "metadata": {
    "colab": {
     "base_uri": "https://localhost:8080/",
     "height": 0
    },
    "executionInfo": {
     "elapsed": 1089,
     "status": "ok",
     "timestamp": 1666237648289,
     "user": {
      "displayName": "Mohit Kumar",
      "userId": "03888987891614882912"
     },
     "user_tz": -330
    },
    "id": "g4xzSNnv5buY",
    "outputId": "f01171e9-8837-43e6-af24-ca17dfb4815a"
   },
   "outputs": [
    {
     "name": "stdout",
     "output_type": "stream",
     "text": [
      "[jovian] Detected Colab notebook...\u001b[0m\n",
      "[jovian] Uploading colab notebook to Jovian...\u001b[0m\n",
      "Committed successfully! https://jovian.ai/mohitcnf95/titanic-machine-learning-from-disaster\n"
     ]
    },
    {
     "data": {
      "application/vnd.google.colaboratory.intrinsic+json": {
       "type": "string"
      },
      "text/plain": [
       "'https://jovian.ai/mohitcnf95/titanic-machine-learning-from-disaster'"
      ]
     },
     "execution_count": 117,
     "metadata": {},
     "output_type": "execute_result"
    }
   ],
   "source": [
    "jovian.commit()"
   ]
  },
  {
   "cell_type": "markdown",
   "metadata": {
    "id": "6aEaZZE458Dy"
   },
   "source": [
    "### Decision Tree Classifier"
   ]
  },
  {
   "cell_type": "code",
   "execution_count": 118,
   "metadata": {
    "executionInfo": {
     "elapsed": 40,
     "status": "ok",
     "timestamp": 1666237648291,
     "user": {
      "displayName": "Mohit Kumar",
      "userId": "03888987891614882912"
     },
     "user_tz": -330
    },
    "id": "QqmAnbMY6Vjx"
   },
   "outputs": [],
   "source": [
    "from sklearn.tree import DecisionTreeClassifier"
   ]
  },
  {
   "cell_type": "code",
   "execution_count": 119,
   "metadata": {
    "executionInfo": {
     "elapsed": 40,
     "status": "ok",
     "timestamp": 1666237648293,
     "user": {
      "displayName": "Mohit Kumar",
      "userId": "03888987891614882912"
     },
     "user_tz": -330
    },
    "id": "DR8KN7yy6a7y"
   },
   "outputs": [],
   "source": [
    "model_DTC = DecisionTreeClassifier()"
   ]
  },
  {
   "cell_type": "code",
   "execution_count": 120,
   "metadata": {
    "colab": {
     "base_uri": "https://localhost:8080/"
    },
    "executionInfo": {
     "elapsed": 43,
     "status": "ok",
     "timestamp": 1666237648298,
     "user": {
      "displayName": "Mohit Kumar",
      "userId": "03888987891614882912"
     },
     "user_tz": -330
    },
    "id": "1FH-ZDV36hvJ",
    "outputId": "c7bb14a0-8d3d-4e94-db6f-c70d2a492196"
   },
   "outputs": [
    {
     "data": {
      "text/plain": [
       "DecisionTreeClassifier()"
      ]
     },
     "execution_count": 120,
     "metadata": {},
     "output_type": "execute_result"
    }
   ],
   "source": [
    "model_DTC.fit(train_inputs, train_targets)"
   ]
  },
  {
   "cell_type": "code",
   "execution_count": 121,
   "metadata": {
    "colab": {
     "base_uri": "https://localhost:8080/"
    },
    "executionInfo": {
     "elapsed": 41,
     "status": "ok",
     "timestamp": 1666237648300,
     "user": {
      "displayName": "Mohit Kumar",
      "userId": "03888987891614882912"
     },
     "user_tz": -330
    },
    "id": "2CtRudBR6nKB",
    "outputId": "1fff662e-509a-4b2c-e4f0-3cb745a04330"
   },
   "outputs": [
    {
     "data": {
      "text/plain": [
       "(0.0, array([0, 1, 1, 1, 0, 0, 0, 0, 1, 1, 1, 1, 0, 0, 0, 1, 0, 1, 0, 1, 0, 1,\n",
       "        1, 1, 0, 1, 0, 0, 1, 0, 0, 1, 1, 0, 0, 0, 1, 0, 0, 1, 0, 0, 0, 1,\n",
       "        1, 0, 0, 1, 0, 0, 0, 0, 1, 1, 0, 1, 1, 0, 1, 0, 0, 1, 0, 0, 0, 1,\n",
       "        1, 0, 1, 0, 0, 0, 0, 0, 1, 0, 0, 0, 1, 1, 0, 1, 1, 0, 1, 1, 0, 0,\n",
       "        1, 0, 0, 0, 0, 0, 0, 0, 0, 1, 1, 0, 0, 0, 0, 0, 0, 0, 1, 1, 0, 1,\n",
       "        0, 0, 0, 0, 0, 0, 0, 0, 0, 0, 0, 0, 0, 1, 0, 1, 0, 1, 1, 0, 0, 0,\n",
       "        0, 1, 0, 0, 1, 0, 0, 0, 0, 1, 1, 0, 0, 0, 1, 0, 0, 0, 0, 1, 0, 0,\n",
       "        0, 0, 1, 0, 0, 0, 0, 1, 0, 0, 0, 1, 1, 0, 0, 0, 0, 0, 1, 0, 0, 0,\n",
       "        0, 0, 0, 0, 0, 0, 0, 1, 1, 0, 1, 1, 0, 0, 1, 0, 1, 1, 1, 1, 0, 0,\n",
       "        1, 0, 0, 0, 0, 0, 1, 0, 0, 1, 1, 1, 0, 1, 0, 0, 0, 1, 1, 0, 1, 0,\n",
       "        1, 0, 0, 0, 1, 0, 1, 0, 0, 0, 1, 0, 0, 1, 0, 0, 0, 1, 0, 0, 0, 1,\n",
       "        0, 0, 0, 0, 0, 1, 1, 0, 0, 0, 0, 0, 0, 1, 1, 1, 1, 1, 0, 1, 0, 0,\n",
       "        0, 0, 0, 1, 1, 1, 0, 1, 1, 0, 1, 1, 0, 0, 0, 1, 0, 0, 0, 1, 0, 0,\n",
       "        1, 0, 1, 1, 1, 1, 0, 0, 0, 0, 0, 0, 1, 1, 1, 1, 0, 1, 0, 1, 1, 1,\n",
       "        0, 1, 1, 1, 0, 0, 0, 1, 1, 0, 1, 1, 0, 0, 1, 1, 0, 1, 0, 1, 1, 1,\n",
       "        1, 0, 0, 0, 1, 0, 0, 1, 1, 0, 1, 1, 0, 0, 0, 1, 1, 1, 1, 0, 0, 0,\n",
       "        0, 0, 0, 0, 1, 0, 1, 1, 0, 0, 0, 0, 0, 0, 1, 1, 1, 1, 1, 0, 0, 0,\n",
       "        0, 1, 1, 0, 0, 0, 1, 1, 0, 1, 0, 0, 0, 1, 0, 1, 1, 1, 0, 1, 1, 0,\n",
       "        0, 0, 0, 1, 1, 0, 0, 0, 0, 0, 0, 1, 0, 0, 0, 0, 1, 0, 1, 0, 1, 1,\n",
       "        0, 0, 0, 0, 0, 0, 0, 0, 1, 1, 0, 1, 1, 1, 1, 0, 0, 1, 0, 1, 0, 0,\n",
       "        1, 0, 0, 1, 1, 1, 1, 1, 1, 1, 0, 0, 0, 1, 0, 1, 0, 1, 1, 0, 1, 0,\n",
       "        0, 0, 0, 0, 0, 0, 0, 1, 0, 0, 1, 1, 0, 0, 0, 0, 0, 1, 0, 0, 0, 1,\n",
       "        1, 0, 1, 0, 0, 1, 0, 0, 0, 0, 0, 0, 1, 0, 0, 0, 0, 0, 0, 0, 1, 0,\n",
       "        1, 1, 0, 1, 1, 0, 1, 1, 0, 0, 1, 0, 1, 0, 1, 0, 0, 1, 0, 0, 1, 0,\n",
       "        0, 0, 1, 0, 0, 1, 0, 1, 0, 1, 0, 1, 1, 0, 0, 1, 0, 0, 1, 1, 0, 1,\n",
       "        1, 0, 0, 1, 1, 0, 1, 0, 1, 1, 0, 0, 0, 0, 0, 0, 0, 0, 0, 1, 1, 1,\n",
       "        1, 1, 0, 0, 1, 1, 0, 1, 1, 1, 0, 0, 0, 1, 0, 1, 0, 0, 0, 1, 0, 0,\n",
       "        0, 0, 1, 0, 0, 1, 1, 0, 0, 0, 1, 0, 0, 1, 1, 1, 0, 0, 1, 0, 0, 1,\n",
       "        0, 0, 1, 0, 0, 1, 1, 0, 0, 0, 0, 1, 0, 0, 1, 0, 1, 0, 0, 1, 0, 0,\n",
       "        0, 0, 0, 1, 0, 1, 1, 1, 0, 1, 0, 1, 0, 1, 0, 1, 0, 0, 0, 0, 0, 0,\n",
       "        1, 0, 0, 0, 1, 0, 0, 0, 0, 1, 1, 0, 0, 1, 0, 0, 0, 1, 0, 1, 0, 1,\n",
       "        0, 0, 0, 0, 0, 0, 0, 1, 1, 1, 1, 0, 0, 0, 0, 1, 0, 0, 1, 1, 0, 0,\n",
       "        0, 0, 1, 1, 1, 1, 1, 0, 1, 0, 0, 0, 1, 1, 0, 0, 1, 0, 0, 0, 1, 0,\n",
       "        1, 1, 0, 0, 1, 0, 0, 0, 0, 0, 0, 1, 0, 0, 1, 0, 1, 0, 1, 0, 0, 1,\n",
       "        0, 0, 1, 1, 0, 0, 1, 1, 0, 0, 0, 1, 0, 0, 1, 1, 0, 1, 0, 0, 0, 0,\n",
       "        0, 0, 0, 0, 1, 0, 0, 1, 0, 1, 1, 1, 0, 0, 0, 0, 1, 0, 1, 0, 0, 0,\n",
       "        0, 0, 0, 0, 1, 1, 0, 0, 0, 1, 1, 1, 1, 0, 0, 0, 0, 1, 0, 0, 0, 0,\n",
       "        0, 0, 0, 0, 0, 0, 1, 1, 0, 1, 0, 0, 0, 1, 1, 1, 1, 1, 0, 0, 0, 1,\n",
       "        0, 0, 1, 1, 0, 0, 1, 0, 0, 0, 0, 0, 0, 1, 0, 0, 0, 1, 0, 1, 1, 1,\n",
       "        1, 0, 0, 0, 1, 0, 0, 1, 1, 0, 0, 1, 0, 1, 0, 0, 1, 1, 0, 0, 0, 1,\n",
       "        1, 0, 0, 0, 0, 0, 0, 1, 0, 1, 0]))"
      ]
     },
     "execution_count": 121,
     "metadata": {},
     "output_type": "execute_result"
    }
   ],
   "source": [
    "evaluate(model_DTC)"
   ]
  },
  {
   "cell_type": "code",
   "execution_count": 122,
   "metadata": {
    "colab": {
     "base_uri": "https://localhost:8080/",
     "height": 0
    },
    "executionInfo": {
     "elapsed": 39,
     "status": "ok",
     "timestamp": 1666237648302,
     "user": {
      "displayName": "Mohit Kumar",
      "userId": "03888987891614882912"
     },
     "user_tz": -330
    },
    "id": "Woo2ahHN6s8V",
    "outputId": "306f3bb9-43f2-465c-a93e-93b2b098aeef"
   },
   "outputs": [
    {
     "data": {
      "text/html": [
       "\n",
       "  <div id=\"df-9cc9a88e-9c7a-4422-aee5-5f362038f614\">\n",
       "    <div class=\"colab-df-container\">\n",
       "      <div>\n",
       "<style scoped>\n",
       "    .dataframe tbody tr th:only-of-type {\n",
       "        vertical-align: middle;\n",
       "    }\n",
       "\n",
       "    .dataframe tbody tr th {\n",
       "        vertical-align: top;\n",
       "    }\n",
       "\n",
       "    .dataframe thead th {\n",
       "        text-align: right;\n",
       "    }\n",
       "</style>\n",
       "<table border=\"1\" class=\"dataframe\">\n",
       "  <thead>\n",
       "    <tr style=\"text-align: right;\">\n",
       "      <th></th>\n",
       "      <th>PassengerId</th>\n",
       "      <th>Survived</th>\n",
       "    </tr>\n",
       "  </thead>\n",
       "  <tbody>\n",
       "    <tr>\n",
       "      <th>0</th>\n",
       "      <td>892</td>\n",
       "      <td>0</td>\n",
       "    </tr>\n",
       "    <tr>\n",
       "      <th>1</th>\n",
       "      <td>893</td>\n",
       "      <td>0</td>\n",
       "    </tr>\n",
       "    <tr>\n",
       "      <th>2</th>\n",
       "      <td>894</td>\n",
       "      <td>0</td>\n",
       "    </tr>\n",
       "    <tr>\n",
       "      <th>3</th>\n",
       "      <td>895</td>\n",
       "      <td>0</td>\n",
       "    </tr>\n",
       "    <tr>\n",
       "      <th>4</th>\n",
       "      <td>896</td>\n",
       "      <td>0</td>\n",
       "    </tr>\n",
       "    <tr>\n",
       "      <th>...</th>\n",
       "      <td>...</td>\n",
       "      <td>...</td>\n",
       "    </tr>\n",
       "    <tr>\n",
       "      <th>413</th>\n",
       "      <td>1305</td>\n",
       "      <td>0</td>\n",
       "    </tr>\n",
       "    <tr>\n",
       "      <th>414</th>\n",
       "      <td>1306</td>\n",
       "      <td>0</td>\n",
       "    </tr>\n",
       "    <tr>\n",
       "      <th>415</th>\n",
       "      <td>1307</td>\n",
       "      <td>0</td>\n",
       "    </tr>\n",
       "    <tr>\n",
       "      <th>416</th>\n",
       "      <td>1308</td>\n",
       "      <td>0</td>\n",
       "    </tr>\n",
       "    <tr>\n",
       "      <th>417</th>\n",
       "      <td>1309</td>\n",
       "      <td>1</td>\n",
       "    </tr>\n",
       "  </tbody>\n",
       "</table>\n",
       "<p>418 rows × 2 columns</p>\n",
       "</div>\n",
       "      <button class=\"colab-df-convert\" onclick=\"convertToInteractive('df-9cc9a88e-9c7a-4422-aee5-5f362038f614')\"\n",
       "              title=\"Convert this dataframe to an interactive table.\"\n",
       "              style=\"display:none;\">\n",
       "        \n",
       "  <svg xmlns=\"http://www.w3.org/2000/svg\" height=\"24px\"viewBox=\"0 0 24 24\"\n",
       "       width=\"24px\">\n",
       "    <path d=\"M0 0h24v24H0V0z\" fill=\"none\"/>\n",
       "    <path d=\"M18.56 5.44l.94 2.06.94-2.06 2.06-.94-2.06-.94-.94-2.06-.94 2.06-2.06.94zm-11 1L8.5 8.5l.94-2.06 2.06-.94-2.06-.94L8.5 2.5l-.94 2.06-2.06.94zm10 10l.94 2.06.94-2.06 2.06-.94-2.06-.94-.94-2.06-.94 2.06-2.06.94z\"/><path d=\"M17.41 7.96l-1.37-1.37c-.4-.4-.92-.59-1.43-.59-.52 0-1.04.2-1.43.59L10.3 9.45l-7.72 7.72c-.78.78-.78 2.05 0 2.83L4 21.41c.39.39.9.59 1.41.59.51 0 1.02-.2 1.41-.59l7.78-7.78 2.81-2.81c.8-.78.8-2.07 0-2.86zM5.41 20L4 18.59l7.72-7.72 1.47 1.35L5.41 20z\"/>\n",
       "  </svg>\n",
       "      </button>\n",
       "      \n",
       "  <style>\n",
       "    .colab-df-container {\n",
       "      display:flex;\n",
       "      flex-wrap:wrap;\n",
       "      gap: 12px;\n",
       "    }\n",
       "\n",
       "    .colab-df-convert {\n",
       "      background-color: #E8F0FE;\n",
       "      border: none;\n",
       "      border-radius: 50%;\n",
       "      cursor: pointer;\n",
       "      display: none;\n",
       "      fill: #1967D2;\n",
       "      height: 32px;\n",
       "      padding: 0 0 0 0;\n",
       "      width: 32px;\n",
       "    }\n",
       "\n",
       "    .colab-df-convert:hover {\n",
       "      background-color: #E2EBFA;\n",
       "      box-shadow: 0px 1px 2px rgba(60, 64, 67, 0.3), 0px 1px 3px 1px rgba(60, 64, 67, 0.15);\n",
       "      fill: #174EA6;\n",
       "    }\n",
       "\n",
       "    [theme=dark] .colab-df-convert {\n",
       "      background-color: #3B4455;\n",
       "      fill: #D2E3FC;\n",
       "    }\n",
       "\n",
       "    [theme=dark] .colab-df-convert:hover {\n",
       "      background-color: #434B5C;\n",
       "      box-shadow: 0px 1px 3px 1px rgba(0, 0, 0, 0.15);\n",
       "      filter: drop-shadow(0px 1px 2px rgba(0, 0, 0, 0.3));\n",
       "      fill: #FFFFFF;\n",
       "    }\n",
       "  </style>\n",
       "\n",
       "      <script>\n",
       "        const buttonEl =\n",
       "          document.querySelector('#df-9cc9a88e-9c7a-4422-aee5-5f362038f614 button.colab-df-convert');\n",
       "        buttonEl.style.display =\n",
       "          google.colab.kernel.accessAllowed ? 'block' : 'none';\n",
       "\n",
       "        async function convertToInteractive(key) {\n",
       "          const element = document.querySelector('#df-9cc9a88e-9c7a-4422-aee5-5f362038f614');\n",
       "          const dataTable =\n",
       "            await google.colab.kernel.invokeFunction('convertToInteractive',\n",
       "                                                     [key], {});\n",
       "          if (!dataTable) return;\n",
       "\n",
       "          const docLinkHtml = 'Like what you see? Visit the ' +\n",
       "            '<a target=\"_blank\" href=https://colab.research.google.com/notebooks/data_table.ipynb>data table notebook</a>'\n",
       "            + ' to learn more about interactive tables.';\n",
       "          element.innerHTML = '';\n",
       "          dataTable['output_type'] = 'display_data';\n",
       "          await google.colab.output.renderOutput(dataTable, element);\n",
       "          const docLink = document.createElement('div');\n",
       "          docLink.innerHTML = docLinkHtml;\n",
       "          element.appendChild(docLink);\n",
       "        }\n",
       "      </script>\n",
       "    </div>\n",
       "  </div>\n",
       "  "
      ],
      "text/plain": [
       "     PassengerId  Survived\n",
       "0            892         0\n",
       "1            893         0\n",
       "2            894         0\n",
       "3            895         0\n",
       "4            896         0\n",
       "..           ...       ...\n",
       "413         1305         0\n",
       "414         1306         0\n",
       "415         1307         0\n",
       "416         1308         0\n",
       "417         1309         1\n",
       "\n",
       "[418 rows x 2 columns]"
      ]
     },
     "execution_count": 122,
     "metadata": {},
     "output_type": "execute_result"
    }
   ],
   "source": [
    "predict_and_submit(model_DTC, 'model_DTC_submission.csv')"
   ]
  },
  {
   "cell_type": "markdown",
   "metadata": {
    "id": "OacnPYwo63VP"
   },
   "source": [
    "![Screenshot_20221019_091630.png](data:image/png;base64,iVBORw0KGgoAAAANSUhEUgAABVcAAABmCAYAAADPuaEmAAAAAXNSR0IArs4c6QAAAARnQU1BAACxjwv8YQUAAAAJcEhZcwAAEnQAABJ0Ad5mH3gAADbySURBVHhe7d0LWBTnvT/wb2PLNpGDDR5SbFWSAEkO6EnANAYeLyDRgFXXS1FbFOuFqBgTjTckGkpNKF6x3hLFywnRViVqSIjXGkhiwFiF5CicRCENSgqn/GMqYnKW1vJ/Z+bd3dllF3ZXUEy+n+fZx5nZ2dl5b4Pvb99553tNAoiIiIiIiIiIiIjIJRcqqxAcGIA75DoRERERERERERERuYHBVSIiIiIiIiIiIiIPMLhKRERERERERERE5AEGV4mIiIiIiIiIiIg8wOAqERERERERERERkQcYXCUiIiIiIiIiIiLyAIOrRERERERERERERB5gcJWIiIiIiIiIiIjIAwyuEhEREREREREREXmAwVUiIiIiIiIiIiIiDzC4SkREREREREREROQBBleJiIiIiIiIiIiIPMDgKhEREREREREREZEHGFwlIiIiIiIiIiIi8gCDq0REREREREREREQeYHCViIiIiIiIiIiIyAMMrhIRERERERERERF5gMFVIiIiIiIiIiIiIg8wuEpERERERERERETkAQZXiYiIiIiIiIiIiDzA4CoRERERERERERGRBxhcJSIiIiIiIiIiIvIAg6tEREREREREREREHuiYwdVrDaivt75M/5DbiYiIiIiIiIiIiDqI7zUJcvmWqf+8BAXl7+GDiyUo+qYKl+R2G3f4IvJHAxHXcwAiw8IR9CO5nYiIiIiIiIiIiOgmulBZheDAgFsYXP1HA8pO5WBzyQHk/bNRbnRdD59xWNI/EbEPeMstRERERERERERERO3vlgZX6z56DUve3YrD/5IbboCf90SsGzkNkX5yAxG55+t61MMHPnfJ9fZ0M7+LiIiIiIiIiKid3Jrg6rUq7Hk9GQsvN8gNdpRb/+8KR597uqHLD7oh6N+BSzU1MF2vwenaEpwxXUad3NWWF4yhW7FySAAMcgtp6k/vRPb7Sq6FYuzcIeihbXZP1VGs3l8mFvwQPXUCwn20za6pxuGsXCiftuWHoJ+FIvTBEAT5NS+1S0eysLdcrrTmnigkJYTB5rSu16Oi+AgKCotR+OdKXPlJOKL7hSM2ZjhC/eU+HYY1j/z6T0Xio25l8A0xlWZh2JhNqEAg5uUfxtMh8o12cDO/i4iIiIiIiG4vpupSvHHwCIpPFKPiSnf0iYpA+BNPwtj7Ozia7qtKFBzMRd4RkReiDx35ZDSMNxrPMJUjb9MRcTxN6Oi5iA2QK3bqTuxEzp+VWJLzOJBNeSnn2C8CsUNHILy788hcfWUxDh1/1/YzI+IRbpcu12JCnsSo2tbND67WvIelB5YixyTXLbwR220axj8+EJE9fWFo6RFb/2hARekx7Dm7FVvqmwdoQ/99KTYnPIEeHfMxXbdE3etJeGxhoViain2fpSBc2+ye05m4b+w2sRCFzKJsjHOrMZci4/6xyJZrjvj0m4uXVyfbjD4uyQzGmC1ypTVRGTi1PV40K43p/E7M+WU6Dn8lN9gwIHTKBuxYHAW/TnLTLWfNo+gVRdj+i5v3h6PugKgf85T6YUBizhmk92u/nydu5ncRERERERHRbeJ6NQ4vnYU5u8vRLGQkGB6di33/lYzQ78gdkJcOpmLK07mWIKhVIMZt2IrMod3lujtMKMkyYsz6SrkOJO29gNRH5YpZfSmyn56GjBP1coOjOJAJZS9PxJiVpQ7Ky4DwBXvxh5khtoMfr9ejaN1ETFnvqIybf8a1mJAnMaq2dXODqzV/wsK9y7DHZhoAL0T+eA6WxA5GqK+X3Oa6+vNvY/07a7HlG9v5Wv1+tBAHJv2cAVapIwVXDf7KKFVtq8JUXY4KcwC0szj2IXFseY1o9itFfTnyXi1UH3YWPioZkfpriW7kqql0E8YkZqHsmvaWT+AQjBwaBJ/LFTh88Kjl+4Ke2ov8lDDbxn7L3LrgqnKBKzuYizN3PYlxMd3bNz9u5ncRERERERHRbcA26OcTNhzjRkcjwvA3FJ94EzlvasE4Q8wavJ893DKo6tvKesencHcEkhZPQQROYuvvtqFIjWcE4ul9eZgX5maPunwTBg/LsgnY2gZXTag4kI45L+Ra4ima5nEgZeBU/3mFarn49JuK1EkD0QPVKHw1E9lqUNaAxO1nkB5lPUdrbAoIik9D6vBAsdf/Q8mW32C1/IxxQxHWDtWGobY0crW+XNSL49Vi6bsUXL1Whg2vJmOlPjR9RygWDHwRTz/iKzd46F+XUfLWEjz1WZnNdAGhPbJw4BfhDN4IHSm42ixweN2ES4VZmDlnm9Z4w9JwbO8EBDkaUVqbiymRqSgQiw5/XVFcL8eGWCNWK9fkzmGYl7MVT4fpxodfr0Ze6jTMyVV26C6Oc1gcpyPUklsYXCUiIiIiIiK6VUyFSPuPJOSIRUNCNj5eFmUTy7m0OwkDUpWYRnfMyy/4lk8vV4c9UyKRoiZ3KnYdTkGkebTu18XIiE1EthJTDEvDe/smuD7t4/VK5IyNRVop0CMqCj6Fheq0hLaxFfN3GxA+OxvP37MdY5YqJ2IfBxLHMopjnRWLQ9fg1O+HW+8KFt+TPToWGcp7Izbi47VD5PSNunTZx32UOE60EauVdNl8xplq5IyJVtNifxfzrWAOrrbv+M5/1SBv7xy7wOoArBu59sYDq4o7fBFu3IQDjwywqVRll+bimXdq5NrNolSWYNx3v3hllsJ0PhdpY/po670jMWVLKeqvK7sVY8PMWDysbL+/Fx5L2oQiRxPJXq9Dya50jInspR1DvB4ePAsbTjiedVYZ2bln6Vh5XLHvmHTsOd98sLWNulLkiM881lv7jHKeY+ZtQ1GtfL+9dTKgR0wK/rB8uHbxLM3Ea8WtnHMLTO/naoFVITpto21gVdGpO4xpKUjsrKxUIzuv2MFw9BbIMkkYLMtVvB6KHIs5W4pRp5StmRIIlu9nnJbbzFp6T1LqTsowWe5KmSzNRZl5RL6ZEvBWj5OEPdV1KFqfZClHpezzqpSdTKh4XVeH+oxF2uuVtmnWH0df7l9Xo2D9LAyzq38Zb5Vr9VjP1X2dfZfCvi7e3weDZ4q20awu2rYztT0lReIh9TMttCdn3GlnrqRT+Y+BfO8h5fzs1L81S342GhtcnVOYiIiIiIjo2+qrOvUOVUXkw6HNBsn1GJWGfTk52JWTgdhucqOZy/1IhQmXjm/CTLv+fNrrDvq4Nv1tZcoCGWuZkit6pJIb8ZRLxzMxM9GFGE1tIY4oAUghfPoEa2BVcVcEJk4P05ZL30SB2ud3zaXcTC0Y2XkC0lOG4B5tczM/9I9HZn4R9s2NQA+n49D8ELlAKY8c7BPHsplusVMgQn8ml+uvOI63/CzUdkCd8pkIuezsMzqmE9uQoXa1uyMpeUSHGcncrsHVug/WYtnfdbft3/E41o1eBmOAl9zQNnpEL8MfH3ncJlMPf7wWef8rV262a28iY0wqckplROxaHQoyx2JO7lFs+FUiVh+phPaOCXXHs5DwqyyU6GvQ9WrsmRGNMUt3oqTW+kZ95VGsTozEYCV4K7epvi4V32dEyq5SeVyxb+lOpIxZjD2XnFTN6lxMGSQuJOIzdeYh3+I8Sw5kImGwcgGR224CnycnyoCnCTmFJeo295lQdHyntiguGNOGO2li4oI0Tb0wi9foILnRFXXIk2VSVFmvTnEQGugDU20p8jIT0X/GW9aL7A0wfbINM0Xd2VMuy00pk12pGDYmEyVfa5vslW+bhYSsQks5KmU/Z2Im8l5fjGELdXXoK3HxX2jEzAOtnKmpFKuN0ZiSdRRl4rM+gSKt/ga1/mU/a8SYdbr6586+zjiqi6ImVxwRbSMyFhmnnRzh2hFR70V7Ol4nv0O2p0HpKHCSVzbcaWeuptMQgScnaX+FTAeLUWbzR7pe1NGj2mLvqYjlA72IiIiIiOi77q4ulpGKBZu3och+YJGhO8L7RagPPgq6W25TuNWPNKEk04gBSVk4LPrzZkp/XukjPzYjF5fsA6xS6fppmKmLtajciafUi/5l0jYcPrETKdO2OXjYt1V9SbF6t64SOIwOaz6vao+wKDmwsBQlzUZgOVH7FtJeUiK2BhiXz0W002GhfjAuy8C4kJbHjUKUVpAsj2YPrvq6GIWyy9sjLFQXo/NDL3N6DhaiRJ/XymcOaovhMRGtBEtFHz5rp9b3jkpGUoe4E1nTfsHVy+9hXclJXcApAAuilsLo0ePqW6cEWLcE6B9zdhLPHP6TbQO4WXaJhjk/D6fOnMHHBdlIDNQ2F6TOwoZ705BfJLafKcD2SfKNyk04rIsplm2ZhpTjSnUJRGJ2AT65cAF/uXAG+xZoc4RWbJmIRQfNKTOhaOVEZKsjNg2IThPf+z9i/3Pi+L8ox+r1xepeNpRh15NTUSAuAurE0GfE/p+J10d5SI8R33CtECnP7rT8etTuOgWKRiSXP6v2MEhZj799IRd/FoJgp23MIBq5diGIFI3b5aZYnovVapmIC9Lvi/BJUR7yj4ly3DUVSojWdHwxsp2MRHVH0faduDIlB+8pZfg/RchPk7dEVG7DnG2OhjoWIudEKLYXKHVKt3+12H9hOcaJ+vOxqIen8tIQLQPYBa9rc9c6U3/8NWxQ61MY5u0Txz0m0lp0Du9laMeuWL8Jb8hf49zZ1yFdXUTgBGx/75xWF8/sxTz1QlmJ7MmLHT+cbNc2FMSswTH79nRtJzYcaP3XAWs780Hssjx8LNvZrqe041RsWYyc8+qiG+k0oE9MvCyDXBR8qixI9Sdx+E1tMXxslFpviIiIiIiIvtN8BiJxtjk2sg0JjyijT9OR81YpKnSDYGzo+5F3D0F63hnZj8xBknoo0Y9cvNMyv2j9wcX41RalQ6fFTLS+3zkc+3287M+nYsoWx/3tPQcNGLdsL95T+tW/jYKPu/EUgx96yOQZwoNavJXf9PVVuRQEP0c3e/v1sPQj6792kjc26pC3dLF2riPW4LdyPlOnHE3R2ApTdSmKThSj4PVMTHkiSZ22wBCSjLVTbUcThU5dg6dDRP5Ub8KvjM9h9euF4jNZmGlMQo5yfjEZWDu+5Qd1ddRRq4p2C66WFW9Fju4BVuEBi5D0sLdcaxums2/jsKXGeiH854uwQI1qSJd3443P5PLN1DsFqZNC4He3D3wCojBtqnmMcwTS0yYg1F9sv7s7oqdORaR8p+ILGVK8Xoq8TWoUB4ZJaUhVHvyjVPBOPgifuQap6ihwE/JeP6IFIU3FOPKq1qgMCRvwsvK9Sh7cJY6/ZCPS1f3tlL4pA0VDsHxzMsLNv/74hCBxxe8QqyyXbkPeTbtt2Qf3mOfvqKjD3+Sie6pRKYfP4wFxIZKLbebrenlx9EPQvdaj+0SkIF9cZD8RF2aH88C6KywFa81D8MVFOHTSaiwfqr11acubtr/wSInPpyA6QKlTYv8JU5Aot2NKmri4dxfbfeDXewKmjZPbiytbDGBbL+jij8C91otvj/gN6g8Gn1ywzrfizr4OWeqiAYlpIh3mX77uDsPTK+Ucwdfewt7jDs5YtLOXlwxHkLk9LfkdktQAMlByqZUQvb6dJazG2oQQ+Mh2FrlAtLN+IQjtbUDZp9px3EmnIWKEZeqJve9aG5GppBh56lIYjP1a/qNBRERERET03WBA+DN7kb9sOPzUfpQy+nQn0p4di8GRvfBQZFLzadv0/cjVa5DYW/bR7o5A6u9TENlb9OfuKkOZOgCmDodef0sb7Sj62+mTzH0/A4KGiz6zvPOwYpPj/nZsxmvITAhDD6Vf3d0PBnfjKYYwda7Y/L2HcWp1y/OJXqowBzUCEeyoH+3X3RJcLahofUBR/cHfYZEyoKhzFJantDaXqWfqT25CQmIipizchoJaH4RPWSPSOhfh+ikNFHeJfNixF+kj/GAqfwsbFiaJz2zCYZGXfiPSsG9FPHq0FNy9XtlhR60q2ie4airBoQrdBBB3jMIzTzSfO+NGmM5uxa/fWYHpry/CHnOA1RCKpMdG6QJrF7D01Ekt82+miFCbUWk//L455eLf78tFhVhuliefl6FI+fVFGDfQ/qFc3RE5Qkb/C8txTklYdTXOaFsQG2G3f6dA9HmieRCnokzONerXBVfEsvIrg+VVZg5tVqNEBpZuhv/7p1wI8nM6/0fLfNC9t1y81vo8HW4LDIdRBsxW/0qZSyVT/pJWL77aRwuAt4HIePMwfzMfREZFaYvXKnGhWZFEIeQhXal3+qFcEL6vWxZ+qK97LfALCZP19yjmPBGLmUu3Yc/xclxSkir+oOjT6s6+jljqIuIR9TO71hAQAaMs04KPy5qX6c9C7OZq6Y5A8/wurdG1s8ShcrSvWacQJOXkIT8vD2vl9BJupbNTGIxPae3u0uES+WupbtqKqHjE6QfZExERERERfZd18kFowhqcOl2EYzkZSE0Yok7DpjDVFjabts3aj5yAJ/vb9SNDpmKX6Mvl562BUQlQmspQLmOWoSMi7PrbBvQZGK8tXivGuc+1RasIRNk9y8WjeIqhO0IfDdSCui0wdDHHb0y40qwDLJissY7Qbq2ESr8W+bZICypHP5+m5UU7MNw7EE/PTsbTU4Yj/O46lGx/DoP7GpFRaBu8MJ3OwrBBRqS9WQdDyHAkKZ+ZPQHRopzr3kzHsAFjseGso0RrTO/v7LCjVhXtElw1lb2H3bpRq9HBo1qY18F9WmD1NRSp33ESC19fhDz5/CpD+CgskKPXVDUnccZ5+XQ8X1Vb5uAweNtdJIQunc2hx2r8TblVWrf/Pfc0z+R7/PRhXk19jfwJpS4XaYmJ6q8M1lcmDmvvAk7mHGl7laj4s1z06dI84OwSH3QxZ81/V7f9lAZ3D8HyP6QgUvlVSp1LZZv8Ja0PHnpMmQTb7kFRHjJYAvFWfvfKewhulpBkbN8Qj1ClHX1VicO7MpGSZMSAPvJXw2LdRdKdfR2w1EVR6l2aJd0Hhq5y8Yu65lN82AWP3aJrN/iB/LclbqYzNCpe+6N99k0UKb8zXS9H8RvKBiB21JMd7g8BERERERHRLWfwQ1C/eCQt26hOw/bJezl4Wo5QrNjyHLKVp9AL1n4k8MNWApb6B2bd07l5zMQadylHdbPp6MR7doOU2jOeYo3fyHiPvVbSYmVC0Zp09XZ75en8qfHtd+ekz6MTMG/uXMxbsgb7ThUgU50aoRzZs7Nw2NyJ/+ooFk3ehDLl9v+EbJzKW4NU5TNz07D9/cPyM6VYPcvueURmyqjV9R131KqiXYKrZZ8d0N12HIq40LYbpmUbWNX43RmMHuaA6h0BiLw/VK4oDqDof+Ti7eAuH+svKf+Q/+r83z/NNe3f0EUZZn13d5HDGlND81p45Vrzm+wtv4Y8oMwPosxX6fhlHrXX7iqLkScvkuE/C/FwqLofQvvJUb1KQEu749uBOuTNM2KYUbyWHm3x9nh7ht5TsevUOXxckIftK1KQNCpMu21BPigq44QL4dV/Kpc550yW8rWqu+Q0Me2mx9AM5H90DqeO7cXaZclIfDJQLRf1V8OEWcjRDUx3Z1971l/mRN1u9sdH5IU5OzwOujvRSjtzxK109o7CWDVppSj8s6hlpUe0P2wYgth+ntVwIiIiIiKibxtTfR3qv6oXr+Z9YUP3CMzbLG+1140GbbkfaUf3wCxH/W1rf7A7fOxvZXegPeMpfoEhst9biPJPmp+r6ZNy+cArA0IDWzh+3VFs3a5NG2CoycWc0TIGorymZaFIfQfYs1jZlorD7gRGWtKpO8ZNmaAtX8tFiXyGienjYuSZ7xw1RtmO4BWfGZkgRw9X70SBNW5u0dFHrSraIbh6AWf0D7DxHoxI23HXHnMcWJ2ILb+ahnBdvKJHsPhOuaw4dOmCXLoNiMYULRcPn7avVfUoOSEfUNU7HEFKmv3usUxBsOfdErvAXTWK3mxeM4P+Q95mfr4Ml8RlRrmtWf8ydDJoyzfjxwDlie2ZmdCe5zUEiUOtF0l3BUXFa3N0ohQZmY6f9mcq3obVB8pRdrYchodC3GuU102oFxcEnwBRRr+YitTVe3Hqg43QpjI1IedE87wuKrMNjJo+LbVcyBwpOmH3FEJx3HMnrfOu9LhZVxGT+ONmMoiLexiMCXOR/vJhfJyfIgP5MmBo5s6+dix1EUdQYp99X4nPyuoeGqYFMttMi+2sEjmJ2h+eOfoHY7mVzhDEygm8Cw4WIq/4iNY2RxgRrX/CJRERERER0XdY/fFUPNynj3hNdDwwp/5Ks+eytNiPPL8TCWog8TnkKd05n0CEy+nmmve3gbLTR+RSFEJduGm0XeMpIY9jnBw4uOe4eeoDM2WquVxtsXM8ImyfF2Xr+v/JBfGpWi3+YXmV11mOW1+pbKvDFXdG2ZZm4aH7g3GfeM18q9n9paj/f83vIzZ9fUUuCS0ObjLBZH8ut8GoVUXbB1e/rMJZXWaF+vdCjzb4FlcDq6qAXhiku9W34m/n3RqheEsZIvCknFD5UtZvsKHUWlkv7Z6HRQe15eiJT2pBVZ/HERuv7W96NR0Z5gf/XK9HmbKuRvdtGSKGyAfuHMWGdYWo01XeS7uT8PAjvURDicaG5rHCG2K6Zv5Fqh6XzmpPk0t4LFo+sd2A6BWLYbyRwFNAPJ6XTxlUnvY32JiKnNPV2nfWVqJgyywMS9imDaMPnIrnR7keyL20ayzuC+4l8uZp7NHPG6270FvmPPELQpC8IJatykSOuFipaT6RhV/NkRdDZw4uxpzdlZYLSt3xTGTIjxgmDUSf1m55uGHigp0uyv8/xB+32EwUfS03C6Yr1lvze/y7klZ39nXMWhersfo3m1Bi/pASdF+4WN5SEYWJT97A1AjVb2FOpCi7xG0oM5+jTTt7DhnF+nYm8vyE8kemHkFBSh3xLJ2WYH9hOhZt0SpN4siBbRskJiIiIiIiuo35hQ+0DJJKm5aKPaL/rPaHr5tQV1mI1QvMg7G6I/xBbbSRTT/yOdFH0/cjV4p1JYj4leiXd1M2BiJ6bJj6Ng6uwQu6ATT1xZmYk6Wt93hqBCJdiNu5H08xoWT9WDzc24iUg/pgggOinzo2WcY0dj2Nma+Wo17NCyW+I9Z3aWHRoOR467k66u/6jcBaB6Np1Vd+mmUwYmK2sm01RroziCskCokylHI4dR42nK62lNel05swJ/Wo9mbnCYiSQW2f8AjL4KbsVbp+v6K2EBkvyeeTdBZ96Ae0RbPbYdSqoh2CqzXyAS6aHt7mSRM951ZgVdXVOk2A4uvLHj6B/lYwIHLBa0hS21MpVo/pg4cHGzFMNJYBqYVqtN4Qk4H0UeYq5YPY2WmIVtNbiZykSPUXhPuC+2BYumgsUyLUvWyIBpu6Y6oanK14NQmPPRKpDQ/XfUfQU2uQ1NIvIR4oSjfKX6T6YIBRe5pckTqPiEjDsjy8/AvPR61qlKcMbsXL8fJiVJ6LtLHR2ndGxmJK5lGtbnaOQuaOlOZPr2tBj6HT5AOtCpEyoA8GyyH1j8WlasPyOw/H0yNkAFB5oJG8IOJaIdKMkVqaEzehS8JUy0XFkcgRQ3ApNRYPBWu/BD2WtNNyzsunR8hbBNqTqH/xyVrgvnobEvrKumGMxWOWwPRcjFUnDXdnXyd0dVH5BWzMI1rePvaIPuieZnkSvydKdj6HvFoT6k9kYvUR888s+nZWieyEPngo0ojBfYKt7WzEYiSqfww8TGdAFIxhyoIJJuUWCPHH5cmI9i9BIiIiIiKi20bABKxdIR8yXJmLFNF/VvvDwb3w2OAkbDgtA4pKjML8EGt9P7JS9NEeEfsOi8XDwdZ+pDFlAkLl4KQe49do83qiGnnzotW+37DBffCw6M+p/e3AqVj7TJh2Dq1xN55S+yY2ZJWi/lo59izKlYFi50In/U72U00oUGIoal4o8R3t2Mq5Lp9kDdY47O+aR886evkaLOk0dNG2ufWAbkMY5q2ReX+tEKvHivyU5TVgbBYK1Nv/A5G0I8UaAPaPR7q5jNV+v1JeWhncF5mEHPWG30CMW56MWH2MTz9qdehzlvl3O6K2D66arlofFCME+/rKJTsuznPofmBV4Yt7ushFxT+vwqT7fId3VxhS9+UhMyFMHeWmDtUWjQWd/RA9NwfvvxKPHvrK3z0eL+/LQKL+KXZ3R2DergxM1D9JXsfwaAr25cvPXKvThocr33F3GBJX5GHfAhcvLDfAJzACxtkZ2Fd0Bi8nBLbN93Xqjtjlh3EqZy5iA+0qiJJ/4iKX/0E2xrkbx717CNa+k4N5MX7iPOtRIYfU110zwC9mLna9swaxulG3oU+9hl1zI6yjFJXvTsnDy7+WQVcnDP2ewx+2T4X64CTJp584/rHsdnu6XzMhycg/bFc3zlaKVPsgPCEDx/KSLX+k3NrXCZu6KPO2TlyQDf5RmJdTgO03GHQPfUJe+EUZGiN0v3PZtTPldokKJdhvbmerh1jLz6N0dkfcL823q4j0/GII+nTcvwVERERERES3RI9fZOP9nBQY1T6hLa1fWIRjKbYxCtt+pAl15Ur/TO6/qwBrh+qOpcwF+kqB6KNHqc9NUW+Vr1T21vpz+fvcG3zlVjzFLwJPqoFdA0KfirI8M8cppZ+ad9jST7Uy9z1tz9Vpf7cdKek/VmSOj+gp8ZGpWHs4D6l2gVCljE8pefao8hmlvMxlID+TvxeZdtNE1h/ZaBm1Om/6cLv86Fi+1yTI5bZxdhMC/rRHrgCzB72L+Q/LFbMvT2LVnkW48NBubB6kjtN2yLPAqqZk/0CMsszXMQ4Hnk1GeDvMMNvulHk+69U4PQw+Lvyi8LUyL6SL+5rJzyiV2udu2wbgTElmMMZskSvOPLUXfxEXwFtKmSdTHRrvKG2lyLh/LLLlmjNJey+IC4NcUbhTJuq+4jLoYr5amL/D4OPSpNrtxpJ/LqTVnX2dMddF5Ze2tpz0V5yb6fstnJM7ZdoW6SQiIiIiIqLmdP0t5UHELnUL3elHuhtjaY2L8RST2Mngbh/X1bxorb/bnjzJz7Yug1voQmUVggMD2uOBVq2QgdX1Ih8Pfzwe09+pkW/YupHA6reKbji3SxVOaXDuDuuWn3E7AHg7UIKTbZ02d8pE3deD7zZ/x60MrCos+edCWt3Z1xlzXWzLwKpCnFuL5+ROmbZFOomIiIiIiKg5XX/L5W6hO/1Id2MsrXExnuJ2YFXhal601t9tT57kZ1uXQQfQ9iNXz7+GoW9vtUwNEPvIAWyONk8N0ICS/ckYVaV/BJwXjI/kYF20dQTrjQdWL+PwjlGY/ne5+oNpOJg8EaG348hVIiIiIiIiIiIi6lDab+Rq127afA9SRcOXcknhjfCRy/FfPw6Q64pG5H00F0s/0Eawts2I1S9xSZ1EV7rTF/cwsEpERERERERERERtqB2CqwHo/QO5LFTUnNOepm12RzdEj1+Ozb7ecoOiBjmn5mLp6yvaZiqAqnN4R/fArNB7HsDNmdaXiIiIiIiIiIiIvivaYTxnMPron2p+7W0U6WcBUNzRDbETtzYPsF4S+7bBHKuXLhxDkVxWDOoRLJeIiIiIiIiIiIiI2ka73Cwfeu8ouaS4gDfK7KOrgsMAq5XHD6/6VxWKPjPP+CrcMQqRjK0SERERERERERFRG2uX4Kqh9wDM1h256NM9KNDPgWomA6zrfuQlN2g8DqwKppIDWKn7Lr8fP44+neUKERERERERERERURtpl+AqDOGIC9I/tOptrDxSBpNcs3FHNxgn5VgCrDcSWIWpDNmnDqBOrgIBmB72OAxyjYiIiIiIiIiIiKittE9wVQiNmIZE3dHLqpZh/ceNcs2OOcD64xsIrKIRJW8vx0pdBNfv3xMxklMCEBERERERERERUTtot+AqfAfgmf98XK4oarD+naXIq5Gr9pQAq8eBVeBSwVI8VaWb2/WOx7H0iSfg134pJCIiIiIiIiIiou+wdg09+g2cYzef6kk8s3eR8wCrh5TA6i8/OqmbDsALxt5zYOwmV4mIiIiIiIiIiIjaWPuO61RGo45diwX6SU//dRLP7E7Gho8vyw034F+XUZKXjFEfvYdLcpMiPGA5XoxiZJWIiIiIiIiIiIjaT/vfNN85FE+PWgijzTeVYeU7ozDqD2+jol5uclN9xdt4acs4jPqsTDdiFfD70UKsGx4OH04HQERERERERERERO3oe02CXG5fNe9h6YGlyNE9cErjhegfJ2NS5GBE3+sttznxjwZUlB7DnrNbsaW+QW60Cv/xUqyLfwI9fiA3kK3rjWj4BvD21k/VQG2tsUHUzTu94dVJbqDbh9JGGr3gfadc/w5hvSUiIiIiIiJy3YXKKgQHBtyEkatm3QZg2aQcrPC1D6A2ouB/1+LXB36OgKyfY1T2MqzK24rsg2+j4NTbyFGW9y/D9E2j8OiGnyPmg7UOAqveGNd7K14df6sDqw2o2p+BmSOHon/0E+I1FDOf34ES/dBaF5xb+wQW7q+Va22nKmcC4obPxzHz+SiBpCuNcsVKCbI0NN/sgVrkz2o5Le2TVu17+0/JhfPpfS9i/xSxz6w8uD5BhXbcjaflqiOf7sCU4SOxJN961MYrDWi8LlecUPKh/9pSuWbWILaPRf+x63Gu+W8Jt6mO3EYa8G76UMSNFPktt4jGgAYHjcGVMnVN623kpnBQb9uEk/wjIiIiIiIi+ra4uTfPdw7AuElv43T0NMQ6/OYGlDT8Ces/ew0vfroCv/5gBZYqy1V/wmHTZZvb/816+EzDH8cfwIongm/5VAAXNk/BhN3/wM8ztuPQG2/g0B9X4eedDuHZWetx7hu50y0UMHoVXl4zHwP95IbSzYgbudkaSFLV4uiikfht/i0O9rSFv+zCsbNy2d7ZQ9j9F7ncloLi8dKalZgb4ys3lCJ75Ehk28dNW9WAc+tn4NmiR7Bi42z0amVQ9+2iY7cRbwxMXoffr0tAL7nlcn4q4hYdsgvAe1qmHVizets2HOcfERERERER0bfHLQlH+j0yEZuTD+DAI+Ng/L4nt6h7IehH47D55wdwfPJERHbrCLe5l6Jw/2WMn5eGYSH+8O7iDW//EAxL+w1m+X6IcxVyN2Ukl30QSRlB6mR0lzJCrsHRKDndcbR9dJ9XR6Q6GDHm7Y97g/1F7gnK569cFQtXcVXZV3esRvGxxm+U95t/rzqqVdnf2WA0Z9/tAodpdTbyzYURcV5ejXg1/wSa79WIkvw8fOnlpN7ItDcrJz1zOu1H/nbyRrf7g9FVua1c3ecr9fublVEravan4tl8X8zNSkWEORjuQt1RykfNP/P56fc3p8vJaZjzv9n7uu9orK3AhYueDqO9DdqIb0880FMGGEV+ffmNeF8c50tzvqifa7lM26uNOC0fe/rykudiyRvzd7dUbxXN8s7xtaBZnit1zHxoR/mn50o7s9NqHtjnrf58dFotIyIiIiIiIiIX3bw5V1tQ/3kJCsrfwwcXS1D0TZXNk/8t7ghA5I/CEddzACIf7oUg3442b2gpsp9cgMsL38CiGOfDDC/vfwbGi5Px/pwwuUU4vR79d/RE3kYjlLCOcstzzk9fwoD307HxC1/85PplnG8MxdysNIx+UDu2epyK/nihbhc2VHuhsfYy8OhsrPtVLdY8fwiNXYDPaxtxb/xLeDk5TAuo6r4Hh9KxYOuHOC8+FvBTXxiiUrFtGrB7Qgb+WFeLhjv9ca93MBLFd6ojXRvKsXv+fGy86I0HujSqx46Yvg4vjA/Sji1cLlyNBb87hL96+6vnjJjpGPzJepTE7MSK0f5yL1utpvUvuzB1ykcYv28lBlsG1TXg3ZSR2HjfOuydHiK36Sm3Wk9AVf/pOLf5FEbbfFa4fAhLxuQifHoYst635juu1+LdF+fjt0UNuNfPC3/9ogE/iZqPF5cMQjd1Hkp53JhUNOxehbNevriq5JWvEb/PNo8uLcXG6B0I+OM6DOt0CMvn7kDhFyIvfEWe3BmDuTsnW0ZF6in5MBMr1XpRc1SUzeovMT5bHKOn3EFove7I84uajZpdO1DTqVEt34Fz1mF87SosOCTSA5G/3/giKXM7EsNkyX3xDpbPX4WjYvu93o1quh+cvAorEkN09cYbi4JFevLEAY3aebqv47cR/Xef2zoBWflKfnnhAT9R7xPWYdGjHzov03ZqI62Wjz1zeT10HNmFYr1Bq6MrfxOKY0uVeuuNL5Xzf3Qedq2M0+q+vt6K07Dm3Q6s+cwXXb+pRRXC8EK2aEs/VfaXdW3ynzDrUfUAKrVcemppcZh/ceLbHLWzuFSsnNcPvs7me3UhD5R2s2T1+7q8fQnTri/AAXk+Kgdl1DtRHGeyk7wkIiIiIiIicsI85yqU4GpH839XrzZduaJ7Ncg3Ori/7pvdNGhIQlP69uNNn9eY5FZbX4p9+mWVyDXpz+ua+iW/0fSlXD2bFaMeZ8PJq3KLOPZecWzjuqazX2vr6nGiZjftq9LWm/5+vGnNkBhxnL1Nf/2ntsl0clVTfFRqU+HftXX771HXo8Qx5aqmpumt5JimBftq5Lriy6bCRXFNCVknm67KYzdV7W1aMMTYtOHPMp01bzQtiIpvfs5R9sey1Xpaq5r2TY5pev6g5azVtKZHTbamvRktDRv+/GXT0fkxTTP+aLvjX/84uanf/INNV23yw9R0dl1806DZ1vxrunqh6Y/iOAmvlMkN2nH7xa9rOmPO06slTRvi9d8h1kW5vGVJsrKunItcdULJB6VemMQ5JSj5+Gdrfpi1Xnfk+enqwNU/vaSVgeX8rjadWW5s6rfouFhS1DQdnRvXNGNjmcgB6bOdTTP0aVDrSVzTgr1OM9xlHb2N2H+3uq5vMypHZdpebcSF8rGnlpf43g/k9/xT1GPRhvoZV1nrbbU4N7HPq+aqbVdvtbzTnes/m9cbrY2pKxZKuejT4ij/zr9i187+flJtQzeUByKvZzTL2/lNsaK8rccVx5ltV0Z/E3XCGNeUfsS2hImIiIiIiIhac77ic/XfWzxLqWMGb2/4+OheneUbHVy30euQty4BXc++ghm/HIr+Q8diyepDuHBF7uCGxrApmNTXOrqvW/wMTEIejn2ou4+170gMMY9s7BKC4CAgIqa/HGUJePUdhIHKbf9u3Hbr0F8OIae0H56b3hfe5pFlPeMxK8Eb+4vL1NWqo7kojnkGSfpzHi3OuYtcaUHLae2JqGEhePedD2G+Gb2h6BCO3ReHCN2oTsd8MXDEIJzfLcrAclt0OY7trsXoETGwGTv5zSkc29+ISUnxlvyDdxDGz4hH4/7jOKe7/TkiIQHh5nR5h2HYMH+cq/1SbrgBpZvx7PN5qPLyR0A3m7Nzy2BjnCUN3qGh6IMQDIgyZ5Y3wgfFAFevyukS/DF4zUG8nKwbudczCL1Qjqpqua7oYkRSfMsZ3li+C0tmZODdFqbrZRtxt424WD72usRhSKT8nk5i//8U/0YNstbbn/bHgJAGXP1arjvSOwG/NJ9rJ1lvSsvwubbFM9+cQP5ub8yar2tnXfoiKXkQigs/dDI3a+t5UFWYh3PN8nYyfmme5kDxl+PYfTYUkxJ1ZeQ3CEnTQ3Es733OC0tEREREREQe6ZDB1duZ94NxmLVmLw796SDy1s3AAxfWY0qS+097fyAkyDb4hyAEPwrUXNaFAPzvttunnXx5GedxChuTJmDqBOvrt/svo/GTi2pQ4urlWvR50Hr7s6qTL3zVW4hb1lpafaPiMPD0IRSqQbvLKH6nFAPjY9BNfbdlXpEj1YBbfpEWcGssegOvwohhkXY3AV/5EjXoj172swz4++Pexgv4XPc0NWUaBb1/87Zd99jFi/i36duxM6EBy+e6X2fMuvq6WSuuX0bV8V3IfnGBWq4Thj+P3fIti5/6o6tcdKaxpgLFn36EmlYCpWwjOq60EVfKx54L5dWq+3vKKQN0dHFrj6jtrBb7U23zaeb6E8DZi/ir3K2ZVvLApbxVyijoMfSyS5S3f094lbfw3UREREREREQtYHC1vXTygm/QICS+sh2L/PKQc1wX8HHB1W/sI02NynNhbp0u/TE+eTZm6V8L0/D7aX0twaurysNrPNBqWn37Y3DfcrxXVAtc/hDvng7DwL4uBjQ7hWDweH/sf/M4GnAZ7775Dh4YH4dg88g1GyaYbjR4dCP6z8eLo3siICEDi/wPIXNr6Q3Hslp1vRy7J0zAjNxadIv4BVIyXsErb7yE8fJtd3jHpOF4wV6Mf1BuaA3bSOvasHw6jlAMm26XT/NEPr0Uh3vlHjZczAOX8lbscyubOBEREREREX37MLjaVipysXDCahQ7G7V3Xdelv6CNZDO7fPGCXLKqqaiy3Aavun4B50q9ENDTyUNv2tM9/uhV1wDv/+yL8EjdKyxMvPzV0WJd/Xvi/Nkyu3OuQZX5CfAtaD2t3oiIHYTi/PdRUngI78YYMdCNwaLdhsRj4OlcHD1+HPtPh2G05T5xHb+eCPA6hQt259v4SRnOdAnFgzcj233v1kbedfLHsIxU9Dn0PJbst7vH3oW645a6Cyip7YcXsuZhWExfBPf0tt4y3dbYRtxvIzezfDxQdVFfP2vxeWvVsUtXdPOqEflll0+PhqFXX/uRyJILefCTniE4X/g+qnTTd6ChwrY9d++JiC8+Uh/yplfzaSka+4Y6DuwSERERERERtYLB1bZyXyh6NR7CxtV5uGDuvDfW4tzWDGRVhGBwpBbw8X0oFN3Kd+HV4xfRcKUBNUXrsSG3+SSVXmWbkZl7UVu5fhkl63+H3V2MGOLJQ9qd6eqLB3AB5ysa0GCZc9IXXbsBn1dU4LI4v0YlWNEzBuP7foiNKw6hyhz/qn0HWZOGYqEM/nUbMgGD/3s9fmtzzuuR70IgyJW0evUdgNFf7MDzWysweuBjtrf/tsY3BqOH1Irz34HzQ5wEZjuFYViCL7KXrUeJufxEGjeuP4E+k40Ilpvc1xXdfgpUifxsuOLGmDnvfpj1Uhz+uj4V+/+ibXK17rjlzn+DNz5CyX/LkJ/I/3ObN7d+27knbsM24u0rzumLCnxaK9qIpfgclGl7tZGbWT5u8ceD/+mN4t3bUXxR5M2Vi2paDuimz1A0y787+2HY6EZkr9qMc+Y6cKUC++ePxIT1TkZqu5AHvnGTkdggrg/puTgnzudyxTvInv8KzujnXPWPwaiYMmT+JtdSRg2f7kLWjgYkjuvnOLBLRERERERE1AoGV9tKpxAkbnwJQ/6+AzPGPIH+0eL15AQ8e7wr5q7LwGDzYLqQBLyU6IujL05B3MiRmHLAH5Om9ZdvWvWZlobB5amIUY7zxFgs+LAvVmyc7uR2dg/dZ8Tc+AZkJ41EXPo7ckSdFyImz0avogwYR07A7k+Vbb4YuGQdxnfahSlPyrT9chWqol5CilEmzHcQUlbFo3HHFO39JyZg/30ZeGmI9nZLXErrnf0wOA5ouB6HwfbzpbbKC+HDjOja6IVJw/o5DcwGJKzDy3FleN5cfpPWoSZuFV40p9EjPTFsTjyu5swQ5Z2Od914cJPXo7Px0mQga5Gcj9TFuuOWLoOQtDgUJS+MtJTb7p/Gtc9t57dhG/HqPwUvPPQ+lvxSnMeOcrnVUZm2Uxu5meXjpuCEDMzyPYGFk8T1Y+QM7PebjGmR8k3JUf4FT3sFK8NKscBcB0Y+g7e7TsfKaWGO26YreXBnGJKyX8GkLqeQlToDC1adRLe5v8F4m/lsvRGx+BWkdM2zlFHc3OPoNm8dksLcvaYQERERERERab7XJMhlaiuNciSolze89SOn9K4rc/95wau1QNA34ljXveDt3Y6dfyfn0tgokmD/tWLfhgaxt7e303NvVEa83inS7u4pt5LWC5tG4nlkYG+y/VOn2pgLafSEw/z0hKt1xx3tlGanbrc24qTwblobudnl4w5XKrajfdxNU2v7K6PsbbbXIn/WBLwXsxMrRtv9QKLWP1FnurhaAERERERERES2LlRWITgwgCNX24USMOrSQtBI0cnF4JgSgGnPoJHCybk4jJeIfZW0tXTuXkraPTllZ2lVgmcVucjO88X4Ye0cWFW4kEZPtBZ/cpmrdccd7ZRmp263NuKk8G5aG7nZ5eMOVyq2o33cTVNL+1/Mw8IxzyBfzrigaPj0EN4r90V4qIOR52r9c6cAiIiIiIiIiBzjyFXq4LTRZ8srvDE4+RW8cEO36BPRt1MDLuxIxfzd5Wi40x/dGmtRdd0fw+atwqIhvGYQERERERFR2zOPXGVwlYiIvh3k1AGKDjmFAhEREREREX1rcFoAIiL6dpFTB3TYKRSIiIiIiIjoW4fBVSIiIiIiIiIiIiIPMLhKRERERERERERE5AEGV4mIiIiIiIiIiIg8wOAqERERERERERERkQcYXCUiIiIiIiIiIiLyAIOrRERERERERERERB5gcJWIiIiIiIiIiIjIAwyuEhEREREREREREXmAwVUiIiIiIiIiIiIiDzC4SkREREREREREROQBBleJiIiIiIiIiIiIPMDgKhEREREREREREZEHGFwlIiIiIiIiIiIi8gCDq0REREREREREREQeYHCViIiIiIiIiIiIyAMMrhIRERERERERERF5gMFVIiIiIiIiIiIiIg8wuEpERERERERERETkAQZXiYiIiIiIiIiIiDzA4CoRERERERERERGRBxhcJSIiIiIiIiIiIvIAg6tEREREREREREREHmBwlYiIiIiIiIiIiMgDDK4SEREREREREREReYDBVSIiIiIiIiIiIiIPMLhKRERERERERERE5AEGV4mIiIiIiIiIiIg8wOAqERERERERERERkduA/w9sbBxygY+MoAAAAABJRU5ErkJggg==)"
   ]
  },
  {
   "cell_type": "code",
   "execution_count": 123,
   "metadata": {
    "colab": {
     "base_uri": "https://localhost:8080/",
     "height": 0
    },
    "executionInfo": {
     "elapsed": 1994,
     "status": "ok",
     "timestamp": 1666237650260,
     "user": {
      "displayName": "Mohit Kumar",
      "userId": "03888987891614882912"
     },
     "user_tz": -330
    },
    "id": "wzAX9Eti6z3Z",
    "outputId": "2d7cdb24-640e-490e-c954-c4892b6a16c4"
   },
   "outputs": [
    {
     "name": "stdout",
     "output_type": "stream",
     "text": [
      "[jovian] Detected Colab notebook...\u001b[0m\n",
      "[jovian] Uploading colab notebook to Jovian...\u001b[0m\n",
      "Committed successfully! https://jovian.ai/mohitcnf95/titanic-machine-learning-from-disaster\n"
     ]
    },
    {
     "data": {
      "application/vnd.google.colaboratory.intrinsic+json": {
       "type": "string"
      },
      "text/plain": [
       "'https://jovian.ai/mohitcnf95/titanic-machine-learning-from-disaster'"
      ]
     },
     "execution_count": 123,
     "metadata": {},
     "output_type": "execute_result"
    }
   ],
   "source": [
    "jovian.commit()"
   ]
  },
  {
   "cell_type": "markdown",
   "metadata": {
    "id": "Fphv8yhM7XfT"
   },
   "source": [
    "### Random Forest Classifier"
   ]
  },
  {
   "cell_type": "code",
   "execution_count": 124,
   "metadata": {
    "executionInfo": {
     "elapsed": 25,
     "status": "ok",
     "timestamp": 1666237650261,
     "user": {
      "displayName": "Mohit Kumar",
      "userId": "03888987891614882912"
     },
     "user_tz": -330
    },
    "id": "t7UU6N-V7TLA"
   },
   "outputs": [],
   "source": [
    "from sklearn.ensemble import RandomForestRegressor"
   ]
  },
  {
   "cell_type": "code",
   "execution_count": 125,
   "metadata": {
    "executionInfo": {
     "elapsed": 24,
     "status": "ok",
     "timestamp": 1666237650263,
     "user": {
      "displayName": "Mohit Kumar",
      "userId": "03888987891614882912"
     },
     "user_tz": -330
    },
    "id": "NTl7qcCm7fBZ"
   },
   "outputs": [],
   "source": [
    "model_Randomforest = RandomForestRegressor()"
   ]
  },
  {
   "cell_type": "code",
   "execution_count": 126,
   "metadata": {
    "colab": {
     "base_uri": "https://localhost:8080/"
    },
    "executionInfo": {
     "elapsed": 1270,
     "status": "ok",
     "timestamp": 1666237651511,
     "user": {
      "displayName": "Mohit Kumar",
      "userId": "03888987891614882912"
     },
     "user_tz": -330
    },
    "id": "9ZA1-kK87fh7",
    "outputId": "e2888585-9df0-4cd6-d37c-ab0ffd609f7c"
   },
   "outputs": [
    {
     "name": "stderr",
     "output_type": "stream",
     "text": [
      "/usr/local/lib/python3.7/dist-packages/ipykernel_launcher.py:1: DataConversionWarning: A column-vector y was passed when a 1d array was expected. Please change the shape of y to (n_samples,), for example using ravel().\n",
      "  \"\"\"Entry point for launching an IPython kernel.\n"
     ]
    },
    {
     "name": "stdout",
     "output_type": "stream",
     "text": [
      "CPU times: user 269 ms, sys: 1.36 ms, total: 271 ms\n",
      "Wall time: 273 ms\n"
     ]
    },
    {
     "data": {
      "text/plain": [
       "RandomForestRegressor()"
      ]
     },
     "execution_count": 126,
     "metadata": {},
     "output_type": "execute_result"
    }
   ],
   "source": [
    "%%time\n",
    "model_Randomforest.fit(train_inputs, train_targets)"
   ]
  },
  {
   "cell_type": "code",
   "execution_count": 127,
   "metadata": {
    "colab": {
     "base_uri": "https://localhost:8080/"
    },
    "executionInfo": {
     "elapsed": 22,
     "status": "ok",
     "timestamp": 1666237651513,
     "user": {
      "displayName": "Mohit Kumar",
      "userId": "03888987891614882912"
     },
     "user_tz": -330
    },
    "id": "o65QM6C27fc5",
    "outputId": "ad25a35f-adcd-4c1b-80eb-e98d3ecded05"
   },
   "outputs": [
    {
     "data": {
      "text/plain": [
       "(0.13915852614349122,\n",
       " array([0.1 , 0.99, 0.85, 0.98, 0.01, 0.13, 0.17, 0.19, 0.88, 0.94, 0.86,\n",
       "        0.88, 0.1 , 0.08, 0.38, 0.91, 0.1 , 0.8 , 0.18, 0.87, 0.19, 0.58,\n",
       "        0.9 , 0.82, 0.15, 0.63, 0.14, 0.08, 0.99, 0.09, 0.14, 0.89, 0.99,\n",
       "        0.22, 0.07, 0.09, 0.62, 0.04, 0.09, 0.77, 0.2 , 0.35, 0.08, 0.82,\n",
       "        0.94, 0.  , 0.12, 0.99, 0.11, 0.11, 0.03, 0.13, 0.93, 0.91, 0.06,\n",
       "        0.69, 0.91, 0.15, 0.89, 0.02, 0.09, 0.98, 0.03, 0.1 , 0.13, 0.69,\n",
       "        0.99, 0.12, 0.81, 0.01, 0.17, 0.17, 0.14, 0.13, 0.81, 0.15, 0.01,\n",
       "        0.  , 0.91, 0.77, 0.09, 0.63, 0.97, 0.16, 0.91, 0.73, 0.03, 0.  ,\n",
       "        0.99, 0.01, 0.02, 0.02, 0.07, 0.07, 0.06, 0.  , 0.07, 0.62, 0.98,\n",
       "        0.  , 0.2 , 0.02, 0.12, 0.  , 0.04, 0.03, 0.86, 0.72, 0.05, 0.79,\n",
       "        0.01, 0.15, 0.02, 0.17, 0.17, 0.02, 0.05, 0.03, 0.05, 0.24, 0.01,\n",
       "        0.04, 0.04, 0.98, 0.02, 0.73, 0.09, 0.72, 0.81, 0.09, 0.  , 0.17,\n",
       "        0.14, 0.93, 0.04, 0.09, 1.  , 0.2 , 0.11, 0.05, 0.34, 0.87, 0.84,\n",
       "        0.09, 0.06, 0.03, 0.69, 0.06, 0.02, 0.02, 0.  , 1.  , 0.  , 0.02,\n",
       "        0.02, 0.03, 0.99, 0.01, 0.  , 0.01, 0.04, 0.99, 0.15, 0.09, 0.1 ,\n",
       "        0.85, 1.  , 0.08, 0.06, 0.2 , 0.06, 0.06, 0.86, 0.02, 0.07, 0.11,\n",
       "        0.02, 0.38, 0.  , 0.04, 0.03, 0.05, 0.03, 0.92, 0.75, 0.14, 0.96,\n",
       "        0.65, 0.08, 0.01, 0.91, 0.1 , 0.78, 0.96, 0.93, 0.92, 0.  , 0.01,\n",
       "        0.95, 0.36, 0.07, 0.  , 0.01, 0.02, 0.68, 0.35, 0.14, 0.58, 0.96,\n",
       "        0.59, 0.11, 0.95, 0.  , 0.  , 0.07, 1.  , 0.72, 0.1 , 1.  , 0.04,\n",
       "        0.82, 0.05, 0.01, 0.  , 0.67, 0.08, 0.57, 0.02, 0.2 , 0.06, 1.  ,\n",
       "        0.09, 0.03, 0.7 , 0.01, 0.2 , 0.03, 0.98, 0.12, 0.01, 0.21, 0.94,\n",
       "        0.02, 0.07, 0.01, 0.18, 0.21, 0.86, 0.7 , 0.  , 0.  , 0.1 , 0.05,\n",
       "        0.05, 0.18, 0.72, 1.  , 1.  , 1.  , 0.91, 0.01, 0.67, 0.11, 0.1 ,\n",
       "        0.45, 0.03, 0.04, 0.62, 0.96, 1.  , 0.19, 0.71, 0.98, 0.14, 0.88,\n",
       "        0.99, 0.11, 0.11, 0.07, 0.82, 0.07, 0.09, 0.11, 0.62, 0.12, 0.14,\n",
       "        0.69, 0.08, 0.67, 0.93, 0.99, 0.99, 0.18, 0.25, 0.03, 0.11, 0.05,\n",
       "        0.23, 0.69, 0.98, 0.98, 0.68, 0.17, 0.93, 0.1 , 0.88, 1.  , 0.99,\n",
       "        0.1 , 1.  , 1.  , 0.97, 0.29, 0.  , 0.05, 0.84, 0.86, 0.06, 0.96,\n",
       "        0.98, 0.  , 0.04, 0.99, 0.87, 0.04, 1.  , 0.04, 0.95, 0.84, 1.  ,\n",
       "        0.92, 0.08, 0.16, 0.02, 0.99, 0.  , 0.13, 1.  , 0.56, 0.05, 0.99,\n",
       "        0.99, 0.  , 0.01, 0.04, 0.85, 0.89, 0.92, 0.99, 0.13, 0.  , 0.1 ,\n",
       "        0.04, 0.  , 0.  , 0.04, 0.95, 0.29, 1.  , 1.  , 0.02, 0.07, 0.13,\n",
       "        0.01, 0.07, 0.01, 0.99, 0.89, 0.99, 1.  , 0.8 , 0.04, 0.12, 0.1 ,\n",
       "        0.26, 1.  , 0.89, 0.11, 0.07, 0.09, 1.  , 0.94, 0.2 , 1.  , 0.  ,\n",
       "        0.1 , 0.13, 0.98, 0.01, 1.  , 0.73, 0.62, 0.13, 1.  , 0.88, 0.15,\n",
       "        0.18, 0.09, 0.01, 1.  , 0.7 , 0.05, 0.03, 0.02, 0.09, 0.02, 0.11,\n",
       "        1.  , 0.06, 0.01, 0.  , 0.  , 1.  , 0.  , 0.8 , 0.06, 1.  , 1.  ,\n",
       "        0.03, 0.07, 0.1 , 0.05, 0.02, 0.16, 0.02, 0.  , 1.  , 1.  , 0.02,\n",
       "        0.64, 0.87, 0.81, 0.94, 0.  , 0.22, 0.99, 0.01, 0.97, 0.07, 0.19,\n",
       "        0.96, 0.04, 0.11, 1.  , 0.64, 0.88, 1.  , 0.95, 0.98, 0.62, 0.05,\n",
       "        0.02, 0.21, 0.73, 0.09, 0.7 , 0.06, 1.  , 0.97, 0.06, 0.72, 0.04,\n",
       "        0.07, 0.02, 0.  , 0.01, 0.  , 0.11, 0.01, 0.98, 0.  , 0.03, 0.96,\n",
       "        0.99, 0.1 , 0.13, 0.01, 0.06, 0.  , 0.87, 0.04, 0.  , 0.01, 0.69,\n",
       "        0.79, 0.02, 0.99, 0.08, 0.02, 0.84, 0.02, 0.01, 0.14, 0.02, 0.01,\n",
       "        0.05, 0.97, 0.  , 0.28, 0.06, 0.02, 0.26, 0.33, 0.1 , 1.  , 0.25,\n",
       "        0.99, 0.85, 0.04, 0.83, 0.65, 0.04, 0.95, 1.  , 0.02, 0.13, 1.  ,\n",
       "        0.06, 1.  , 0.24, 1.  , 0.01, 0.01, 1.  , 0.  , 0.02, 0.98, 0.05,\n",
       "        0.19, 0.04, 0.74, 0.  , 0.14, 0.78, 0.09, 1.  , 0.28, 1.  , 0.06,\n",
       "        1.  , 0.98, 0.  , 0.  , 0.7 , 0.22, 0.04, 1.  , 0.74, 0.04, 0.78,\n",
       "        0.72, 0.08, 0.14, 0.73, 0.78, 0.01, 1.  , 0.08, 1.  , 0.76, 0.01,\n",
       "        0.05, 0.05, 0.01, 0.13, 0.  , 0.06, 0.18, 0.05, 0.71, 0.71, 0.99,\n",
       "        0.89, 0.84, 0.08, 0.04, 1.  , 1.  , 0.18, 0.75, 0.97, 1.  , 0.03,\n",
       "        0.24, 0.1 , 1.  , 0.01, 0.65, 0.  , 0.  , 0.  , 1.  , 0.  , 0.37,\n",
       "        0.02, 0.01, 1.  , 0.01, 0.  , 0.85, 1.  , 0.  , 0.14, 0.01, 0.88,\n",
       "        0.01, 0.01, 0.88, 1.  , 0.96, 0.05, 0.  , 0.79, 0.01, 0.  , 1.  ,\n",
       "        0.02, 0.25, 1.  , 0.01, 0.09, 0.8 , 0.81, 0.02, 0.01, 0.28, 0.05,\n",
       "        1.  , 0.  , 0.  , 0.73, 0.  , 0.85, 0.09, 0.  , 1.  , 0.23, 0.17,\n",
       "        0.02, 0.01, 0.01, 1.  , 0.17, 0.94, 0.93, 0.84, 0.01, 0.74, 0.  ,\n",
       "        0.92, 0.01, 1.  , 0.02, 0.86, 0.33, 0.1 , 0.01, 0.23, 0.02, 0.25,\n",
       "        0.76, 0.01, 0.17, 0.01, 0.65, 0.12, 0.12, 0.02, 0.02, 1.  , 0.99,\n",
       "        0.29, 0.22, 0.66, 0.03, 0.  , 0.02, 0.74, 0.03, 0.89, 0.36, 0.86,\n",
       "        0.02, 0.  , 0.04, 0.2 , 0.  , 0.01, 0.  , 1.  , 0.74, 0.9 , 0.9 ,\n",
       "        0.08, 0.17, 0.02, 0.01, 0.92, 0.36, 0.02, 1.  , 0.92, 0.32, 0.07,\n",
       "        0.06, 0.01, 0.97, 0.85, 0.84, 0.71, 1.  , 0.27, 0.73, 0.03, 0.01,\n",
       "        0.01, 1.  , 0.95, 0.08, 0.02, 1.  , 0.05, 0.01, 0.  , 0.76, 0.05,\n",
       "        1.  , 0.91, 0.01, 0.22, 1.  , 0.26, 0.04, 0.  , 0.  , 0.  , 0.01,\n",
       "        0.83, 0.  , 0.  , 0.65, 0.24, 0.97, 0.01, 0.64, 0.11, 0.06, 1.  ,\n",
       "        0.24, 0.08, 0.97, 0.97, 0.02, 0.01, 0.96, 1.  , 0.  , 0.02, 0.  ,\n",
       "        1.  , 0.02, 0.03, 0.71, 0.96, 0.04, 0.99, 0.06, 0.24, 0.07, 0.08,\n",
       "        0.  , 0.02, 0.37, 0.  , 0.84, 0.01, 0.05, 0.93, 0.01, 0.98, 0.93,\n",
       "        0.99, 0.26, 0.05, 0.03, 0.01, 0.9 , 0.02, 0.96, 0.16, 0.05, 0.  ,\n",
       "        0.  , 0.13, 0.  , 0.01, 0.98, 0.75, 0.  , 0.07, 0.01, 1.  , 0.79,\n",
       "        0.97, 0.68, 0.14, 0.03, 0.39, 0.01, 1.  , 0.06, 0.01, 0.  , 0.18,\n",
       "        0.04, 0.01, 0.21, 0.15, 0.05, 0.02, 1.  , 0.64, 0.02, 0.82, 0.07,\n",
       "        0.17, 0.35, 0.95, 0.62, 0.99, 0.7 , 1.  , 0.11, 0.  , 0.02, 1.  ,\n",
       "        0.05, 0.02, 0.69, 0.78, 0.04, 0.  , 1.  , 0.02, 0.04, 0.02, 0.09,\n",
       "        0.03, 0.1 , 1.  , 0.12, 0.08, 0.42, 0.97, 0.36, 0.82, 0.95, 0.79,\n",
       "        0.78, 0.05, 0.02, 0.04, 0.91, 0.  , 0.  , 0.89, 0.93, 0.18, 0.02,\n",
       "        0.98, 0.01, 0.99, 0.05, 0.01, 0.96, 0.85, 0.  , 0.  , 0.  , 0.96,\n",
       "        0.94, 0.  , 0.22, 0.02, 0.04, 0.1 , 0.08, 1.  , 0.14, 0.88, 0.13]))"
      ]
     },
     "execution_count": 127,
     "metadata": {},
     "output_type": "execute_result"
    }
   ],
   "source": [
    "evaluate(model_Randomforest)"
   ]
  },
  {
   "cell_type": "code",
   "execution_count": 128,
   "metadata": {
    "colab": {
     "base_uri": "https://localhost:8080/",
     "height": 0
    },
    "executionInfo": {
     "elapsed": 21,
     "status": "ok",
     "timestamp": 1666237651514,
     "user": {
      "displayName": "Mohit Kumar",
      "userId": "03888987891614882912"
     },
     "user_tz": -330
    },
    "id": "aQCY4Xzb7vzB",
    "outputId": "5cecec87-d9bc-448e-d8ed-16c0598666b2"
   },
   "outputs": [
    {
     "data": {
      "text/html": [
       "\n",
       "  <div id=\"df-1bd62180-a157-43d9-9b4e-0ed0e35aa709\">\n",
       "    <div class=\"colab-df-container\">\n",
       "      <div>\n",
       "<style scoped>\n",
       "    .dataframe tbody tr th:only-of-type {\n",
       "        vertical-align: middle;\n",
       "    }\n",
       "\n",
       "    .dataframe tbody tr th {\n",
       "        vertical-align: top;\n",
       "    }\n",
       "\n",
       "    .dataframe thead th {\n",
       "        text-align: right;\n",
       "    }\n",
       "</style>\n",
       "<table border=\"1\" class=\"dataframe\">\n",
       "  <thead>\n",
       "    <tr style=\"text-align: right;\">\n",
       "      <th></th>\n",
       "      <th>PassengerId</th>\n",
       "      <th>Survived</th>\n",
       "    </tr>\n",
       "  </thead>\n",
       "  <tbody>\n",
       "    <tr>\n",
       "      <th>0</th>\n",
       "      <td>892</td>\n",
       "      <td>0.30</td>\n",
       "    </tr>\n",
       "    <tr>\n",
       "      <th>1</th>\n",
       "      <td>893</td>\n",
       "      <td>0.17</td>\n",
       "    </tr>\n",
       "    <tr>\n",
       "      <th>2</th>\n",
       "      <td>894</td>\n",
       "      <td>0.43</td>\n",
       "    </tr>\n",
       "    <tr>\n",
       "      <th>3</th>\n",
       "      <td>895</td>\n",
       "      <td>0.42</td>\n",
       "    </tr>\n",
       "    <tr>\n",
       "      <th>4</th>\n",
       "      <td>896</td>\n",
       "      <td>0.07</td>\n",
       "    </tr>\n",
       "    <tr>\n",
       "      <th>...</th>\n",
       "      <td>...</td>\n",
       "      <td>...</td>\n",
       "    </tr>\n",
       "    <tr>\n",
       "      <th>413</th>\n",
       "      <td>1305</td>\n",
       "      <td>0.29</td>\n",
       "    </tr>\n",
       "    <tr>\n",
       "      <th>414</th>\n",
       "      <td>1306</td>\n",
       "      <td>0.42</td>\n",
       "    </tr>\n",
       "    <tr>\n",
       "      <th>415</th>\n",
       "      <td>1307</td>\n",
       "      <td>0.38</td>\n",
       "    </tr>\n",
       "    <tr>\n",
       "      <th>416</th>\n",
       "      <td>1308</td>\n",
       "      <td>0.29</td>\n",
       "    </tr>\n",
       "    <tr>\n",
       "      <th>417</th>\n",
       "      <td>1309</td>\n",
       "      <td>0.47</td>\n",
       "    </tr>\n",
       "  </tbody>\n",
       "</table>\n",
       "<p>418 rows × 2 columns</p>\n",
       "</div>\n",
       "      <button class=\"colab-df-convert\" onclick=\"convertToInteractive('df-1bd62180-a157-43d9-9b4e-0ed0e35aa709')\"\n",
       "              title=\"Convert this dataframe to an interactive table.\"\n",
       "              style=\"display:none;\">\n",
       "        \n",
       "  <svg xmlns=\"http://www.w3.org/2000/svg\" height=\"24px\"viewBox=\"0 0 24 24\"\n",
       "       width=\"24px\">\n",
       "    <path d=\"M0 0h24v24H0V0z\" fill=\"none\"/>\n",
       "    <path d=\"M18.56 5.44l.94 2.06.94-2.06 2.06-.94-2.06-.94-.94-2.06-.94 2.06-2.06.94zm-11 1L8.5 8.5l.94-2.06 2.06-.94-2.06-.94L8.5 2.5l-.94 2.06-2.06.94zm10 10l.94 2.06.94-2.06 2.06-.94-2.06-.94-.94-2.06-.94 2.06-2.06.94z\"/><path d=\"M17.41 7.96l-1.37-1.37c-.4-.4-.92-.59-1.43-.59-.52 0-1.04.2-1.43.59L10.3 9.45l-7.72 7.72c-.78.78-.78 2.05 0 2.83L4 21.41c.39.39.9.59 1.41.59.51 0 1.02-.2 1.41-.59l7.78-7.78 2.81-2.81c.8-.78.8-2.07 0-2.86zM5.41 20L4 18.59l7.72-7.72 1.47 1.35L5.41 20z\"/>\n",
       "  </svg>\n",
       "      </button>\n",
       "      \n",
       "  <style>\n",
       "    .colab-df-container {\n",
       "      display:flex;\n",
       "      flex-wrap:wrap;\n",
       "      gap: 12px;\n",
       "    }\n",
       "\n",
       "    .colab-df-convert {\n",
       "      background-color: #E8F0FE;\n",
       "      border: none;\n",
       "      border-radius: 50%;\n",
       "      cursor: pointer;\n",
       "      display: none;\n",
       "      fill: #1967D2;\n",
       "      height: 32px;\n",
       "      padding: 0 0 0 0;\n",
       "      width: 32px;\n",
       "    }\n",
       "\n",
       "    .colab-df-convert:hover {\n",
       "      background-color: #E2EBFA;\n",
       "      box-shadow: 0px 1px 2px rgba(60, 64, 67, 0.3), 0px 1px 3px 1px rgba(60, 64, 67, 0.15);\n",
       "      fill: #174EA6;\n",
       "    }\n",
       "\n",
       "    [theme=dark] .colab-df-convert {\n",
       "      background-color: #3B4455;\n",
       "      fill: #D2E3FC;\n",
       "    }\n",
       "\n",
       "    [theme=dark] .colab-df-convert:hover {\n",
       "      background-color: #434B5C;\n",
       "      box-shadow: 0px 1px 3px 1px rgba(0, 0, 0, 0.15);\n",
       "      filter: drop-shadow(0px 1px 2px rgba(0, 0, 0, 0.3));\n",
       "      fill: #FFFFFF;\n",
       "    }\n",
       "  </style>\n",
       "\n",
       "      <script>\n",
       "        const buttonEl =\n",
       "          document.querySelector('#df-1bd62180-a157-43d9-9b4e-0ed0e35aa709 button.colab-df-convert');\n",
       "        buttonEl.style.display =\n",
       "          google.colab.kernel.accessAllowed ? 'block' : 'none';\n",
       "\n",
       "        async function convertToInteractive(key) {\n",
       "          const element = document.querySelector('#df-1bd62180-a157-43d9-9b4e-0ed0e35aa709');\n",
       "          const dataTable =\n",
       "            await google.colab.kernel.invokeFunction('convertToInteractive',\n",
       "                                                     [key], {});\n",
       "          if (!dataTable) return;\n",
       "\n",
       "          const docLinkHtml = 'Like what you see? Visit the ' +\n",
       "            '<a target=\"_blank\" href=https://colab.research.google.com/notebooks/data_table.ipynb>data table notebook</a>'\n",
       "            + ' to learn more about interactive tables.';\n",
       "          element.innerHTML = '';\n",
       "          dataTable['output_type'] = 'display_data';\n",
       "          await google.colab.output.renderOutput(dataTable, element);\n",
       "          const docLink = document.createElement('div');\n",
       "          docLink.innerHTML = docLinkHtml;\n",
       "          element.appendChild(docLink);\n",
       "        }\n",
       "      </script>\n",
       "    </div>\n",
       "  </div>\n",
       "  "
      ],
      "text/plain": [
       "     PassengerId  Survived\n",
       "0            892      0.30\n",
       "1            893      0.17\n",
       "2            894      0.43\n",
       "3            895      0.42\n",
       "4            896      0.07\n",
       "..           ...       ...\n",
       "413         1305      0.29\n",
       "414         1306      0.42\n",
       "415         1307      0.38\n",
       "416         1308      0.29\n",
       "417         1309      0.47\n",
       "\n",
       "[418 rows x 2 columns]"
      ]
     },
     "execution_count": 128,
     "metadata": {},
     "output_type": "execute_result"
    }
   ],
   "source": [
    "predict_and_submit(model_Randomforest, 'model_Randomforest_submission.csv')"
   ]
  },
  {
   "cell_type": "markdown",
   "metadata": {
    "id": "Z0TW2o_m8cov"
   },
   "source": [
    "![Screenshot_20221019_092141.png](data:image/png;base64,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)"
   ]
  },
  {
   "cell_type": "code",
   "execution_count": 129,
   "metadata": {
    "colab": {
     "base_uri": "https://localhost:8080/",
     "height": 0
    },
    "executionInfo": {
     "elapsed": 1033,
     "status": "ok",
     "timestamp": 1666237652529,
     "user": {
      "displayName": "Mohit Kumar",
      "userId": "03888987891614882912"
     },
     "user_tz": -330
    },
    "id": "-satZl6V7vZq",
    "outputId": "d48072aa-0422-4cea-dc9d-25255ea9d30b"
   },
   "outputs": [
    {
     "name": "stdout",
     "output_type": "stream",
     "text": [
      "[jovian] Detected Colab notebook...\u001b[0m\n",
      "[jovian] Uploading colab notebook to Jovian...\u001b[0m\n",
      "Committed successfully! https://jovian.ai/mohitcnf95/titanic-machine-learning-from-disaster\n"
     ]
    },
    {
     "data": {
      "application/vnd.google.colaboratory.intrinsic+json": {
       "type": "string"
      },
      "text/plain": [
       "'https://jovian.ai/mohitcnf95/titanic-machine-learning-from-disaster'"
      ]
     },
     "execution_count": 129,
     "metadata": {},
     "output_type": "execute_result"
    }
   ],
   "source": [
    "jovian.commit()"
   ]
  },
  {
   "cell_type": "markdown",
   "metadata": {
    "id": "6H9OPr698i7C"
   },
   "source": [
    "### K Neighbors Classifier (KNC)"
   ]
  },
  {
   "cell_type": "code",
   "execution_count": 130,
   "metadata": {
    "executionInfo": {
     "elapsed": 42,
     "status": "ok",
     "timestamp": 1666237652531,
     "user": {
      "displayName": "Mohit Kumar",
      "userId": "03888987891614882912"
     },
     "user_tz": -330
    },
    "id": "qdLxXQ4A8hVi"
   },
   "outputs": [],
   "source": [
    "from sklearn.neighbors import KNeighborsClassifier"
   ]
  },
  {
   "cell_type": "code",
   "execution_count": 131,
   "metadata": {
    "executionInfo": {
     "elapsed": 37,
     "status": "ok",
     "timestamp": 1666237652532,
     "user": {
      "displayName": "Mohit Kumar",
      "userId": "03888987891614882912"
     },
     "user_tz": -330
    },
    "id": "WqvjmQ7k82EG"
   },
   "outputs": [],
   "source": [
    "model_KNC = KNeighborsClassifier(n_neighbors = 3)"
   ]
  },
  {
   "cell_type": "code",
   "execution_count": 132,
   "metadata": {
    "colab": {
     "base_uri": "https://localhost:8080/"
    },
    "executionInfo": {
     "elapsed": 36,
     "status": "ok",
     "timestamp": 1666237652534,
     "user": {
      "displayName": "Mohit Kumar",
      "userId": "03888987891614882912"
     },
     "user_tz": -330
    },
    "id": "823k7d9Z82AC",
    "outputId": "237e9551-d84b-4bcb-becb-ba35557fa9d5"
   },
   "outputs": [
    {
     "name": "stderr",
     "output_type": "stream",
     "text": [
      "/usr/local/lib/python3.7/dist-packages/sklearn/neighbors/_classification.py:198: DataConversionWarning: A column-vector y was passed when a 1d array was expected. Please change the shape of y to (n_samples,), for example using ravel().\n",
      "  return self._fit(X, y)\n"
     ]
    },
    {
     "data": {
      "text/plain": [
       "KNeighborsClassifier(n_neighbors=3)"
      ]
     },
     "execution_count": 132,
     "metadata": {},
     "output_type": "execute_result"
    }
   ],
   "source": [
    "model_KNC.fit(train_inputs, train_targets)"
   ]
  },
  {
   "cell_type": "code",
   "execution_count": 133,
   "metadata": {
    "colab": {
     "base_uri": "https://localhost:8080/"
    },
    "executionInfo": {
     "elapsed": 33,
     "status": "ok",
     "timestamp": 1666237652534,
     "user": {
      "displayName": "Mohit Kumar",
      "userId": "03888987891614882912"
     },
     "user_tz": -330
    },
    "id": "FpFPNLut819c",
    "outputId": "cf688a14-c314-4895-9170-2ce33205806e"
   },
   "outputs": [
    {
     "data": {
      "text/plain": [
       "(0.4519567135595372,\n",
       " array([0, 1, 0, 1, 0, 1, 1, 0, 1, 0, 0, 1, 0, 0, 0, 1, 0, 1, 1, 1, 0, 1,\n",
       "        0, 1, 0, 0, 0, 0, 0, 0, 0, 0, 1, 0, 1, 1, 1, 1, 0, 1, 0, 0, 0, 0,\n",
       "        0, 0, 0, 0, 0, 0, 0, 1, 1, 1, 0, 1, 0, 0, 0, 0, 0, 1, 1, 1, 1, 1,\n",
       "        0, 0, 0, 0, 0, 0, 1, 0, 0, 0, 0, 0, 0, 1, 0, 1, 1, 0, 0, 1, 0, 0,\n",
       "        0, 0, 0, 0, 0, 0, 0, 0, 0, 0, 0, 1, 0, 0, 0, 0, 0, 0, 0, 0, 0, 0,\n",
       "        0, 0, 0, 0, 0, 0, 0, 1, 0, 0, 0, 0, 0, 0, 0, 0, 0, 0, 1, 0, 0, 0,\n",
       "        0, 1, 0, 0, 1, 0, 0, 0, 0, 0, 0, 0, 0, 0, 1, 0, 0, 0, 0, 0, 0, 0,\n",
       "        0, 0, 0, 0, 0, 1, 0, 0, 0, 0, 0, 1, 0, 0, 0, 0, 0, 0, 1, 0, 0, 0,\n",
       "        0, 0, 0, 0, 0, 0, 1, 0, 1, 0, 1, 1, 0, 0, 1, 0, 0, 1, 1, 1, 0, 0,\n",
       "        0, 0, 0, 0, 0, 0, 1, 1, 0, 0, 1, 1, 0, 0, 0, 0, 0, 1, 0, 1, 1, 0,\n",
       "        1, 0, 0, 0, 1, 0, 0, 0, 0, 0, 1, 0, 0, 1, 0, 0, 0, 1, 0, 0, 0, 0,\n",
       "        0, 0, 0, 1, 0, 0, 1, 0, 0, 0, 0, 0, 0, 0, 1, 1, 1, 0, 0, 0, 0, 0,\n",
       "        0, 0, 0, 0, 1, 1, 0, 1, 1, 0, 0, 0, 1, 1, 0, 1, 0, 0, 0, 0, 0, 0,\n",
       "        0, 1, 0, 0, 1, 1, 0, 0, 0, 1, 0, 1, 1, 1, 1, 0, 0, 1, 1, 1, 1, 1,\n",
       "        0, 1, 1, 1, 0, 0, 0, 0, 1, 0, 1, 1, 0, 0, 1, 1, 0, 1, 0, 1, 1, 0,\n",
       "        1, 0, 1, 0, 1, 0, 0, 1, 1, 0, 1, 1, 0, 0, 1, 0, 0, 1, 1, 0, 0, 0,\n",
       "        0, 0, 0, 0, 1, 0, 1, 1, 0, 0, 0, 0, 0, 1, 1, 1, 1, 1, 1, 0, 0, 1,\n",
       "        0, 1, 0, 1, 0, 0, 1, 1, 0, 1, 0, 1, 0, 0, 0, 1, 1, 1, 0, 1, 1, 0,\n",
       "        0, 0, 0, 0, 1, 0, 0, 0, 0, 0, 1, 1, 0, 0, 0, 0, 1, 0, 0, 0, 1, 0,\n",
       "        0, 0, 0, 0, 0, 0, 1, 0, 1, 1, 0, 0, 1, 1, 1, 0, 1, 1, 1, 1, 0, 1,\n",
       "        1, 0, 0, 1, 1, 1, 1, 0, 1, 1, 0, 0, 0, 1, 0, 0, 0, 0, 0, 0, 0, 0,\n",
       "        0, 0, 0, 0, 0, 0, 0, 1, 0, 0, 0, 0, 0, 0, 0, 0, 0, 1, 0, 0, 0, 0,\n",
       "        1, 0, 1, 0, 0, 1, 0, 0, 0, 0, 0, 0, 1, 0, 0, 0, 0, 0, 0, 0, 1, 1,\n",
       "        1, 1, 1, 1, 0, 0, 1, 1, 0, 1, 0, 1, 1, 0, 1, 0, 0, 1, 0, 0, 0, 0,\n",
       "        0, 0, 1, 0, 0, 1, 0, 1, 1, 1, 0, 1, 1, 0, 0, 0, 1, 0, 0, 0, 1, 0,\n",
       "        1, 0, 1, 1, 1, 0, 1, 0, 1, 0, 0, 0, 0, 0, 0, 0, 0, 0, 0, 1, 0, 1,\n",
       "        1, 1, 0, 0, 1, 1, 1, 1, 1, 1, 0, 1, 0, 1, 0, 1, 0, 0, 0, 1, 0, 0,\n",
       "        0, 0, 1, 0, 0, 1, 1, 0, 1, 0, 1, 0, 0, 1, 1, 1, 1, 0, 0, 0, 0, 1,\n",
       "        0, 0, 1, 0, 0, 1, 0, 0, 0, 0, 0, 1, 0, 0, 0, 0, 0, 0, 0, 0, 0, 0,\n",
       "        0, 0, 0, 1, 0, 1, 0, 1, 0, 0, 0, 0, 0, 0, 0, 0, 0, 0, 0, 0, 0, 0,\n",
       "        0, 0, 0, 0, 0, 0, 0, 0, 0, 1, 0, 1, 0, 0, 0, 0, 0, 0, 0, 1, 0, 1,\n",
       "        0, 0, 0, 0, 0, 0, 0, 1, 1, 0, 1, 0, 0, 0, 0, 0, 0, 0, 1, 1, 0, 0,\n",
       "        0, 1, 0, 1, 1, 0, 1, 0, 1, 1, 0, 0, 1, 0, 0, 0, 0, 0, 0, 0, 1, 0,\n",
       "        0, 0, 0, 0, 1, 0, 0, 0, 0, 0, 1, 1, 0, 0, 0, 1, 1, 0, 0, 1, 0, 1,\n",
       "        0, 0, 1, 1, 0, 0, 1, 1, 0, 0, 0, 1, 0, 0, 0, 1, 0, 1, 0, 0, 0, 0,\n",
       "        0, 0, 0, 0, 0, 0, 0, 1, 0, 1, 1, 0, 0, 0, 0, 0, 0, 0, 1, 0, 0, 0,\n",
       "        0, 0, 0, 0, 0, 0, 0, 0, 0, 0, 1, 1, 0, 0, 0, 0, 0, 0, 0, 0, 0, 0,\n",
       "        0, 0, 0, 0, 0, 0, 1, 1, 0, 1, 0, 1, 1, 0, 0, 1, 0, 1, 0, 0, 0, 1,\n",
       "        0, 0, 0, 1, 0, 0, 1, 0, 0, 0, 0, 0, 1, 1, 0, 0, 0, 0, 1, 0, 1, 1,\n",
       "        0, 0, 0, 0, 1, 0, 0, 0, 0, 0, 0, 1, 0, 0, 0, 0, 1, 0, 0, 0, 0, 1,\n",
       "        1, 0, 0, 0, 0, 0, 0, 1, 1, 1, 0]))"
      ]
     },
     "execution_count": 133,
     "metadata": {},
     "output_type": "execute_result"
    }
   ],
   "source": [
    "evaluate(model_KNC)"
   ]
  },
  {
   "cell_type": "code",
   "execution_count": 134,
   "metadata": {
    "colab": {
     "base_uri": "https://localhost:8080/",
     "height": 0
    },
    "executionInfo": {
     "elapsed": 32,
     "status": "ok",
     "timestamp": 1666237652535,
     "user": {
      "displayName": "Mohit Kumar",
      "userId": "03888987891614882912"
     },
     "user_tz": -330
    },
    "id": "sDBn5CqR9MWq",
    "outputId": "c6119db4-5267-40ea-b190-e1d699250c89"
   },
   "outputs": [
    {
     "data": {
      "text/html": [
       "\n",
       "  <div id=\"df-424be02b-6280-4f06-8804-a3632eb72e2f\">\n",
       "    <div class=\"colab-df-container\">\n",
       "      <div>\n",
       "<style scoped>\n",
       "    .dataframe tbody tr th:only-of-type {\n",
       "        vertical-align: middle;\n",
       "    }\n",
       "\n",
       "    .dataframe tbody tr th {\n",
       "        vertical-align: top;\n",
       "    }\n",
       "\n",
       "    .dataframe thead th {\n",
       "        text-align: right;\n",
       "    }\n",
       "</style>\n",
       "<table border=\"1\" class=\"dataframe\">\n",
       "  <thead>\n",
       "    <tr style=\"text-align: right;\">\n",
       "      <th></th>\n",
       "      <th>PassengerId</th>\n",
       "      <th>Survived</th>\n",
       "    </tr>\n",
       "  </thead>\n",
       "  <tbody>\n",
       "    <tr>\n",
       "      <th>0</th>\n",
       "      <td>892</td>\n",
       "      <td>0</td>\n",
       "    </tr>\n",
       "    <tr>\n",
       "      <th>1</th>\n",
       "      <td>893</td>\n",
       "      <td>0</td>\n",
       "    </tr>\n",
       "    <tr>\n",
       "      <th>2</th>\n",
       "      <td>894</td>\n",
       "      <td>0</td>\n",
       "    </tr>\n",
       "    <tr>\n",
       "      <th>3</th>\n",
       "      <td>895</td>\n",
       "      <td>0</td>\n",
       "    </tr>\n",
       "    <tr>\n",
       "      <th>4</th>\n",
       "      <td>896</td>\n",
       "      <td>0</td>\n",
       "    </tr>\n",
       "    <tr>\n",
       "      <th>...</th>\n",
       "      <td>...</td>\n",
       "      <td>...</td>\n",
       "    </tr>\n",
       "    <tr>\n",
       "      <th>413</th>\n",
       "      <td>1305</td>\n",
       "      <td>0</td>\n",
       "    </tr>\n",
       "    <tr>\n",
       "      <th>414</th>\n",
       "      <td>1306</td>\n",
       "      <td>1</td>\n",
       "    </tr>\n",
       "    <tr>\n",
       "      <th>415</th>\n",
       "      <td>1307</td>\n",
       "      <td>0</td>\n",
       "    </tr>\n",
       "    <tr>\n",
       "      <th>416</th>\n",
       "      <td>1308</td>\n",
       "      <td>0</td>\n",
       "    </tr>\n",
       "    <tr>\n",
       "      <th>417</th>\n",
       "      <td>1309</td>\n",
       "      <td>0</td>\n",
       "    </tr>\n",
       "  </tbody>\n",
       "</table>\n",
       "<p>418 rows × 2 columns</p>\n",
       "</div>\n",
       "      <button class=\"colab-df-convert\" onclick=\"convertToInteractive('df-424be02b-6280-4f06-8804-a3632eb72e2f')\"\n",
       "              title=\"Convert this dataframe to an interactive table.\"\n",
       "              style=\"display:none;\">\n",
       "        \n",
       "  <svg xmlns=\"http://www.w3.org/2000/svg\" height=\"24px\"viewBox=\"0 0 24 24\"\n",
       "       width=\"24px\">\n",
       "    <path d=\"M0 0h24v24H0V0z\" fill=\"none\"/>\n",
       "    <path d=\"M18.56 5.44l.94 2.06.94-2.06 2.06-.94-2.06-.94-.94-2.06-.94 2.06-2.06.94zm-11 1L8.5 8.5l.94-2.06 2.06-.94-2.06-.94L8.5 2.5l-.94 2.06-2.06.94zm10 10l.94 2.06.94-2.06 2.06-.94-2.06-.94-.94-2.06-.94 2.06-2.06.94z\"/><path d=\"M17.41 7.96l-1.37-1.37c-.4-.4-.92-.59-1.43-.59-.52 0-1.04.2-1.43.59L10.3 9.45l-7.72 7.72c-.78.78-.78 2.05 0 2.83L4 21.41c.39.39.9.59 1.41.59.51 0 1.02-.2 1.41-.59l7.78-7.78 2.81-2.81c.8-.78.8-2.07 0-2.86zM5.41 20L4 18.59l7.72-7.72 1.47 1.35L5.41 20z\"/>\n",
       "  </svg>\n",
       "      </button>\n",
       "      \n",
       "  <style>\n",
       "    .colab-df-container {\n",
       "      display:flex;\n",
       "      flex-wrap:wrap;\n",
       "      gap: 12px;\n",
       "    }\n",
       "\n",
       "    .colab-df-convert {\n",
       "      background-color: #E8F0FE;\n",
       "      border: none;\n",
       "      border-radius: 50%;\n",
       "      cursor: pointer;\n",
       "      display: none;\n",
       "      fill: #1967D2;\n",
       "      height: 32px;\n",
       "      padding: 0 0 0 0;\n",
       "      width: 32px;\n",
       "    }\n",
       "\n",
       "    .colab-df-convert:hover {\n",
       "      background-color: #E2EBFA;\n",
       "      box-shadow: 0px 1px 2px rgba(60, 64, 67, 0.3), 0px 1px 3px 1px rgba(60, 64, 67, 0.15);\n",
       "      fill: #174EA6;\n",
       "    }\n",
       "\n",
       "    [theme=dark] .colab-df-convert {\n",
       "      background-color: #3B4455;\n",
       "      fill: #D2E3FC;\n",
       "    }\n",
       "\n",
       "    [theme=dark] .colab-df-convert:hover {\n",
       "      background-color: #434B5C;\n",
       "      box-shadow: 0px 1px 3px 1px rgba(0, 0, 0, 0.15);\n",
       "      filter: drop-shadow(0px 1px 2px rgba(0, 0, 0, 0.3));\n",
       "      fill: #FFFFFF;\n",
       "    }\n",
       "  </style>\n",
       "\n",
       "      <script>\n",
       "        const buttonEl =\n",
       "          document.querySelector('#df-424be02b-6280-4f06-8804-a3632eb72e2f button.colab-df-convert');\n",
       "        buttonEl.style.display =\n",
       "          google.colab.kernel.accessAllowed ? 'block' : 'none';\n",
       "\n",
       "        async function convertToInteractive(key) {\n",
       "          const element = document.querySelector('#df-424be02b-6280-4f06-8804-a3632eb72e2f');\n",
       "          const dataTable =\n",
       "            await google.colab.kernel.invokeFunction('convertToInteractive',\n",
       "                                                     [key], {});\n",
       "          if (!dataTable) return;\n",
       "\n",
       "          const docLinkHtml = 'Like what you see? Visit the ' +\n",
       "            '<a target=\"_blank\" href=https://colab.research.google.com/notebooks/data_table.ipynb>data table notebook</a>'\n",
       "            + ' to learn more about interactive tables.';\n",
       "          element.innerHTML = '';\n",
       "          dataTable['output_type'] = 'display_data';\n",
       "          await google.colab.output.renderOutput(dataTable, element);\n",
       "          const docLink = document.createElement('div');\n",
       "          docLink.innerHTML = docLinkHtml;\n",
       "          element.appendChild(docLink);\n",
       "        }\n",
       "      </script>\n",
       "    </div>\n",
       "  </div>\n",
       "  "
      ],
      "text/plain": [
       "     PassengerId  Survived\n",
       "0            892         0\n",
       "1            893         0\n",
       "2            894         0\n",
       "3            895         0\n",
       "4            896         0\n",
       "..           ...       ...\n",
       "413         1305         0\n",
       "414         1306         1\n",
       "415         1307         0\n",
       "416         1308         0\n",
       "417         1309         0\n",
       "\n",
       "[418 rows x 2 columns]"
      ]
     },
     "execution_count": 134,
     "metadata": {},
     "output_type": "execute_result"
    }
   ],
   "source": [
    "predict_and_submit(model_KNC, 'model_KNC_submission.csv')"
   ]
  },
  {
   "cell_type": "markdown",
   "metadata": {
    "id": "VQyEqdNK9Uu9"
   },
   "source": [
    "![Screenshot_20221019_092812.png](data:image/png;base64,iVBORw0KGgoAAAANSUhEUgAABVgAAABVCAYAAAC8XI+oAAAAAXNSR0IArs4c6QAAAARnQU1BAACxjwv8YQUAAAAJcEhZcwAAEnQAABJ0Ad5mH3gAADYUSURBVHhe7d0NXFR1vj/wz+Zd5lZc3HBp8QZaK7Yt6BboreD6AJIKReFDqC2IV5Q0zZJ8plyWrYhUxBAtxYcbqzcfUiMpSSPIWuhBoa7ClkKF0MJd/tqKWDvssvx/55zfzJwZBpgZUXD9vF+veXHOmTPnnN/T8Pp953d+50dtAoiIiIiIiIiIiIjIadfJv0RERERERERERETkJAZYiYiIiIiIiIiIiFzEACsRERERERERERGRixhgJSIiIiIiIiIiInIRA6xERERERERERERELmKAlYiIiIiIiIiIiMhFDLASERERERERERERuYgBViIiIiIiIiIiIiIXMcBKRERERERERERE5CIGWImIiIiIiIiIiIhcxAArERERERERERERkYsYYCUiIiIiIiIiIiJyEQOsRERERERERERERC5igJWIiIiIiIiIiIjIRQywEhEREREREREREbmIAVYiIiIiIiIiIiIiF/2oTZDLV4+LzWhqlcuC4Xp3GH4sV4iIiIiIiIiIiIiukKsiwNr0TRmKKo/iD2fKUPJDDWrldivXeSLkJ6MROWAUQgKD4PcTuZ2IiIiIiIiIiIjoMum9Ada/NaPik1xsKjuAvL+3yI2O8/WYimdGxiPidne5hYiIiIiIiIiIiKh79coAa+Nnv8cz729BwT/khkvg5T4dWRNmI8RLbiAilxi/awI8PGDoIzdcTt83oQke8LhBrhMRERERERER9VK9K8B6sQa7X5+Hpeea5QYbyjQANwRh2M390ffH/eH3U6C2vh7G1nocayjDceM5NMpdrbkhOmALVo8bCIPcQpqmYzuQ84GSawGYkjQOvtpm59QcRsb+CrHghbBZcQjy0DY7pg4FmXuhfnrkLMQPt/2wERWvb0SBnBfC6944xAd7Wa77xkBMmRUKX3tBv6Zy5G4tVutEwKQkRAzUNltpbUJV6TsoKi5F8afVOP/vQQgbEYSI8AcR4C336TW6yqvLxYiyzGhMXl8NDEpCfsE8BFzGIKuxPBNRkzeiCoOwKL8Aj/vLN4iIiIiIiOia0lRdjDfefB+lxWWo7TsIISOCERo+HiGDrlR/uPdQ8+K1N/HOp6Jv7heM8aEPIfJ+f3g52T831pXjjbffRPFbZWgSxwkNHo8JEwPtHqf2nUzsqZQr9twcisTYQJhLQxeH6Ui7+Iw5ptSRjmNN3ZUn3aH3BFjrj2LlgZXINcp1M3dE9J+NafeORsgATxiuk5vt+VszqsqPYPeJLdjc1D5IG/DTldgUex98OzvGNabx9UTcvbRYLM3Cvq+WI0jb7Jxj6bhtylaxEIr0khxMdSowWY60n09BjlgKW1WCbQ9bDzWuFdc3VlyfUi38Hs3FviXB8BANxXLdBvG5AvE5H3V/Kw17kRCSjCKxmLjnNJKHa5tNjKd2YOEjqSj4Tm6wYkBAQja2rwjtkYZpX+d5dfk0Ii8xBAsLxeKNcdh5LAUhl/GXisYDomwXaWUbn3scqSP4swgREREREdE15ftK5MydjrQPm+QGa34xG7AtbZz9wVb/bFrrUJA8G4/trZYbdAbF4OXtaYiwExJpz4iKl6dj8upyNcZi5aZxSH1tLeJv1/e/jShaOQQJO+WqPaFp+GRbDMzRieodiBqbqg4M64htfMZYnIo7EnbINXvsxJq6LU+6T+8IsNa/i6V7nsVuqykB3BDys4V4JmIsAjzd5DbHNZ16C+vfW4fNP1jP3+r1k6U4MOMBBlml3hxgNYrjRonjVollQ3gajrwSY/7ytFy3Qpz3qDivbePpJMBqLN+IyfGZqLiorXsMGocJ9/vB41wVCt4+jCoZdPV7dA/ylwf2kpHPPRVgFZoqkberDB7jYxA28DLnRmsTKt7ei+M3jMfUcB+OOiciIiIiIrqmKIN8wrCwUAkDGuAVHoPE8aNxs7EcZe/sQK4MuvotEP31pN7SX79cdHeUCh4jZiF5xr3Ap9uQtrkUak4Mmod9+UkI6iIj9APYPAIfxNQRvjCcq8TuN4rRqMRGbozDto9TEGaeqq8RuxNCsLwY8A2PQ7S/nSGktiNYzfGhQEQvCLZ7l7TtCFZzfMcnFPET/S3HMrMdwdp9edKdej7AerEC2a/Ow2p9+Py6ACwZ/Rwev8tTbnDRP86h7OAzePSrCqvhyQG+mTjwcBADN0KvDbDW7UVCZDKKlEY+SFxbnrg23Xyc1gFWITAFR/bEwU//61VHAdbWSmRHRCNDaYs3BmJR7hY8Hqhrwq11yEuejYXqLyE+4rMF4rO9obb0YICViIiIiIiI6ErQjYIMSinAvhmDtO0qI0qei0Dstjqx/CBe/mwtIuzE/f5p6OIavgm5OPJMsDmWZSxNx9jYrVBmVAx6tgj7YjsZsmksRcrweORetDOQ7NRWTI5IR5lYtI41VCJ7VDQyRFaHZYjtE7uOQTS9/RTufPwgcOM87DuR5FCMqeLlMEStFicJX4tPch60jIbtSHflSTfr2XGc/6hH3p6FNsHVUciasO7Sg6uK6zwRFL0RB+4aZRU1r6hNwhPv1cu1K0WJ/A/GbT8Xr/RyGE/tRcrkYdr60BAkbC5HU6uyWymyH4vAncr2nw/B3YkbUWJv8orWRpTtTMXkkCHaMcTrzrHzkf1hBzNdNFVi98op8rhi38mp2H2q3aBwa43lyBWfuXuo9hnlOicv2oqSBvn+5fJ9OdJmyuDqjaFI324dXLWrPBWPbe5sYhAL4wd7teCqEJaywTq4qujjg+iU5Yi/UVmpQ05eqfoLj8O+r0PR+vmIsimbtIOVWhmbKIFp9f1E7LbN087ek5Q6tDxKnkMpm5V7UWFz90RZunb+2xL2olapW4khuEM97jCx/0HUKtfzfbVaN0zlbK9u6I9jVcMcTauiO/LFtk6KdIx9TLQR2/2UL1x5jrRjSrPaKL6ALXmVsL4UjbbX1xln2psj6TQWI0W+d4f4PrDVdHC+/GwYsh2r1kRERERERP8cvqsz32I+LEAfXFUYEDJ/C3bm5orXdATYjIUy1hTrYiri1UFfWeVEP8+qb1132BzPSXjdsm+7cw+LwGPpB+2c24iKnU8hVunLdhDCMWn88LAaSFRGhM6ebgkkKgzBcZgdqC2X7S9Wg4odaSrcqwZXgXF4fI7NqN/b47Buj5KfuZj9K/07RjQpcWzBz9exAV7G7y9oC//h4/Azfozn5UkG+XQdXBW6K0+6W48GWBv/sA7P/kV3C/919yJr0rOIHugmN3QP37Bn8dpd91oVVMHn65D3f3LlSrv4JtImJyO3XLayi40oSp+ChXsPI/vX8ch4p1ob0iwqc2NhJmJ/nYkyfbyrtQ6754aJL4kdKGuwvNFUfRgZ8SEYqwRw5TaVErCcHI3lO8vlccW+5TuwfPIK7K7tIHSojCAdMwUp4jPqUHGFuM6yA+mIHZuI3bL+dzslbU9OR44aAB2ExO3Z7W/9tzIL6Wmh6lLV6qccCEYZUVIo5/a4UTS8BztovjcEY7b6hS1ek/zkRgcYy5ERHYaEzMOoEGXjMcgfAd4GtWxynozG5Cw7c524wPjFVjwm6tDuSnk0pWx2JiNqcjrKvtc2WavElrmibhU2yvM3if3FF/rqg9idrNUNUzlrdeNx5HUVSHcmrd2RL/bqpEhH1TuijYREIO2Y/SMY303H5NhMFJnaitLeMuMx8rfarRFdcqa9OZpOQzDGz9D+DRjfLkWFVbC3SdTRw9ri0FmI4EO+iIiIiIjoWnKDhzk4l7tprzYwSO8m7WFXISMC4auLrqnTDIYl6mIqgqmv/J82cQxn4ypm5dgwc74lniPZPfd31SjY/FT7fnql6M+vPIgSpS/7/GHL/u004fiH8s5dn1AMa/fgbh8Mu08GTMrL7AeRpZNlB7WF8AiE3CT+imsrO7gDGZk7kHesDn0DlfwUr9t1A9AaqtQpGwF/+IjPNJ44iNzMTO0zJ+pgtDNoqbZKXu8tXvBoqkbJ61vF/pnIeb3UPBWjtUacPqUtBfQX526oRN5O5RyZyD1YifYhq+7Lk+7WcwHWc0eRVfaRbjTcQCwJXYlolx5j3zUlyLp5oD7nP8ITBe92UpEvo53iC2JxHj45fhyfF+UgXv4gU5Q8H9m3piC/RGw/XoRtpmHw1RtRoIzVlio2z8ZydS6SQYjPKcIXp0/j69PHsW+J9itE1ebpWPa2KWVGlKw2BSwNCEsR5/2j2P+kOP7DlchYX6ruZUW5hV6OIDUMT8K+42L/r8TrszykhoszXCzG8id3XIZfAppQttqUNuXhVVscujV/cEwK0pXrQjUynrQJRrfThD9/Kxf/wx+DOzy8Ab6mL5hAx+cBbSr8PbLVvA7Eon2iHI/kifI8iaNpoVrZrN+IN7oKXDqgZNsOnE/IxVGlLP9YgvwU7fio3oqFW+1EmYt3oORXOTiq1LkSWY5CrfiyX14Rg21FSp3THUeU8Z7izqPozqT1kvNFVycxKA7bjp7U6uTxPVik1pFq5MxcYfeBZbmbixH2UkG79mbcuRG7a7Tlzljamwcins3D57K97XxUO1DV5hXIlf8QHE+nAcPCY7S8rtuLoi+VBanpIxS8qS0GTQmFE+F9IiIiIiKiq59/DBbJPquxMBmj7lLups3E7sJK1DZ10OH/7jCWzZTPcPGfZe4zfnEkDWHK3amij5uy3hLMdC6uolO8F28YYpC6p0jtQ6eO9rA6t1/MWhxR+ulKf7VE9j9FP/3Xq3V3xnr6wk+9Y1bs/wsfO3OOmhhx3nQJfl64WS7q3ext6jFewHm7g60Ujaj9Si4O+in+emA+7hwWgclPpiJ7fSoWTonAnXfHI+eETd5eNOLP6kIT8lZE4O7op0QebtQ+Ex2GOx/ZiAqrc4rrNQ2GqtyIX/9nBGKXpov9NyJtaTzGinMuf9s2ztAE41m59NYKjA2JxsKVyjk2IuXJaIwaPgXZVtfVXXnS/XoswFpRugW5uodaBQ1chsQ73eVa9zCeeAsF5iigG4IeWIYlWhvVnNuFN0yV7EoauhzJM/zhdZMHPAaGYvasYPlGMFJT4hDgLbbf5IOwWbMQIt+p+laGolvLkbdRjeDAMCMFycpDgJR5R/t4IOixtUhWh0Ibkff6O1rw2liKd17VKqMhNhsvK+dV8uAGcfxnNiBVDp22Uv6mDBKNw4ub5iFI+XVD4eGP+FUvIEJZLt+KvG6+dbnkhSn49WYtbcokxn63ODYEXbmlf2pKivalWb0RyzI7Gw1Zh2rT1K23+zk0/NwZ5uHw4si+t1q+Jn1jstUA3xennZ2jtgOBy7EuKVj7tc7ghYAZGXjxfu2t2s1voqzdL0lxSF4eCl+lznmLckyIk9uBxN+JvBuo1DlxnLgExMvtJd90fq+CM2m95Hwx10kD4lOWI8xHNuSbAvH4ajl38MWD2FPY/poDlHr+4CBze0t9YZYW2EQ56jpPonV7i83Aulh/eMj2FrJEtLcR/ggYakDFl9qBnEmnIfgh8zQUe963NCZjWSny1KVARI+4cvPFEBERERER9Q5eiH6lCNselQ9PUu+m3YjlidEYddcQbVq7SuvgZ2PhXuSpwb1AJL9k6TMaBsVg3Zo40W/zh98XVahS+srOxlWsjMOLv09D/HAftQ/t62WwnNsnCevSHoSf7K7CW/Q/1yapo3GNr+5FkemSvR/EtqMF2JdXhPxHO7tlsev4hZevHEGEYlR3OEaqEY3aUFSgMBUJi96H70PzkJ6Tg/QFDyJA6Zd+V4q0X9vcyWqeqkH8rfNF/LNrsTMnDY8/5K/2qY3HMjH5yYO6PNINaCsX+TtOOUcu1j0bp42aRTV2Pz4bGeX6iE0T6k5oS7V/rINvbArW5equ62I5Mqyuq7vypPv1TIDVWIZDVbqhY9dNxBP3BcigR/cwntiC/3pvFea8vgy7TUFWQwAS756oK4DTWPnJR50E4y6T4ACrUWn/+i+mlIu//yIXFWK5XZ58U4ES+YvA1NG2D+ryQYio6KriSpxUElZXh+PaFkQE2+zfZ5Bl6LROVYX8ZcWrL86L5ZIPda8K7fcLpVKXyaBSdzF+1yTOqwT6lLU65Dxqf0SiXT4xePF3cpTg5hXI6OB2cWUUos9QuXjxfLeXvZd/oCzbw1h4XwQeW7lV/somznyTh/al3Q1CYkJt5jPxQEioNlUCLlbjtG3RhPpjiL7wfyz/KvTLff5VLnTNmbRear6Y6yRiEPofNq1iYDCiZZkWfV7RrkxDfmn6cpV8Bpl/uOiSrr3F3y9H95r08Udibh7y8/KwTk414VQ6+wQi+lGt/dUWlMlbL3RTWITGILLd7Q5ERERERETXgD5eCFu+B5+fLEL+SylInBgMPzn4S53WLioECa+bomdGnPxcRt2CYxBm0wX0GJ+i9tvy8+YhSOmTORtX0QsOtQxCU+nOfasRtaU2MZRvmuQI1cOoMI0nU9w0CEFDZWC3QwZ4mEI2HcQvjM2mrdpt/PZZ5lJFdTV80wqQvy4JU8NDMTVpLfL3mQYtFSPjgG4k3fDl+PqPyp2gRfjggxykxj6IkPAYLFqXhyNyqkZj4VrsNn/EC1O3ncYXx0tw9GgR9mUo5xD99dgU7PwgF4lqWqqR/er75pHEakD89Ekod3EfPVKCbc/GIXqEvK5DaQhTdrG6ru7Kk+7XIwFWY8VR7NKNXg0bPBFhlsFel0wLrv4eJeo5PsLS15chTz7TyhA0EUvkUGxV/Uc4bq9EeivdZM8Gd5tAk9D3RtMA6Tr8WQlO6va/+eb2mXyzlz7Uq2mqlxW3cS9S4uMRa/VKR4H2LmBnvo1Lo0wLkIdPtszTglQXD2LhUv2vIZ3zmpiBdQ8peVKNnKcyUWJpsToe6GvKov+t6/5pDvznYVt2jPwFqBoFO9O1X9mGDcEdIYnILu2eoLTBHJS38LrV5r/I5eZMWi8xX8x1UtSRvu2S7gFDP7n4baPui1rSB5CdpWs/Dh3HyXQGhMZogfITb6JE+c2ptRKlbygbgIiJ4+3+GkdERERERHTNuMEHAQ/GITkjF0eOn8bneWmYqnZ9jSha+gLy1EFZupGTor/Y5bAhZ+Mqeu2Orzv3hxvxmG0M5cmt8lxGu3OWds4L5pCNvb6u0PT/TJHTm2HQx7qs+GCQHI+lPMdmdozNQLvbY5D4kLZY+2mFdQzGoNwJ6gMvm0Cw78RYefdrHcoqrfu5BmVkr49N/OmGYEyZJQPXb5oGGEl9DFDu4va1vavV5yFMj9UWLdfVXXnS/XokwFrx1QFdgQUgMqD7hmlZB1c1XtcPhq8pU68biJCfB8gVxQGU/FEuXg10kz3jb/Kvzl//booW/xv6Kk/eF5XUlFpLFN/i/EXTiFQLQ1/Z2G5X5l89js87eJlG7XUX34QcvPywDwyBSVi3RAsWGgtXYJn5V6mueCAiLVu77bpuKxLma3OgWPNCwAjZqJWglv4XJCuNyFsUjaho8Vp52OEgr8L3/jTkf3YSnxzZg3XPzkP8+EHqL1bGhmJkxM5HrgPzftorWz2juZwtGms7TMxl40xaLyVfzHVS+Gu7f0oiL0zZ4dFX+X/Xfbpob/Y4lc6hoZiiJq0cxZ+KWlb+jvnJjhEjbP4hERERERER/dMzqne3NikvO/OtegyNQbq87d4yKtSAvqbuk/jIX+Vih5yNq3RKd+6Ja7XnnnTwWhQo93OYFwYPlT1ce6NpRWLNo2dv9MfgDqfd88DNt8jFoT64ud2oWQ94/FQuOsrgfN/bErh2lMjbdgHS7sqT7tcDAdbTOK6f08F9LELMNfvS2A+uTsfmX89GkC5W4TtYnFMuKw7VnpZLV4FB/toQaaHgmG7otqoJZR/Kh1YNDYKfkmavm+Uty8Du98vMcShNHUretD0G4PdL+dPGqQrUKg1NmbtS9zKovy6I5W6NZInz3uFnbqABj5rmh1V+lUq1ftpfZ24IRfLmWeqXpbG62u4IVb/QGG34O8qRlm7niYSCsXSrOgS94kQlDHf4iybsBKP4R2A0wGtQIKJjk5D6cgE+z18uA90ykGalGJVfWJdM1R/tPHxMp+TDcptfasSXyEemiUgGwfdKDX10Jq1O54uFuU7iHZTZVtnvxGdldgUEasHMbtNpe6tGbrwWhF94QFdBnUqnPyLkr3hFbxcjr/QdrY0+FI2wK3grAxERERERUe9gQMV/h+DOYcNw53+mo6RdAE10uc43yocvmXjAL1AOpCotRpnNqNOmwlRt8FS0fCi2s3GVTunO/WktmjxsYihK4EQZBarGUrTdnBHwH/LhyNgr+r02mfF9KYrlHZCGh+81D65rz4Bhd4/TFk13T+q1VqLssFxWnv4vF8syh+C2nw/GbUPT2z/npbrCPB2l70/lJxoPIkHZX7wSXrft3yuBT1O+6h7sVZ6JO9TPDEHaMbnNpLUaJz+Vy7rr6p486X5XPsB6tgYndL8QBHgPgW83XIWjwVXVwCEYo7vdt+rPp5waodijDMEYP0OrSrWZv0V2uSXMVrtrEZa9rS2HTR+vBVY97kVEjLa/8dVUpJkeAtTahAplvVxb1TMEj5MP3zmM7KxiNOoaUu2uRNx5l9LIwpDdPjbbffoMQvxLcr4NFGP5zI2ocHA4vSE4CevkE97tGhiDpxeYRsgmY2x0MnKP1Wm/kDVUo2jzfETFbtWCs4Nm4emJNsPnO2RESarIm1+KfwQR4h+B7ml1yj8AU0mZv3x8Bpm/1HOfT0dRjTj/d42oeD0Zjz3XRea+vQILd1WbbzFoLExH2l5t2TBjNIa58MXtHGfS6mS+2GGpk3XI+O1GlJk+1FqH3UtXyGkrQjF9fCfl3gXjsY2YPGwIopIPW4LuVu3tKaSV6tubyPMPlSB8E/z8lDriWjrNAf/iVCzbrAVq4yeMtvzDISIiIiIiuoaYA2gXdyBheiZKamQQrdWI2mM7kJK6Q/S+FOMQILuAloFUh7FsqW4gVVMpstN3qIOnKnz9tAdQORtX6YL53HUbkbGjEk2mc7c2oWR1NO4cogQQn0KBrh+btzAEdwyz8+R+G4bgGDyuptGI3AWPI9f0cK+mSuQ+KdbVOyAH4fGYYBl0tN+39RgXJ/vU5UhbIvLUNPDRWIei555ChtoV9UFitOU4lnLYimXP6WJDDaXIWJGOMmX5xjiMD5af8ApEqBylW5SabLlWJf70eirSdmppDZoSaslX/3sxVb0uI3JWpKLIdF2tjSjJWiFjVgbEj7dclyt5ciX0QIC13uq2bV930+SJrnMquKrqZ5kyQPH9OZtfP3ozA0KW/B6JamUqR8bkYbhzbDSiQoZgVHKx+iVjCE9D6kTTEEYPRCyQT9hXRtwlhmi/QAwehqhUID4hWN3LiviySd4+S63wVa8m4u67QrRfe3Tn8Ht0LRLljzSXjU8MUlfJBwtVZ2JhVrl67q4ZEPTECzKP7FHe34KXY7QdjJV7kTIlTPuFLCQCCemHtTp6YyjSty9HUJe3BJiIsomR88fWbUXsPTLfoiNwtzlgm4QpI2UT9x6PKeqcsUK1+McRJs4/THxmaSnCHrU85d+ekIfGoTY5AncM1n4dujtxh/maX5xzJb5EnEmrk/lij65OKr9wTb5rGMaKY9x9VxiWF6q1HmGrUsxP6HdeI97YmImy74yo2PUU9vyv3Kxcu7m9VSMndhjuCInG2GGDLe3toRWIVx+y5WI6B4YiWo7WNir/CPT/oIiIiIiIiK4xhhHL8T9y0JQSLIwNUwZ5KXGMIRg1JRW75bQAYatWINp059/AOKyT8QNlINWowaLPGBWCO+6KR466/yAsmvegHMii7+c5ElfpgvncRhSlRuPOuyPUvuDYu4chdrNycuVan0KEKT5VvgML32yEUXlyf1YXUxIqD1d+QfaFLxYjJWqYlhd3RSNF7Qsr8ZkXdPGZDvq2uj61mqchWizhtl+GIeFVbbpBJc6zaLilL6ovBzU2JOMPt4XEI1t9sPggJG5fjhDzR3y0gXJK/El/rUr8aeleNWah5Ou6abpBbPq+vhIXMV3X4BDErtdiQH6P/h7JI3R9ZKfz5Mq48gFW4wXLQ2OEwZ6ecsmGg/MdOh9cVXji5r5yUfH3CzDqPt/r3RCI5H15SI8NVL8cmqorUdEgKtGNXghLysUHr8TAVz+C0ScGL+9LQ3ygLkNuCsainWmYfof9QI5h+HLsy5efudio/dqjnOOmQMSvysO+JYHqF9fl5jsxBanh2pmq1q9AhtqIHSDyaNEqGeyyp48PIl4swCe5SYgYZFNRlHwUXyz5f8jBVEcHr5r4z0N+gU2+naiG8tzAoNg0HMmbhwBz2ShzxopynOZvyUslf7PFl8d9neeuYcRT+J9ts6A+TEnyGJGEnUdyEH2l5hhxJq1O5Yt9VnVSfLJKHKPxotjuHYpFuUXY9rCzhaXnhZD7tX/GBnGtYfovYpv2ZmyoRJVyy4mpvWWMU7erXEqnDyIfMc84DsPD4zDsSjQuIiIiIiKiXsmAoCV7kP/SLIR5t+8ceQTGIT2/pF0f0PfhHHwg+vjaZ0SfsbJRDdCp+xfk4fFO+nldxlW6YHXu76rVvqDSb7TbX/UfL4O7Hoh46N4upyRU+sLmfqaeGp8pQP5yfXym476tdpy1SAz30u2vXWPiS7bHUchyWBWHIJsp7Ex5mqwLyKp8YrDtSC4W2Zyjs3y17uvr2E2fxrk8uTJ+1CbI5SvjxEYMfHe3XAEWjHkfi++UKyZnP8Ka3ctw+o5d2DSmv9zYnmvBVU3Z/tGYaJ53YioOPDkPQT0wI+0lazWaJ342eDgwp8f3yvyQDu5rIj+jNC6PmxyromXpgzF5s1zpyKN78LWo9L2CMm+meku3vTSWI+3nU5Aj1zqSuOe0+HKRKwrzMR3Ib6UcL4ovKWcntjWVvzKni8MjbS8DZ9LqzL4dMdVJZT7g7pwMWBzXKPKyw2typr11RzqJiIiIiIiudeaYhON9K2OT6Nspt7Q70ld2Nq7SBfO5O+uvKuc0ived7Mebjy10eq1d9W1N/VUn+tTmc98g8tSRj5jz1V6cpQOXcl1CT/a9e19IUQZX14syKPh8Gua8Vy/fsHYpwdV/KqYHTjk6YbLSEBzd10R+xuEGcTWSk053axrNx3Qgv10NFJrKvyeDqwpn0urMvh0x1UlX8qwz4ridXpMz7a070klERERERHStM8ckHO9bKYE29TOO9JWdjat0wXzuzvqryjld6Mebj93VtXbVtzX1V53oU5vP7ehHzPnqRL/9Uq5LvHqy733lR7Ce+j3uf2uLeZqAiLsOYFOYaZqAZpTtn4eJNfpHmrkh+q5cZIVZRrJeenD1HAq2T8Scv8jVH8/G2/OmI+BqHMFKREREREREREREPebKhxT79beaF7Oq+axcUrgjaMKL+O+fDZTrihbkfZaElX/QRrJ2z8jVs6hVnyomXe+JmxlcJSIiIiIiIiIiIif1QIB1IIb+WC4LVfUntadrm1zXH2HTXsQmT3e5QVGP3E+SsPL1Vd0zLUDNSbyne4hWwM23dzmpMBEREREREREREZGtHhi3ORjD9E85v/gWSvQzAiiu64+I6VvaB1lrxb7dMOdq7ekjKJHLijG+g+USERERERERERERkeN65Mb4gFsnyiXFabxRYRthFewGWS1cfqDVP2pQ8pVpBljhuokIYXyViIiIiIiIiIiIXNAjAVbD0FFYoDtzyZe7UaSfE9VEBlmzfuImN2hcDq4KxrIDWK07l9fP7sWwG+UKERERERERERERkRN6JMAKQxAi/fQPsnoLq9+pgFGuWbmuP6Jn5JqDrJcSXIWxAjmfHECjXAUGYk7gvTDINSIiIiIiIiIiIiJn9EyAVQgIno143dkrap7F+s9b5JoNU5D1Z5cQXEULyt56Eat1UVyvn8ZjAqcHICIiIiIiIiIiIhf9qE2Qy1dcY9EyDP/sI7mmuBdZ015EdH+52o1qxbkminOZR69eJ8415fKci4iIiIiIiIiIiK4NPTaCVeE1eqHN/Kof4Yk9y5BXL1e7SW3RSjyiD67CDdFDFzK4SkRERERERERERJekRwOs6q3/U9ZhiX4S1H98hCd2zUP25+fkhkvwj3Moy5uHiZ8dRa3cpAga+CKeC2V0lYiIiIiIiIiIiC5Nj04RYFb/Fp7Yswp5/5DrUtDPlmJ11APwc2HO1aaqt7D+3XXY/IP1vK5eP1mKA3EPwPfHcgMRERERERERERGRi3pHgFVRfxQrD6xEru4hVBo3hP1sHmaEjEXYre5yWwf+1oyq8iPYfWILNjc1y40WQT9biayY+xhc7UhrC5p/ANzd9dM2UHdraRZ183p3uPWRG+jqobSRFje4Xy/XryGst0RERERERET29ewUAXr9R+HZGblY5WkbRG1B0f+tw38deAADMx/AxJxnsSZvC3LefgtFn7yFXGV5/7OYs3Eihmc/gPA/rLMTXHXH1KFb8Oq0ng6uNqNmfxoem3A/RobdJ17347Gnt6PMMjmsQ06uuw9L9zfIte5TkxuHyAcX44jpepRg0nnrEcAKJdDS3H6zCxqQP7/ztFyetGrnHZmwFx1P93sG+xPEPvPz4PhkFdpxNxyTq/Z8uR0JD07AM/mWo7acb0ZLq1zpgJIPI9eVyzWTZrF9CkZOWY+T7X9PuEr15jbSjPdT70fkBJHfcotoDGi20xgcKVPHdN1Grgg79bZbdJB/RERERERERFeT3hNgVdw4EFNnvIVjYbMRYffKmlHW/C7Wf/V7PPflKvzXH1ZhpbJc8y4KjOd0D7Gy8PWYjdemHcCq+wbDo4dTe3pTAuJ2/Q0PpG3DoTfewKHX1uCBPofw5Pz1OPmD3KkHDZy0Bi+vXYzRXnJD+SZETthkCSapGnB42QT8Lr+HAz7d4eudOHJCLts6cQi7vpbL3ckvBs+vXY2kcE+5oRw5EyYgxzZ22qVmnFw/F0+W3IVVGxZgSBeDu68WvbuNuGP0vCy8lBWLIXLLufxkRC47ZBOEd7VMe7F29bZ72M8/IiIiIiIioqtL7wqwSl53TcemeQdw4K6piP4XV25Xd4PfT6Zi0wMHUDhzOkL694Zb3stRvP8cpi1KQZS/N9z7usPd2x9RKb/FfM+PcbJK7qaM6LINJCkjSTsY5aWMlGu2N1pOdxxtH93n1ZGpdkaOuXvj1sHeIvcE5fPnL4iFC7ig7Ks7Vov4WMsPyvvtz6uOblX272hQWkfndoDdtHY0As6BkXFubi14Nf9DtN+rBWX5eTjr1kG9kWlvV056pnTajgDu447+Px+Mfsot5uo+36nnb1dGXajfn4wn8z2RlJmMYFNA3IG6o5SPmn+m69Pvb0pXB5dhyv927+vO0dJQhdNnXB1OexW0Ec8BuH2ADDKK/DqrzPEsjnPWlC/q5zov08vVRjosH1v68pLXYs4b07k7q7eKdnln/7ugXZ4rdcx0aHv5p+dIO7PRZR7Y5q3+enS6LCMiIiIiIiIind4zB2snmr4pQ1HlUfzhTBlKfqhBrdxu5bqBCPlJECIHjELInUPg59nb5hEtR874JTi39A0sC+94uOG5/U8g+sxMfLAwUG4Rjq3HyO0DkLchGkpoR7n9OfeW5zHqg1Rs+NYT/956DqdaApCUmYJJv9COrR6naiR+07gT2XVuaGk4BwxfgKxfN2Dt04fQ0hf4pqEFt8Y8j5fnBWpBVd15cCgVS7Z8jFPiYwNv8YQhNBlbZwO74tLwWmMDmq/3xq3ugxEvzqmOeG2uxK7Fi7HhjDtu79uiHjt4ThZ+M81PO7ZwrjgDS144hD+5e6vXjPA5GPvFepSF78CqSd5yL2tdpvXrnZiV8Bmm7VuNsebBdc14f/kEbLgtC3vm+Mttespt13GoGTkHJzd9gklWnxXOHcIzk/ciaE4gMj+w5DtaG/D+c4vxu5Jm3Orlhj9924x/D12M554Zg/7qvJTyuOHJaN61BifcPHFBySvPaLyUYxplWo4NYdsx8LUsRPU5hBeTtqP4W5EXniJPrg9H0o6Z5tGReko+PIbVar2oPyzKJuMspuWIYwyQOwhd1x15faELUL9zO+r7tKjlO3phFqY1rMGSQyI9EPn7gycS07chPlCW3Lfv4cXFa3BYbL/VvUVN9y9mrsGqeH9dvXHHssEiPXnigNHadTqv97cR/blPbolDZr6SX2643UvU+9gsLBv+ccdlepnaSJflY8tUXncUIqdYrDdrdXT1bwNwZKVSb91xVrn+4Yuwc3WkVvf19VZchiXvtmPtV57o90MDahCI3+SItnSLsr+sazPfxfzh6gFUarkM0NJiN/8ixdnstbPIZKxeNAKeHc3/6kAeKO3mmYwPdHn7PGa3LsEBeT0qO2U0NF4cZ2YHeUlERERERESkUAKsV5u/XrjQdv687tUs3+jl/rRvQduYcbFtqdsK276pN8qt1s6KfUZklsk16dOsthHz3mg7K1dPZIarx8n+6ILcIo69Rxw7OqvtxPfaunqc0AVt+2q09ba/FLatHRcujrOn7U9/1zYZP1rTFhOa3Fb8F23d9jzqeqg4plzV1LcdnBfetmRfvVxXnG0rXhbZFpv5UdsFeey2mj1tS8ZFt2V/KtNZ/0bbktCY9tccanssa12ntaZt38zwtqffNl+1mtbU0JmWtLejpSH707NthxeHt819zXrHP702s23E4rfbLljlh7HtRFZM25gFlvxru3C67TVxnNhXKuQG7bgjYrLajpvy9EJZW3aM/hxiXZTLQXOSlXXlWuRqB5R8UOqFUVxTrJKPn1ryw6TruiOvT1cHLrz7vFYG5uu70Hb8xei2EcsKxZKivu1wUmTb3A0VIgekr3a0zdWnQa0nkW1L9nSY4Q7r7W3E9tzqur7NqOyV6eVqIw6Ujy21vMR5/yDP83dRj0UbGhG9xlJv68S1iX1eNVVtm3qr5Z3uWv/evt5obUxdMVPKRZ8We/l36hWbdvaXj9Q2dEl5IPJ6bru8XdwWIcrbclxxnAU2ZfRnUSeiI9tS37EuYSIiIiIiIiK9XjlFQFcM7u7w8NC9bpRv9HL9J2UhLysW/U68grmP3I+R90/BMxmHcPq83MEJLYEJmHGPZZRf/5i5mIE8HPlYd0/rPRMwzjTCsa8/BvsBweEj5WhLwO2eMRitTAHgxC24dn19CLnlI/DUnHvgbhphNiAG82Pdsb+0Ql2tObwXpeFPIFF/zZPENfeVK53oPK0DEBrlj/ff+ximG9ObSw7hyG2RCNaN7rTPE6MfGoNTu0QZmG+RrsSRXQ2Y9FA4rMZQ/vAJjuxvwYzEGHP+wd0P0+bGoGV/IU7qboUOjo1FkCld7oGIivLGyYazcsMlKN+EJ5/OQ42bNwb2t7o6p4yNjjSnwT0gAMPgj1GhpsxyR9CYcODCBTl1gjfGrn0bL8/TjeAb4IchqERNnVxX9I1GYkznGd5SuRPPzE3D+51M38s24mwbcbB8bPWNxLgQeZ4+Yv9fib+hYyz19paRGOXfjAvfy3V7hsbiEdO19pH1prwC32hbXPPDh8jf5Y75i3XtrO89SJw3BqXFH3cwV2vXeVBTnIeT7fJ2Jh4xTXmg+LoQu04EYEa8roy8xiBxTgCO5H3AeWKJiIiIiIioQ1dlgPVq5v6LSMxfuweH3n0beVlzcfvp9UhIdP4p8Lf7+1kHAOGHwcOB+nO6MID3TTb7XCZnz+EUPsGGxDjMirO8frf/HFq+OKMGJi6ca8CwX1huhVb18YSnejtx57pKq2doJEYfO4RiNXB3DqXvlWN0TDj6q+92zi1kghp0yy/Rgm4tJW/gVUQjKsTmhuDzZ1GPkRhiO+OAtzdubTmNb3RPWFOmVND7N3frdZedOYN/m7MNO2Kb8WKS83XGpJ+nk7Wi9RxqCnci57klarnGPfg0dsm3zG7xRj+52JGW+iqUfvkZ6rsIlrKN6DjSRhwpH1sOlFeXfj5ATh+go4tdu0RtZw3Yn2ydT4+t/xA4cQZ/kru100UeOJS3Shn53Y0hNoly9x4At8pOzk1ERERERETXPAZYe0ofN3j6jUH8K9uwzCsPuYW6oI8DLvxgG21qUZ4V03P6jsS0eQswX/9amoKXZt9jDmBdUB5o44Iu0+o5EmPvqcTRkgbg3Md4/1ggRt/jYFCzjz/GTvPG/jcL0YxzeP/N93D7tEgMNo1gs2KE8VIDSJdi5GI8N2kABsamYZn3IaRvKb/keFaXWiuxKy4Oc/c2oH/ww1ie9gpeeeN5TJNvO8M9PAWFRXsw7RdyQ1fYRrrWjeXTewQgao5NPi0S+fR8JG6Ve1hxMA8cyluxT082cSIiIiIiIro6McB6pVTtxdK4DJR2NHqvVdetP62NaDM5d+a0XLKor6ox3xKvaj2Nk+VuGDiggwfhXE43e2NIYzPcf3UPgkJ0r8BA8fJWR4318x6AUycqbK65HjWmJ8N3ouu0uiM4YgxK8z9AWfEhvB8ejdFODBrtPy4Go4/txeHCQuw/FohJ5nvGdbwGYKDbJzhtc70tX1TgeN8A/OJKZLvnTdoIvD7eiEpLxrBDT+OZ/Tb32ztQd5zSeBplDSPwm8xFiAq/B4MHuFtun+5ubCPOt5ErWT4uqDmjr58N+Kar6ti3H/q71Yv8ssmn4YEYco/tiGTJgTz49wH+OFX8AWp0U3mgucq6PfsMQPC3n6kPftOr/7IcLfcE2A/uEhEREREREQkMsF4ptwVgSMshbMjIw2lTB76lASe3pCGzyh9jQ7Sgj+cdAehfuROvFp5B8/lm1JesR/be9pNWulVsQvreM9pK6zmUrX8Bu/pGY5wrD2/vSD9P3I7TOFXVjGbzHJSe6Ncf+KaqCufE9bUoAYsB4Zh2z8fYsOoQakwxsIb3kDnjfiyVAcD+4+Iw9n/X43dW17we+Q4EgxxJq9s9ozDp2+14eksVJo2+2/pW4K54hmPSuAZx/dtxalwHwdk+gYiK9UTOs+tRZio/kcYN6z/EsJnRGCw3Oa8f+t8C1Ij8bD7vxNg59xGY/3wk/rQ+Gfu/1jY5Wneccv2/wR2foex/ZdhP5P/JTZu6vgXdFVdhG3H3FNf0bRW+bBBtxFx8dsr0crWRK1k+TvHGL37ljtJd21B6RuTN+TNqWg7optJQtMu/60cgalILctZswklTHThfhf2LJyBufQcjth3IA8/ImYhvFt8PqXtxUlzPuar3kLP4FRzXz8HqHY6J4RVI/+1ecxk1f7kTmdubET91hP3gLhEREREREZHAAOuV0scf8Ruex7i/bMfcyfdhZJh4jY/Dk4X9kJSVhrGmQXX+sXg+3hOHn0tA5IQJSDjgjRmzR8o3LYbNTsHYymSEK8e5bwqWfHwPVm2Y08Gt7S66LRpJMc3ISZyAyNT35Mg6NwTPXIAhJWmInhCHXV8q2zwx+pksTOuzEwnjZdoeWYOa0OexPFomzHMMlq+JQcv2BO39++Kw/7Y0PD9Oe7szDqX1+hEYGwk0t0ZirO38qV1yQ1BUNPq1uGFG1IgOg7MDY7PwcmQFnjaV34ws1EeuwXOmNLpkAKIWxuBC7lxR3ql434mHObkNX4DnZwKZy+T8pA7WHaf0HYPEFQEo+80Ec7ntuiXy8tyCfhW2EbeRCfjNHR/gmUfEdWyvlFvtlellaiNXsnycNDg2DfM9P8TSGeL7Y8Jc7Peaidkh8k3JXv4Nnv0KVgeWY4mpDkx4Am/1m4PVswPtt01H8uD6QCTmvIIZfT9BZvJcLFnzEfon/RbTrOa3dUfwilewvF+euYwikwrRf1EWEgOd/U4hIiIiIiKia8mP2gS5TFdKixwR6uYOd/0IKr1WZS5AN7h1FQz6QRyr1Q3u7pcxANDBtbS0iCTYnlbs29ws9nZ37/DaW5SRr9eLtDt7yV2k9fTGCXgaadgzz/ZJVN3MgTS6wm5+usLRuuOMy5TmDl1tbaSDwrtibeRKl48zHKnY9vZxNk1d7a+Mtrfa3oD8+XE4Gr4DqybZ/Eii1j9RZ/o6WgBERERERER0LWOAla5+SgDt20P43fxDuDdnGybZmUKViK5hZ/Kw9IlCjMrKQpT8fmj+cjt+N/cQgl5x4sFrRERERERERHYwwEpXOW0U2otV7hg77xX85pJu1yeif07NOL09GYt3VaL5em/0b2lATas3ohatwbJx/M4gIiIiIiKiS8MAKxERXRvkNAKKXjmdAhEREREREV2VGGAlIiIiIiIiIiIictF18i8REREREREREREROYkBViIiIiIiIiIiIiIXMcBKRERERERERERE5CIGWImIiIiIiIiIiIhcxAArERERERERERERkYsYYCUiIiIiIiIiIiJyEQOsRERERERERERERC5igJWIiIiIiIiIiIjIRQywEhEREREREREREbmIAVYiIiIiIiIiIiIiFzHASkREREREREREROQiBliJiIiIiIiIiIiIXMQAKxEREREREREREZGLGGAlIiIiIiIiIiIichEDrEREREREREREREQuYoCViIiIiIiIiIiIyEUMsBIRERERERERERG5iAFWIiIiIiIiIiIiIpcA/x/xdNfIb5ftbQAAAABJRU5ErkJggg==)"
   ]
  },
  {
   "cell_type": "code",
   "execution_count": 135,
   "metadata": {
    "colab": {
     "base_uri": "https://localhost:8080/",
     "height": 0
    },
    "executionInfo": {
     "elapsed": 2259,
     "status": "ok",
     "timestamp": 1666237654765,
     "user": {
      "displayName": "Mohit Kumar",
      "userId": "03888987891614882912"
     },
     "user_tz": -330
    },
    "id": "x-obvin89MNS",
    "outputId": "7687b7e0-8cc8-4b82-d9c5-6aca1122d551"
   },
   "outputs": [
    {
     "name": "stdout",
     "output_type": "stream",
     "text": [
      "[jovian] Detected Colab notebook...\u001b[0m\n",
      "[jovian] Uploading colab notebook to Jovian...\u001b[0m\n",
      "Committed successfully! https://jovian.ai/mohitcnf95/titanic-machine-learning-from-disaster\n"
     ]
    },
    {
     "data": {
      "application/vnd.google.colaboratory.intrinsic+json": {
       "type": "string"
      },
      "text/plain": [
       "'https://jovian.ai/mohitcnf95/titanic-machine-learning-from-disaster'"
      ]
     },
     "execution_count": 135,
     "metadata": {},
     "output_type": "execute_result"
    }
   ],
   "source": [
    "jovian.commit()"
   ]
  },
  {
   "cell_type": "markdown",
   "metadata": {
    "id": "miMdvD_o-AlZ"
   },
   "source": [
    "### Gaussian NB"
   ]
  },
  {
   "cell_type": "code",
   "execution_count": 136,
   "metadata": {
    "executionInfo": {
     "elapsed": 41,
     "status": "ok",
     "timestamp": 1666237654767,
     "user": {
      "displayName": "Mohit Kumar",
      "userId": "03888987891614882912"
     },
     "user_tz": -330
    },
    "id": "RmkQ8Yz99-1Z"
   },
   "outputs": [],
   "source": [
    "from sklearn.naive_bayes import GaussianNB"
   ]
  },
  {
   "cell_type": "code",
   "execution_count": 137,
   "metadata": {
    "executionInfo": {
     "elapsed": 39,
     "status": "ok",
     "timestamp": 1666237654768,
     "user": {
      "displayName": "Mohit Kumar",
      "userId": "03888987891614882912"
     },
     "user_tz": -330
    },
    "id": "SwvgJbIx-2c_"
   },
   "outputs": [],
   "source": [
    "model_GNB = GaussianNB()"
   ]
  },
  {
   "cell_type": "code",
   "execution_count": 138,
   "metadata": {
    "colab": {
     "base_uri": "https://localhost:8080/"
    },
    "executionInfo": {
     "elapsed": 37,
     "status": "ok",
     "timestamp": 1666237654769,
     "user": {
      "displayName": "Mohit Kumar",
      "userId": "03888987891614882912"
     },
     "user_tz": -330
    },
    "id": "7wi8BMiv-3Y5",
    "outputId": "57ac9c62-e0f0-4cd5-a16b-7f59bb8bc373"
   },
   "outputs": [
    {
     "name": "stderr",
     "output_type": "stream",
     "text": [
      "/usr/local/lib/python3.7/dist-packages/sklearn/utils/validation.py:993: DataConversionWarning: A column-vector y was passed when a 1d array was expected. Please change the shape of y to (n_samples, ), for example using ravel().\n",
      "  y = column_or_1d(y, warn=True)\n"
     ]
    },
    {
     "data": {
      "text/plain": [
       "GaussianNB()"
      ]
     },
     "execution_count": 138,
     "metadata": {},
     "output_type": "execute_result"
    }
   ],
   "source": [
    "model_GNB.fit(train_inputs, train_targets)"
   ]
  },
  {
   "cell_type": "code",
   "execution_count": 139,
   "metadata": {
    "colab": {
     "base_uri": "https://localhost:8080/"
    },
    "executionInfo": {
     "elapsed": 36,
     "status": "ok",
     "timestamp": 1666237654770,
     "user": {
      "displayName": "Mohit Kumar",
      "userId": "03888987891614882912"
     },
     "user_tz": -330
    },
    "id": "K0iYJ5m6-3VG",
    "outputId": "ba39f07b-412d-4316-d49e-95210c9c2a05"
   },
   "outputs": [
    {
     "data": {
      "text/plain": [
       "(0.4581228472908512,\n",
       " array([0, 1, 1, 1, 0, 0, 0, 0, 1, 1, 1, 1, 0, 0, 1, 1, 0, 0, 1, 1, 0, 0,\n",
       "        1, 0, 0, 0, 0, 1, 1, 0, 0, 1, 1, 0, 1, 0, 0, 0, 0, 1, 1, 1, 0, 1,\n",
       "        1, 0, 0, 1, 0, 1, 0, 0, 1, 1, 1, 0, 1, 0, 1, 0, 0, 1, 1, 0, 0, 0,\n",
       "        1, 0, 0, 0, 0, 0, 0, 0, 0, 0, 0, 0, 0, 1, 0, 0, 1, 0, 1, 0, 0, 0,\n",
       "        1, 0, 0, 0, 0, 0, 0, 0, 1, 1, 1, 0, 1, 0, 1, 0, 0, 0, 1, 0, 0, 1,\n",
       "        0, 1, 0, 1, 1, 0, 0, 0, 1, 0, 0, 0, 0, 1, 1, 0, 0, 0, 1, 0, 0, 0,\n",
       "        1, 1, 0, 0, 1, 0, 0, 1, 1, 1, 1, 0, 0, 0, 0, 0, 0, 0, 0, 1, 0, 0,\n",
       "        0, 1, 1, 0, 0, 0, 0, 1, 0, 0, 0, 0, 1, 0, 0, 0, 0, 0, 1, 0, 1, 0,\n",
       "        0, 1, 0, 0, 0, 0, 0, 0, 1, 0, 1, 0, 0, 0, 1, 0, 1, 0, 1, 1, 0, 0,\n",
       "        1, 1, 0, 0, 0, 0, 0, 1, 0, 0, 1, 0, 0, 1, 0, 0, 0, 1, 1, 0, 1, 0,\n",
       "        0, 0, 0, 0, 1, 0, 0, 0, 0, 0, 1, 0, 0, 0, 0, 1, 0, 1, 0, 0, 1, 1,\n",
       "        0, 0, 0, 1, 1, 1, 0, 0, 0, 1, 0, 0, 1, 1, 1, 1, 1, 1, 0, 0, 1, 0,\n",
       "        1, 0, 0, 0, 1, 1, 0, 0, 1, 1, 1, 1, 1, 0, 0, 1, 0, 0, 0, 0, 0, 0,\n",
       "        0, 0, 0, 1, 1, 1, 0, 1, 0, 0, 0, 1, 0, 1, 1, 0, 0, 1, 0, 1, 1, 1,\n",
       "        0, 1, 1, 1, 1, 0, 0, 1, 1, 0, 1, 1, 0, 0, 1, 1, 0, 1, 0, 1, 1, 1,\n",
       "        1, 0, 1, 0, 1, 0, 0, 1, 0, 0, 0, 1, 0, 0, 0, 1, 1, 1, 0, 0, 0, 0,\n",
       "        0, 0, 0, 0, 1, 1, 1, 1, 0, 0, 1, 0, 0, 0, 1, 1, 1, 1, 1, 0, 0, 1,\n",
       "        0, 1, 1, 1, 0, 0, 1, 1, 0, 1, 0, 0, 0, 1, 0, 1, 1, 0, 0, 1, 1, 0,\n",
       "        1, 0, 0, 1, 0, 0, 1, 0, 1, 0, 0, 0, 0, 0, 0, 0, 1, 0, 0, 1, 1, 1,\n",
       "        0, 1, 0, 0, 0, 1, 0, 0, 1, 1, 0, 0, 0, 1, 1, 0, 0, 1, 0, 0, 1, 0,\n",
       "        1, 0, 0, 1, 0, 1, 1, 0, 1, 0, 0, 0, 0, 1, 0, 0, 0, 1, 1, 0, 0, 0,\n",
       "        0, 0, 0, 0, 0, 0, 0, 1, 0, 0, 1, 1, 1, 0, 0, 0, 0, 1, 0, 0, 0, 1,\n",
       "        1, 0, 1, 1, 0, 0, 0, 0, 0, 1, 0, 0, 1, 0, 1, 0, 0, 1, 1, 1, 1, 1,\n",
       "        1, 0, 0, 0, 0, 0, 0, 1, 0, 0, 1, 0, 1, 0, 1, 0, 0, 1, 0, 0, 1, 1,\n",
       "        0, 0, 1, 0, 0, 1, 1, 1, 0, 1, 0, 1, 1, 0, 0, 0, 1, 0, 1, 0, 0, 0,\n",
       "        1, 0, 0, 0, 1, 0, 1, 1, 1, 1, 0, 0, 0, 0, 1, 0, 0, 0, 0, 0, 0, 1,\n",
       "        0, 1, 0, 0, 1, 1, 1, 0, 1, 1, 0, 1, 0, 1, 0, 1, 0, 0, 0, 1, 0, 1,\n",
       "        0, 0, 1, 0, 0, 1, 0, 0, 0, 0, 0, 0, 0, 0, 1, 1, 0, 0, 1, 0, 0, 1,\n",
       "        0, 1, 1, 0, 0, 0, 0, 0, 0, 0, 0, 1, 0, 0, 0, 0, 0, 0, 0, 1, 0, 0,\n",
       "        0, 0, 0, 1, 0, 0, 1, 1, 0, 1, 0, 1, 0, 1, 0, 1, 1, 0, 0, 1, 0, 1,\n",
       "        1, 0, 0, 0, 0, 0, 0, 0, 0, 1, 1, 0, 0, 0, 0, 0, 0, 1, 0, 1, 1, 1,\n",
       "        0, 0, 0, 0, 0, 0, 0, 1, 0, 1, 0, 0, 0, 0, 0, 1, 1, 0, 1, 0, 1, 0,\n",
       "        0, 0, 1, 0, 1, 0, 1, 0, 0, 0, 0, 0, 1, 1, 0, 0, 1, 0, 0, 0, 0, 0,\n",
       "        0, 1, 0, 1, 1, 0, 0, 0, 0, 0, 1, 1, 0, 0, 0, 1, 1, 0, 0, 1, 0, 1,\n",
       "        0, 0, 1, 0, 0, 0, 1, 0, 0, 0, 0, 1, 0, 0, 0, 1, 0, 1, 1, 1, 0, 0,\n",
       "        0, 0, 1, 0, 1, 0, 0, 1, 0, 1, 1, 1, 0, 0, 0, 0, 1, 0, 0, 1, 0, 0,\n",
       "        0, 0, 0, 0, 1, 1, 0, 1, 0, 1, 1, 0, 0, 0, 0, 1, 0, 1, 0, 0, 0, 0,\n",
       "        0, 0, 1, 0, 0, 0, 1, 0, 0, 1, 0, 0, 0, 0, 0, 1, 1, 0, 0, 0, 0, 1,\n",
       "        0, 0, 0, 0, 0, 0, 1, 0, 0, 0, 0, 0, 0, 1, 0, 0, 1, 1, 1, 1, 1, 0,\n",
       "        1, 0, 0, 0, 1, 0, 0, 1, 1, 0, 0, 0, 0, 1, 0, 0, 1, 1, 0, 0, 0, 1,\n",
       "        1, 0, 1, 0, 0, 1, 0, 1, 1, 0, 0]))"
      ]
     },
     "execution_count": 139,
     "metadata": {},
     "output_type": "execute_result"
    }
   ],
   "source": [
    "evaluate(model_GNB)"
   ]
  },
  {
   "cell_type": "code",
   "execution_count": 140,
   "metadata": {
    "colab": {
     "base_uri": "https://localhost:8080/",
     "height": 0
    },
    "executionInfo": {
     "elapsed": 35,
     "status": "ok",
     "timestamp": 1666237654771,
     "user": {
      "displayName": "Mohit Kumar",
      "userId": "03888987891614882912"
     },
     "user_tz": -330
    },
    "id": "Y9tScFwm-3Rr",
    "outputId": "19079dc1-4a02-43a7-e803-cb70bdec0e98"
   },
   "outputs": [
    {
     "data": {
      "text/html": [
       "\n",
       "  <div id=\"df-5ada7b37-ad10-414f-bb87-d71b0338ec99\">\n",
       "    <div class=\"colab-df-container\">\n",
       "      <div>\n",
       "<style scoped>\n",
       "    .dataframe tbody tr th:only-of-type {\n",
       "        vertical-align: middle;\n",
       "    }\n",
       "\n",
       "    .dataframe tbody tr th {\n",
       "        vertical-align: top;\n",
       "    }\n",
       "\n",
       "    .dataframe thead th {\n",
       "        text-align: right;\n",
       "    }\n",
       "</style>\n",
       "<table border=\"1\" class=\"dataframe\">\n",
       "  <thead>\n",
       "    <tr style=\"text-align: right;\">\n",
       "      <th></th>\n",
       "      <th>PassengerId</th>\n",
       "      <th>Survived</th>\n",
       "    </tr>\n",
       "  </thead>\n",
       "  <tbody>\n",
       "    <tr>\n",
       "      <th>0</th>\n",
       "      <td>892</td>\n",
       "      <td>1</td>\n",
       "    </tr>\n",
       "    <tr>\n",
       "      <th>1</th>\n",
       "      <td>893</td>\n",
       "      <td>0</td>\n",
       "    </tr>\n",
       "    <tr>\n",
       "      <th>2</th>\n",
       "      <td>894</td>\n",
       "      <td>1</td>\n",
       "    </tr>\n",
       "    <tr>\n",
       "      <th>3</th>\n",
       "      <td>895</td>\n",
       "      <td>1</td>\n",
       "    </tr>\n",
       "    <tr>\n",
       "      <th>4</th>\n",
       "      <td>896</td>\n",
       "      <td>0</td>\n",
       "    </tr>\n",
       "    <tr>\n",
       "      <th>...</th>\n",
       "      <td>...</td>\n",
       "      <td>...</td>\n",
       "    </tr>\n",
       "    <tr>\n",
       "      <th>413</th>\n",
       "      <td>1305</td>\n",
       "      <td>1</td>\n",
       "    </tr>\n",
       "    <tr>\n",
       "      <th>414</th>\n",
       "      <td>1306</td>\n",
       "      <td>1</td>\n",
       "    </tr>\n",
       "    <tr>\n",
       "      <th>415</th>\n",
       "      <td>1307</td>\n",
       "      <td>0</td>\n",
       "    </tr>\n",
       "    <tr>\n",
       "      <th>416</th>\n",
       "      <td>1308</td>\n",
       "      <td>1</td>\n",
       "    </tr>\n",
       "    <tr>\n",
       "      <th>417</th>\n",
       "      <td>1309</td>\n",
       "      <td>1</td>\n",
       "    </tr>\n",
       "  </tbody>\n",
       "</table>\n",
       "<p>418 rows × 2 columns</p>\n",
       "</div>\n",
       "      <button class=\"colab-df-convert\" onclick=\"convertToInteractive('df-5ada7b37-ad10-414f-bb87-d71b0338ec99')\"\n",
       "              title=\"Convert this dataframe to an interactive table.\"\n",
       "              style=\"display:none;\">\n",
       "        \n",
       "  <svg xmlns=\"http://www.w3.org/2000/svg\" height=\"24px\"viewBox=\"0 0 24 24\"\n",
       "       width=\"24px\">\n",
       "    <path d=\"M0 0h24v24H0V0z\" fill=\"none\"/>\n",
       "    <path d=\"M18.56 5.44l.94 2.06.94-2.06 2.06-.94-2.06-.94-.94-2.06-.94 2.06-2.06.94zm-11 1L8.5 8.5l.94-2.06 2.06-.94-2.06-.94L8.5 2.5l-.94 2.06-2.06.94zm10 10l.94 2.06.94-2.06 2.06-.94-2.06-.94-.94-2.06-.94 2.06-2.06.94z\"/><path d=\"M17.41 7.96l-1.37-1.37c-.4-.4-.92-.59-1.43-.59-.52 0-1.04.2-1.43.59L10.3 9.45l-7.72 7.72c-.78.78-.78 2.05 0 2.83L4 21.41c.39.39.9.59 1.41.59.51 0 1.02-.2 1.41-.59l7.78-7.78 2.81-2.81c.8-.78.8-2.07 0-2.86zM5.41 20L4 18.59l7.72-7.72 1.47 1.35L5.41 20z\"/>\n",
       "  </svg>\n",
       "      </button>\n",
       "      \n",
       "  <style>\n",
       "    .colab-df-container {\n",
       "      display:flex;\n",
       "      flex-wrap:wrap;\n",
       "      gap: 12px;\n",
       "    }\n",
       "\n",
       "    .colab-df-convert {\n",
       "      background-color: #E8F0FE;\n",
       "      border: none;\n",
       "      border-radius: 50%;\n",
       "      cursor: pointer;\n",
       "      display: none;\n",
       "      fill: #1967D2;\n",
       "      height: 32px;\n",
       "      padding: 0 0 0 0;\n",
       "      width: 32px;\n",
       "    }\n",
       "\n",
       "    .colab-df-convert:hover {\n",
       "      background-color: #E2EBFA;\n",
       "      box-shadow: 0px 1px 2px rgba(60, 64, 67, 0.3), 0px 1px 3px 1px rgba(60, 64, 67, 0.15);\n",
       "      fill: #174EA6;\n",
       "    }\n",
       "\n",
       "    [theme=dark] .colab-df-convert {\n",
       "      background-color: #3B4455;\n",
       "      fill: #D2E3FC;\n",
       "    }\n",
       "\n",
       "    [theme=dark] .colab-df-convert:hover {\n",
       "      background-color: #434B5C;\n",
       "      box-shadow: 0px 1px 3px 1px rgba(0, 0, 0, 0.15);\n",
       "      filter: drop-shadow(0px 1px 2px rgba(0, 0, 0, 0.3));\n",
       "      fill: #FFFFFF;\n",
       "    }\n",
       "  </style>\n",
       "\n",
       "      <script>\n",
       "        const buttonEl =\n",
       "          document.querySelector('#df-5ada7b37-ad10-414f-bb87-d71b0338ec99 button.colab-df-convert');\n",
       "        buttonEl.style.display =\n",
       "          google.colab.kernel.accessAllowed ? 'block' : 'none';\n",
       "\n",
       "        async function convertToInteractive(key) {\n",
       "          const element = document.querySelector('#df-5ada7b37-ad10-414f-bb87-d71b0338ec99');\n",
       "          const dataTable =\n",
       "            await google.colab.kernel.invokeFunction('convertToInteractive',\n",
       "                                                     [key], {});\n",
       "          if (!dataTable) return;\n",
       "\n",
       "          const docLinkHtml = 'Like what you see? Visit the ' +\n",
       "            '<a target=\"_blank\" href=https://colab.research.google.com/notebooks/data_table.ipynb>data table notebook</a>'\n",
       "            + ' to learn more about interactive tables.';\n",
       "          element.innerHTML = '';\n",
       "          dataTable['output_type'] = 'display_data';\n",
       "          await google.colab.output.renderOutput(dataTable, element);\n",
       "          const docLink = document.createElement('div');\n",
       "          docLink.innerHTML = docLinkHtml;\n",
       "          element.appendChild(docLink);\n",
       "        }\n",
       "      </script>\n",
       "    </div>\n",
       "  </div>\n",
       "  "
      ],
      "text/plain": [
       "     PassengerId  Survived\n",
       "0            892         1\n",
       "1            893         0\n",
       "2            894         1\n",
       "3            895         1\n",
       "4            896         0\n",
       "..           ...       ...\n",
       "413         1305         1\n",
       "414         1306         1\n",
       "415         1307         0\n",
       "416         1308         1\n",
       "417         1309         1\n",
       "\n",
       "[418 rows x 2 columns]"
      ]
     },
     "execution_count": 140,
     "metadata": {},
     "output_type": "execute_result"
    }
   ],
   "source": [
    "predict_and_submit(model_GNB, 'model_GNB_submission.csv')"
   ]
  },
  {
   "cell_type": "markdown",
   "metadata": {
    "id": "Olf9tPsRAlqk"
   },
   "source": [
    "![Screenshot_20221019_093949.png](data:image/png;base64,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)"
   ]
  },
  {
   "cell_type": "code",
   "execution_count": 141,
   "metadata": {
    "colab": {
     "base_uri": "https://localhost:8080/",
     "height": 0
    },
    "executionInfo": {
     "elapsed": 2339,
     "status": "ok",
     "timestamp": 1666237657078,
     "user": {
      "displayName": "Mohit Kumar",
      "userId": "03888987891614882912"
     },
     "user_tz": -330
    },
    "id": "Cwa87Y8k-3N6",
    "outputId": "d040173c-0dcf-4b5e-f722-f3f6f4a4ab3d"
   },
   "outputs": [
    {
     "name": "stdout",
     "output_type": "stream",
     "text": [
      "[jovian] Detected Colab notebook...\u001b[0m\n",
      "[jovian] Uploading colab notebook to Jovian...\u001b[0m\n",
      "Committed successfully! https://jovian.ai/mohitcnf95/titanic-machine-learning-from-disaster\n"
     ]
    },
    {
     "data": {
      "application/vnd.google.colaboratory.intrinsic+json": {
       "type": "string"
      },
      "text/plain": [
       "'https://jovian.ai/mohitcnf95/titanic-machine-learning-from-disaster'"
      ]
     },
     "execution_count": 141,
     "metadata": {},
     "output_type": "execute_result"
    }
   ],
   "source": [
    "jovian.commit()"
   ]
  },
  {
   "cell_type": "markdown",
   "metadata": {
    "id": "_-kejBs4Aq3m"
   },
   "source": [
    "### Perceptron"
   ]
  },
  {
   "cell_type": "code",
   "execution_count": 142,
   "metadata": {
    "executionInfo": {
     "elapsed": 43,
     "status": "ok",
     "timestamp": 1666237657082,
     "user": {
      "displayName": "Mohit Kumar",
      "userId": "03888987891614882912"
     },
     "user_tz": -330
    },
    "id": "bGeYa3xM-3LX"
   },
   "outputs": [],
   "source": [
    "from sklearn.linear_model import Perceptron"
   ]
  },
  {
   "cell_type": "code",
   "execution_count": 143,
   "metadata": {
    "executionInfo": {
     "elapsed": 44,
     "status": "ok",
     "timestamp": 1666237657085,
     "user": {
      "displayName": "Mohit Kumar",
      "userId": "03888987891614882912"
     },
     "user_tz": -330
    },
    "id": "vPvjvQS1-2aT"
   },
   "outputs": [],
   "source": [
    "model_Perceptron = Perceptron()"
   ]
  },
  {
   "cell_type": "code",
   "execution_count": 144,
   "metadata": {
    "colab": {
     "base_uri": "https://localhost:8080/"
    },
    "executionInfo": {
     "elapsed": 44,
     "status": "ok",
     "timestamp": 1666237657087,
     "user": {
      "displayName": "Mohit Kumar",
      "userId": "03888987891614882912"
     },
     "user_tz": -330
    },
    "id": "LvOVCYjB-2Xt",
    "outputId": "e7b8b227-3839-4bf7-9900-cae7c524e77c"
   },
   "outputs": [
    {
     "name": "stderr",
     "output_type": "stream",
     "text": [
      "/usr/local/lib/python3.7/dist-packages/sklearn/utils/validation.py:993: DataConversionWarning: A column-vector y was passed when a 1d array was expected. Please change the shape of y to (n_samples, ), for example using ravel().\n",
      "  y = column_or_1d(y, warn=True)\n"
     ]
    },
    {
     "data": {
      "text/plain": [
       "Perceptron()"
      ]
     },
     "execution_count": 144,
     "metadata": {},
     "output_type": "execute_result"
    }
   ],
   "source": [
    "model_Perceptron.fit(train_inputs, train_targets)"
   ]
  },
  {
   "cell_type": "code",
   "execution_count": 145,
   "metadata": {
    "colab": {
     "base_uri": "https://localhost:8080/"
    },
    "executionInfo": {
     "elapsed": 37,
     "status": "ok",
     "timestamp": 1666237657089,
     "user": {
      "displayName": "Mohit Kumar",
      "userId": "03888987891614882912"
     },
     "user_tz": -330
    },
    "id": "4kmxZRnR-2VQ",
    "outputId": "63aaa37c-9400-4418-c2e4-0e1ef7283e20"
   },
   "outputs": [
    {
     "data": {
      "text/plain": [
       "(0.7842444017689564,\n",
       " array([0, 1, 0, 1, 0, 0, 1, 1, 0, 1, 1, 0, 0, 1, 1, 0, 1, 0, 1, 0, 1, 0,\n",
       "        1, 1, 1, 1, 0, 1, 0, 0, 1, 1, 0, 0, 1, 1, 0, 1, 1, 1, 0, 1, 0, 1,\n",
       "        1, 0, 1, 0, 1, 1, 1, 1, 1, 1, 1, 1, 1, 1, 1, 1, 1, 1, 1, 1, 1, 1,\n",
       "        1, 1, 1, 1, 1, 1, 1, 1, 1, 1, 1, 1, 1, 1, 1, 1, 1, 1, 1, 1, 1, 1,\n",
       "        1, 1, 1, 1, 1, 1, 0, 1, 1, 1, 1, 1, 1, 1, 1, 1, 1, 1, 1, 1, 1, 1,\n",
       "        1, 1, 1, 1, 1, 1, 0, 1, 1, 1, 1, 1, 1, 1, 1, 1, 1, 1, 1, 1, 1, 1,\n",
       "        1, 1, 1, 1, 1, 1, 1, 1, 1, 1, 1, 1, 1, 1, 1, 1, 1, 1, 1, 1, 1, 1,\n",
       "        1, 1, 1, 1, 1, 1, 1, 1, 1, 1, 1, 1, 1, 1, 1, 1, 1, 1, 1, 1, 1, 1,\n",
       "        1, 1, 1, 1, 1, 1, 1, 1, 1, 1, 1, 1, 1, 1, 1, 1, 1, 1, 1, 1, 1, 1,\n",
       "        1, 1, 1, 1, 1, 1, 1, 1, 1, 1, 1, 1, 1, 1, 1, 1, 1, 1, 1, 1, 1, 1,\n",
       "        1, 1, 1, 1, 1, 1, 1, 1, 1, 1, 1, 1, 1, 1, 1, 1, 1, 1, 1, 1, 1, 1,\n",
       "        1, 1, 1, 1, 1, 1, 1, 1, 1, 1, 1, 1, 1, 1, 1, 1, 1, 1, 1, 1, 1, 1,\n",
       "        1, 1, 1, 1, 1, 1, 1, 1, 1, 1, 1, 1, 1, 1, 1, 1, 1, 1, 1, 1, 1, 1,\n",
       "        1, 1, 1, 1, 1, 1, 1, 1, 1, 1, 1, 1, 1, 1, 1, 1, 1, 1, 1, 1, 1, 1,\n",
       "        1, 1, 1, 1, 1, 1, 1, 1, 1, 1, 1, 1, 1, 1, 1, 1, 1, 1, 1, 1, 1, 1,\n",
       "        1, 1, 1, 1, 1, 1, 1, 1, 1, 1, 1, 1, 1, 1, 1, 1, 1, 1, 1, 1, 1, 1,\n",
       "        1, 1, 1, 1, 1, 1, 1, 1, 1, 1, 1, 1, 1, 1, 1, 1, 1, 1, 1, 1, 1, 1,\n",
       "        1, 1, 1, 1, 1, 1, 1, 1, 1, 1, 1, 1, 1, 1, 1, 1, 1, 1, 1, 1, 1, 1,\n",
       "        1, 1, 1, 1, 1, 1, 1, 1, 1, 1, 1, 1, 1, 1, 1, 1, 1, 1, 1, 1, 1, 1,\n",
       "        1, 1, 1, 1, 1, 1, 1, 1, 1, 1, 1, 1, 1, 1, 1, 1, 1, 1, 1, 1, 1, 1,\n",
       "        1, 1, 1, 1, 1, 1, 1, 1, 1, 1, 1, 1, 1, 1, 1, 1, 1, 1, 1, 1, 1, 1,\n",
       "        1, 1, 1, 1, 1, 1, 1, 1, 1, 1, 1, 1, 1, 1, 1, 1, 1, 1, 1, 1, 1, 1,\n",
       "        1, 1, 1, 1, 1, 1, 1, 1, 1, 1, 1, 1, 1, 1, 1, 1, 1, 1, 1, 1, 1, 1,\n",
       "        1, 1, 1, 1, 1, 1, 1, 1, 1, 1, 1, 1, 1, 1, 1, 1, 1, 1, 1, 1, 1, 1,\n",
       "        1, 1, 1, 1, 1, 1, 1, 1, 1, 1, 1, 1, 1, 1, 1, 1, 1, 1, 1, 1, 1, 1,\n",
       "        1, 1, 1, 1, 1, 1, 1, 1, 1, 1, 1, 1, 1, 1, 1, 1, 1, 1, 1, 1, 1, 1,\n",
       "        1, 1, 1, 1, 1, 1, 1, 1, 1, 1, 1, 1, 1, 1, 1, 1, 1, 1, 1, 1, 1, 1,\n",
       "        1, 1, 1, 1, 1, 1, 1, 1, 1, 1, 1, 1, 1, 1, 1, 1, 1, 1, 1, 1, 1, 1,\n",
       "        1, 1, 1, 1, 1, 1, 1, 1, 1, 1, 1, 1, 1, 1, 1, 1, 1, 1, 1, 1, 1, 1,\n",
       "        1, 1, 1, 1, 1, 1, 1, 1, 1, 1, 1, 1, 1, 1, 1, 1, 1, 1, 1, 1, 1, 1,\n",
       "        1, 1, 1, 1, 1, 1, 1, 1, 1, 1, 1, 1, 1, 1, 1, 1, 1, 1, 1, 1, 1, 1,\n",
       "        1, 1, 1, 1, 1, 1, 1, 1, 1, 1, 1, 1, 1, 1, 1, 1, 1, 1, 1, 1, 1, 1,\n",
       "        1, 1, 1, 1, 1, 1, 1, 1, 1, 1, 1, 1, 1, 1, 1, 1, 1, 1, 1, 1, 1, 1,\n",
       "        1, 1, 1, 1, 1, 1, 1, 1, 1, 1, 1, 1, 1, 1, 1, 1, 1, 1, 1, 1, 1, 1,\n",
       "        1, 1, 1, 1, 1, 1, 1, 1, 1, 1, 1, 1, 1, 1, 1, 1, 1, 1, 1, 1, 1, 1,\n",
       "        1, 1, 1, 1, 1, 1, 1, 1, 1, 1, 1, 1, 1, 1, 1, 1, 1, 1, 1, 1, 1, 1,\n",
       "        1, 1, 1, 1, 1, 1, 1, 1, 1, 1, 1, 1, 1, 1, 1, 1, 1, 1, 1, 1, 1, 1,\n",
       "        1, 1, 1, 1, 1, 1, 1, 1, 1, 1, 1, 1, 1, 1, 1, 1, 1, 1, 1, 1, 1, 1,\n",
       "        1, 1, 1, 1, 1, 1, 1, 1, 1, 1, 1, 1, 1, 1, 1, 1, 1, 1, 1, 1, 1, 1,\n",
       "        1, 1, 1, 1, 1, 1, 1, 1, 1, 1, 1, 1, 1, 1, 1, 1, 1, 1, 1, 1, 1, 1,\n",
       "        1, 1, 1, 1, 1, 1, 1, 1, 1, 1, 1]))"
      ]
     },
     "execution_count": 145,
     "metadata": {},
     "output_type": "execute_result"
    }
   ],
   "source": [
    "evaluate(model_Perceptron)"
   ]
  },
  {
   "cell_type": "code",
   "execution_count": 146,
   "metadata": {
    "colab": {
     "base_uri": "https://localhost:8080/",
     "height": 0
    },
    "executionInfo": {
     "elapsed": 35,
     "status": "ok",
     "timestamp": 1666237657090,
     "user": {
      "displayName": "Mohit Kumar",
      "userId": "03888987891614882912"
     },
     "user_tz": -330
    },
    "id": "Sx97Y6oPA-Am",
    "outputId": "b1840e79-5223-477c-a718-410e88561941"
   },
   "outputs": [
    {
     "data": {
      "text/html": [
       "\n",
       "  <div id=\"df-a8eb868e-48cf-42f3-82f1-34047a2c22e2\">\n",
       "    <div class=\"colab-df-container\">\n",
       "      <div>\n",
       "<style scoped>\n",
       "    .dataframe tbody tr th:only-of-type {\n",
       "        vertical-align: middle;\n",
       "    }\n",
       "\n",
       "    .dataframe tbody tr th {\n",
       "        vertical-align: top;\n",
       "    }\n",
       "\n",
       "    .dataframe thead th {\n",
       "        text-align: right;\n",
       "    }\n",
       "</style>\n",
       "<table border=\"1\" class=\"dataframe\">\n",
       "  <thead>\n",
       "    <tr style=\"text-align: right;\">\n",
       "      <th></th>\n",
       "      <th>PassengerId</th>\n",
       "      <th>Survived</th>\n",
       "    </tr>\n",
       "  </thead>\n",
       "  <tbody>\n",
       "    <tr>\n",
       "      <th>0</th>\n",
       "      <td>892</td>\n",
       "      <td>1</td>\n",
       "    </tr>\n",
       "    <tr>\n",
       "      <th>1</th>\n",
       "      <td>893</td>\n",
       "      <td>1</td>\n",
       "    </tr>\n",
       "    <tr>\n",
       "      <th>2</th>\n",
       "      <td>894</td>\n",
       "      <td>1</td>\n",
       "    </tr>\n",
       "    <tr>\n",
       "      <th>3</th>\n",
       "      <td>895</td>\n",
       "      <td>1</td>\n",
       "    </tr>\n",
       "    <tr>\n",
       "      <th>4</th>\n",
       "      <td>896</td>\n",
       "      <td>1</td>\n",
       "    </tr>\n",
       "    <tr>\n",
       "      <th>...</th>\n",
       "      <td>...</td>\n",
       "      <td>...</td>\n",
       "    </tr>\n",
       "    <tr>\n",
       "      <th>413</th>\n",
       "      <td>1305</td>\n",
       "      <td>1</td>\n",
       "    </tr>\n",
       "    <tr>\n",
       "      <th>414</th>\n",
       "      <td>1306</td>\n",
       "      <td>1</td>\n",
       "    </tr>\n",
       "    <tr>\n",
       "      <th>415</th>\n",
       "      <td>1307</td>\n",
       "      <td>1</td>\n",
       "    </tr>\n",
       "    <tr>\n",
       "      <th>416</th>\n",
       "      <td>1308</td>\n",
       "      <td>1</td>\n",
       "    </tr>\n",
       "    <tr>\n",
       "      <th>417</th>\n",
       "      <td>1309</td>\n",
       "      <td>1</td>\n",
       "    </tr>\n",
       "  </tbody>\n",
       "</table>\n",
       "<p>418 rows × 2 columns</p>\n",
       "</div>\n",
       "      <button class=\"colab-df-convert\" onclick=\"convertToInteractive('df-a8eb868e-48cf-42f3-82f1-34047a2c22e2')\"\n",
       "              title=\"Convert this dataframe to an interactive table.\"\n",
       "              style=\"display:none;\">\n",
       "        \n",
       "  <svg xmlns=\"http://www.w3.org/2000/svg\" height=\"24px\"viewBox=\"0 0 24 24\"\n",
       "       width=\"24px\">\n",
       "    <path d=\"M0 0h24v24H0V0z\" fill=\"none\"/>\n",
       "    <path d=\"M18.56 5.44l.94 2.06.94-2.06 2.06-.94-2.06-.94-.94-2.06-.94 2.06-2.06.94zm-11 1L8.5 8.5l.94-2.06 2.06-.94-2.06-.94L8.5 2.5l-.94 2.06-2.06.94zm10 10l.94 2.06.94-2.06 2.06-.94-2.06-.94-.94-2.06-.94 2.06-2.06.94z\"/><path d=\"M17.41 7.96l-1.37-1.37c-.4-.4-.92-.59-1.43-.59-.52 0-1.04.2-1.43.59L10.3 9.45l-7.72 7.72c-.78.78-.78 2.05 0 2.83L4 21.41c.39.39.9.59 1.41.59.51 0 1.02-.2 1.41-.59l7.78-7.78 2.81-2.81c.8-.78.8-2.07 0-2.86zM5.41 20L4 18.59l7.72-7.72 1.47 1.35L5.41 20z\"/>\n",
       "  </svg>\n",
       "      </button>\n",
       "      \n",
       "  <style>\n",
       "    .colab-df-container {\n",
       "      display:flex;\n",
       "      flex-wrap:wrap;\n",
       "      gap: 12px;\n",
       "    }\n",
       "\n",
       "    .colab-df-convert {\n",
       "      background-color: #E8F0FE;\n",
       "      border: none;\n",
       "      border-radius: 50%;\n",
       "      cursor: pointer;\n",
       "      display: none;\n",
       "      fill: #1967D2;\n",
       "      height: 32px;\n",
       "      padding: 0 0 0 0;\n",
       "      width: 32px;\n",
       "    }\n",
       "\n",
       "    .colab-df-convert:hover {\n",
       "      background-color: #E2EBFA;\n",
       "      box-shadow: 0px 1px 2px rgba(60, 64, 67, 0.3), 0px 1px 3px 1px rgba(60, 64, 67, 0.15);\n",
       "      fill: #174EA6;\n",
       "    }\n",
       "\n",
       "    [theme=dark] .colab-df-convert {\n",
       "      background-color: #3B4455;\n",
       "      fill: #D2E3FC;\n",
       "    }\n",
       "\n",
       "    [theme=dark] .colab-df-convert:hover {\n",
       "      background-color: #434B5C;\n",
       "      box-shadow: 0px 1px 3px 1px rgba(0, 0, 0, 0.15);\n",
       "      filter: drop-shadow(0px 1px 2px rgba(0, 0, 0, 0.3));\n",
       "      fill: #FFFFFF;\n",
       "    }\n",
       "  </style>\n",
       "\n",
       "      <script>\n",
       "        const buttonEl =\n",
       "          document.querySelector('#df-a8eb868e-48cf-42f3-82f1-34047a2c22e2 button.colab-df-convert');\n",
       "        buttonEl.style.display =\n",
       "          google.colab.kernel.accessAllowed ? 'block' : 'none';\n",
       "\n",
       "        async function convertToInteractive(key) {\n",
       "          const element = document.querySelector('#df-a8eb868e-48cf-42f3-82f1-34047a2c22e2');\n",
       "          const dataTable =\n",
       "            await google.colab.kernel.invokeFunction('convertToInteractive',\n",
       "                                                     [key], {});\n",
       "          if (!dataTable) return;\n",
       "\n",
       "          const docLinkHtml = 'Like what you see? Visit the ' +\n",
       "            '<a target=\"_blank\" href=https://colab.research.google.com/notebooks/data_table.ipynb>data table notebook</a>'\n",
       "            + ' to learn more about interactive tables.';\n",
       "          element.innerHTML = '';\n",
       "          dataTable['output_type'] = 'display_data';\n",
       "          await google.colab.output.renderOutput(dataTable, element);\n",
       "          const docLink = document.createElement('div');\n",
       "          docLink.innerHTML = docLinkHtml;\n",
       "          element.appendChild(docLink);\n",
       "        }\n",
       "      </script>\n",
       "    </div>\n",
       "  </div>\n",
       "  "
      ],
      "text/plain": [
       "     PassengerId  Survived\n",
       "0            892         1\n",
       "1            893         1\n",
       "2            894         1\n",
       "3            895         1\n",
       "4            896         1\n",
       "..           ...       ...\n",
       "413         1305         1\n",
       "414         1306         1\n",
       "415         1307         1\n",
       "416         1308         1\n",
       "417         1309         1\n",
       "\n",
       "[418 rows x 2 columns]"
      ]
     },
     "execution_count": 146,
     "metadata": {},
     "output_type": "execute_result"
    }
   ],
   "source": [
    "predict_and_submit(model_Perceptron, 'model_Perceptron_submission.csv')"
   ]
  },
  {
   "cell_type": "markdown",
   "metadata": {
    "id": "iN0d-5tbBZtf"
   },
   "source": [
    "![Screenshot_20221019_094320.png](data:image/png;base64,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)"
   ]
  },
  {
   "cell_type": "code",
   "execution_count": 147,
   "metadata": {
    "colab": {
     "base_uri": "https://localhost:8080/",
     "height": 0
    },
    "executionInfo": {
     "elapsed": 2306,
     "status": "ok",
     "timestamp": 1666237659364,
     "user": {
      "displayName": "Mohit Kumar",
      "userId": "03888987891614882912"
     },
     "user_tz": -330
    },
    "id": "lvDCJ5PMA9-v",
    "outputId": "3356d580-ef64-4d9f-be4e-0015d300504f"
   },
   "outputs": [
    {
     "name": "stdout",
     "output_type": "stream",
     "text": [
      "[jovian] Detected Colab notebook...\u001b[0m\n",
      "[jovian] Uploading colab notebook to Jovian...\u001b[0m\n",
      "Committed successfully! https://jovian.ai/mohitcnf95/titanic-machine-learning-from-disaster\n"
     ]
    },
    {
     "data": {
      "application/vnd.google.colaboratory.intrinsic+json": {
       "type": "string"
      },
      "text/plain": [
       "'https://jovian.ai/mohitcnf95/titanic-machine-learning-from-disaster'"
      ]
     },
     "execution_count": 147,
     "metadata": {},
     "output_type": "execute_result"
    }
   ],
   "source": [
    "jovian.commit()"
   ]
  },
  {
   "cell_type": "markdown",
   "metadata": {
    "id": "f6i7GaT1HiKK"
   },
   "source": [
    "### XGBClassifier"
   ]
  },
  {
   "cell_type": "code",
   "execution_count": 148,
   "metadata": {
    "executionInfo": {
     "elapsed": 23,
     "status": "ok",
     "timestamp": 1666237659366,
     "user": {
      "displayName": "Mohit Kumar",
      "userId": "03888987891614882912"
     },
     "user_tz": -330
    },
    "id": "BGs6Tyx-A98_"
   },
   "outputs": [],
   "source": [
    "import xgboost as Xgb"
   ]
  },
  {
   "cell_type": "code",
   "execution_count": 149,
   "metadata": {
    "executionInfo": {
     "elapsed": 25,
     "status": "ok",
     "timestamp": 1666237659369,
     "user": {
      "displayName": "Mohit Kumar",
      "userId": "03888987891614882912"
     },
     "user_tz": -330
    },
    "id": "-RFxKBg0A94k"
   },
   "outputs": [],
   "source": [
    "model_XGB = Xgb.XGBClassifier()"
   ]
  },
  {
   "cell_type": "code",
   "execution_count": 150,
   "metadata": {
    "colab": {
     "base_uri": "https://localhost:8080/"
    },
    "executionInfo": {
     "elapsed": 527,
     "status": "ok",
     "timestamp": 1666237659872,
     "user": {
      "displayName": "Mohit Kumar",
      "userId": "03888987891614882912"
     },
     "user_tz": -330
    },
    "id": "BA1a-d19A90M",
    "outputId": "b90b3e5e-0acd-4c1f-fb57-dc6d42aace7d"
   },
   "outputs": [
    {
     "name": "stderr",
     "output_type": "stream",
     "text": [
      "/usr/local/lib/python3.7/dist-packages/sklearn/preprocessing/_label.py:98: DataConversionWarning: A column-vector y was passed when a 1d array was expected. Please change the shape of y to (n_samples, ), for example using ravel().\n",
      "  y = column_or_1d(y, warn=True)\n",
      "/usr/local/lib/python3.7/dist-packages/sklearn/preprocessing/_label.py:133: DataConversionWarning: A column-vector y was passed when a 1d array was expected. Please change the shape of y to (n_samples, ), for example using ravel().\n",
      "  y = column_or_1d(y, warn=True)\n"
     ]
    },
    {
     "data": {
      "text/plain": [
       "XGBClassifier()"
      ]
     },
     "execution_count": 150,
     "metadata": {},
     "output_type": "execute_result"
    }
   ],
   "source": [
    "model_XGB.fit(train_inputs, train_targets)"
   ]
  },
  {
   "cell_type": "code",
   "execution_count": 151,
   "metadata": {
    "colab": {
     "base_uri": "https://localhost:8080/"
    },
    "executionInfo": {
     "elapsed": 29,
     "status": "ok",
     "timestamp": 1666237659873,
     "user": {
      "displayName": "Mohit Kumar",
      "userId": "03888987891614882912"
     },
     "user_tz": -330
    },
    "id": "LDBtl1jrA9xd",
    "outputId": "29e14258-76c1-4360-d21d-72e9bfa50b3f"
   },
   "outputs": [
    {
     "data": {
      "text/plain": [
       "(0.3481553119113957,\n",
       " array([0, 1, 1, 1, 0, 0, 0, 0, 1, 1, 1, 1, 0, 0, 1, 1, 0, 0, 1, 1, 0, 0,\n",
       "        1, 0, 0, 0, 0, 0, 1, 0, 0, 1, 1, 0, 0, 0, 0, 0, 0, 1, 0, 1, 0, 1,\n",
       "        1, 0, 0, 1, 0, 0, 0, 0, 1, 1, 0, 0, 1, 0, 1, 0, 0, 1, 0, 0, 0, 0,\n",
       "        1, 0, 1, 0, 0, 0, 0, 0, 0, 0, 0, 0, 1, 1, 0, 0, 1, 0, 1, 1, 0, 0,\n",
       "        1, 0, 0, 0, 0, 0, 0, 0, 0, 0, 1, 0, 1, 0, 0, 0, 0, 0, 1, 0, 0, 1,\n",
       "        0, 1, 0, 0, 1, 0, 0, 0, 0, 0, 0, 0, 0, 1, 0, 1, 0, 0, 1, 0, 0, 0,\n",
       "        0, 1, 0, 0, 1, 0, 0, 0, 1, 1, 1, 0, 0, 0, 0, 0, 0, 0, 0, 1, 0, 0,\n",
       "        0, 0, 1, 0, 0, 0, 0, 1, 0, 0, 0, 1, 1, 0, 0, 0, 0, 0, 1, 0, 0, 0,\n",
       "        0, 1, 0, 0, 0, 0, 0, 1, 1, 0, 1, 0, 0, 0, 1, 0, 1, 1, 1, 1, 0, 0,\n",
       "        1, 1, 0, 0, 0, 0, 0, 1, 0, 0, 1, 0, 0, 1, 0, 0, 0, 1, 1, 0, 1, 0,\n",
       "        0, 0, 0, 0, 0, 0, 0, 0, 0, 0, 1, 0, 0, 0, 0, 1, 0, 1, 0, 0, 1, 1,\n",
       "        0, 0, 0, 0, 1, 1, 1, 0, 0, 0, 0, 0, 0, 1, 1, 1, 1, 1, 0, 0, 0, 0,\n",
       "        1, 0, 0, 0, 1, 1, 0, 0, 1, 0, 1, 1, 0, 0, 0, 1, 0, 0, 0, 0, 0, 0,\n",
       "        0, 0, 0, 1, 1, 1, 0, 1, 0, 0, 0, 1, 0, 1, 1, 0, 0, 1, 0, 1, 1, 1,\n",
       "        0, 1, 1, 1, 1, 0, 0, 1, 1, 0, 1, 1, 0, 0, 1, 1, 0, 1, 0, 1, 1, 1,\n",
       "        1, 0, 0, 0, 1, 0, 0, 1, 0, 0, 1, 1, 0, 0, 0, 1, 1, 1, 1, 0, 0, 0,\n",
       "        0, 0, 0, 0, 1, 1, 1, 1, 0, 0, 0, 0, 0, 0, 1, 1, 1, 1, 1, 0, 0, 0,\n",
       "        0, 1, 1, 0, 0, 0, 1, 1, 0, 1, 0, 0, 0, 1, 0, 1, 1, 0, 0, 1, 1, 0,\n",
       "        1, 0, 0, 1, 0, 0, 0, 0, 0, 0, 0, 1, 0, 0, 0, 0, 1, 0, 0, 0, 1, 1,\n",
       "        0, 0, 0, 0, 0, 0, 0, 0, 1, 1, 0, 0, 0, 0, 1, 0, 0, 1, 0, 1, 0, 0,\n",
       "        1, 0, 0, 1, 0, 1, 1, 1, 1, 0, 0, 0, 0, 1, 0, 0, 0, 1, 1, 0, 0, 0,\n",
       "        0, 0, 0, 0, 0, 0, 0, 1, 0, 0, 1, 1, 0, 0, 0, 0, 0, 1, 0, 0, 0, 0,\n",
       "        1, 0, 1, 0, 0, 1, 0, 0, 0, 0, 0, 0, 1, 0, 1, 0, 0, 1, 1, 0, 1, 1,\n",
       "        1, 0, 0, 0, 0, 0, 1, 1, 0, 0, 1, 0, 1, 0, 1, 0, 0, 1, 0, 0, 1, 0,\n",
       "        0, 0, 1, 0, 0, 1, 0, 1, 0, 1, 0, 1, 1, 0, 0, 0, 0, 0, 1, 0, 0, 1,\n",
       "        1, 0, 0, 0, 0, 0, 1, 0, 1, 1, 0, 0, 0, 0, 0, 0, 0, 0, 0, 0, 0, 1,\n",
       "        1, 1, 0, 0, 1, 1, 0, 0, 1, 1, 0, 0, 0, 1, 0, 1, 0, 0, 0, 1, 0, 1,\n",
       "        0, 0, 1, 0, 0, 1, 1, 0, 0, 0, 1, 0, 0, 1, 1, 1, 0, 0, 1, 0, 0, 1,\n",
       "        0, 0, 1, 0, 0, 1, 0, 0, 0, 0, 0, 1, 0, 0, 0, 0, 1, 0, 0, 1, 0, 0,\n",
       "        0, 0, 0, 1, 0, 0, 1, 1, 0, 0, 0, 0, 0, 1, 0, 1, 0, 0, 0, 1, 0, 0,\n",
       "        1, 0, 0, 0, 0, 0, 0, 0, 0, 1, 1, 0, 0, 0, 0, 0, 0, 0, 0, 1, 1, 1,\n",
       "        0, 0, 0, 0, 0, 0, 0, 1, 1, 1, 0, 0, 0, 0, 0, 1, 1, 0, 1, 1, 0, 0,\n",
       "        0, 0, 1, 1, 1, 0, 1, 1, 0, 0, 0, 0, 1, 1, 0, 0, 1, 0, 0, 0, 1, 0,\n",
       "        1, 1, 0, 0, 1, 1, 0, 0, 0, 0, 0, 1, 0, 0, 0, 1, 1, 0, 0, 0, 0, 1,\n",
       "        1, 0, 1, 1, 0, 0, 1, 1, 0, 0, 0, 1, 0, 0, 0, 1, 0, 1, 0, 0, 0, 0,\n",
       "        0, 0, 1, 0, 1, 0, 0, 1, 0, 1, 1, 1, 0, 0, 0, 0, 0, 0, 1, 0, 0, 0,\n",
       "        0, 0, 0, 0, 1, 0, 0, 0, 0, 1, 1, 1, 0, 0, 0, 0, 0, 1, 0, 0, 0, 0,\n",
       "        0, 0, 0, 0, 0, 0, 1, 0, 0, 0, 0, 0, 0, 1, 0, 1, 0, 1, 0, 0, 0, 1,\n",
       "        0, 0, 0, 1, 0, 0, 1, 0, 0, 0, 0, 0, 0, 1, 0, 0, 0, 1, 1, 0, 1, 0,\n",
       "        1, 0, 0, 0, 1, 0, 0, 1, 1, 0, 0, 1, 0, 1, 0, 0, 1, 1, 0, 0, 0, 1,\n",
       "        1, 0, 0, 0, 0, 0, 0, 1, 0, 1, 0]))"
      ]
     },
     "execution_count": 151,
     "metadata": {},
     "output_type": "execute_result"
    }
   ],
   "source": [
    "evaluate(model_XGB)"
   ]
  },
  {
   "cell_type": "code",
   "execution_count": 152,
   "metadata": {
    "colab": {
     "base_uri": "https://localhost:8080/",
     "height": 0
    },
    "executionInfo": {
     "elapsed": 24,
     "status": "ok",
     "timestamp": 1666237659875,
     "user": {
      "displayName": "Mohit Kumar",
      "userId": "03888987891614882912"
     },
     "user_tz": -330
    },
    "id": "V2MB5HxcA9uo",
    "outputId": "f09ac3bc-d8e0-4646-9675-d9307af1f039"
   },
   "outputs": [
    {
     "data": {
      "text/html": [
       "\n",
       "  <div id=\"df-55043f00-aa13-42ff-87b4-50154ad2460c\">\n",
       "    <div class=\"colab-df-container\">\n",
       "      <div>\n",
       "<style scoped>\n",
       "    .dataframe tbody tr th:only-of-type {\n",
       "        vertical-align: middle;\n",
       "    }\n",
       "\n",
       "    .dataframe tbody tr th {\n",
       "        vertical-align: top;\n",
       "    }\n",
       "\n",
       "    .dataframe thead th {\n",
       "        text-align: right;\n",
       "    }\n",
       "</style>\n",
       "<table border=\"1\" class=\"dataframe\">\n",
       "  <thead>\n",
       "    <tr style=\"text-align: right;\">\n",
       "      <th></th>\n",
       "      <th>PassengerId</th>\n",
       "      <th>Survived</th>\n",
       "    </tr>\n",
       "  </thead>\n",
       "  <tbody>\n",
       "    <tr>\n",
       "      <th>0</th>\n",
       "      <td>892</td>\n",
       "      <td>0</td>\n",
       "    </tr>\n",
       "    <tr>\n",
       "      <th>1</th>\n",
       "      <td>893</td>\n",
       "      <td>0</td>\n",
       "    </tr>\n",
       "    <tr>\n",
       "      <th>2</th>\n",
       "      <td>894</td>\n",
       "      <td>1</td>\n",
       "    </tr>\n",
       "    <tr>\n",
       "      <th>3</th>\n",
       "      <td>895</td>\n",
       "      <td>0</td>\n",
       "    </tr>\n",
       "    <tr>\n",
       "      <th>4</th>\n",
       "      <td>896</td>\n",
       "      <td>0</td>\n",
       "    </tr>\n",
       "    <tr>\n",
       "      <th>...</th>\n",
       "      <td>...</td>\n",
       "      <td>...</td>\n",
       "    </tr>\n",
       "    <tr>\n",
       "      <th>413</th>\n",
       "      <td>1305</td>\n",
       "      <td>0</td>\n",
       "    </tr>\n",
       "    <tr>\n",
       "      <th>414</th>\n",
       "      <td>1306</td>\n",
       "      <td>1</td>\n",
       "    </tr>\n",
       "    <tr>\n",
       "      <th>415</th>\n",
       "      <td>1307</td>\n",
       "      <td>0</td>\n",
       "    </tr>\n",
       "    <tr>\n",
       "      <th>416</th>\n",
       "      <td>1308</td>\n",
       "      <td>0</td>\n",
       "    </tr>\n",
       "    <tr>\n",
       "      <th>417</th>\n",
       "      <td>1309</td>\n",
       "      <td>1</td>\n",
       "    </tr>\n",
       "  </tbody>\n",
       "</table>\n",
       "<p>418 rows × 2 columns</p>\n",
       "</div>\n",
       "      <button class=\"colab-df-convert\" onclick=\"convertToInteractive('df-55043f00-aa13-42ff-87b4-50154ad2460c')\"\n",
       "              title=\"Convert this dataframe to an interactive table.\"\n",
       "              style=\"display:none;\">\n",
       "        \n",
       "  <svg xmlns=\"http://www.w3.org/2000/svg\" height=\"24px\"viewBox=\"0 0 24 24\"\n",
       "       width=\"24px\">\n",
       "    <path d=\"M0 0h24v24H0V0z\" fill=\"none\"/>\n",
       "    <path d=\"M18.56 5.44l.94 2.06.94-2.06 2.06-.94-2.06-.94-.94-2.06-.94 2.06-2.06.94zm-11 1L8.5 8.5l.94-2.06 2.06-.94-2.06-.94L8.5 2.5l-.94 2.06-2.06.94zm10 10l.94 2.06.94-2.06 2.06-.94-2.06-.94-.94-2.06-.94 2.06-2.06.94z\"/><path d=\"M17.41 7.96l-1.37-1.37c-.4-.4-.92-.59-1.43-.59-.52 0-1.04.2-1.43.59L10.3 9.45l-7.72 7.72c-.78.78-.78 2.05 0 2.83L4 21.41c.39.39.9.59 1.41.59.51 0 1.02-.2 1.41-.59l7.78-7.78 2.81-2.81c.8-.78.8-2.07 0-2.86zM5.41 20L4 18.59l7.72-7.72 1.47 1.35L5.41 20z\"/>\n",
       "  </svg>\n",
       "      </button>\n",
       "      \n",
       "  <style>\n",
       "    .colab-df-container {\n",
       "      display:flex;\n",
       "      flex-wrap:wrap;\n",
       "      gap: 12px;\n",
       "    }\n",
       "\n",
       "    .colab-df-convert {\n",
       "      background-color: #E8F0FE;\n",
       "      border: none;\n",
       "      border-radius: 50%;\n",
       "      cursor: pointer;\n",
       "      display: none;\n",
       "      fill: #1967D2;\n",
       "      height: 32px;\n",
       "      padding: 0 0 0 0;\n",
       "      width: 32px;\n",
       "    }\n",
       "\n",
       "    .colab-df-convert:hover {\n",
       "      background-color: #E2EBFA;\n",
       "      box-shadow: 0px 1px 2px rgba(60, 64, 67, 0.3), 0px 1px 3px 1px rgba(60, 64, 67, 0.15);\n",
       "      fill: #174EA6;\n",
       "    }\n",
       "\n",
       "    [theme=dark] .colab-df-convert {\n",
       "      background-color: #3B4455;\n",
       "      fill: #D2E3FC;\n",
       "    }\n",
       "\n",
       "    [theme=dark] .colab-df-convert:hover {\n",
       "      background-color: #434B5C;\n",
       "      box-shadow: 0px 1px 3px 1px rgba(0, 0, 0, 0.15);\n",
       "      filter: drop-shadow(0px 1px 2px rgba(0, 0, 0, 0.3));\n",
       "      fill: #FFFFFF;\n",
       "    }\n",
       "  </style>\n",
       "\n",
       "      <script>\n",
       "        const buttonEl =\n",
       "          document.querySelector('#df-55043f00-aa13-42ff-87b4-50154ad2460c button.colab-df-convert');\n",
       "        buttonEl.style.display =\n",
       "          google.colab.kernel.accessAllowed ? 'block' : 'none';\n",
       "\n",
       "        async function convertToInteractive(key) {\n",
       "          const element = document.querySelector('#df-55043f00-aa13-42ff-87b4-50154ad2460c');\n",
       "          const dataTable =\n",
       "            await google.colab.kernel.invokeFunction('convertToInteractive',\n",
       "                                                     [key], {});\n",
       "          if (!dataTable) return;\n",
       "\n",
       "          const docLinkHtml = 'Like what you see? Visit the ' +\n",
       "            '<a target=\"_blank\" href=https://colab.research.google.com/notebooks/data_table.ipynb>data table notebook</a>'\n",
       "            + ' to learn more about interactive tables.';\n",
       "          element.innerHTML = '';\n",
       "          dataTable['output_type'] = 'display_data';\n",
       "          await google.colab.output.renderOutput(dataTable, element);\n",
       "          const docLink = document.createElement('div');\n",
       "          docLink.innerHTML = docLinkHtml;\n",
       "          element.appendChild(docLink);\n",
       "        }\n",
       "      </script>\n",
       "    </div>\n",
       "  </div>\n",
       "  "
      ],
      "text/plain": [
       "     PassengerId  Survived\n",
       "0            892         0\n",
       "1            893         0\n",
       "2            894         1\n",
       "3            895         0\n",
       "4            896         0\n",
       "..           ...       ...\n",
       "413         1305         0\n",
       "414         1306         1\n",
       "415         1307         0\n",
       "416         1308         0\n",
       "417         1309         1\n",
       "\n",
       "[418 rows x 2 columns]"
      ]
     },
     "execution_count": 152,
     "metadata": {},
     "output_type": "execute_result"
    }
   ],
   "source": [
    "predict_and_submit(model_XGB, 'model_XGB_submission.csv')"
   ]
  },
  {
   "cell_type": "markdown",
   "metadata": {
    "id": "BAhGSSPTIPNP"
   },
   "source": [
    "![Screenshot_20221019_101417.png](data:image/png;base64,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)"
   ]
  },
  {
   "cell_type": "code",
   "execution_count": 153,
   "metadata": {
    "colab": {
     "base_uri": "https://localhost:8080/",
     "height": 0
    },
    "executionInfo": {
     "elapsed": 1803,
     "status": "ok",
     "timestamp": 1666237661658,
     "user": {
      "displayName": "Mohit Kumar",
      "userId": "03888987891614882912"
     },
     "user_tz": -330
    },
    "id": "UUMM5DDyA9pF",
    "outputId": "11fad214-bf45-496b-b45d-949959374b22"
   },
   "outputs": [
    {
     "name": "stdout",
     "output_type": "stream",
     "text": [
      "[jovian] Detected Colab notebook...\u001b[0m\n",
      "[jovian] Uploading colab notebook to Jovian...\u001b[0m\n",
      "Committed successfully! https://jovian.ai/mohitcnf95/titanic-machine-learning-from-disaster\n"
     ]
    },
    {
     "data": {
      "application/vnd.google.colaboratory.intrinsic+json": {
       "type": "string"
      },
      "text/plain": [
       "'https://jovian.ai/mohitcnf95/titanic-machine-learning-from-disaster'"
      ]
     },
     "execution_count": 153,
     "metadata": {},
     "output_type": "execute_result"
    }
   ],
   "source": [
    "jovian.commit()"
   ]
  },
  {
   "cell_type": "markdown",
   "metadata": {
    "id": "1fcWI_3CI3wV"
   },
   "source": [
    "### Linear SVC"
   ]
  },
  {
   "cell_type": "code",
   "execution_count": 154,
   "metadata": {
    "executionInfo": {
     "elapsed": 36,
     "status": "ok",
     "timestamp": 1666237661662,
     "user": {
      "displayName": "Mohit Kumar",
      "userId": "03888987891614882912"
     },
     "user_tz": -330
    },
    "id": "eXg6lGWZA9mn"
   },
   "outputs": [],
   "source": [
    "from sklearn.svm import LinearSVC"
   ]
  },
  {
   "cell_type": "code",
   "execution_count": 155,
   "metadata": {
    "executionInfo": {
     "elapsed": 35,
     "status": "ok",
     "timestamp": 1666237661665,
     "user": {
      "displayName": "Mohit Kumar",
      "userId": "03888987891614882912"
     },
     "user_tz": -330
    },
    "id": "Bf5F61nYA9jo"
   },
   "outputs": [],
   "source": [
    "model_LSVC = LinearSVC()"
   ]
  },
  {
   "cell_type": "code",
   "execution_count": 156,
   "metadata": {
    "colab": {
     "base_uri": "https://localhost:8080/"
    },
    "executionInfo": {
     "elapsed": 35,
     "status": "ok",
     "timestamp": 1666237661667,
     "user": {
      "displayName": "Mohit Kumar",
      "userId": "03888987891614882912"
     },
     "user_tz": -330
    },
    "id": "gc5AMSrTA9gp",
    "outputId": "8fc7e000-9c23-42b4-fe01-f6ba408e4bb7"
   },
   "outputs": [
    {
     "name": "stderr",
     "output_type": "stream",
     "text": [
      "/usr/local/lib/python3.7/dist-packages/sklearn/utils/validation.py:993: DataConversionWarning: A column-vector y was passed when a 1d array was expected. Please change the shape of y to (n_samples, ), for example using ravel().\n",
      "  y = column_or_1d(y, warn=True)\n",
      "/usr/local/lib/python3.7/dist-packages/sklearn/svm/_base.py:1208: ConvergenceWarning: Liblinear failed to converge, increase the number of iterations.\n",
      "  ConvergenceWarning,\n"
     ]
    },
    {
     "data": {
      "text/plain": [
       "LinearSVC()"
      ]
     },
     "execution_count": 156,
     "metadata": {},
     "output_type": "execute_result"
    }
   ],
   "source": [
    "model_LSVC.fit(train_inputs, train_targets)"
   ]
  },
  {
   "cell_type": "code",
   "execution_count": 157,
   "metadata": {
    "colab": {
     "base_uri": "https://localhost:8080/"
    },
    "executionInfo": {
     "elapsed": 655,
     "status": "ok",
     "timestamp": 1666237662292,
     "user": {
      "displayName": "Mohit Kumar",
      "userId": "03888987891614882912"
     },
     "user_tz": -330
    },
    "id": "EMz02sKVA9eK",
    "outputId": "7d1d83e1-fde4-4179-d8b9-3f48474eab20"
   },
   "outputs": [
    {
     "data": {
      "text/plain": [
       "(0.5243776708047438,\n",
       " array([0, 1, 1, 1, 0, 0, 0, 0, 1, 1, 1, 1, 0, 0, 1, 1, 0, 0, 1, 1, 0, 0,\n",
       "        1, 0, 0, 1, 0, 0, 1, 0, 0, 1, 1, 0, 0, 0, 0, 0, 0, 1, 0, 1, 0, 1,\n",
       "        1, 0, 0, 1, 0, 1, 0, 0, 1, 1, 0, 0, 1, 0, 1, 0, 0, 1, 0, 0, 1, 0,\n",
       "        1, 0, 0, 0, 0, 0, 0, 0, 0, 0, 0, 0, 1, 1, 0, 0, 1, 0, 1, 0, 0, 0,\n",
       "        1, 0, 0, 0, 0, 0, 0, 0, 0, 1, 1, 0, 1, 0, 1, 0, 0, 0, 1, 0, 0, 1,\n",
       "        0, 1, 0, 1, 1, 0, 0, 0, 1, 0, 0, 0, 0, 1, 0, 0, 0, 0, 1, 0, 0, 0,\n",
       "        0, 1, 0, 0, 1, 0, 0, 1, 1, 1, 1, 0, 0, 0, 0, 1, 0, 0, 0, 1, 0, 0,\n",
       "        0, 1, 1, 0, 0, 0, 0, 1, 0, 0, 0, 0, 1, 1, 0, 0, 0, 0, 1, 0, 0, 0,\n",
       "        0, 1, 0, 0, 0, 0, 0, 0, 1, 0, 1, 0, 0, 0, 1, 0, 1, 0, 1, 1, 0, 0,\n",
       "        1, 1, 0, 0, 0, 0, 0, 1, 0, 0, 1, 1, 0, 1, 0, 0, 0, 1, 1, 0, 1, 0,\n",
       "        0, 0, 0, 0, 0, 0, 0, 0, 0, 0, 1, 0, 0, 0, 0, 1, 0, 1, 0, 0, 1, 1,\n",
       "        0, 0, 0, 0, 1, 1, 0, 0, 0, 1, 0, 0, 1, 1, 1, 1, 1, 1, 0, 0, 0, 0,\n",
       "        1, 0, 0, 0, 1, 1, 1, 0, 1, 1, 1, 1, 1, 0, 0, 1, 0, 0, 0, 0, 1, 0,\n",
       "        0, 0, 0, 1, 1, 1, 0, 1, 0, 1, 0, 1, 1, 1, 1, 0, 0, 1, 0, 1, 1, 1,\n",
       "        0, 1, 1, 1, 1, 0, 0, 1, 1, 0, 1, 1, 0, 0, 1, 1, 0, 1, 0, 1, 1, 1,\n",
       "        1, 0, 1, 0, 1, 0, 0, 1, 0, 0, 0, 1, 0, 0, 0, 1, 1, 1, 0, 0, 0, 1,\n",
       "        0, 0, 0, 0, 1, 1, 1, 1, 0, 0, 1, 0, 0, 0, 1, 1, 1, 1, 1, 0, 0, 1,\n",
       "        1, 1, 1, 1, 0, 0, 1, 1, 0, 1, 0, 0, 0, 1, 0, 1, 1, 0, 0, 1, 1, 0,\n",
       "        1, 0, 0, 1, 0, 0, 1, 0, 1, 0, 0, 0, 0, 0, 0, 0, 1, 0, 0, 1, 1, 1,\n",
       "        0, 1, 0, 1, 0, 1, 0, 0, 1, 1, 0, 0, 1, 1, 1, 0, 0, 1, 1, 1, 1, 0,\n",
       "        1, 0, 0, 1, 0, 1, 1, 1, 1, 1, 0, 0, 1, 0, 0, 0, 0, 1, 1, 1, 1, 0,\n",
       "        1, 0, 0, 0, 0, 1, 1, 1, 0, 0, 1, 1, 1, 1, 0, 0, 0, 1, 0, 0, 0, 1,\n",
       "        1, 1, 1, 1, 0, 0, 0, 0, 1, 1, 0, 0, 1, 0, 1, 0, 0, 1, 1, 1, 1, 1,\n",
       "        1, 1, 0, 0, 1, 0, 1, 1, 0, 1, 1, 1, 1, 0, 1, 0, 0, 1, 0, 0, 1, 1,\n",
       "        0, 0, 1, 0, 0, 1, 1, 1, 1, 1, 0, 1, 1, 1, 1, 0, 0, 1, 1, 1, 0, 1,\n",
       "        1, 1, 1, 0, 1, 1, 1, 1, 1, 1, 1, 0, 1, 0, 1, 0, 0, 1, 0, 0, 0, 1,\n",
       "        1, 1, 0, 0, 1, 1, 1, 0, 1, 1, 0, 1, 0, 1, 0, 1, 0, 0, 0, 1, 0, 1,\n",
       "        0, 0, 1, 0, 0, 1, 1, 0, 1, 0, 1, 0, 0, 1, 1, 1, 1, 0, 1, 1, 0, 1,\n",
       "        0, 1, 1, 1, 0, 0, 0, 0, 0, 1, 1, 1, 0, 1, 1, 0, 1, 1, 1, 1, 0, 0,\n",
       "        1, 0, 0, 1, 1, 0, 1, 1, 0, 1, 0, 1, 0, 1, 0, 1, 1, 0, 0, 1, 1, 1,\n",
       "        0, 0, 1, 0, 0, 0, 1, 0, 0, 1, 1, 1, 0, 1, 1, 0, 0, 1, 1, 1, 1, 1,\n",
       "        0, 0, 0, 1, 0, 0, 0, 1, 1, 1, 0, 1, 1, 0, 0, 1, 1, 0, 1, 1, 1, 1,\n",
       "        0, 1, 1, 1, 1, 0, 1, 1, 1, 0, 0, 0, 1, 1, 1, 0, 1, 0, 1, 1, 1, 0,\n",
       "        1, 1, 0, 1, 1, 1, 1, 1, 1, 0, 1, 1, 0, 0, 1, 1, 1, 0, 0, 1, 0, 1,\n",
       "        1, 1, 1, 1, 0, 0, 1, 1, 0, 1, 0, 1, 0, 0, 1, 1, 1, 1, 1, 1, 0, 0,\n",
       "        0, 0, 1, 1, 1, 1, 1, 1, 1, 1, 1, 1, 1, 0, 0, 0, 1, 0, 1, 1, 1, 1,\n",
       "        0, 1, 0, 1, 1, 1, 1, 1, 1, 1, 1, 1, 0, 0, 1, 1, 1, 1, 0, 0, 1, 1,\n",
       "        0, 1, 1, 1, 0, 0, 1, 0, 1, 1, 0, 1, 0, 1, 1, 1, 1, 1, 1, 1, 1, 1,\n",
       "        1, 0, 0, 1, 1, 1, 1, 1, 1, 0, 0, 1, 1, 1, 0, 0, 1, 1, 1, 1, 1, 1,\n",
       "        1, 1, 0, 1, 1, 0, 1, 1, 1, 1, 1, 1, 1, 1, 1, 0, 1, 1, 1, 1, 1, 1,\n",
       "        1, 0, 1, 1, 1, 1, 1, 1, 1, 1, 1]))"
      ]
     },
     "execution_count": 157,
     "metadata": {},
     "output_type": "execute_result"
    }
   ],
   "source": [
    "evaluate(model_LSVC)"
   ]
  },
  {
   "cell_type": "code",
   "execution_count": 158,
   "metadata": {
    "colab": {
     "base_uri": "https://localhost:8080/",
     "height": 0
    },
    "executionInfo": {
     "elapsed": 26,
     "status": "ok",
     "timestamp": 1666237662294,
     "user": {
      "displayName": "Mohit Kumar",
      "userId": "03888987891614882912"
     },
     "user_tz": -330
    },
    "id": "q183Vi6AA9YQ",
    "outputId": "6109339c-0bca-444d-a3f2-cdc5177da99c"
   },
   "outputs": [
    {
     "data": {
      "text/html": [
       "\n",
       "  <div id=\"df-1bc9e5a5-8722-49c0-9af3-3d23e8aa5764\">\n",
       "    <div class=\"colab-df-container\">\n",
       "      <div>\n",
       "<style scoped>\n",
       "    .dataframe tbody tr th:only-of-type {\n",
       "        vertical-align: middle;\n",
       "    }\n",
       "\n",
       "    .dataframe tbody tr th {\n",
       "        vertical-align: top;\n",
       "    }\n",
       "\n",
       "    .dataframe thead th {\n",
       "        text-align: right;\n",
       "    }\n",
       "</style>\n",
       "<table border=\"1\" class=\"dataframe\">\n",
       "  <thead>\n",
       "    <tr style=\"text-align: right;\">\n",
       "      <th></th>\n",
       "      <th>PassengerId</th>\n",
       "      <th>Survived</th>\n",
       "    </tr>\n",
       "  </thead>\n",
       "  <tbody>\n",
       "    <tr>\n",
       "      <th>0</th>\n",
       "      <td>892</td>\n",
       "      <td>1</td>\n",
       "    </tr>\n",
       "    <tr>\n",
       "      <th>1</th>\n",
       "      <td>893</td>\n",
       "      <td>0</td>\n",
       "    </tr>\n",
       "    <tr>\n",
       "      <th>2</th>\n",
       "      <td>894</td>\n",
       "      <td>1</td>\n",
       "    </tr>\n",
       "    <tr>\n",
       "      <th>3</th>\n",
       "      <td>895</td>\n",
       "      <td>1</td>\n",
       "    </tr>\n",
       "    <tr>\n",
       "      <th>4</th>\n",
       "      <td>896</td>\n",
       "      <td>0</td>\n",
       "    </tr>\n",
       "    <tr>\n",
       "      <th>...</th>\n",
       "      <td>...</td>\n",
       "      <td>...</td>\n",
       "    </tr>\n",
       "    <tr>\n",
       "      <th>413</th>\n",
       "      <td>1305</td>\n",
       "      <td>1</td>\n",
       "    </tr>\n",
       "    <tr>\n",
       "      <th>414</th>\n",
       "      <td>1306</td>\n",
       "      <td>1</td>\n",
       "    </tr>\n",
       "    <tr>\n",
       "      <th>415</th>\n",
       "      <td>1307</td>\n",
       "      <td>1</td>\n",
       "    </tr>\n",
       "    <tr>\n",
       "      <th>416</th>\n",
       "      <td>1308</td>\n",
       "      <td>1</td>\n",
       "    </tr>\n",
       "    <tr>\n",
       "      <th>417</th>\n",
       "      <td>1309</td>\n",
       "      <td>1</td>\n",
       "    </tr>\n",
       "  </tbody>\n",
       "</table>\n",
       "<p>418 rows × 2 columns</p>\n",
       "</div>\n",
       "      <button class=\"colab-df-convert\" onclick=\"convertToInteractive('df-1bc9e5a5-8722-49c0-9af3-3d23e8aa5764')\"\n",
       "              title=\"Convert this dataframe to an interactive table.\"\n",
       "              style=\"display:none;\">\n",
       "        \n",
       "  <svg xmlns=\"http://www.w3.org/2000/svg\" height=\"24px\"viewBox=\"0 0 24 24\"\n",
       "       width=\"24px\">\n",
       "    <path d=\"M0 0h24v24H0V0z\" fill=\"none\"/>\n",
       "    <path d=\"M18.56 5.44l.94 2.06.94-2.06 2.06-.94-2.06-.94-.94-2.06-.94 2.06-2.06.94zm-11 1L8.5 8.5l.94-2.06 2.06-.94-2.06-.94L8.5 2.5l-.94 2.06-2.06.94zm10 10l.94 2.06.94-2.06 2.06-.94-2.06-.94-.94-2.06-.94 2.06-2.06.94z\"/><path d=\"M17.41 7.96l-1.37-1.37c-.4-.4-.92-.59-1.43-.59-.52 0-1.04.2-1.43.59L10.3 9.45l-7.72 7.72c-.78.78-.78 2.05 0 2.83L4 21.41c.39.39.9.59 1.41.59.51 0 1.02-.2 1.41-.59l7.78-7.78 2.81-2.81c.8-.78.8-2.07 0-2.86zM5.41 20L4 18.59l7.72-7.72 1.47 1.35L5.41 20z\"/>\n",
       "  </svg>\n",
       "      </button>\n",
       "      \n",
       "  <style>\n",
       "    .colab-df-container {\n",
       "      display:flex;\n",
       "      flex-wrap:wrap;\n",
       "      gap: 12px;\n",
       "    }\n",
       "\n",
       "    .colab-df-convert {\n",
       "      background-color: #E8F0FE;\n",
       "      border: none;\n",
       "      border-radius: 50%;\n",
       "      cursor: pointer;\n",
       "      display: none;\n",
       "      fill: #1967D2;\n",
       "      height: 32px;\n",
       "      padding: 0 0 0 0;\n",
       "      width: 32px;\n",
       "    }\n",
       "\n",
       "    .colab-df-convert:hover {\n",
       "      background-color: #E2EBFA;\n",
       "      box-shadow: 0px 1px 2px rgba(60, 64, 67, 0.3), 0px 1px 3px 1px rgba(60, 64, 67, 0.15);\n",
       "      fill: #174EA6;\n",
       "    }\n",
       "\n",
       "    [theme=dark] .colab-df-convert {\n",
       "      background-color: #3B4455;\n",
       "      fill: #D2E3FC;\n",
       "    }\n",
       "\n",
       "    [theme=dark] .colab-df-convert:hover {\n",
       "      background-color: #434B5C;\n",
       "      box-shadow: 0px 1px 3px 1px rgba(0, 0, 0, 0.15);\n",
       "      filter: drop-shadow(0px 1px 2px rgba(0, 0, 0, 0.3));\n",
       "      fill: #FFFFFF;\n",
       "    }\n",
       "  </style>\n",
       "\n",
       "      <script>\n",
       "        const buttonEl =\n",
       "          document.querySelector('#df-1bc9e5a5-8722-49c0-9af3-3d23e8aa5764 button.colab-df-convert');\n",
       "        buttonEl.style.display =\n",
       "          google.colab.kernel.accessAllowed ? 'block' : 'none';\n",
       "\n",
       "        async function convertToInteractive(key) {\n",
       "          const element = document.querySelector('#df-1bc9e5a5-8722-49c0-9af3-3d23e8aa5764');\n",
       "          const dataTable =\n",
       "            await google.colab.kernel.invokeFunction('convertToInteractive',\n",
       "                                                     [key], {});\n",
       "          if (!dataTable) return;\n",
       "\n",
       "          const docLinkHtml = 'Like what you see? Visit the ' +\n",
       "            '<a target=\"_blank\" href=https://colab.research.google.com/notebooks/data_table.ipynb>data table notebook</a>'\n",
       "            + ' to learn more about interactive tables.';\n",
       "          element.innerHTML = '';\n",
       "          dataTable['output_type'] = 'display_data';\n",
       "          await google.colab.output.renderOutput(dataTable, element);\n",
       "          const docLink = document.createElement('div');\n",
       "          docLink.innerHTML = docLinkHtml;\n",
       "          element.appendChild(docLink);\n",
       "        }\n",
       "      </script>\n",
       "    </div>\n",
       "  </div>\n",
       "  "
      ],
      "text/plain": [
       "     PassengerId  Survived\n",
       "0            892         1\n",
       "1            893         0\n",
       "2            894         1\n",
       "3            895         1\n",
       "4            896         0\n",
       "..           ...       ...\n",
       "413         1305         1\n",
       "414         1306         1\n",
       "415         1307         1\n",
       "416         1308         1\n",
       "417         1309         1\n",
       "\n",
       "[418 rows x 2 columns]"
      ]
     },
     "execution_count": 158,
     "metadata": {},
     "output_type": "execute_result"
    }
   ],
   "source": [
    "predict_and_submit(model_LSVC, 'model_LSVC_submission.csv')"
   ]
  },
  {
   "cell_type": "markdown",
   "metadata": {
    "id": "a9GsXbCoKH3A"
   },
   "source": [
    "![Screenshot_20221019_102256.png](data:image/png;base64,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)"
   ]
  },
  {
   "cell_type": "code",
   "execution_count": 159,
   "metadata": {
    "colab": {
     "base_uri": "https://localhost:8080/",
     "height": 0
    },
    "executionInfo": {
     "elapsed": 2229,
     "status": "ok",
     "timestamp": 1666237664500,
     "user": {
      "displayName": "Mohit Kumar",
      "userId": "03888987891614882912"
     },
     "user_tz": -330
    },
    "id": "DJeMbu3kA9WM",
    "outputId": "ca487dac-bcdb-4049-a0e3-3794bd888b8d"
   },
   "outputs": [
    {
     "name": "stdout",
     "output_type": "stream",
     "text": [
      "[jovian] Detected Colab notebook...\u001b[0m\n",
      "[jovian] Uploading colab notebook to Jovian...\u001b[0m\n",
      "Committed successfully! https://jovian.ai/mohitcnf95/titanic-machine-learning-from-disaster\n"
     ]
    },
    {
     "data": {
      "application/vnd.google.colaboratory.intrinsic+json": {
       "type": "string"
      },
      "text/plain": [
       "'https://jovian.ai/mohitcnf95/titanic-machine-learning-from-disaster'"
      ]
     },
     "execution_count": 159,
     "metadata": {},
     "output_type": "execute_result"
    }
   ],
   "source": [
    "jovian.commit()"
   ]
  },
  {
   "cell_type": "markdown",
   "metadata": {
    "id": "5sxC4IbjKhVN"
   },
   "source": [
    "### MLPClassifier"
   ]
  },
  {
   "cell_type": "code",
   "execution_count": 160,
   "metadata": {
    "executionInfo": {
     "elapsed": 27,
     "status": "ok",
     "timestamp": 1666237664503,
     "user": {
      "displayName": "Mohit Kumar",
      "userId": "03888987891614882912"
     },
     "user_tz": -330
    },
    "id": "s91Yu9rcA9T5"
   },
   "outputs": [],
   "source": [
    "from sklearn.neural_network import MLPClassifier"
   ]
  },
  {
   "cell_type": "code",
   "execution_count": 161,
   "metadata": {
    "executionInfo": {
     "elapsed": 26,
     "status": "ok",
     "timestamp": 1666237664505,
     "user": {
      "displayName": "Mohit Kumar",
      "userId": "03888987891614882912"
     },
     "user_tz": -330
    },
    "id": "WFD0sJ7IKum5"
   },
   "outputs": [],
   "source": [
    "model_MLPC = MLPClassifier()"
   ]
  },
  {
   "cell_type": "code",
   "execution_count": 162,
   "metadata": {
    "colab": {
     "base_uri": "https://localhost:8080/"
    },
    "executionInfo": {
     "elapsed": 678,
     "status": "ok",
     "timestamp": 1666237665158,
     "user": {
      "displayName": "Mohit Kumar",
      "userId": "03888987891614882912"
     },
     "user_tz": -330
    },
    "id": "846oXv6xKugz",
    "outputId": "36100cc2-8604-4f4a-eaab-f8caae0f6dd9"
   },
   "outputs": [
    {
     "name": "stderr",
     "output_type": "stream",
     "text": [
      "/usr/local/lib/python3.7/dist-packages/sklearn/neural_network/_multilayer_perceptron.py:1109: DataConversionWarning: A column-vector y was passed when a 1d array was expected. Please change the shape of y to (n_samples, ), for example using ravel().\n",
      "  y = column_or_1d(y, warn=True)\n"
     ]
    },
    {
     "data": {
      "text/plain": [
       "MLPClassifier()"
      ]
     },
     "execution_count": 162,
     "metadata": {},
     "output_type": "execute_result"
    }
   ],
   "source": [
    "model_MLPC.fit(train_inputs, train_targets)"
   ]
  },
  {
   "cell_type": "code",
   "execution_count": 163,
   "metadata": {
    "colab": {
     "base_uri": "https://localhost:8080/",
     "height": 424
    },
    "executionInfo": {
     "elapsed": 25,
     "status": "ok",
     "timestamp": 1666237665160,
     "user": {
      "displayName": "Mohit Kumar",
      "userId": "03888987891614882912"
     },
     "user_tz": -330
    },
    "id": "MzywSubmKubc",
    "outputId": "f97b1f87-2276-4eab-fddc-2a340767410c"
   },
   "outputs": [
    {
     "data": {
      "text/html": [
       "\n",
       "  <div id=\"df-487a5b40-8f69-41c5-b366-0ae3d69e911b\">\n",
       "    <div class=\"colab-df-container\">\n",
       "      <div>\n",
       "<style scoped>\n",
       "    .dataframe tbody tr th:only-of-type {\n",
       "        vertical-align: middle;\n",
       "    }\n",
       "\n",
       "    .dataframe tbody tr th {\n",
       "        vertical-align: top;\n",
       "    }\n",
       "\n",
       "    .dataframe thead th {\n",
       "        text-align: right;\n",
       "    }\n",
       "</style>\n",
       "<table border=\"1\" class=\"dataframe\">\n",
       "  <thead>\n",
       "    <tr style=\"text-align: right;\">\n",
       "      <th></th>\n",
       "      <th>PassengerId</th>\n",
       "      <th>Survived</th>\n",
       "    </tr>\n",
       "  </thead>\n",
       "  <tbody>\n",
       "    <tr>\n",
       "      <th>0</th>\n",
       "      <td>892</td>\n",
       "      <td>0</td>\n",
       "    </tr>\n",
       "    <tr>\n",
       "      <th>1</th>\n",
       "      <td>893</td>\n",
       "      <td>0</td>\n",
       "    </tr>\n",
       "    <tr>\n",
       "      <th>2</th>\n",
       "      <td>894</td>\n",
       "      <td>0</td>\n",
       "    </tr>\n",
       "    <tr>\n",
       "      <th>3</th>\n",
       "      <td>895</td>\n",
       "      <td>0</td>\n",
       "    </tr>\n",
       "    <tr>\n",
       "      <th>4</th>\n",
       "      <td>896</td>\n",
       "      <td>0</td>\n",
       "    </tr>\n",
       "    <tr>\n",
       "      <th>...</th>\n",
       "      <td>...</td>\n",
       "      <td>...</td>\n",
       "    </tr>\n",
       "    <tr>\n",
       "      <th>413</th>\n",
       "      <td>1305</td>\n",
       "      <td>0</td>\n",
       "    </tr>\n",
       "    <tr>\n",
       "      <th>414</th>\n",
       "      <td>1306</td>\n",
       "      <td>0</td>\n",
       "    </tr>\n",
       "    <tr>\n",
       "      <th>415</th>\n",
       "      <td>1307</td>\n",
       "      <td>0</td>\n",
       "    </tr>\n",
       "    <tr>\n",
       "      <th>416</th>\n",
       "      <td>1308</td>\n",
       "      <td>0</td>\n",
       "    </tr>\n",
       "    <tr>\n",
       "      <th>417</th>\n",
       "      <td>1309</td>\n",
       "      <td>0</td>\n",
       "    </tr>\n",
       "  </tbody>\n",
       "</table>\n",
       "<p>418 rows × 2 columns</p>\n",
       "</div>\n",
       "      <button class=\"colab-df-convert\" onclick=\"convertToInteractive('df-487a5b40-8f69-41c5-b366-0ae3d69e911b')\"\n",
       "              title=\"Convert this dataframe to an interactive table.\"\n",
       "              style=\"display:none;\">\n",
       "        \n",
       "  <svg xmlns=\"http://www.w3.org/2000/svg\" height=\"24px\"viewBox=\"0 0 24 24\"\n",
       "       width=\"24px\">\n",
       "    <path d=\"M0 0h24v24H0V0z\" fill=\"none\"/>\n",
       "    <path d=\"M18.56 5.44l.94 2.06.94-2.06 2.06-.94-2.06-.94-.94-2.06-.94 2.06-2.06.94zm-11 1L8.5 8.5l.94-2.06 2.06-.94-2.06-.94L8.5 2.5l-.94 2.06-2.06.94zm10 10l.94 2.06.94-2.06 2.06-.94-2.06-.94-.94-2.06-.94 2.06-2.06.94z\"/><path d=\"M17.41 7.96l-1.37-1.37c-.4-.4-.92-.59-1.43-.59-.52 0-1.04.2-1.43.59L10.3 9.45l-7.72 7.72c-.78.78-.78 2.05 0 2.83L4 21.41c.39.39.9.59 1.41.59.51 0 1.02-.2 1.41-.59l7.78-7.78 2.81-2.81c.8-.78.8-2.07 0-2.86zM5.41 20L4 18.59l7.72-7.72 1.47 1.35L5.41 20z\"/>\n",
       "  </svg>\n",
       "      </button>\n",
       "      \n",
       "  <style>\n",
       "    .colab-df-container {\n",
       "      display:flex;\n",
       "      flex-wrap:wrap;\n",
       "      gap: 12px;\n",
       "    }\n",
       "\n",
       "    .colab-df-convert {\n",
       "      background-color: #E8F0FE;\n",
       "      border: none;\n",
       "      border-radius: 50%;\n",
       "      cursor: pointer;\n",
       "      display: none;\n",
       "      fill: #1967D2;\n",
       "      height: 32px;\n",
       "      padding: 0 0 0 0;\n",
       "      width: 32px;\n",
       "    }\n",
       "\n",
       "    .colab-df-convert:hover {\n",
       "      background-color: #E2EBFA;\n",
       "      box-shadow: 0px 1px 2px rgba(60, 64, 67, 0.3), 0px 1px 3px 1px rgba(60, 64, 67, 0.15);\n",
       "      fill: #174EA6;\n",
       "    }\n",
       "\n",
       "    [theme=dark] .colab-df-convert {\n",
       "      background-color: #3B4455;\n",
       "      fill: #D2E3FC;\n",
       "    }\n",
       "\n",
       "    [theme=dark] .colab-df-convert:hover {\n",
       "      background-color: #434B5C;\n",
       "      box-shadow: 0px 1px 3px 1px rgba(0, 0, 0, 0.15);\n",
       "      filter: drop-shadow(0px 1px 2px rgba(0, 0, 0, 0.3));\n",
       "      fill: #FFFFFF;\n",
       "    }\n",
       "  </style>\n",
       "\n",
       "      <script>\n",
       "        const buttonEl =\n",
       "          document.querySelector('#df-487a5b40-8f69-41c5-b366-0ae3d69e911b button.colab-df-convert');\n",
       "        buttonEl.style.display =\n",
       "          google.colab.kernel.accessAllowed ? 'block' : 'none';\n",
       "\n",
       "        async function convertToInteractive(key) {\n",
       "          const element = document.querySelector('#df-487a5b40-8f69-41c5-b366-0ae3d69e911b');\n",
       "          const dataTable =\n",
       "            await google.colab.kernel.invokeFunction('convertToInteractive',\n",
       "                                                     [key], {});\n",
       "          if (!dataTable) return;\n",
       "\n",
       "          const docLinkHtml = 'Like what you see? Visit the ' +\n",
       "            '<a target=\"_blank\" href=https://colab.research.google.com/notebooks/data_table.ipynb>data table notebook</a>'\n",
       "            + ' to learn more about interactive tables.';\n",
       "          element.innerHTML = '';\n",
       "          dataTable['output_type'] = 'display_data';\n",
       "          await google.colab.output.renderOutput(dataTable, element);\n",
       "          const docLink = document.createElement('div');\n",
       "          docLink.innerHTML = docLinkHtml;\n",
       "          element.appendChild(docLink);\n",
       "        }\n",
       "      </script>\n",
       "    </div>\n",
       "  </div>\n",
       "  "
      ],
      "text/plain": [
       "     PassengerId  Survived\n",
       "0            892         0\n",
       "1            893         0\n",
       "2            894         0\n",
       "3            895         0\n",
       "4            896         0\n",
       "..           ...       ...\n",
       "413         1305         0\n",
       "414         1306         0\n",
       "415         1307         0\n",
       "416         1308         0\n",
       "417         1309         0\n",
       "\n",
       "[418 rows x 2 columns]"
      ]
     },
     "execution_count": 163,
     "metadata": {},
     "output_type": "execute_result"
    }
   ],
   "source": [
    "predict_and_submit(model_MLPC, 'model_MLPC_submission.csv')"
   ]
  },
  {
   "cell_type": "markdown",
   "metadata": {
    "id": "mPsGquNSLEmt"
   },
   "source": [
    "![Screenshot_20221020_091254.png](data:image/png;base64,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)"
   ]
  },
  {
   "cell_type": "code",
   "execution_count": 164,
   "metadata": {
    "colab": {
     "base_uri": "https://localhost:8080/",
     "height": 88
    },
    "executionInfo": {
     "elapsed": 3816,
     "status": "ok",
     "timestamp": 1666237668956,
     "user": {
      "displayName": "Mohit Kumar",
      "userId": "03888987891614882912"
     },
     "user_tz": -330
    },
    "id": "gzAZCBQgKuVU",
    "outputId": "91034593-6443-4c71-ff27-840d9928aa30"
   },
   "outputs": [
    {
     "name": "stdout",
     "output_type": "stream",
     "text": [
      "[jovian] Detected Colab notebook...\u001b[0m\n",
      "[jovian] Uploading colab notebook to Jovian...\u001b[0m\n",
      "Committed successfully! https://jovian.ai/mohitcnf95/titanic-machine-learning-from-disaster\n"
     ]
    },
    {
     "data": {
      "application/vnd.google.colaboratory.intrinsic+json": {
       "type": "string"
      },
      "text/plain": [
       "'https://jovian.ai/mohitcnf95/titanic-machine-learning-from-disaster'"
      ]
     },
     "execution_count": 164,
     "metadata": {},
     "output_type": "execute_result"
    }
   ],
   "source": [
    "jovian.commit()"
   ]
  },
  {
   "cell_type": "markdown",
   "metadata": {
    "id": "cmlzEuBeLYUc"
   },
   "source": [
    "### SGD Classifier"
   ]
  },
  {
   "cell_type": "code",
   "execution_count": 165,
   "metadata": {
    "executionInfo": {
     "elapsed": 59,
     "status": "ok",
     "timestamp": 1666237668959,
     "user": {
      "displayName": "Mohit Kumar",
      "userId": "03888987891614882912"
     },
     "user_tz": -330
    },
    "id": "gJBosKXgKuSb"
   },
   "outputs": [],
   "source": [
    "from sklearn.linear_model import SGDClassifier"
   ]
  },
  {
   "cell_type": "code",
   "execution_count": 166,
   "metadata": {
    "executionInfo": {
     "elapsed": 59,
     "status": "ok",
     "timestamp": 1666237668961,
     "user": {
      "displayName": "Mohit Kumar",
      "userId": "03888987891614882912"
     },
     "user_tz": -330
    },
    "id": "VLVnE9K3A9Qh"
   },
   "outputs": [],
   "source": [
    "model_SGDC = SGDClassifier()"
   ]
  },
  {
   "cell_type": "code",
   "execution_count": 167,
   "metadata": {
    "colab": {
     "base_uri": "https://localhost:8080/"
    },
    "executionInfo": {
     "elapsed": 60,
     "status": "ok",
     "timestamp": 1666237668963,
     "user": {
      "displayName": "Mohit Kumar",
      "userId": "03888987891614882912"
     },
     "user_tz": -330
    },
    "id": "azS9AZnhA9Nv",
    "outputId": "8c10fbf5-f10e-4417-b793-02016ba56dc4"
   },
   "outputs": [
    {
     "name": "stderr",
     "output_type": "stream",
     "text": [
      "/usr/local/lib/python3.7/dist-packages/sklearn/utils/validation.py:993: DataConversionWarning: A column-vector y was passed when a 1d array was expected. Please change the shape of y to (n_samples, ), for example using ravel().\n",
      "  y = column_or_1d(y, warn=True)\n"
     ]
    },
    {
     "data": {
      "text/plain": [
       "SGDClassifier()"
      ]
     },
     "execution_count": 167,
     "metadata": {},
     "output_type": "execute_result"
    }
   ],
   "source": [
    "model_SGDC.fit(train_inputs, train_targets)"
   ]
  },
  {
   "cell_type": "code",
   "execution_count": 168,
   "metadata": {
    "colab": {
     "base_uri": "https://localhost:8080/"
    },
    "executionInfo": {
     "elapsed": 53,
     "status": "ok",
     "timestamp": 1666237668965,
     "user": {
      "displayName": "Mohit Kumar",
      "userId": "03888987891614882912"
     },
     "user_tz": -330
    },
    "id": "1tMDGLS0A9LB",
    "outputId": "538ae0b9-0100-4a28-e7c1-f7367b98aa90"
   },
   "outputs": [
    {
     "data": {
      "text/plain": [
       "(0.7506076849761333,\n",
       " array([0, 1, 0, 1, 0, 0, 1, 1, 0, 1, 1, 0, 0, 1, 0, 0, 1, 0, 0, 0, 1, 0,\n",
       "        0, 1, 1, 1, 0, 1, 0, 0, 1, 1, 0, 0, 1, 1, 0, 0, 1, 1, 0, 1, 0, 1,\n",
       "        0, 0, 0, 0, 0, 1, 1, 0, 1, 1, 1, 1, 1, 0, 1, 1, 0, 1, 1, 1, 1, 0,\n",
       "        0, 0, 0, 0, 0, 1, 1, 0, 1, 0, 0, 0, 1, 0, 0, 0, 0, 1, 1, 0, 1, 0,\n",
       "        1, 0, 0, 0, 1, 1, 0, 0, 0, 1, 1, 1, 0, 0, 1, 0, 0, 0, 1, 0, 0, 1,\n",
       "        1, 1, 0, 1, 1, 0, 0, 1, 1, 1, 1, 0, 1, 1, 1, 1, 0, 0, 1, 0, 0, 0,\n",
       "        0, 1, 1, 1, 1, 1, 1, 1, 1, 1, 1, 1, 1, 1, 0, 1, 1, 0, 0, 1, 0, 0,\n",
       "        0, 1, 1, 0, 0, 1, 0, 1, 0, 1, 1, 1, 1, 1, 1, 1, 1, 1, 1, 1, 1, 1,\n",
       "        1, 1, 1, 0, 1, 1, 1, 1, 1, 1, 1, 1, 0, 0, 1, 1, 1, 1, 1, 1, 0, 0,\n",
       "        1, 1, 1, 1, 0, 0, 1, 1, 1, 1, 1, 1, 1, 1, 1, 1, 0, 1, 1, 1, 1, 1,\n",
       "        1, 1, 0, 1, 1, 1, 1, 1, 1, 1, 1, 1, 0, 1, 1, 1, 1, 1, 1, 1, 1, 1,\n",
       "        1, 1, 1, 1, 1, 1, 1, 1, 1, 1, 1, 1, 1, 1, 1, 1, 1, 1, 1, 1, 1, 0,\n",
       "        1, 1, 1, 1, 1, 1, 1, 0, 1, 1, 1, 1, 0, 0, 1, 1, 0, 1, 1, 1, 1, 1,\n",
       "        1, 1, 1, 1, 1, 1, 1, 1, 1, 1, 1, 1, 1, 1, 1, 1, 1, 1, 1, 1, 1, 1,\n",
       "        1, 1, 1, 1, 1, 1, 1, 1, 1, 1, 1, 1, 1, 1, 1, 1, 1, 1, 0, 1, 1, 1,\n",
       "        1, 1, 1, 1, 1, 1, 1, 1, 0, 1, 1, 1, 1, 1, 1, 1, 1, 1, 1, 1, 1, 1,\n",
       "        1, 1, 1, 1, 1, 1, 1, 1, 1, 1, 1, 1, 1, 1, 1, 1, 1, 1, 1, 1, 1, 1,\n",
       "        1, 1, 1, 1, 1, 1, 1, 1, 1, 1, 1, 1, 1, 1, 1, 1, 1, 1, 1, 1, 1, 1,\n",
       "        1, 1, 1, 1, 1, 1, 1, 1, 1, 1, 1, 1, 1, 1, 1, 1, 1, 1, 1, 1, 1, 1,\n",
       "        1, 1, 1, 1, 1, 1, 1, 1, 1, 1, 1, 1, 1, 1, 1, 1, 1, 1, 1, 1, 1, 1,\n",
       "        1, 1, 1, 1, 1, 1, 1, 1, 1, 1, 1, 1, 1, 1, 1, 1, 1, 1, 1, 1, 1, 1,\n",
       "        1, 1, 1, 1, 1, 1, 1, 1, 1, 1, 1, 1, 1, 1, 1, 1, 1, 1, 1, 1, 1, 1,\n",
       "        1, 1, 1, 1, 1, 1, 1, 1, 1, 1, 1, 1, 1, 1, 1, 1, 1, 1, 1, 1, 1, 1,\n",
       "        1, 1, 1, 1, 1, 1, 1, 1, 1, 1, 1, 1, 1, 1, 1, 1, 1, 1, 1, 1, 1, 1,\n",
       "        1, 1, 1, 1, 1, 1, 1, 1, 1, 1, 1, 1, 1, 1, 1, 1, 1, 1, 1, 1, 1, 1,\n",
       "        1, 1, 1, 1, 1, 1, 1, 1, 1, 1, 1, 1, 1, 1, 1, 1, 1, 1, 1, 1, 1, 1,\n",
       "        1, 1, 1, 1, 1, 1, 1, 1, 1, 1, 1, 1, 1, 1, 1, 1, 1, 1, 1, 1, 1, 1,\n",
       "        1, 1, 1, 1, 1, 1, 1, 1, 1, 1, 1, 1, 1, 1, 1, 1, 1, 1, 1, 1, 1, 1,\n",
       "        1, 1, 1, 1, 1, 1, 1, 1, 1, 1, 1, 1, 1, 1, 1, 1, 1, 1, 1, 1, 1, 1,\n",
       "        1, 1, 1, 1, 1, 1, 1, 1, 1, 1, 1, 1, 1, 1, 1, 1, 1, 1, 1, 1, 1, 1,\n",
       "        1, 1, 1, 1, 1, 1, 1, 1, 1, 1, 1, 1, 1, 1, 1, 1, 1, 1, 1, 1, 1, 1,\n",
       "        1, 1, 1, 1, 1, 1, 1, 1, 1, 1, 1, 1, 1, 1, 1, 1, 1, 1, 1, 1, 1, 1,\n",
       "        1, 1, 1, 1, 1, 1, 1, 1, 1, 1, 1, 1, 1, 1, 1, 1, 1, 1, 1, 1, 1, 1,\n",
       "        1, 1, 1, 1, 1, 1, 1, 1, 1, 1, 1, 1, 1, 1, 1, 1, 1, 1, 1, 1, 1, 1,\n",
       "        1, 1, 1, 1, 1, 1, 1, 1, 1, 1, 1, 1, 1, 1, 1, 1, 1, 1, 1, 1, 1, 1,\n",
       "        1, 1, 1, 1, 1, 1, 1, 1, 1, 1, 1, 1, 1, 1, 1, 1, 1, 1, 1, 1, 1, 1,\n",
       "        1, 1, 1, 1, 1, 1, 1, 1, 1, 1, 1, 1, 1, 1, 1, 1, 1, 1, 1, 1, 1, 1,\n",
       "        1, 1, 1, 1, 1, 1, 1, 1, 1, 1, 1, 1, 1, 1, 1, 1, 1, 1, 1, 1, 1, 1,\n",
       "        1, 1, 1, 1, 1, 1, 1, 1, 1, 1, 1, 1, 1, 1, 1, 1, 1, 1, 1, 1, 1, 1,\n",
       "        1, 1, 1, 1, 1, 1, 1, 1, 1, 1, 1, 1, 1, 1, 1, 1, 1, 1, 1, 1, 1, 1,\n",
       "        1, 1, 1, 1, 1, 1, 1, 1, 1, 1, 1]))"
      ]
     },
     "execution_count": 168,
     "metadata": {},
     "output_type": "execute_result"
    }
   ],
   "source": [
    "evaluate(model_SGDC)"
   ]
  },
  {
   "cell_type": "code",
   "execution_count": 169,
   "metadata": {
    "colab": {
     "base_uri": "https://localhost:8080/",
     "height": 424
    },
    "executionInfo": {
     "elapsed": 44,
     "status": "ok",
     "timestamp": 1666237668967,
     "user": {
      "displayName": "Mohit Kumar",
      "userId": "03888987891614882912"
     },
     "user_tz": -330
    },
    "id": "WMGQ-8C8Lzoz",
    "outputId": "ef09ba9a-424c-4bea-ad9c-ab28c72dd094"
   },
   "outputs": [
    {
     "data": {
      "text/html": [
       "\n",
       "  <div id=\"df-28f4f2db-0286-4975-a222-8534f11f065a\">\n",
       "    <div class=\"colab-df-container\">\n",
       "      <div>\n",
       "<style scoped>\n",
       "    .dataframe tbody tr th:only-of-type {\n",
       "        vertical-align: middle;\n",
       "    }\n",
       "\n",
       "    .dataframe tbody tr th {\n",
       "        vertical-align: top;\n",
       "    }\n",
       "\n",
       "    .dataframe thead th {\n",
       "        text-align: right;\n",
       "    }\n",
       "</style>\n",
       "<table border=\"1\" class=\"dataframe\">\n",
       "  <thead>\n",
       "    <tr style=\"text-align: right;\">\n",
       "      <th></th>\n",
       "      <th>PassengerId</th>\n",
       "      <th>Survived</th>\n",
       "    </tr>\n",
       "  </thead>\n",
       "  <tbody>\n",
       "    <tr>\n",
       "      <th>0</th>\n",
       "      <td>892</td>\n",
       "      <td>1</td>\n",
       "    </tr>\n",
       "    <tr>\n",
       "      <th>1</th>\n",
       "      <td>893</td>\n",
       "      <td>1</td>\n",
       "    </tr>\n",
       "    <tr>\n",
       "      <th>2</th>\n",
       "      <td>894</td>\n",
       "      <td>1</td>\n",
       "    </tr>\n",
       "    <tr>\n",
       "      <th>3</th>\n",
       "      <td>895</td>\n",
       "      <td>1</td>\n",
       "    </tr>\n",
       "    <tr>\n",
       "      <th>4</th>\n",
       "      <td>896</td>\n",
       "      <td>1</td>\n",
       "    </tr>\n",
       "    <tr>\n",
       "      <th>...</th>\n",
       "      <td>...</td>\n",
       "      <td>...</td>\n",
       "    </tr>\n",
       "    <tr>\n",
       "      <th>413</th>\n",
       "      <td>1305</td>\n",
       "      <td>1</td>\n",
       "    </tr>\n",
       "    <tr>\n",
       "      <th>414</th>\n",
       "      <td>1306</td>\n",
       "      <td>1</td>\n",
       "    </tr>\n",
       "    <tr>\n",
       "      <th>415</th>\n",
       "      <td>1307</td>\n",
       "      <td>1</td>\n",
       "    </tr>\n",
       "    <tr>\n",
       "      <th>416</th>\n",
       "      <td>1308</td>\n",
       "      <td>1</td>\n",
       "    </tr>\n",
       "    <tr>\n",
       "      <th>417</th>\n",
       "      <td>1309</td>\n",
       "      <td>1</td>\n",
       "    </tr>\n",
       "  </tbody>\n",
       "</table>\n",
       "<p>418 rows × 2 columns</p>\n",
       "</div>\n",
       "      <button class=\"colab-df-convert\" onclick=\"convertToInteractive('df-28f4f2db-0286-4975-a222-8534f11f065a')\"\n",
       "              title=\"Convert this dataframe to an interactive table.\"\n",
       "              style=\"display:none;\">\n",
       "        \n",
       "  <svg xmlns=\"http://www.w3.org/2000/svg\" height=\"24px\"viewBox=\"0 0 24 24\"\n",
       "       width=\"24px\">\n",
       "    <path d=\"M0 0h24v24H0V0z\" fill=\"none\"/>\n",
       "    <path d=\"M18.56 5.44l.94 2.06.94-2.06 2.06-.94-2.06-.94-.94-2.06-.94 2.06-2.06.94zm-11 1L8.5 8.5l.94-2.06 2.06-.94-2.06-.94L8.5 2.5l-.94 2.06-2.06.94zm10 10l.94 2.06.94-2.06 2.06-.94-2.06-.94-.94-2.06-.94 2.06-2.06.94z\"/><path d=\"M17.41 7.96l-1.37-1.37c-.4-.4-.92-.59-1.43-.59-.52 0-1.04.2-1.43.59L10.3 9.45l-7.72 7.72c-.78.78-.78 2.05 0 2.83L4 21.41c.39.39.9.59 1.41.59.51 0 1.02-.2 1.41-.59l7.78-7.78 2.81-2.81c.8-.78.8-2.07 0-2.86zM5.41 20L4 18.59l7.72-7.72 1.47 1.35L5.41 20z\"/>\n",
       "  </svg>\n",
       "      </button>\n",
       "      \n",
       "  <style>\n",
       "    .colab-df-container {\n",
       "      display:flex;\n",
       "      flex-wrap:wrap;\n",
       "      gap: 12px;\n",
       "    }\n",
       "\n",
       "    .colab-df-convert {\n",
       "      background-color: #E8F0FE;\n",
       "      border: none;\n",
       "      border-radius: 50%;\n",
       "      cursor: pointer;\n",
       "      display: none;\n",
       "      fill: #1967D2;\n",
       "      height: 32px;\n",
       "      padding: 0 0 0 0;\n",
       "      width: 32px;\n",
       "    }\n",
       "\n",
       "    .colab-df-convert:hover {\n",
       "      background-color: #E2EBFA;\n",
       "      box-shadow: 0px 1px 2px rgba(60, 64, 67, 0.3), 0px 1px 3px 1px rgba(60, 64, 67, 0.15);\n",
       "      fill: #174EA6;\n",
       "    }\n",
       "\n",
       "    [theme=dark] .colab-df-convert {\n",
       "      background-color: #3B4455;\n",
       "      fill: #D2E3FC;\n",
       "    }\n",
       "\n",
       "    [theme=dark] .colab-df-convert:hover {\n",
       "      background-color: #434B5C;\n",
       "      box-shadow: 0px 1px 3px 1px rgba(0, 0, 0, 0.15);\n",
       "      filter: drop-shadow(0px 1px 2px rgba(0, 0, 0, 0.3));\n",
       "      fill: #FFFFFF;\n",
       "    }\n",
       "  </style>\n",
       "\n",
       "      <script>\n",
       "        const buttonEl =\n",
       "          document.querySelector('#df-28f4f2db-0286-4975-a222-8534f11f065a button.colab-df-convert');\n",
       "        buttonEl.style.display =\n",
       "          google.colab.kernel.accessAllowed ? 'block' : 'none';\n",
       "\n",
       "        async function convertToInteractive(key) {\n",
       "          const element = document.querySelector('#df-28f4f2db-0286-4975-a222-8534f11f065a');\n",
       "          const dataTable =\n",
       "            await google.colab.kernel.invokeFunction('convertToInteractive',\n",
       "                                                     [key], {});\n",
       "          if (!dataTable) return;\n",
       "\n",
       "          const docLinkHtml = 'Like what you see? Visit the ' +\n",
       "            '<a target=\"_blank\" href=https://colab.research.google.com/notebooks/data_table.ipynb>data table notebook</a>'\n",
       "            + ' to learn more about interactive tables.';\n",
       "          element.innerHTML = '';\n",
       "          dataTable['output_type'] = 'display_data';\n",
       "          await google.colab.output.renderOutput(dataTable, element);\n",
       "          const docLink = document.createElement('div');\n",
       "          docLink.innerHTML = docLinkHtml;\n",
       "          element.appendChild(docLink);\n",
       "        }\n",
       "      </script>\n",
       "    </div>\n",
       "  </div>\n",
       "  "
      ],
      "text/plain": [
       "     PassengerId  Survived\n",
       "0            892         1\n",
       "1            893         1\n",
       "2            894         1\n",
       "3            895         1\n",
       "4            896         1\n",
       "..           ...       ...\n",
       "413         1305         1\n",
       "414         1306         1\n",
       "415         1307         1\n",
       "416         1308         1\n",
       "417         1309         1\n",
       "\n",
       "[418 rows x 2 columns]"
      ]
     },
     "execution_count": 169,
     "metadata": {},
     "output_type": "execute_result"
    }
   ],
   "source": [
    "predict_and_submit(model_SGDC, 'model_SGDC_submission.csv')"
   ]
  },
  {
   "cell_type": "markdown",
   "metadata": {
    "id": "fhBY9S0KL7Pd"
   },
   "source": [
    "![Screenshot_20221020_091404.png](data:image/png;base64,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)"
   ]
  },
  {
   "cell_type": "markdown",
   "metadata": {
    "id": "UiflcOcwhOoj"
   },
   "source": [
    "### Kagggle Score"
   ]
  },
  {
   "cell_type": "markdown",
   "metadata": {
    "id": "UO8IXdSNg_O_"
   },
   "source": [
    "![Screenshot_20221020_092023.png](data:image/png;base64,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)"
   ]
  },
  {
   "cell_type": "code",
   "execution_count": 171,
   "metadata": {
    "colab": {
     "base_uri": "https://localhost:8080/",
     "height": 88
    },
    "executionInfo": {
     "elapsed": 3813,
     "status": "ok",
     "timestamp": 1666237883074,
     "user": {
      "displayName": "Mohit Kumar",
      "userId": "03888987891614882912"
     },
     "user_tz": -330
    },
    "id": "4744EZQThCL7",
    "outputId": "a939e946-26eb-4628-db9f-71e514a06b48"
   },
   "outputs": [
    {
     "name": "stdout",
     "output_type": "stream",
     "text": [
      "[jovian] Detected Colab notebook...\u001b[0m\n",
      "[jovian] Uploading colab notebook to Jovian...\u001b[0m\n",
      "Committed successfully! https://jovian.ai/mohitcnf95/titanic-machine-learning-from-disaster\n"
     ]
    },
    {
     "data": {
      "application/vnd.google.colaboratory.intrinsic+json": {
       "type": "string"
      },
      "text/plain": [
       "'https://jovian.ai/mohitcnf95/titanic-machine-learning-from-disaster'"
      ]
     },
     "execution_count": 171,
     "metadata": {},
     "output_type": "execute_result"
    }
   ],
   "source": [
    "jovian.commit()"
   ]
  },
  {
   "cell_type": "code",
   "execution_count": null,
   "metadata": {
    "id": "IvcDM6XxhE5d"
   },
   "outputs": [],
   "source": []
  }
 ],
 "metadata": {
  "colab": {
   "provenance": []
  },
  "language_info": {
   "codemirror_mode": {
    "name": "ipython",
    "version": 3
   },
   "file_extension": ".py",
   "mimetype": "text/x-python",
   "name": "python",
   "nbconvert_exporter": "python",
   "pygments_lexer": "ipython3",
   "version": "3.7.6"
  }
 },
 "nbformat": 4,
 "nbformat_minor": 0
}